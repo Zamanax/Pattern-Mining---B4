{
 "cells": [
  {
   "attachments": {},
   "cell_type": "markdown",
   "metadata": {},
   "source": [
    "# Pattern Mining\n",
    "\n",
    "**Maxime Zamani - Bachelor 4 - CY Tech**"
   ]
  },
  {
   "cell_type": "code",
   "execution_count": 31,
   "metadata": {},
   "outputs": [],
   "source": [
    "import pandas as pd\n",
    "\n",
    "import seaborn as sns\n",
    "import matplotlib.pyplot as plt\n",
    "import plotly.express as px\n",
    "\n",
    "from scipy.stats import pearsonr\n",
    "import pingouin as pg\n",
    "\n",
    "import warnings\n",
    "warnings.filterwarnings('ignore')\n",
    "warnings.filterwarnings('ignore', category=DeprecationWarning)"
   ]
  },
  {
   "attachments": {},
   "cell_type": "markdown",
   "metadata": {},
   "source": [
    "## 3. Correlation Mining"
   ]
  },
  {
   "cell_type": "code",
   "execution_count": 2,
   "metadata": {},
   "outputs": [
    {
     "data": {
      "text/html": [
       "<div>\n",
       "<style scoped>\n",
       "    .dataframe tbody tr th:only-of-type {\n",
       "        vertical-align: middle;\n",
       "    }\n",
       "\n",
       "    .dataframe tbody tr th {\n",
       "        vertical-align: top;\n",
       "    }\n",
       "\n",
       "    .dataframe thead th {\n",
       "        text-align: right;\n",
       "    }\n",
       "</style>\n",
       "<table border=\"1\" class=\"dataframe\">\n",
       "  <thead>\n",
       "    <tr style=\"text-align: right;\">\n",
       "      <th></th>\n",
       "      <th>PLAYER</th>\n",
       "      <th>TEAM</th>\n",
       "      <th>AGE</th>\n",
       "      <th>GP</th>\n",
       "      <th>W</th>\n",
       "      <th>L</th>\n",
       "      <th>MIN</th>\n",
       "      <th>PTS</th>\n",
       "      <th>FGM</th>\n",
       "      <th>FGA</th>\n",
       "      <th>...</th>\n",
       "      <th>REB</th>\n",
       "      <th>AST</th>\n",
       "      <th>TOV</th>\n",
       "      <th>STL</th>\n",
       "      <th>BLK</th>\n",
       "      <th>PF</th>\n",
       "      <th>FP</th>\n",
       "      <th>DD2</th>\n",
       "      <th>TD3</th>\n",
       "      <th>X...</th>\n",
       "    </tr>\n",
       "  </thead>\n",
       "  <tbody>\n",
       "    <tr>\n",
       "      <th>0</th>\n",
       "      <td>Aaron Gordon</td>\n",
       "      <td>ORL</td>\n",
       "      <td>23</td>\n",
       "      <td>78</td>\n",
       "      <td>40</td>\n",
       "      <td>38</td>\n",
       "      <td>33.8</td>\n",
       "      <td>16.0</td>\n",
       "      <td>6.0</td>\n",
       "      <td>13.4</td>\n",
       "      <td>...</td>\n",
       "      <td>7.4</td>\n",
       "      <td>3.7</td>\n",
       "      <td>2.1</td>\n",
       "      <td>0.7</td>\n",
       "      <td>0.7</td>\n",
       "      <td>2.2</td>\n",
       "      <td>32.6</td>\n",
       "      <td>19</td>\n",
       "      <td>0</td>\n",
       "      <td>1.4</td>\n",
       "    </tr>\n",
       "    <tr>\n",
       "      <th>1</th>\n",
       "      <td>Aaron Holiday</td>\n",
       "      <td>IND</td>\n",
       "      <td>22</td>\n",
       "      <td>50</td>\n",
       "      <td>31</td>\n",
       "      <td>19</td>\n",
       "      <td>12.9</td>\n",
       "      <td>5.9</td>\n",
       "      <td>2.1</td>\n",
       "      <td>5.2</td>\n",
       "      <td>...</td>\n",
       "      <td>1.3</td>\n",
       "      <td>1.7</td>\n",
       "      <td>0.8</td>\n",
       "      <td>0.4</td>\n",
       "      <td>0.3</td>\n",
       "      <td>1.4</td>\n",
       "      <td>11.3</td>\n",
       "      <td>0</td>\n",
       "      <td>0</td>\n",
       "      <td>2.0</td>\n",
       "    </tr>\n",
       "    <tr>\n",
       "      <th>2</th>\n",
       "      <td>Abdel Nader</td>\n",
       "      <td>OKC</td>\n",
       "      <td>25</td>\n",
       "      <td>61</td>\n",
       "      <td>38</td>\n",
       "      <td>23</td>\n",
       "      <td>11.4</td>\n",
       "      <td>4.0</td>\n",
       "      <td>1.5</td>\n",
       "      <td>3.5</td>\n",
       "      <td>...</td>\n",
       "      <td>1.9</td>\n",
       "      <td>0.3</td>\n",
       "      <td>0.4</td>\n",
       "      <td>0.3</td>\n",
       "      <td>0.2</td>\n",
       "      <td>1.1</td>\n",
       "      <td>7.9</td>\n",
       "      <td>0</td>\n",
       "      <td>0</td>\n",
       "      <td>-2.5</td>\n",
       "    </tr>\n",
       "    <tr>\n",
       "      <th>3</th>\n",
       "      <td>Al Horford</td>\n",
       "      <td>BOS</td>\n",
       "      <td>32</td>\n",
       "      <td>68</td>\n",
       "      <td>41</td>\n",
       "      <td>27</td>\n",
       "      <td>29.0</td>\n",
       "      <td>13.6</td>\n",
       "      <td>5.7</td>\n",
       "      <td>10.6</td>\n",
       "      <td>...</td>\n",
       "      <td>6.7</td>\n",
       "      <td>4.2</td>\n",
       "      <td>1.5</td>\n",
       "      <td>0.9</td>\n",
       "      <td>1.3</td>\n",
       "      <td>1.9</td>\n",
       "      <td>32.8</td>\n",
       "      <td>10</td>\n",
       "      <td>1</td>\n",
       "      <td>3.8</td>\n",
       "    </tr>\n",
       "    <tr>\n",
       "      <th>4</th>\n",
       "      <td>Al-Farouq Aminu</td>\n",
       "      <td>POR</td>\n",
       "      <td>28</td>\n",
       "      <td>81</td>\n",
       "      <td>52</td>\n",
       "      <td>29</td>\n",
       "      <td>28.3</td>\n",
       "      <td>9.4</td>\n",
       "      <td>3.2</td>\n",
       "      <td>7.3</td>\n",
       "      <td>...</td>\n",
       "      <td>7.5</td>\n",
       "      <td>1.3</td>\n",
       "      <td>0.9</td>\n",
       "      <td>0.8</td>\n",
       "      <td>0.4</td>\n",
       "      <td>1.8</td>\n",
       "      <td>23.2</td>\n",
       "      <td>12</td>\n",
       "      <td>0</td>\n",
       "      <td>4.7</td>\n",
       "    </tr>\n",
       "    <tr>\n",
       "      <th>...</th>\n",
       "      <td>...</td>\n",
       "      <td>...</td>\n",
       "      <td>...</td>\n",
       "      <td>...</td>\n",
       "      <td>...</td>\n",
       "      <td>...</td>\n",
       "      <td>...</td>\n",
       "      <td>...</td>\n",
       "      <td>...</td>\n",
       "      <td>...</td>\n",
       "      <td>...</td>\n",
       "      <td>...</td>\n",
       "      <td>...</td>\n",
       "      <td>...</td>\n",
       "      <td>...</td>\n",
       "      <td>...</td>\n",
       "      <td>...</td>\n",
       "      <td>...</td>\n",
       "      <td>...</td>\n",
       "      <td>...</td>\n",
       "      <td>...</td>\n",
       "    </tr>\n",
       "    <tr>\n",
       "      <th>525</th>\n",
       "      <td>Zach LaVine</td>\n",
       "      <td>CHI</td>\n",
       "      <td>24</td>\n",
       "      <td>63</td>\n",
       "      <td>16</td>\n",
       "      <td>47</td>\n",
       "      <td>34.5</td>\n",
       "      <td>23.7</td>\n",
       "      <td>8.4</td>\n",
       "      <td>18.0</td>\n",
       "      <td>...</td>\n",
       "      <td>4.7</td>\n",
       "      <td>4.5</td>\n",
       "      <td>3.4</td>\n",
       "      <td>1.0</td>\n",
       "      <td>0.4</td>\n",
       "      <td>2.2</td>\n",
       "      <td>36.7</td>\n",
       "      <td>2</td>\n",
       "      <td>0</td>\n",
       "      <td>-4.8</td>\n",
       "    </tr>\n",
       "    <tr>\n",
       "      <th>526</th>\n",
       "      <td>Zach Lofton</td>\n",
       "      <td>DET</td>\n",
       "      <td>26</td>\n",
       "      <td>1</td>\n",
       "      <td>1</td>\n",
       "      <td>0</td>\n",
       "      <td>3.8</td>\n",
       "      <td>0.0</td>\n",
       "      <td>0.0</td>\n",
       "      <td>1.0</td>\n",
       "      <td>...</td>\n",
       "      <td>0.0</td>\n",
       "      <td>0.0</td>\n",
       "      <td>1.0</td>\n",
       "      <td>1.0</td>\n",
       "      <td>0.0</td>\n",
       "      <td>0.0</td>\n",
       "      <td>2.0</td>\n",
       "      <td>0</td>\n",
       "      <td>0</td>\n",
       "      <td>0.0</td>\n",
       "    </tr>\n",
       "    <tr>\n",
       "      <th>527</th>\n",
       "      <td>Zaza Pachulia</td>\n",
       "      <td>DET</td>\n",
       "      <td>35</td>\n",
       "      <td>68</td>\n",
       "      <td>35</td>\n",
       "      <td>33</td>\n",
       "      <td>12.9</td>\n",
       "      <td>3.9</td>\n",
       "      <td>1.3</td>\n",
       "      <td>2.8</td>\n",
       "      <td>...</td>\n",
       "      <td>3.9</td>\n",
       "      <td>1.3</td>\n",
       "      <td>0.8</td>\n",
       "      <td>0.5</td>\n",
       "      <td>0.3</td>\n",
       "      <td>2.2</td>\n",
       "      <td>11.9</td>\n",
       "      <td>0</td>\n",
       "      <td>0</td>\n",
       "      <td>-1.4</td>\n",
       "    </tr>\n",
       "    <tr>\n",
       "      <th>528</th>\n",
       "      <td>Zhaire Smith</td>\n",
       "      <td>PHI</td>\n",
       "      <td>19</td>\n",
       "      <td>6</td>\n",
       "      <td>2</td>\n",
       "      <td>4</td>\n",
       "      <td>18.4</td>\n",
       "      <td>6.7</td>\n",
       "      <td>2.3</td>\n",
       "      <td>5.7</td>\n",
       "      <td>...</td>\n",
       "      <td>2.2</td>\n",
       "      <td>1.7</td>\n",
       "      <td>1.0</td>\n",
       "      <td>0.3</td>\n",
       "      <td>0.3</td>\n",
       "      <td>1.3</td>\n",
       "      <td>12.8</td>\n",
       "      <td>0</td>\n",
       "      <td>0</td>\n",
       "      <td>2.3</td>\n",
       "    </tr>\n",
       "    <tr>\n",
       "      <th>529</th>\n",
       "      <td>Zhou Qi</td>\n",
       "      <td>HOU</td>\n",
       "      <td>23</td>\n",
       "      <td>1</td>\n",
       "      <td>0</td>\n",
       "      <td>1</td>\n",
       "      <td>1.0</td>\n",
       "      <td>2.0</td>\n",
       "      <td>1.0</td>\n",
       "      <td>1.0</td>\n",
       "      <td>...</td>\n",
       "      <td>0.0</td>\n",
       "      <td>0.0</td>\n",
       "      <td>0.0</td>\n",
       "      <td>0.0</td>\n",
       "      <td>0.0</td>\n",
       "      <td>0.0</td>\n",
       "      <td>2.0</td>\n",
       "      <td>0</td>\n",
       "      <td>0</td>\n",
       "      <td>-2.0</td>\n",
       "    </tr>\n",
       "  </tbody>\n",
       "</table>\n",
       "<p>530 rows × 29 columns</p>\n",
       "</div>"
      ],
      "text/plain": [
       "              PLAYER TEAM  AGE  GP   W   L   MIN   PTS  FGM   FGA  ...  REB  \\\n",
       "0       Aaron Gordon  ORL   23  78  40  38  33.8  16.0  6.0  13.4  ...  7.4   \n",
       "1      Aaron Holiday  IND   22  50  31  19  12.9   5.9  2.1   5.2  ...  1.3   \n",
       "2        Abdel Nader  OKC   25  61  38  23  11.4   4.0  1.5   3.5  ...  1.9   \n",
       "3         Al Horford  BOS   32  68  41  27  29.0  13.6  5.7  10.6  ...  6.7   \n",
       "4    Al-Farouq Aminu  POR   28  81  52  29  28.3   9.4  3.2   7.3  ...  7.5   \n",
       "..               ...  ...  ...  ..  ..  ..   ...   ...  ...   ...  ...  ...   \n",
       "525      Zach LaVine  CHI   24  63  16  47  34.5  23.7  8.4  18.0  ...  4.7   \n",
       "526      Zach Lofton  DET   26   1   1   0   3.8   0.0  0.0   1.0  ...  0.0   \n",
       "527    Zaza Pachulia  DET   35  68  35  33  12.9   3.9  1.3   2.8  ...  3.9   \n",
       "528     Zhaire Smith  PHI   19   6   2   4  18.4   6.7  2.3   5.7  ...  2.2   \n",
       "529          Zhou Qi  HOU   23   1   0   1   1.0   2.0  1.0   1.0  ...  0.0   \n",
       "\n",
       "     AST  TOV  STL  BLK   PF    FP  DD2  TD3  X...  \n",
       "0    3.7  2.1  0.7  0.7  2.2  32.6   19    0   1.4  \n",
       "1    1.7  0.8  0.4  0.3  1.4  11.3    0    0   2.0  \n",
       "2    0.3  0.4  0.3  0.2  1.1   7.9    0    0  -2.5  \n",
       "3    4.2  1.5  0.9  1.3  1.9  32.8   10    1   3.8  \n",
       "4    1.3  0.9  0.8  0.4  1.8  23.2   12    0   4.7  \n",
       "..   ...  ...  ...  ...  ...   ...  ...  ...   ...  \n",
       "525  4.5  3.4  1.0  0.4  2.2  36.7    2    0  -4.8  \n",
       "526  0.0  1.0  1.0  0.0  0.0   2.0    0    0   0.0  \n",
       "527  1.3  0.8  0.5  0.3  2.2  11.9    0    0  -1.4  \n",
       "528  1.7  1.0  0.3  0.3  1.3  12.8    0    0   2.3  \n",
       "529  0.0  0.0  0.0  0.0  0.0   2.0    0    0  -2.0  \n",
       "\n",
       "[530 rows x 29 columns]"
      ]
     },
     "execution_count": 2,
     "metadata": {},
     "output_type": "execute_result"
    }
   ],
   "source": [
    "nba = pd.read_csv(\"Datasets/Correlation mining/nba.csv\")\n",
    "nba"
   ]
  },
  {
   "attachments": {},
   "cell_type": "markdown",
   "metadata": {},
   "source": [
    "- *Display pairwise correlations like in the graph below. Use both Bonferonni and Holm correction techniques to assess which correlations are truly statistically significant.*"
   ]
  },
  {
   "cell_type": "code",
   "execution_count": 7,
   "metadata": {},
   "outputs": [
    {
     "data": {
      "image/png": "[encoded data removed]",
      "image/svg+xml": "<?xml version=\"1.0\" encoding=\"utf-8\" standalone=\"no\"?>\n<!DOCTYPE svg PUBLIC \"-//W3C//DTD SVG 1.1//EN\"\n  \"http://www.w3.org/Graphics/SVG/1.1/DTD/svg11.dtd\">\n<svg xmlns:xlink=\"http://www.w3.org/1999/xlink\" width=\"397.368538pt\" height=\"319.311219pt\" viewBox=\"0 0 397.368538 319.311219\" xmlns=\"http://www.w3.org/2000/svg\" version=\"1.1\">\n <metadata>\n  <rdf:RDF xmlns:dc=\"http://purl.org/dc/elements/1.1/\" xmlns:cc=\"http://creativecommons.org/ns#\" xmlns:rdf=\"http://www.w3.org/1999/02/22-rdf-syntax-ns#\">\n   <cc:Work>\n    <dc:type rdf:resource=\"http://purl.org/dc/dcmitype/StillImage\"/>\n    <dc:date>2023-01-30T14:01:47.299746</dc:date>\n    <dc:format>image/svg+xml</dc:format>\n    <dc:creator>\n     <cc:Agent>\n      <dc:title>Matplotlib v3.5.2, https://matplotlib.org/</dc:title>\n     </cc:Agent>\n    </dc:creator>\n   </cc:Work>\n  </rdf:RDF>\n </metadata>\n <defs>\n  <style type=\"text/css\">*{stroke-linejoin: round; stroke-linecap: butt}</style>\n </defs>\n <g id=\"figure_1\">\n  <g id=\"patch_1\">\n   <path d=\"M -0 319.311219 \nL 397.368538 319.311219 \nL 397.368538 0 \nL -0 0 \nz\n\" style=\"fill: #ffffff\"/>\n  </g>\n  <g id=\"axes_1\">\n   <g id=\"patch_2\">\n    <path d=\"M 42.028125 277.111219 \nL 327.724125 277.111219 \nL 327.724125 10.999219 \nL 42.028125 10.999219 \nz\n\" style=\"fill: #ffffff\"/>\n   </g>\n   <g id=\"QuadMesh_1\">\n    <path d=\"M 42.028125 10.999219 \nL 52.609458 10.999219 \nL 52.609458 20.855219 \nL 42.028125 20.855219 \nL 42.028125 10.999219 \n\" clip-path=\"url(#pdb0404b8b9)\" style=\"fill: #faebdd\"/>\n    <path d=\"M 52.609458 10.999219 \nL 63.190792 10.999219 \nL 63.190792 20.855219 \nL 52.609458 20.855219 \nL 52.609458 10.999219 \n\" clip-path=\"url(#pdb0404b8b9)\" style=\"fill: #701f57\"/>\n    <path d=\"M 63.190792 10.999219 \nL 73.772125 10.999219 \nL 73.772125 20.855219 \nL 63.190792 20.855219 \nL 63.190792 10.999219 \n\" clip-path=\"url(#pdb0404b8b9)\" style=\"fill: #811e5a\"/>\n    <path d=\"M 73.772125 10.999219 \nL 84.353458 10.999219 \nL 84.353458 20.855219 \nL 73.772125 20.855219 \nL 73.772125 10.999219 \n\" clip-path=\"url(#pdb0404b8b9)\" style=\"fill: #511e4d\"/>\n    <path d=\"M 84.353458 10.999219 \nL 94.934792 10.999219 \nL 94.934792 20.855219 \nL 84.353458 20.855219 \nL 84.353458 10.999219 \n\" clip-path=\"url(#pdb0404b8b9)\" style=\"fill: #751f58\"/>\n    <path d=\"M 94.934792 10.999219 \nL 105.516125 10.999219 \nL 105.516125 20.855219 \nL 94.934792 20.855219 \nL 94.934792 10.999219 \n\" clip-path=\"url(#pdb0404b8b9)\" style=\"fill: #681f55\"/>\n    <path d=\"M 105.516125 10.999219 \nL 116.097458 10.999219 \nL 116.097458 20.855219 \nL 105.516125 20.855219 \nL 105.516125 10.999219 \n\" clip-path=\"url(#pdb0404b8b9)\" style=\"fill: #601f52\"/>\n    <path d=\"M 116.097458 10.999219 \nL 126.678792 10.999219 \nL 126.678792 20.855219 \nL 116.097458 20.855219 \nL 116.097458 10.999219 \n\" clip-path=\"url(#pdb0404b8b9)\" style=\"fill: #641f54\"/>\n    <path d=\"M 126.678792 10.999219 \nL 137.260125 10.999219 \nL 137.260125 20.855219 \nL 126.678792 20.855219 \nL 126.678792 10.999219 \n\" clip-path=\"url(#pdb0404b8b9)\" style=\"fill: #511e4d\"/>\n    <path d=\"M 137.260125 10.999219 \nL 147.841458 10.999219 \nL 147.841458 20.855219 \nL 137.260125 20.855219 \nL 137.260125 10.999219 \n\" clip-path=\"url(#pdb0404b8b9)\" style=\"fill: #821e5a\"/>\n    <path d=\"M 147.841458 10.999219 \nL 158.422792 10.999219 \nL 158.422792 20.855219 \nL 147.841458 20.855219 \nL 147.841458 10.999219 \n\" clip-path=\"url(#pdb0404b8b9)\" style=\"fill: #7f1e5a\"/>\n    <path d=\"M 158.422792 10.999219 \nL 169.004125 10.999219 \nL 169.004125 20.855219 \nL 158.422792 20.855219 \nL 158.422792 10.999219 \n\" clip-path=\"url(#pdb0404b8b9)\" style=\"fill: #5c1e51\"/>\n    <path d=\"M 169.004125 10.999219 \nL 179.585458 10.999219 \nL 179.585458 20.855219 \nL 169.004125 20.855219 \nL 169.004125 10.999219 \n\" clip-path=\"url(#pdb0404b8b9)\" style=\"fill: #611f53\"/>\n    <path d=\"M 179.585458 10.999219 \nL 190.166792 10.999219 \nL 190.166792 20.855219 \nL 179.585458 20.855219 \nL 179.585458 10.999219 \n\" clip-path=\"url(#pdb0404b8b9)\" style=\"fill: #5b1e51\"/>\n    <path d=\"M 190.166792 10.999219 \nL 200.748125 10.999219 \nL 200.748125 20.855219 \nL 190.166792 20.855219 \nL 190.166792 10.999219 \n\" clip-path=\"url(#pdb0404b8b9)\" style=\"fill: #811e5a\"/>\n    <path d=\"M 200.748125 10.999219 \nL 211.329458 10.999219 \nL 211.329458 20.855219 \nL 200.748125 20.855219 \nL 200.748125 10.999219 \n\" clip-path=\"url(#pdb0404b8b9)\" style=\"fill: #3c1a42\"/>\n    <path d=\"M 211.329458 10.999219 \nL 221.910792 10.999219 \nL 221.910792 20.855219 \nL 211.329458 20.855219 \nL 211.329458 10.999219 \n\" clip-path=\"url(#pdb0404b8b9)\" style=\"fill: #661f54\"/>\n    <path d=\"M 221.910792 10.999219 \nL 232.492125 10.999219 \nL 232.492125 20.855219 \nL 221.910792 20.855219 \nL 221.910792 10.999219 \n\" clip-path=\"url(#pdb0404b8b9)\" style=\"fill: #5b1e51\"/>\n    <path d=\"M 232.492125 10.999219 \nL 243.073458 10.999219 \nL 243.073458 20.855219 \nL 232.492125 20.855219 \nL 232.492125 10.999219 \n\" clip-path=\"url(#pdb0404b8b9)\" style=\"fill: #7a1f59\"/>\n    <path d=\"M 243.073458 10.999219 \nL 253.654792 10.999219 \nL 253.654792 20.855219 \nL 243.073458 20.855219 \nL 243.073458 10.999219 \n\" clip-path=\"url(#pdb0404b8b9)\" style=\"fill: #601f52\"/>\n    <path d=\"M 253.654792 10.999219 \nL 264.236125 10.999219 \nL 264.236125 20.855219 \nL 253.654792 20.855219 \nL 253.654792 10.999219 \n\" clip-path=\"url(#pdb0404b8b9)\" style=\"fill: #601f52\"/>\n    <path d=\"M 264.236125 10.999219 \nL 274.817458 10.999219 \nL 274.817458 20.855219 \nL 264.236125 20.855219 \nL 264.236125 10.999219 \n\" clip-path=\"url(#pdb0404b8b9)\" style=\"fill: #461c48\"/>\n    <path d=\"M 274.817458 10.999219 \nL 285.398792 10.999219 \nL 285.398792 20.855219 \nL 274.817458 20.855219 \nL 274.817458 10.999219 \n\" clip-path=\"url(#pdb0404b8b9)\" style=\"fill: #641f54\"/>\n    <path d=\"M 285.398792 10.999219 \nL 295.980125 10.999219 \nL 295.980125 20.855219 \nL 285.398792 20.855219 \nL 285.398792 10.999219 \n\" clip-path=\"url(#pdb0404b8b9)\" style=\"fill: #6d1f56\"/>\n    <path d=\"M 295.980125 10.999219 \nL 306.561458 10.999219 \nL 306.561458 20.855219 \nL 295.980125 20.855219 \nL 295.980125 10.999219 \n\" clip-path=\"url(#pdb0404b8b9)\" style=\"fill: #431c46\"/>\n    <path d=\"M 306.561458 10.999219 \nL 317.142792 10.999219 \nL 317.142792 20.855219 \nL 306.561458 20.855219 \nL 306.561458 10.999219 \n\" clip-path=\"url(#pdb0404b8b9)\" style=\"fill: #4e1d4b\"/>\n    <path d=\"M 317.142792 10.999219 \nL 327.724125 10.999219 \nL 327.724125 20.855219 \nL 317.142792 20.855219 \nL 317.142792 10.999219 \n\" clip-path=\"url(#pdb0404b8b9)\" style=\"fill: #701f57\"/>\n    <path d=\"M 42.028125 20.855219 \nL 52.609458 20.855219 \nL 52.609458 30.711219 \nL 42.028125 30.711219 \nL 42.028125 20.855219 \n\" clip-path=\"url(#pdb0404b8b9)\" style=\"fill: #701f57\"/>\n    <path d=\"M 52.609458 20.855219 \nL 63.190792 20.855219 \nL 63.190792 30.711219 \nL 52.609458 30.711219 \nL 52.609458 20.855219 \n\" clip-path=\"url(#pdb0404b8b9)\" style=\"fill: #faebdd\"/>\n    <path d=\"M 63.190792 20.855219 \nL 73.772125 20.855219 \nL 73.772125 30.711219 \nL 63.190792 30.711219 \nL 63.190792 20.855219 \n\" clip-path=\"url(#pdb0404b8b9)\" style=\"fill: #f6c19f\"/>\n    <path d=\"M 73.772125 20.855219 \nL 84.353458 20.855219 \nL 84.353458 30.711219 \nL 73.772125 30.711219 \nL 73.772125 20.855219 \n\" clip-path=\"url(#pdb0404b8b9)\" style=\"fill: #f6b995\"/>\n    <path d=\"M 84.353458 20.855219 \nL 94.934792 20.855219 \nL 94.934792 30.711219 \nL 84.353458 30.711219 \nL 84.353458 20.855219 \n\" clip-path=\"url(#pdb0404b8b9)\" style=\"fill: #f58b63\"/>\n    <path d=\"M 94.934792 20.855219 \nL 105.516125 20.855219 \nL 105.516125 30.711219 \nL 94.934792 30.711219 \nL 94.934792 20.855219 \n\" clip-path=\"url(#pdb0404b8b9)\" style=\"fill: #ef5a41\"/>\n    <path d=\"M 105.516125 20.855219 \nL 116.097458 20.855219 \nL 116.097458 30.711219 \nL 105.516125 30.711219 \nL 105.516125 20.855219 \n\" clip-path=\"url(#pdb0404b8b9)\" style=\"fill: #f05c42\"/>\n    <path d=\"M 116.097458 20.855219 \nL 126.678792 20.855219 \nL 126.678792 30.711219 \nL 116.097458 30.711219 \nL 116.097458 20.855219 \n\" clip-path=\"url(#pdb0404b8b9)\" style=\"fill: #ee543f\"/>\n    <path d=\"M 126.678792 20.855219 \nL 137.260125 20.855219 \nL 137.260125 30.711219 \nL 126.678792 30.711219 \nL 126.678792 20.855219 \n\" clip-path=\"url(#pdb0404b8b9)\" style=\"fill: #af1759\"/>\n    <path d=\"M 137.260125 20.855219 \nL 147.841458 20.855219 \nL 147.841458 30.711219 \nL 137.260125 30.711219 \nL 137.260125 20.855219 \n\" clip-path=\"url(#pdb0404b8b9)\" style=\"fill: #dc2b46\"/>\n    <path d=\"M 147.841458 20.855219 \nL 158.422792 20.855219 \nL 158.422792 30.711219 \nL 147.841458 30.711219 \nL 147.841458 20.855219 \n\" clip-path=\"url(#pdb0404b8b9)\" style=\"fill: #d72549\"/>\n    <path d=\"M 158.422792 20.855219 \nL 169.004125 20.855219 \nL 169.004125 30.711219 \nL 158.422792 30.711219 \nL 158.422792 20.855219 \n\" clip-path=\"url(#pdb0404b8b9)\" style=\"fill: #9c1b5b\"/>\n    <path d=\"M 169.004125 20.855219 \nL 179.585458 20.855219 \nL 179.585458 30.711219 \nL 169.004125 30.711219 \nL 169.004125 20.855219 \n\" clip-path=\"url(#pdb0404b8b9)\" style=\"fill: #d92847\"/>\n    <path d=\"M 179.585458 20.855219 \nL 190.166792 20.855219 \nL 190.166792 30.711219 \nL 179.585458 30.711219 \nL 179.585458 20.855219 \n\" clip-path=\"url(#pdb0404b8b9)\" style=\"fill: #d72549\"/>\n    <path d=\"M 190.166792 20.855219 \nL 200.748125 20.855219 \nL 200.748125 30.711219 \nL 190.166792 30.711219 \nL 190.166792 20.855219 \n\" clip-path=\"url(#pdb0404b8b9)\" style=\"fill: #e13342\"/>\n    <path d=\"M 200.748125 20.855219 \nL 211.329458 20.855219 \nL 211.329458 30.711219 \nL 200.748125 30.711219 \nL 200.748125 20.855219 \n\" clip-path=\"url(#pdb0404b8b9)\" style=\"fill: #b51657\"/>\n    <path d=\"M 211.329458 20.855219 \nL 221.910792 20.855219 \nL 221.910792 30.711219 \nL 211.329458 30.711219 \nL 211.329458 20.855219 \n\" clip-path=\"url(#pdb0404b8b9)\" style=\"fill: #e63b40\"/>\n    <path d=\"M 221.910792 20.855219 \nL 232.492125 20.855219 \nL 232.492125 30.711219 \nL 221.910792 30.711219 \nL 221.910792 20.855219 \n\" clip-path=\"url(#pdb0404b8b9)\" style=\"fill: #e13342\"/>\n    <path d=\"M 232.492125 20.855219 \nL 243.073458 20.855219 \nL 243.073458 30.711219 \nL 232.492125 30.711219 \nL 232.492125 20.855219 \n\" clip-path=\"url(#pdb0404b8b9)\" style=\"fill: #d3214b\"/>\n    <path d=\"M 243.073458 20.855219 \nL 253.654792 20.855219 \nL 253.654792 30.711219 \nL 243.073458 30.711219 \nL 243.073458 20.855219 \n\" clip-path=\"url(#pdb0404b8b9)\" style=\"fill: #e63b40\"/>\n    <path d=\"M 253.654792 20.855219 \nL 264.236125 20.855219 \nL 264.236125 30.711219 \nL 253.654792 30.711219 \nL 253.654792 20.855219 \n\" clip-path=\"url(#pdb0404b8b9)\" style=\"fill: #df2f44\"/>\n    <path d=\"M 264.236125 20.855219 \nL 274.817458 20.855219 \nL 274.817458 30.711219 \nL 264.236125 30.711219 \nL 264.236125 20.855219 \n\" clip-path=\"url(#pdb0404b8b9)\" style=\"fill: #bd1655\"/>\n    <path d=\"M 274.817458 20.855219 \nL 285.398792 20.855219 \nL 285.398792 30.711219 \nL 274.817458 30.711219 \nL 274.817458 20.855219 \n\" clip-path=\"url(#pdb0404b8b9)\" style=\"fill: #ee543f\"/>\n    <path d=\"M 285.398792 20.855219 \nL 295.980125 20.855219 \nL 295.980125 30.711219 \nL 285.398792 30.711219 \nL 285.398792 20.855219 \n\" clip-path=\"url(#pdb0404b8b9)\" style=\"fill: #f16445\"/>\n    <path d=\"M 295.980125 20.855219 \nL 306.561458 20.855219 \nL 306.561458 30.711219 \nL 295.980125 30.711219 \nL 295.980125 20.855219 \n\" clip-path=\"url(#pdb0404b8b9)\" style=\"fill: #b91657\"/>\n    <path d=\"M 306.561458 20.855219 \nL 317.142792 20.855219 \nL 317.142792 30.711219 \nL 306.561458 30.711219 \nL 306.561458 20.855219 \n\" clip-path=\"url(#pdb0404b8b9)\" style=\"fill: #681f55\"/>\n    <path d=\"M 317.142792 20.855219 \nL 327.724125 20.855219 \nL 327.724125 30.711219 \nL 317.142792 30.711219 \nL 317.142792 20.855219 \n\" clip-path=\"url(#pdb0404b8b9)\" style=\"fill: #7a1f59\"/>\n    <path d=\"M 42.028125 30.711219 \nL 52.609458 30.711219 \nL 52.609458 40.567219 \nL 42.028125 40.567219 \nL 42.028125 30.711219 \n\" clip-path=\"url(#pdb0404b8b9)\" style=\"fill: #811e5a\"/>\n    <path d=\"M 52.609458 30.711219 \nL 63.190792 30.711219 \nL 63.190792 40.567219 \nL 52.609458 40.567219 \nL 52.609458 30.711219 \n\" clip-path=\"url(#pdb0404b8b9)\" style=\"fill: #f6c19f\"/>\n    <path d=\"M 63.190792 30.711219 \nL 73.772125 30.711219 \nL 73.772125 40.567219 \nL 63.190792 40.567219 \nL 63.190792 30.711219 \n\" clip-path=\"url(#pdb0404b8b9)\" style=\"fill: #faebdd\"/>\n    <path d=\"M 73.772125 30.711219 \nL 84.353458 30.711219 \nL 84.353458 40.567219 \nL 73.772125 40.567219 \nL 73.772125 30.711219 \n\" clip-path=\"url(#pdb0404b8b9)\" style=\"fill: #dc2b46\"/>\n    <path d=\"M 84.353458 30.711219 \nL 94.934792 30.711219 \nL 94.934792 40.567219 \nL 84.353458 40.567219 \nL 84.353458 30.711219 \n\" clip-path=\"url(#pdb0404b8b9)\" style=\"fill: #f05e42\"/>\n    <path d=\"M 94.934792 30.711219 \nL 105.516125 30.711219 \nL 105.516125 40.567219 \nL 94.934792 40.567219 \nL 94.934792 30.711219 \n\" clip-path=\"url(#pdb0404b8b9)\" style=\"fill: #e73d3f\"/>\n    <path d=\"M 105.516125 30.711219 \nL 116.097458 30.711219 \nL 116.097458 40.567219 \nL 105.516125 40.567219 \nL 105.516125 30.711219 \n\" clip-path=\"url(#pdb0404b8b9)\" style=\"fill: #e73d3f\"/>\n    <path d=\"M 116.097458 30.711219 \nL 126.678792 30.711219 \nL 126.678792 40.567219 \nL 116.097458 40.567219 \nL 116.097458 30.711219 \n\" clip-path=\"url(#pdb0404b8b9)\" style=\"fill: #e13342\"/>\n    <path d=\"M 126.678792 30.711219 \nL 137.260125 30.711219 \nL 137.260125 40.567219 \nL 126.678792 40.567219 \nL 126.678792 30.711219 \n\" clip-path=\"url(#pdb0404b8b9)\" style=\"fill: #a8185a\"/>\n    <path d=\"M 137.260125 30.711219 \nL 147.841458 30.711219 \nL 147.841458 40.567219 \nL 137.260125 40.567219 \nL 137.260125 30.711219 \n\" clip-path=\"url(#pdb0404b8b9)\" style=\"fill: #d2204c\"/>\n    <path d=\"M 147.841458 30.711219 \nL 158.422792 30.711219 \nL 158.422792 40.567219 \nL 147.841458 40.567219 \nL 147.841458 30.711219 \n\" clip-path=\"url(#pdb0404b8b9)\" style=\"fill: #ca1a50\"/>\n    <path d=\"M 158.422792 30.711219 \nL 169.004125 30.711219 \nL 169.004125 40.567219 \nL 158.422792 40.567219 \nL 158.422792 30.711219 \n\" clip-path=\"url(#pdb0404b8b9)\" style=\"fill: #951c5b\"/>\n    <path d=\"M 169.004125 30.711219 \nL 179.585458 30.711219 \nL 179.585458 40.567219 \nL 169.004125 40.567219 \nL 169.004125 30.711219 \n\" clip-path=\"url(#pdb0404b8b9)\" style=\"fill: #ca1a50\"/>\n    <path d=\"M 179.585458 30.711219 \nL 190.166792 30.711219 \nL 190.166792 40.567219 \nL 179.585458 40.567219 \nL 179.585458 30.711219 \n\" clip-path=\"url(#pdb0404b8b9)\" style=\"fill: #c71951\"/>\n    <path d=\"M 190.166792 30.711219 \nL 200.748125 30.711219 \nL 200.748125 40.567219 \nL 190.166792 40.567219 \nL 190.166792 30.711219 \n\" clip-path=\"url(#pdb0404b8b9)\" style=\"fill: #cd1c4e\"/>\n    <path d=\"M 200.748125 30.711219 \nL 211.329458 30.711219 \nL 211.329458 40.567219 \nL 200.748125 40.567219 \nL 200.748125 30.711219 \n\" clip-path=\"url(#pdb0404b8b9)\" style=\"fill: #a3195b\"/>\n    <path d=\"M 211.329458 30.711219 \nL 221.910792 30.711219 \nL 221.910792 40.567219 \nL 211.329458 40.567219 \nL 211.329458 30.711219 \n\" clip-path=\"url(#pdb0404b8b9)\" style=\"fill: #d92847\"/>\n    <path d=\"M 221.910792 30.711219 \nL 232.492125 30.711219 \nL 232.492125 40.567219 \nL 221.910792 40.567219 \nL 221.910792 30.711219 \n\" clip-path=\"url(#pdb0404b8b9)\" style=\"fill: #d2204c\"/>\n    <path d=\"M 232.492125 30.711219 \nL 243.073458 30.711219 \nL 243.073458 40.567219 \nL 232.492125 40.567219 \nL 232.492125 30.711219 \n\" clip-path=\"url(#pdb0404b8b9)\" style=\"fill: #c81951\"/>\n    <path d=\"M 243.073458 30.711219 \nL 253.654792 30.711219 \nL 253.654792 40.567219 \nL 243.073458 40.567219 \nL 243.073458 30.711219 \n\" clip-path=\"url(#pdb0404b8b9)\" style=\"fill: #d11f4c\"/>\n    <path d=\"M 253.654792 30.711219 \nL 264.236125 30.711219 \nL 264.236125 40.567219 \nL 253.654792 40.567219 \nL 253.654792 30.711219 \n\" clip-path=\"url(#pdb0404b8b9)\" style=\"fill: #ce1d4e\"/>\n    <path d=\"M 264.236125 30.711219 \nL 274.817458 30.711219 \nL 274.817458 40.567219 \nL 264.236125 40.567219 \nL 264.236125 30.711219 \n\" clip-path=\"url(#pdb0404b8b9)\" style=\"fill: #b71657\"/>\n    <path d=\"M 274.817458 30.711219 \nL 285.398792 30.711219 \nL 285.398792 40.567219 \nL 274.817458 40.567219 \nL 274.817458 30.711219 \n\" clip-path=\"url(#pdb0404b8b9)\" style=\"fill: #db2946\"/>\n    <path d=\"M 285.398792 30.711219 \nL 295.980125 30.711219 \nL 295.980125 40.567219 \nL 285.398792 40.567219 \nL 285.398792 30.711219 \n\" clip-path=\"url(#pdb0404b8b9)\" style=\"fill: #eb483e\"/>\n    <path d=\"M 295.980125 30.711219 \nL 306.561458 30.711219 \nL 306.561458 40.567219 \nL 295.980125 40.567219 \nL 295.980125 30.711219 \n\" clip-path=\"url(#pdb0404b8b9)\" style=\"fill: #b41658\"/>\n    <path d=\"M 306.561458 30.711219 \nL 317.142792 30.711219 \nL 317.142792 40.567219 \nL 306.561458 40.567219 \nL 306.561458 30.711219 \n\" clip-path=\"url(#pdb0404b8b9)\" style=\"fill: #711f57\"/>\n    <path d=\"M 317.142792 30.711219 \nL 327.724125 30.711219 \nL 327.724125 40.567219 \nL 317.142792 40.567219 \nL 317.142792 30.711219 \n\" clip-path=\"url(#pdb0404b8b9)\" style=\"fill: #db2946\"/>\n    <path d=\"M 42.028125 40.567219 \nL 52.609458 40.567219 \nL 52.609458 50.423219 \nL 42.028125 50.423219 \nL 42.028125 40.567219 \n\" clip-path=\"url(#pdb0404b8b9)\" style=\"fill: #511e4d\"/>\n    <path d=\"M 52.609458 40.567219 \nL 63.190792 40.567219 \nL 63.190792 50.423219 \nL 52.609458 50.423219 \nL 52.609458 40.567219 \n\" clip-path=\"url(#pdb0404b8b9)\" style=\"fill: #f6b995\"/>\n    <path d=\"M 63.190792 40.567219 \nL 73.772125 40.567219 \nL 73.772125 50.423219 \nL 63.190792 50.423219 \nL 63.190792 40.567219 \n\" clip-path=\"url(#pdb0404b8b9)\" style=\"fill: #dc2b46\"/>\n    <path d=\"M 73.772125 40.567219 \nL 84.353458 40.567219 \nL 84.353458 50.423219 \nL 73.772125 50.423219 \nL 73.772125 40.567219 \n\" clip-path=\"url(#pdb0404b8b9)\" style=\"fill: #faebdd\"/>\n    <path d=\"M 84.353458 40.567219 \nL 94.934792 40.567219 \nL 94.934792 50.423219 \nL 84.353458 50.423219 \nL 84.353458 40.567219 \n\" clip-path=\"url(#pdb0404b8b9)\" style=\"fill: #f26d4b\"/>\n    <path d=\"M 94.934792 40.567219 \nL 105.516125 40.567219 \nL 105.516125 50.423219 \nL 94.934792 50.423219 \nL 94.934792 40.567219 \n\" clip-path=\"url(#pdb0404b8b9)\" style=\"fill: #e13342\"/>\n    <path d=\"M 105.516125 40.567219 \nL 116.097458 40.567219 \nL 116.097458 50.423219 \nL 105.516125 50.423219 \nL 105.516125 40.567219 \n\" clip-path=\"url(#pdb0404b8b9)\" style=\"fill: #e23442\"/>\n    <path d=\"M 116.097458 40.567219 \nL 126.678792 40.567219 \nL 126.678792 50.423219 \nL 116.097458 50.423219 \nL 116.097458 40.567219 \n\" clip-path=\"url(#pdb0404b8b9)\" style=\"fill: #e33641\"/>\n    <path d=\"M 126.678792 40.567219 \nL 137.260125 40.567219 \nL 137.260125 50.423219 \nL 126.678792 50.423219 \nL 126.678792 40.567219 \n\" clip-path=\"url(#pdb0404b8b9)\" style=\"fill: #951c5b\"/>\n    <path d=\"M 137.260125 40.567219 \nL 147.841458 40.567219 \nL 147.841458 50.423219 \nL 137.260125 50.423219 \nL 137.260125 40.567219 \n\" clip-path=\"url(#pdb0404b8b9)\" style=\"fill: #bf1654\"/>\n    <path d=\"M 147.841458 40.567219 \nL 158.422792 40.567219 \nL 158.422792 50.423219 \nL 147.841458 50.423219 \nL 147.841458 40.567219 \n\" clip-path=\"url(#pdb0404b8b9)\" style=\"fill: #bf1654\"/>\n    <path d=\"M 158.422792 40.567219 \nL 169.004125 40.567219 \nL 169.004125 50.423219 \nL 158.422792 50.423219 \nL 158.422792 40.567219 \n\" clip-path=\"url(#pdb0404b8b9)\" style=\"fill: #871e5b\"/>\n    <path d=\"M 169.004125 40.567219 \nL 179.585458 40.567219 \nL 179.585458 50.423219 \nL 169.004125 50.423219 \nL 169.004125 40.567219 \n\" clip-path=\"url(#pdb0404b8b9)\" style=\"fill: #c41753\"/>\n    <path d=\"M 179.585458 40.567219 \nL 190.166792 40.567219 \nL 190.166792 50.423219 \nL 179.585458 50.423219 \nL 179.585458 40.567219 \n\" clip-path=\"url(#pdb0404b8b9)\" style=\"fill: #c41753\"/>\n    <path d=\"M 190.166792 40.567219 \nL 200.748125 40.567219 \nL 200.748125 50.423219 \nL 190.166792 50.423219 \nL 190.166792 40.567219 \n\" clip-path=\"url(#pdb0404b8b9)\" style=\"fill: #d2204c\"/>\n    <path d=\"M 200.748125 40.567219 \nL 211.329458 40.567219 \nL 211.329458 50.423219 \nL 200.748125 50.423219 \nL 200.748125 40.567219 \n\" clip-path=\"url(#pdb0404b8b9)\" style=\"fill: #a4195b\"/>\n    <path d=\"M 211.329458 40.567219 \nL 221.910792 40.567219 \nL 221.910792 50.423219 \nL 211.329458 50.423219 \nL 211.329458 40.567219 \n\" clip-path=\"url(#pdb0404b8b9)\" style=\"fill: #cf1e4d\"/>\n    <path d=\"M 221.910792 40.567219 \nL 232.492125 40.567219 \nL 232.492125 50.423219 \nL 221.910792 50.423219 \nL 221.910792 40.567219 \n\" clip-path=\"url(#pdb0404b8b9)\" style=\"fill: #cb1b4f\"/>\n    <path d=\"M 232.492125 40.567219 \nL 243.073458 40.567219 \nL 243.073458 50.423219 \nL 232.492125 50.423219 \nL 232.492125 40.567219 \n\" clip-path=\"url(#pdb0404b8b9)\" style=\"fill: #b71657\"/>\n    <path d=\"M 243.073458 40.567219 \nL 253.654792 40.567219 \nL 253.654792 50.423219 \nL 243.073458 50.423219 \nL 243.073458 40.567219 \n\" clip-path=\"url(#pdb0404b8b9)\" style=\"fill: #d92847\"/>\n    <path d=\"M 253.654792 40.567219 \nL 264.236125 40.567219 \nL 264.236125 50.423219 \nL 253.654792 50.423219 \nL 253.654792 40.567219 \n\" clip-path=\"url(#pdb0404b8b9)\" style=\"fill: #ce1d4e\"/>\n    <path d=\"M 264.236125 40.567219 \nL 274.817458 40.567219 \nL 274.817458 50.423219 \nL 264.236125 50.423219 \nL 264.236125 40.567219 \n\" clip-path=\"url(#pdb0404b8b9)\" style=\"fill: #9f1a5b\"/>\n    <path d=\"M 274.817458 40.567219 \nL 285.398792 40.567219 \nL 285.398792 50.423219 \nL 274.817458 50.423219 \nL 274.817458 40.567219 \n\" clip-path=\"url(#pdb0404b8b9)\" style=\"fill: #e83f3f\"/>\n    <path d=\"M 285.398792 40.567219 \nL 295.980125 40.567219 \nL 295.980125 50.423219 \nL 285.398792 50.423219 \nL 285.398792 40.567219 \n\" clip-path=\"url(#pdb0404b8b9)\" style=\"fill: #e43841\"/>\n    <path d=\"M 295.980125 40.567219 \nL 306.561458 40.567219 \nL 306.561458 50.423219 \nL 295.980125 50.423219 \nL 295.980125 40.567219 \n\" clip-path=\"url(#pdb0404b8b9)\" style=\"fill: #9a1b5b\"/>\n    <path d=\"M 306.561458 40.567219 \nL 317.142792 40.567219 \nL 317.142792 50.423219 \nL 306.561458 50.423219 \nL 306.561458 40.567219 \n\" clip-path=\"url(#pdb0404b8b9)\" style=\"fill: #511e4d\"/>\n    <path d=\"M 317.142792 40.567219 \nL 327.724125 40.567219 \nL 327.724125 50.423219 \nL 317.142792 50.423219 \nL 317.142792 40.567219 \n\" clip-path=\"url(#pdb0404b8b9)\" style=\"fill: #06071c\"/>\n    <path d=\"M 42.028125 50.423219 \nL 52.609458 50.423219 \nL 52.609458 60.279219 \nL 42.028125 60.279219 \nL 42.028125 50.423219 \n\" clip-path=\"url(#pdb0404b8b9)\" style=\"fill: #751f58\"/>\n    <path d=\"M 52.609458 50.423219 \nL 63.190792 50.423219 \nL 63.190792 60.279219 \nL 52.609458 60.279219 \nL 52.609458 50.423219 \n\" clip-path=\"url(#pdb0404b8b9)\" style=\"fill: #f58b63\"/>\n    <path d=\"M 63.190792 50.423219 \nL 73.772125 50.423219 \nL 73.772125 60.279219 \nL 63.190792 60.279219 \nL 63.190792 50.423219 \n\" clip-path=\"url(#pdb0404b8b9)\" style=\"fill: #f05e42\"/>\n    <path d=\"M 73.772125 50.423219 \nL 84.353458 50.423219 \nL 84.353458 60.279219 \nL 73.772125 60.279219 \nL 73.772125 50.423219 \n\" clip-path=\"url(#pdb0404b8b9)\" style=\"fill: #f26d4b\"/>\n    <path d=\"M 84.353458 50.423219 \nL 94.934792 50.423219 \nL 94.934792 60.279219 \nL 84.353458 60.279219 \nL 84.353458 50.423219 \n\" clip-path=\"url(#pdb0404b8b9)\" style=\"fill: #faebdd\"/>\n    <path d=\"M 94.934792 50.423219 \nL 105.516125 50.423219 \nL 105.516125 60.279219 \nL 94.934792 60.279219 \nL 94.934792 50.423219 \n\" clip-path=\"url(#pdb0404b8b9)\" style=\"fill: #f7c6a6\"/>\n    <path d=\"M 105.516125 50.423219 \nL 116.097458 50.423219 \nL 116.097458 60.279219 \nL 105.516125 60.279219 \nL 105.516125 50.423219 \n\" clip-path=\"url(#pdb0404b8b9)\" style=\"fill: #f7c7a8\"/>\n    <path d=\"M 116.097458 50.423219 \nL 126.678792 50.423219 \nL 126.678792 60.279219 \nL 116.097458 60.279219 \nL 116.097458 50.423219 \n\" clip-path=\"url(#pdb0404b8b9)\" style=\"fill: #f7caac\"/>\n    <path d=\"M 126.678792 50.423219 \nL 137.260125 50.423219 \nL 137.260125 60.279219 \nL 126.678792 60.279219 \nL 126.678792 50.423219 \n\" clip-path=\"url(#pdb0404b8b9)\" style=\"fill: #9c1b5b\"/>\n    <path d=\"M 137.260125 50.423219 \nL 147.841458 50.423219 \nL 147.841458 60.279219 \nL 137.260125 60.279219 \nL 137.260125 50.423219 \n\" clip-path=\"url(#pdb0404b8b9)\" style=\"fill: #f47d57\"/>\n    <path d=\"M 147.841458 50.423219 \nL 158.422792 50.423219 \nL 158.422792 60.279219 \nL 147.841458 60.279219 \nL 147.841458 50.423219 \n\" clip-path=\"url(#pdb0404b8b9)\" style=\"fill: #f4815a\"/>\n    <path d=\"M 158.422792 50.423219 \nL 169.004125 50.423219 \nL 169.004125 60.279219 \nL 158.422792 60.279219 \nL 158.422792 50.423219 \n\" clip-path=\"url(#pdb0404b8b9)\" style=\"fill: #a6195a\"/>\n    <path d=\"M 169.004125 50.423219 \nL 179.585458 50.423219 \nL 179.585458 60.279219 \nL 169.004125 60.279219 \nL 169.004125 50.423219 \n\" clip-path=\"url(#pdb0404b8b9)\" style=\"fill: #f58f66\"/>\n    <path d=\"M 179.585458 50.423219 \nL 190.166792 50.423219 \nL 190.166792 60.279219 \nL 179.585458 60.279219 \nL 179.585458 50.423219 \n\" clip-path=\"url(#pdb0404b8b9)\" style=\"fill: #f58d64\"/>\n    <path d=\"M 190.166792 50.423219 \nL 200.748125 50.423219 \nL 200.748125 60.279219 \nL 190.166792 60.279219 \nL 190.166792 50.423219 \n\" clip-path=\"url(#pdb0404b8b9)\" style=\"fill: #db2946\"/>\n    <path d=\"M 200.748125 50.423219 \nL 211.329458 50.423219 \nL 211.329458 60.279219 \nL 200.748125 60.279219 \nL 200.748125 50.423219 \n\" clip-path=\"url(#pdb0404b8b9)\" style=\"fill: #cf1e4d\"/>\n    <path d=\"M 211.329458 50.423219 \nL 221.910792 50.423219 \nL 221.910792 60.279219 \nL 211.329458 60.279219 \nL 211.329458 50.423219 \n\" clip-path=\"url(#pdb0404b8b9)\" style=\"fill: #f59067\"/>\n    <path d=\"M 221.910792 50.423219 \nL 232.492125 50.423219 \nL 232.492125 60.279219 \nL 221.910792 60.279219 \nL 221.910792 50.423219 \n\" clip-path=\"url(#pdb0404b8b9)\" style=\"fill: #f47c55\"/>\n    <path d=\"M 232.492125 50.423219 \nL 243.073458 50.423219 \nL 243.073458 60.279219 \nL 232.492125 60.279219 \nL 232.492125 50.423219 \n\" clip-path=\"url(#pdb0404b8b9)\" style=\"fill: #f4865e\"/>\n    <path d=\"M 243.073458 50.423219 \nL 253.654792 50.423219 \nL 253.654792 60.279219 \nL 243.073458 60.279219 \nL 243.073458 50.423219 \n\" clip-path=\"url(#pdb0404b8b9)\" style=\"fill: #f6a67e\"/>\n    <path d=\"M 253.654792 50.423219 \nL 264.236125 50.423219 \nL 264.236125 60.279219 \nL 253.654792 60.279219 \nL 253.654792 50.423219 \n\" clip-path=\"url(#pdb0404b8b9)\" style=\"fill: #f69b71\"/>\n    <path d=\"M 264.236125 50.423219 \nL 274.817458 50.423219 \nL 274.817458 60.279219 \nL 264.236125 60.279219 \nL 264.236125 50.423219 \n\" clip-path=\"url(#pdb0404b8b9)\" style=\"fill: #d5224a\"/>\n    <path d=\"M 274.817458 50.423219 \nL 285.398792 50.423219 \nL 285.398792 60.279219 \nL 274.817458 60.279219 \nL 274.817458 50.423219 \n\" clip-path=\"url(#pdb0404b8b9)\" style=\"fill: #f69b71\"/>\n    <path d=\"M 285.398792 50.423219 \nL 295.980125 50.423219 \nL 295.980125 60.279219 \nL 285.398792 60.279219 \nL 285.398792 50.423219 \n\" clip-path=\"url(#pdb0404b8b9)\" style=\"fill: #f7cdb1\"/>\n    <path d=\"M 295.980125 50.423219 \nL 306.561458 50.423219 \nL 306.561458 60.279219 \nL 295.980125 60.279219 \nL 295.980125 50.423219 \n\" clip-path=\"url(#pdb0404b8b9)\" style=\"fill: #e23442\"/>\n    <path d=\"M 306.561458 50.423219 \nL 317.142792 50.423219 \nL 317.142792 60.279219 \nL 306.561458 60.279219 \nL 306.561458 50.423219 \n\" clip-path=\"url(#pdb0404b8b9)\" style=\"fill: #871e5b\"/>\n    <path d=\"M 317.142792 50.423219 \nL 327.724125 50.423219 \nL 327.724125 60.279219 \nL 317.142792 60.279219 \nL 317.142792 50.423219 \n\" clip-path=\"url(#pdb0404b8b9)\" style=\"fill: #8e1d5b\"/>\n    <path d=\"M 42.028125 60.279219 \nL 52.609458 60.279219 \nL 52.609458 70.135219 \nL 42.028125 70.135219 \nL 42.028125 60.279219 \n\" clip-path=\"url(#pdb0404b8b9)\" style=\"fill: #681f55\"/>\n    <path d=\"M 52.609458 60.279219 \nL 63.190792 60.279219 \nL 63.190792 70.135219 \nL 52.609458 70.135219 \nL 52.609458 60.279219 \n\" clip-path=\"url(#pdb0404b8b9)\" style=\"fill: #ef5a41\"/>\n    <path d=\"M 63.190792 60.279219 \nL 73.772125 60.279219 \nL 73.772125 70.135219 \nL 63.190792 70.135219 \nL 63.190792 60.279219 \n\" clip-path=\"url(#pdb0404b8b9)\" style=\"fill: #e73d3f\"/>\n    <path d=\"M 73.772125 60.279219 \nL 84.353458 60.279219 \nL 84.353458 70.135219 \nL 73.772125 70.135219 \nL 73.772125 60.279219 \n\" clip-path=\"url(#pdb0404b8b9)\" style=\"fill: #e13342\"/>\n    <path d=\"M 84.353458 60.279219 \nL 94.934792 60.279219 \nL 94.934792 70.135219 \nL 84.353458 70.135219 \nL 84.353458 60.279219 \n\" clip-path=\"url(#pdb0404b8b9)\" style=\"fill: #f7c6a6\"/>\n    <path d=\"M 94.934792 60.279219 \nL 105.516125 60.279219 \nL 105.516125 70.135219 \nL 94.934792 70.135219 \nL 94.934792 60.279219 \n\" clip-path=\"url(#pdb0404b8b9)\" style=\"fill: #faebdd\"/>\n    <path d=\"M 105.516125 60.279219 \nL 116.097458 60.279219 \nL 116.097458 70.135219 \nL 105.516125 70.135219 \nL 105.516125 60.279219 \n\" clip-path=\"url(#pdb0404b8b9)\" style=\"fill: #fae8d8\"/>\n    <path d=\"M 116.097458 60.279219 \nL 126.678792 60.279219 \nL 126.678792 70.135219 \nL 116.097458 70.135219 \nL 116.097458 60.279219 \n\" clip-path=\"url(#pdb0404b8b9)\" style=\"fill: #fae6d6\"/>\n    <path d=\"M 126.678792 60.279219 \nL 137.260125 60.279219 \nL 137.260125 70.135219 \nL 126.678792 70.135219 \nL 126.678792 60.279219 \n\" clip-path=\"url(#pdb0404b8b9)\" style=\"fill: #a4195b\"/>\n    <path d=\"M 137.260125 60.279219 \nL 147.841458 60.279219 \nL 147.841458 70.135219 \nL 137.260125 70.135219 \nL 137.260125 60.279219 \n\" clip-path=\"url(#pdb0404b8b9)\" style=\"fill: #f4815a\"/>\n    <path d=\"M 147.841458 60.279219 \nL 158.422792 60.279219 \nL 158.422792 70.135219 \nL 147.841458 70.135219 \nL 147.841458 60.279219 \n\" clip-path=\"url(#pdb0404b8b9)\" style=\"fill: #f4835b\"/>\n    <path d=\"M 158.422792 60.279219 \nL 169.004125 60.279219 \nL 169.004125 70.135219 \nL 158.422792 70.135219 \nL 158.422792 60.279219 \n\" clip-path=\"url(#pdb0404b8b9)\" style=\"fill: #9c1b5b\"/>\n    <path d=\"M 169.004125 60.279219 \nL 179.585458 60.279219 \nL 179.585458 70.135219 \nL 169.004125 70.135219 \nL 169.004125 60.279219 \n\" clip-path=\"url(#pdb0404b8b9)\" style=\"fill: #f7cdb1\"/>\n    <path d=\"M 179.585458 60.279219 \nL 190.166792 60.279219 \nL 190.166792 70.135219 \nL 179.585458 70.135219 \nL 179.585458 60.279219 \n\" clip-path=\"url(#pdb0404b8b9)\" style=\"fill: #f7c9aa\"/>\n    <path d=\"M 190.166792 60.279219 \nL 200.748125 60.279219 \nL 200.748125 70.135219 \nL 190.166792 70.135219 \nL 190.166792 60.279219 \n\" clip-path=\"url(#pdb0404b8b9)\" style=\"fill: #c81951\"/>\n    <path d=\"M 200.748125 60.279219 \nL 211.329458 60.279219 \nL 211.329458 70.135219 \nL 200.748125 70.135219 \nL 200.748125 60.279219 \n\" clip-path=\"url(#pdb0404b8b9)\" style=\"fill: #cb1b4f\"/>\n    <path d=\"M 211.329458 60.279219 \nL 221.910792 60.279219 \nL 221.910792 70.135219 \nL 211.329458 70.135219 \nL 211.329458 60.279219 \n\" clip-path=\"url(#pdb0404b8b9)\" style=\"fill: #f58d64\"/>\n    <path d=\"M 221.910792 60.279219 \nL 232.492125 60.279219 \nL 232.492125 70.135219 \nL 221.910792 70.135219 \nL 221.910792 60.279219 \n\" clip-path=\"url(#pdb0404b8b9)\" style=\"fill: #f37852\"/>\n    <path d=\"M 232.492125 60.279219 \nL 243.073458 60.279219 \nL 243.073458 70.135219 \nL 232.492125 70.135219 \nL 232.492125 60.279219 \n\" clip-path=\"url(#pdb0404b8b9)\" style=\"fill: #f4865e\"/>\n    <path d=\"M 243.073458 60.279219 \nL 253.654792 60.279219 \nL 253.654792 70.135219 \nL 243.073458 70.135219 \nL 243.073458 60.279219 \n\" clip-path=\"url(#pdb0404b8b9)\" style=\"fill: #f6bc99\"/>\n    <path d=\"M 253.654792 60.279219 \nL 264.236125 60.279219 \nL 264.236125 70.135219 \nL 253.654792 70.135219 \nL 253.654792 60.279219 \n\" clip-path=\"url(#pdb0404b8b9)\" style=\"fill: #f47a54\"/>\n    <path d=\"M 264.236125 60.279219 \nL 274.817458 60.279219 \nL 274.817458 70.135219 \nL 264.236125 70.135219 \nL 264.236125 60.279219 \n\" clip-path=\"url(#pdb0404b8b9)\" style=\"fill: #ce1d4e\"/>\n    <path d=\"M 274.817458 60.279219 \nL 285.398792 60.279219 \nL 285.398792 70.135219 \nL 274.817458 70.135219 \nL 274.817458 60.279219 \n\" clip-path=\"url(#pdb0404b8b9)\" style=\"fill: #f26b49\"/>\n    <path d=\"M 285.398792 60.279219 \nL 295.980125 60.279219 \nL 295.980125 70.135219 \nL 285.398792 70.135219 \nL 285.398792 60.279219 \n\" clip-path=\"url(#pdb0404b8b9)\" style=\"fill: #f8dcc7\"/>\n    <path d=\"M 295.980125 60.279219 \nL 306.561458 60.279219 \nL 306.561458 70.135219 \nL 295.980125 70.135219 \nL 295.980125 60.279219 \n\" clip-path=\"url(#pdb0404b8b9)\" style=\"fill: #f05e42\"/>\n    <path d=\"M 306.561458 60.279219 \nL 317.142792 60.279219 \nL 317.142792 70.135219 \nL 306.561458 70.135219 \nL 306.561458 60.279219 \n\" clip-path=\"url(#pdb0404b8b9)\" style=\"fill: #a11a5b\"/>\n    <path d=\"M 317.142792 60.279219 \nL 327.724125 60.279219 \nL 327.724125 70.135219 \nL 317.142792 70.135219 \nL 317.142792 60.279219 \n\" clip-path=\"url(#pdb0404b8b9)\" style=\"fill: #a6195a\"/>\n    <path d=\"M 42.028125 70.135219 \nL 52.609458 70.135219 \nL 52.609458 79.991219 \nL 42.028125 79.991219 \nL 42.028125 70.135219 \n\" clip-path=\"url(#pdb0404b8b9)\" style=\"fill: #601f52\"/>\n    <path d=\"M 52.609458 70.135219 \nL 63.190792 70.135219 \nL 63.190792 79.991219 \nL 52.609458 79.991219 \nL 52.609458 70.135219 \n\" clip-path=\"url(#pdb0404b8b9)\" style=\"fill: #f05c42\"/>\n    <path d=\"M 63.190792 70.135219 \nL 73.772125 70.135219 \nL 73.772125 79.991219 \nL 63.190792 79.991219 \nL 63.190792 70.135219 \n\" clip-path=\"url(#pdb0404b8b9)\" style=\"fill: #e73d3f\"/>\n    <path d=\"M 73.772125 70.135219 \nL 84.353458 70.135219 \nL 84.353458 79.991219 \nL 73.772125 79.991219 \nL 73.772125 70.135219 \n\" clip-path=\"url(#pdb0404b8b9)\" style=\"fill: #e23442\"/>\n    <path d=\"M 84.353458 70.135219 \nL 94.934792 70.135219 \nL 94.934792 79.991219 \nL 84.353458 79.991219 \nL 84.353458 70.135219 \n\" clip-path=\"url(#pdb0404b8b9)\" style=\"fill: #f7c7a8\"/>\n    <path d=\"M 94.934792 70.135219 \nL 105.516125 70.135219 \nL 105.516125 79.991219 \nL 94.934792 79.991219 \nL 94.934792 70.135219 \n\" clip-path=\"url(#pdb0404b8b9)\" style=\"fill: #fae8d8\"/>\n    <path d=\"M 105.516125 70.135219 \nL 116.097458 70.135219 \nL 116.097458 79.991219 \nL 105.516125 79.991219 \nL 105.516125 70.135219 \n\" clip-path=\"url(#pdb0404b8b9)\" style=\"fill: #faebdd\"/>\n    <path d=\"M 116.097458 70.135219 \nL 126.678792 70.135219 \nL 126.678792 79.991219 \nL 116.097458 79.991219 \nL 116.097458 70.135219 \n\" clip-path=\"url(#pdb0404b8b9)\" style=\"fill: #f9e5d4\"/>\n    <path d=\"M 126.678792 70.135219 \nL 137.260125 70.135219 \nL 137.260125 79.991219 \nL 126.678792 79.991219 \nL 126.678792 70.135219 \n\" clip-path=\"url(#pdb0404b8b9)\" style=\"fill: #b41658\"/>\n    <path d=\"M 137.260125 70.135219 \nL 147.841458 70.135219 \nL 147.841458 79.991219 \nL 137.260125 79.991219 \nL 137.260125 70.135219 \n\" clip-path=\"url(#pdb0404b8b9)\" style=\"fill: #f26948\"/>\n    <path d=\"M 147.841458 70.135219 \nL 158.422792 70.135219 \nL 158.422792 79.991219 \nL 147.841458 79.991219 \nL 147.841458 70.135219 \n\" clip-path=\"url(#pdb0404b8b9)\" style=\"fill: #f26948\"/>\n    <path d=\"M 158.422792 70.135219 \nL 169.004125 70.135219 \nL 169.004125 79.991219 \nL 158.422792 79.991219 \nL 158.422792 70.135219 \n\" clip-path=\"url(#pdb0404b8b9)\" style=\"fill: #901d5b\"/>\n    <path d=\"M 169.004125 70.135219 \nL 179.585458 70.135219 \nL 179.585458 79.991219 \nL 169.004125 79.991219 \nL 169.004125 70.135219 \n\" clip-path=\"url(#pdb0404b8b9)\" style=\"fill: #f6bf9d\"/>\n    <path d=\"M 179.585458 70.135219 \nL 190.166792 70.135219 \nL 190.166792 79.991219 \nL 179.585458 79.991219 \nL 179.585458 70.135219 \n\" clip-path=\"url(#pdb0404b8b9)\" style=\"fill: #f6c19f\"/>\n    <path d=\"M 190.166792 70.135219 \nL 200.748125 70.135219 \nL 200.748125 79.991219 \nL 190.166792 79.991219 \nL 190.166792 70.135219 \n\" clip-path=\"url(#pdb0404b8b9)\" style=\"fill: #bf1654\"/>\n    <path d=\"M 200.748125 70.135219 \nL 211.329458 70.135219 \nL 211.329458 79.991219 \nL 200.748125 79.991219 \nL 200.748125 70.135219 \n\" clip-path=\"url(#pdb0404b8b9)\" style=\"fill: #db2946\"/>\n    <path d=\"M 211.329458 70.135219 \nL 221.910792 70.135219 \nL 221.910792 79.991219 \nL 211.329458 79.991219 \nL 211.329458 70.135219 \n\" clip-path=\"url(#pdb0404b8b9)\" style=\"fill: #f5966c\"/>\n    <path d=\"M 221.910792 70.135219 \nL 232.492125 70.135219 \nL 232.492125 79.991219 \nL 221.910792 79.991219 \nL 221.910792 70.135219 \n\" clip-path=\"url(#pdb0404b8b9)\" style=\"fill: #f4845d\"/>\n    <path d=\"M 232.492125 70.135219 \nL 243.073458 70.135219 \nL 243.073458 79.991219 \nL 232.492125 79.991219 \nL 232.492125 70.135219 \n\" clip-path=\"url(#pdb0404b8b9)\" style=\"fill: #f4835b\"/>\n    <path d=\"M 243.073458 70.135219 \nL 253.654792 70.135219 \nL 253.654792 79.991219 \nL 243.073458 79.991219 \nL 243.073458 70.135219 \n\" clip-path=\"url(#pdb0404b8b9)\" style=\"fill: #f6bb97\"/>\n    <path d=\"M 253.654792 70.135219 \nL 264.236125 70.135219 \nL 264.236125 79.991219 \nL 253.654792 79.991219 \nL 253.654792 70.135219 \n\" clip-path=\"url(#pdb0404b8b9)\" style=\"fill: #f47a54\"/>\n    <path d=\"M 264.236125 70.135219 \nL 274.817458 70.135219 \nL 274.817458 79.991219 \nL 264.236125 79.991219 \nL 264.236125 70.135219 \n\" clip-path=\"url(#pdb0404b8b9)\" style=\"fill: #d82748\"/>\n    <path d=\"M 274.817458 70.135219 \nL 285.398792 70.135219 \nL 285.398792 79.991219 \nL 274.817458 79.991219 \nL 274.817458 70.135219 \n\" clip-path=\"url(#pdb0404b8b9)\" style=\"fill: #f3714d\"/>\n    <path d=\"M 285.398792 70.135219 \nL 295.980125 70.135219 \nL 295.980125 79.991219 \nL 285.398792 79.991219 \nL 285.398792 70.135219 \n\" clip-path=\"url(#pdb0404b8b9)\" style=\"fill: #f9ddc9\"/>\n    <path d=\"M 295.980125 70.135219 \nL 306.561458 70.135219 \nL 306.561458 79.991219 \nL 295.980125 79.991219 \nL 295.980125 70.135219 \n\" clip-path=\"url(#pdb0404b8b9)\" style=\"fill: #f26747\"/>\n    <path d=\"M 306.561458 70.135219 \nL 317.142792 70.135219 \nL 317.142792 79.991219 \nL 306.561458 79.991219 \nL 306.561458 70.135219 \n\" clip-path=\"url(#pdb0404b8b9)\" style=\"fill: #a11a5b\"/>\n    <path d=\"M 317.142792 70.135219 \nL 327.724125 70.135219 \nL 327.724125 79.991219 \nL 317.142792 79.991219 \nL 317.142792 70.135219 \n\" clip-path=\"url(#pdb0404b8b9)\" style=\"fill: #a3195b\"/>\n    <path d=\"M 42.028125 79.991219 \nL 52.609458 79.991219 \nL 52.609458 89.847219 \nL 42.028125 89.847219 \nL 42.028125 79.991219 \n\" clip-path=\"url(#pdb0404b8b9)\" style=\"fill: #641f54\"/>\n    <path d=\"M 52.609458 79.991219 \nL 63.190792 79.991219 \nL 63.190792 89.847219 \nL 52.609458 89.847219 \nL 52.609458 79.991219 \n\" clip-path=\"url(#pdb0404b8b9)\" style=\"fill: #ee543f\"/>\n    <path d=\"M 63.190792 79.991219 \nL 73.772125 79.991219 \nL 73.772125 89.847219 \nL 63.190792 89.847219 \nL 63.190792 79.991219 \n\" clip-path=\"url(#pdb0404b8b9)\" style=\"fill: #e13342\"/>\n    <path d=\"M 73.772125 79.991219 \nL 84.353458 79.991219 \nL 84.353458 89.847219 \nL 73.772125 89.847219 \nL 73.772125 79.991219 \n\" clip-path=\"url(#pdb0404b8b9)\" style=\"fill: #e33641\"/>\n    <path d=\"M 84.353458 79.991219 \nL 94.934792 79.991219 \nL 94.934792 89.847219 \nL 84.353458 89.847219 \nL 84.353458 79.991219 \n\" clip-path=\"url(#pdb0404b8b9)\" style=\"fill: #f7caac\"/>\n    <path d=\"M 94.934792 79.991219 \nL 105.516125 79.991219 \nL 105.516125 89.847219 \nL 94.934792 89.847219 \nL 94.934792 79.991219 \n\" clip-path=\"url(#pdb0404b8b9)\" style=\"fill: #fae6d6\"/>\n    <path d=\"M 105.516125 79.991219 \nL 116.097458 79.991219 \nL 116.097458 89.847219 \nL 105.516125 89.847219 \nL 105.516125 79.991219 \n\" clip-path=\"url(#pdb0404b8b9)\" style=\"fill: #f9e5d4\"/>\n    <path d=\"M 116.097458 79.991219 \nL 126.678792 79.991219 \nL 126.678792 89.847219 \nL 116.097458 89.847219 \nL 116.097458 79.991219 \n\" clip-path=\"url(#pdb0404b8b9)\" style=\"fill: #faebdd\"/>\n    <path d=\"M 126.678792 79.991219 \nL 137.260125 79.991219 \nL 137.260125 89.847219 \nL 126.678792 89.847219 \nL 126.678792 79.991219 \n\" clip-path=\"url(#pdb0404b8b9)\" style=\"fill: #841e5a\"/>\n    <path d=\"M 137.260125 79.991219 \nL 147.841458 79.991219 \nL 147.841458 89.847219 \nL 137.260125 89.847219 \nL 137.260125 79.991219 \n\" clip-path=\"url(#pdb0404b8b9)\" style=\"fill: #f58d64\"/>\n    <path d=\"M 147.841458 79.991219 \nL 158.422792 79.991219 \nL 158.422792 89.847219 \nL 147.841458 89.847219 \nL 147.841458 79.991219 \n\" clip-path=\"url(#pdb0404b8b9)\" style=\"fill: #f5946b\"/>\n    <path d=\"M 158.422792 79.991219 \nL 169.004125 79.991219 \nL 169.004125 89.847219 \nL 158.422792 89.847219 \nL 158.422792 79.991219 \n\" clip-path=\"url(#pdb0404b8b9)\" style=\"fill: #a11a5b\"/>\n    <path d=\"M 169.004125 79.991219 \nL 179.585458 79.991219 \nL 179.585458 89.847219 \nL 169.004125 89.847219 \nL 169.004125 79.991219 \n\" clip-path=\"url(#pdb0404b8b9)\" style=\"fill: #f6b995\"/>\n    <path d=\"M 179.585458 79.991219 \nL 190.166792 79.991219 \nL 190.166792 89.847219 \nL 179.585458 89.847219 \nL 179.585458 79.991219 \n\" clip-path=\"url(#pdb0404b8b9)\" style=\"fill: #f6b691\"/>\n    <path d=\"M 190.166792 79.991219 \nL 200.748125 79.991219 \nL 200.748125 89.847219 \nL 190.166792 89.847219 \nL 190.166792 79.991219 \n\" clip-path=\"url(#pdb0404b8b9)\" style=\"fill: #c81951\"/>\n    <path d=\"M 200.748125 79.991219 \nL 211.329458 79.991219 \nL 211.329458 89.847219 \nL 200.748125 89.847219 \nL 200.748125 79.991219 \n\" clip-path=\"url(#pdb0404b8b9)\" style=\"fill: #b41658\"/>\n    <path d=\"M 211.329458 79.991219 \nL 221.910792 79.991219 \nL 221.910792 89.847219 \nL 211.329458 89.847219 \nL 211.329458 79.991219 \n\" clip-path=\"url(#pdb0404b8b9)\" style=\"fill: #f47c55\"/>\n    <path d=\"M 221.910792 79.991219 \nL 232.492125 79.991219 \nL 232.492125 89.847219 \nL 221.910792 89.847219 \nL 221.910792 79.991219 \n\" clip-path=\"url(#pdb0404b8b9)\" style=\"fill: #f16244\"/>\n    <path d=\"M 232.492125 79.991219 \nL 243.073458 79.991219 \nL 243.073458 89.847219 \nL 232.492125 89.847219 \nL 232.492125 79.991219 \n\" clip-path=\"url(#pdb0404b8b9)\" style=\"fill: #f59067\"/>\n    <path d=\"M 243.073458 79.991219 \nL 253.654792 79.991219 \nL 253.654792 89.847219 \nL 243.073458 89.847219 \nL 243.073458 79.991219 \n\" clip-path=\"url(#pdb0404b8b9)\" style=\"fill: #f6bc99\"/>\n    <path d=\"M 253.654792 79.991219 \nL 264.236125 79.991219 \nL 264.236125 89.847219 \nL 253.654792 89.847219 \nL 253.654792 79.991219 \n\" clip-path=\"url(#pdb0404b8b9)\" style=\"fill: #f4835b\"/>\n    <path d=\"M 264.236125 79.991219 \nL 274.817458 79.991219 \nL 274.817458 89.847219 \nL 264.236125 89.847219 \nL 264.236125 79.991219 \n\" clip-path=\"url(#pdb0404b8b9)\" style=\"fill: #b91657\"/>\n    <path d=\"M 274.817458 79.991219 \nL 285.398792 79.991219 \nL 285.398792 89.847219 \nL 274.817458 89.847219 \nL 274.817458 79.991219 \n\" clip-path=\"url(#pdb0404b8b9)\" style=\"fill: #f16244\"/>\n    <path d=\"M 285.398792 79.991219 \nL 295.980125 79.991219 \nL 295.980125 89.847219 \nL 285.398792 89.847219 \nL 285.398792 79.991219 \n\" clip-path=\"url(#pdb0404b8b9)\" style=\"fill: #f8d4bc\"/>\n    <path d=\"M 295.980125 79.991219 \nL 306.561458 79.991219 \nL 306.561458 89.847219 \nL 295.980125 89.847219 \nL 295.980125 79.991219 \n\" clip-path=\"url(#pdb0404b8b9)\" style=\"fill: #ea443e\"/>\n    <path d=\"M 306.561458 79.991219 \nL 317.142792 79.991219 \nL 317.142792 89.847219 \nL 306.561458 89.847219 \nL 306.561458 79.991219 \n\" clip-path=\"url(#pdb0404b8b9)\" style=\"fill: #a3195b\"/>\n    <path d=\"M 317.142792 79.991219 \nL 327.724125 79.991219 \nL 327.724125 89.847219 \nL 317.142792 89.847219 \nL 317.142792 79.991219 \n\" clip-path=\"url(#pdb0404b8b9)\" style=\"fill: #951c5b\"/>\n    <path d=\"M 42.028125 89.847219 \nL 52.609458 89.847219 \nL 52.609458 99.703219 \nL 42.028125 99.703219 \nL 42.028125 89.847219 \n\" clip-path=\"url(#pdb0404b8b9)\" style=\"fill: #511e4d\"/>\n    <path d=\"M 52.609458 89.847219 \nL 63.190792 89.847219 \nL 63.190792 99.703219 \nL 52.609458 99.703219 \nL 52.609458 89.847219 \n\" clip-path=\"url(#pdb0404b8b9)\" style=\"fill: #af1759\"/>\n    <path d=\"M 63.190792 89.847219 \nL 73.772125 89.847219 \nL 73.772125 99.703219 \nL 63.190792 99.703219 \nL 63.190792 89.847219 \n\" clip-path=\"url(#pdb0404b8b9)\" style=\"fill: #a8185a\"/>\n    <path d=\"M 73.772125 89.847219 \nL 84.353458 89.847219 \nL 84.353458 99.703219 \nL 73.772125 99.703219 \nL 73.772125 89.847219 \n\" clip-path=\"url(#pdb0404b8b9)\" style=\"fill: #951c5b\"/>\n    <path d=\"M 84.353458 89.847219 \nL 94.934792 89.847219 \nL 94.934792 99.703219 \nL 84.353458 99.703219 \nL 84.353458 89.847219 \n\" clip-path=\"url(#pdb0404b8b9)\" style=\"fill: #9c1b5b\"/>\n    <path d=\"M 94.934792 89.847219 \nL 105.516125 89.847219 \nL 105.516125 99.703219 \nL 94.934792 99.703219 \nL 94.934792 89.847219 \n\" clip-path=\"url(#pdb0404b8b9)\" style=\"fill: #a4195b\"/>\n    <path d=\"M 105.516125 89.847219 \nL 116.097458 89.847219 \nL 116.097458 99.703219 \nL 105.516125 99.703219 \nL 105.516125 89.847219 \n\" clip-path=\"url(#pdb0404b8b9)\" style=\"fill: #b41658\"/>\n    <path d=\"M 116.097458 89.847219 \nL 126.678792 89.847219 \nL 126.678792 99.703219 \nL 116.097458 99.703219 \nL 116.097458 89.847219 \n\" clip-path=\"url(#pdb0404b8b9)\" style=\"fill: #841e5a\"/>\n    <path d=\"M 126.678792 89.847219 \nL 137.260125 89.847219 \nL 137.260125 99.703219 \nL 126.678792 99.703219 \nL 126.678792 89.847219 \n\" clip-path=\"url(#pdb0404b8b9)\" style=\"fill: #faebdd\"/>\n    <path d=\"M 137.260125 89.847219 \nL 147.841458 89.847219 \nL 147.841458 99.703219 \nL 137.260125 99.703219 \nL 137.260125 89.847219 \n\" clip-path=\"url(#pdb0404b8b9)\" style=\"fill: #381a40\"/>\n    <path d=\"M 147.841458 89.847219 \nL 158.422792 89.847219 \nL 158.422792 99.703219 \nL 147.841458 99.703219 \nL 147.841458 89.847219 \n\" clip-path=\"url(#pdb0404b8b9)\" style=\"fill: #241432\"/>\n    <path d=\"M 158.422792 89.847219 \nL 169.004125 89.847219 \nL 169.004125 99.703219 \nL 158.422792 99.703219 \nL 158.422792 89.847219 \n\" clip-path=\"url(#pdb0404b8b9)\" style=\"fill: #691f55\"/>\n    <path d=\"M 169.004125 89.847219 \nL 179.585458 89.847219 \nL 179.585458 99.703219 \nL 169.004125 99.703219 \nL 169.004125 89.847219 \n\" clip-path=\"url(#pdb0404b8b9)\" style=\"fill: #901d5b\"/>\n    <path d=\"M 179.585458 89.847219 \nL 190.166792 89.847219 \nL 190.166792 99.703219 \nL 179.585458 99.703219 \nL 179.585458 89.847219 \n\" clip-path=\"url(#pdb0404b8b9)\" style=\"fill: #9f1a5b\"/>\n    <path d=\"M 190.166792 89.847219 \nL 200.748125 89.847219 \nL 200.748125 99.703219 \nL 190.166792 99.703219 \nL 190.166792 89.847219 \n\" clip-path=\"url(#pdb0404b8b9)\" style=\"fill: #841e5a\"/>\n    <path d=\"M 200.748125 89.847219 \nL 211.329458 89.847219 \nL 211.329458 99.703219 \nL 200.748125 99.703219 \nL 200.748125 89.847219 \n\" clip-path=\"url(#pdb0404b8b9)\" style=\"fill: #db2946\"/>\n    <path d=\"M 211.329458 89.847219 \nL 221.910792 89.847219 \nL 221.910792 99.703219 \nL 211.329458 99.703219 \nL 211.329458 89.847219 \n\" clip-path=\"url(#pdb0404b8b9)\" style=\"fill: #c11754\"/>\n    <path d=\"M 221.910792 89.847219 \nL 232.492125 89.847219 \nL 232.492125 99.703219 \nL 221.910792 99.703219 \nL 221.910792 89.847219 \n\" clip-path=\"url(#pdb0404b8b9)\" style=\"fill: #d11f4c\"/>\n    <path d=\"M 232.492125 89.847219 \nL 243.073458 89.847219 \nL 243.073458 99.703219 \nL 232.492125 99.703219 \nL 232.492125 89.847219 \n\" clip-path=\"url(#pdb0404b8b9)\" style=\"fill: #611f53\"/>\n    <path d=\"M 243.073458 89.847219 \nL 253.654792 89.847219 \nL 253.654792 99.703219 \nL 243.073458 99.703219 \nL 243.073458 89.847219 \n\" clip-path=\"url(#pdb0404b8b9)\" style=\"fill: #841e5a\"/>\n    <path d=\"M 253.654792 89.847219 \nL 264.236125 89.847219 \nL 264.236125 99.703219 \nL 253.654792 99.703219 \nL 253.654792 89.847219 \n\" clip-path=\"url(#pdb0404b8b9)\" style=\"fill: #731f58\"/>\n    <path d=\"M 264.236125 89.847219 \nL 274.817458 89.847219 \nL 274.817458 99.703219 \nL 264.236125 99.703219 \nL 264.236125 89.847219 \n\" clip-path=\"url(#pdb0404b8b9)\" style=\"fill: #ce1d4e\"/>\n    <path d=\"M 274.817458 89.847219 \nL 285.398792 89.847219 \nL 285.398792 99.703219 \nL 274.817458 99.703219 \nL 274.817458 89.847219 \n\" clip-path=\"url(#pdb0404b8b9)\" style=\"fill: #c51852\"/>\n    <path d=\"M 285.398792 89.847219 \nL 295.980125 89.847219 \nL 295.980125 99.703219 \nL 285.398792 99.703219 \nL 285.398792 89.847219 \n\" clip-path=\"url(#pdb0404b8b9)\" style=\"fill: #b71657\"/>\n    <path d=\"M 295.980125 89.847219 \nL 306.561458 89.847219 \nL 306.561458 99.703219 \nL 295.980125 99.703219 \nL 295.980125 89.847219 \n\" clip-path=\"url(#pdb0404b8b9)\" style=\"fill: #a3195b\"/>\n    <path d=\"M 306.561458 89.847219 \nL 317.142792 89.847219 \nL 317.142792 99.703219 \nL 306.561458 99.703219 \nL 306.561458 89.847219 \n\" clip-path=\"url(#pdb0404b8b9)\" style=\"fill: #4e1d4b\"/>\n    <path d=\"M 317.142792 89.847219 \nL 327.724125 89.847219 \nL 327.724125 99.703219 \nL 317.142792 99.703219 \nL 317.142792 89.847219 \n\" clip-path=\"url(#pdb0404b8b9)\" style=\"fill: #701f57\"/>\n    <path d=\"M 42.028125 99.703219 \nL 52.609458 99.703219 \nL 52.609458 109.559219 \nL 42.028125 109.559219 \nL 42.028125 99.703219 \n\" clip-path=\"url(#pdb0404b8b9)\" style=\"fill: #821e5a\"/>\n    <path d=\"M 52.609458 99.703219 \nL 63.190792 99.703219 \nL 63.190792 109.559219 \nL 52.609458 109.559219 \nL 52.609458 99.703219 \n\" clip-path=\"url(#pdb0404b8b9)\" style=\"fill: #dc2b46\"/>\n    <path d=\"M 63.190792 99.703219 \nL 73.772125 99.703219 \nL 73.772125 109.559219 \nL 63.190792 109.559219 \nL 63.190792 99.703219 \n\" clip-path=\"url(#pdb0404b8b9)\" style=\"fill: #d2204c\"/>\n    <path d=\"M 73.772125 99.703219 \nL 84.353458 99.703219 \nL 84.353458 109.559219 \nL 73.772125 109.559219 \nL 73.772125 99.703219 \n\" clip-path=\"url(#pdb0404b8b9)\" style=\"fill: #bf1654\"/>\n    <path d=\"M 84.353458 99.703219 \nL 94.934792 99.703219 \nL 94.934792 109.559219 \nL 84.353458 109.559219 \nL 84.353458 99.703219 \n\" clip-path=\"url(#pdb0404b8b9)\" style=\"fill: #f47d57\"/>\n    <path d=\"M 94.934792 99.703219 \nL 105.516125 99.703219 \nL 105.516125 109.559219 \nL 94.934792 109.559219 \nL 94.934792 99.703219 \n\" clip-path=\"url(#pdb0404b8b9)\" style=\"fill: #f4815a\"/>\n    <path d=\"M 105.516125 99.703219 \nL 116.097458 99.703219 \nL 116.097458 109.559219 \nL 105.516125 109.559219 \nL 105.516125 99.703219 \n\" clip-path=\"url(#pdb0404b8b9)\" style=\"fill: #f26948\"/>\n    <path d=\"M 116.097458 99.703219 \nL 126.678792 99.703219 \nL 126.678792 109.559219 \nL 116.097458 109.559219 \nL 116.097458 99.703219 \n\" clip-path=\"url(#pdb0404b8b9)\" style=\"fill: #f58d64\"/>\n    <path d=\"M 126.678792 99.703219 \nL 137.260125 99.703219 \nL 137.260125 109.559219 \nL 126.678792 109.559219 \nL 126.678792 99.703219 \n\" clip-path=\"url(#pdb0404b8b9)\" style=\"fill: #381a40\"/>\n    <path d=\"M 137.260125 99.703219 \nL 147.841458 99.703219 \nL 147.841458 109.559219 \nL 137.260125 109.559219 \nL 137.260125 99.703219 \n\" clip-path=\"url(#pdb0404b8b9)\" style=\"fill: #faebdd\"/>\n    <path d=\"M 147.841458 99.703219 \nL 158.422792 99.703219 \nL 158.422792 109.559219 \nL 147.841458 109.559219 \nL 147.841458 99.703219 \n\" clip-path=\"url(#pdb0404b8b9)\" style=\"fill: #fae6d6\"/>\n    <path d=\"M 158.422792 99.703219 \nL 169.004125 99.703219 \nL 169.004125 109.559219 \nL 158.422792 109.559219 \nL 158.422792 99.703219 \n\" clip-path=\"url(#pdb0404b8b9)\" style=\"fill: #e8403e\"/>\n    <path d=\"M 169.004125 99.703219 \nL 179.585458 99.703219 \nL 179.585458 109.559219 \nL 169.004125 109.559219 \nL 169.004125 99.703219 \n\" clip-path=\"url(#pdb0404b8b9)\" style=\"fill: #e03143\"/>\n    <path d=\"M 179.585458 99.703219 \nL 190.166792 99.703219 \nL 190.166792 109.559219 \nL 179.585458 109.559219 \nL 179.585458 99.703219 \n\" clip-path=\"url(#pdb0404b8b9)\" style=\"fill: #d11f4c\"/>\n    <path d=\"M 190.166792 99.703219 \nL 200.748125 99.703219 \nL 200.748125 109.559219 \nL 190.166792 109.559219 \nL 190.166792 99.703219 \n\" clip-path=\"url(#pdb0404b8b9)\" style=\"fill: #c51852\"/>\n    <path d=\"M 200.748125 99.703219 \nL 211.329458 99.703219 \nL 211.329458 109.559219 \nL 200.748125 109.559219 \nL 200.748125 99.703219 \n\" clip-path=\"url(#pdb0404b8b9)\" style=\"fill: #1a102a\"/>\n    <path d=\"M 211.329458 99.703219 \nL 221.910792 99.703219 \nL 221.910792 109.559219 \nL 211.329458 109.559219 \nL 211.329458 99.703219 \n\" clip-path=\"url(#pdb0404b8b9)\" style=\"fill: #a11a5b\"/>\n    <path d=\"M 221.910792 99.703219 \nL 232.492125 99.703219 \nL 232.492125 109.559219 \nL 221.910792 109.559219 \nL 221.910792 99.703219 \n\" clip-path=\"url(#pdb0404b8b9)\" style=\"fill: #781f59\"/>\n    <path d=\"M 232.492125 99.703219 \nL 243.073458 99.703219 \nL 243.073458 109.559219 \nL 232.492125 109.559219 \nL 232.492125 99.703219 \n\" clip-path=\"url(#pdb0404b8b9)\" style=\"fill: #e13342\"/>\n    <path d=\"M 243.073458 99.703219 \nL 253.654792 99.703219 \nL 253.654792 109.559219 \nL 243.073458 109.559219 \nL 243.073458 99.703219 \n\" clip-path=\"url(#pdb0404b8b9)\" style=\"fill: #e53940\"/>\n    <path d=\"M 253.654792 99.703219 \nL 264.236125 99.703219 \nL 264.236125 109.559219 \nL 253.654792 109.559219 \nL 253.654792 99.703219 \n\" clip-path=\"url(#pdb0404b8b9)\" style=\"fill: #e03143\"/>\n    <path d=\"M 264.236125 99.703219 \nL 274.817458 99.703219 \nL 274.817458 109.559219 \nL 264.236125 109.559219 \nL 264.236125 99.703219 \n\" clip-path=\"url(#pdb0404b8b9)\" style=\"fill: #421b45\"/>\n    <path d=\"M 274.817458 99.703219 \nL 285.398792 99.703219 \nL 285.398792 109.559219 \nL 274.817458 109.559219 \nL 274.817458 99.703219 \n\" clip-path=\"url(#pdb0404b8b9)\" style=\"fill: #ba1656\"/>\n    <path d=\"M 285.398792 99.703219 \nL 295.980125 99.703219 \nL 295.980125 109.559219 \nL 285.398792 109.559219 \nL 285.398792 99.703219 \n\" clip-path=\"url(#pdb0404b8b9)\" style=\"fill: #ec4c3e\"/>\n    <path d=\"M 295.980125 99.703219 \nL 306.561458 99.703219 \nL 306.561458 109.559219 \nL 295.980125 109.559219 \nL 295.980125 99.703219 \n\" clip-path=\"url(#pdb0404b8b9)\" style=\"fill: #5e1f52\"/>\n    <path d=\"M 306.561458 99.703219 \nL 317.142792 99.703219 \nL 317.142792 109.559219 \nL 306.561458 109.559219 \nL 306.561458 99.703219 \n\" clip-path=\"url(#pdb0404b8b9)\" style=\"fill: #681f55\"/>\n    <path d=\"M 317.142792 99.703219 \nL 327.724125 99.703219 \nL 327.724125 109.559219 \nL 317.142792 109.559219 \nL 317.142792 99.703219 \n\" clip-path=\"url(#pdb0404b8b9)\" style=\"fill: #a6195a\"/>\n    <path d=\"M 42.028125 109.559219 \nL 52.609458 109.559219 \nL 52.609458 119.415219 \nL 42.028125 119.415219 \nL 42.028125 109.559219 \n\" clip-path=\"url(#pdb0404b8b9)\" style=\"fill: #7f1e5a\"/>\n    <path d=\"M 52.609458 109.559219 \nL 63.190792 109.559219 \nL 63.190792 119.415219 \nL 52.609458 119.415219 \nL 52.609458 109.559219 \n\" clip-path=\"url(#pdb0404b8b9)\" style=\"fill: #d72549\"/>\n    <path d=\"M 63.190792 109.559219 \nL 73.772125 109.559219 \nL 73.772125 119.415219 \nL 63.190792 119.415219 \nL 63.190792 109.559219 \n\" clip-path=\"url(#pdb0404b8b9)\" style=\"fill: #ca1a50\"/>\n    <path d=\"M 73.772125 109.559219 \nL 84.353458 109.559219 \nL 84.353458 119.415219 \nL 73.772125 119.415219 \nL 73.772125 109.559219 \n\" clip-path=\"url(#pdb0404b8b9)\" style=\"fill: #bf1654\"/>\n    <path d=\"M 84.353458 109.559219 \nL 94.934792 109.559219 \nL 94.934792 119.415219 \nL 84.353458 119.415219 \nL 84.353458 109.559219 \n\" clip-path=\"url(#pdb0404b8b9)\" style=\"fill: #f4815a\"/>\n    <path d=\"M 94.934792 109.559219 \nL 105.516125 109.559219 \nL 105.516125 119.415219 \nL 94.934792 119.415219 \nL 94.934792 109.559219 \n\" clip-path=\"url(#pdb0404b8b9)\" style=\"fill: #f4835b\"/>\n    <path d=\"M 105.516125 109.559219 \nL 116.097458 109.559219 \nL 116.097458 119.415219 \nL 105.516125 119.415219 \nL 105.516125 109.559219 \n\" clip-path=\"url(#pdb0404b8b9)\" style=\"fill: #f26948\"/>\n    <path d=\"M 116.097458 109.559219 \nL 126.678792 109.559219 \nL 126.678792 119.415219 \nL 116.097458 119.415219 \nL 116.097458 109.559219 \n\" clip-path=\"url(#pdb0404b8b9)\" style=\"fill: #f5946b\"/>\n    <path d=\"M 126.678792 109.559219 \nL 137.260125 109.559219 \nL 137.260125 119.415219 \nL 126.678792 119.415219 \nL 126.678792 109.559219 \n\" clip-path=\"url(#pdb0404b8b9)\" style=\"fill: #241432\"/>\n    <path d=\"M 137.260125 109.559219 \nL 147.841458 109.559219 \nL 147.841458 119.415219 \nL 137.260125 119.415219 \nL 137.260125 109.559219 \n\" clip-path=\"url(#pdb0404b8b9)\" style=\"fill: #fae6d6\"/>\n    <path d=\"M 147.841458 109.559219 \nL 158.422792 109.559219 \nL 158.422792 119.415219 \nL 147.841458 119.415219 \nL 147.841458 109.559219 \n\" clip-path=\"url(#pdb0404b8b9)\" style=\"fill: #faebdd\"/>\n    <path d=\"M 158.422792 109.559219 \nL 169.004125 109.559219 \nL 169.004125 119.415219 \nL 158.422792 119.415219 \nL 158.422792 109.559219 \n\" clip-path=\"url(#pdb0404b8b9)\" style=\"fill: #db2946\"/>\n    <path d=\"M 169.004125 109.559219 \nL 179.585458 109.559219 \nL 179.585458 119.415219 \nL 169.004125 119.415219 \nL 169.004125 109.559219 \n\" clip-path=\"url(#pdb0404b8b9)\" style=\"fill: #e43841\"/>\n    <path d=\"M 179.585458 109.559219 \nL 190.166792 109.559219 \nL 190.166792 119.415219 \nL 179.585458 119.415219 \nL 179.585458 109.559219 \n\" clip-path=\"url(#pdb0404b8b9)\" style=\"fill: #d62449\"/>\n    <path d=\"M 190.166792 109.559219 \nL 200.748125 109.559219 \nL 200.748125 119.415219 \nL 190.166792 119.415219 \nL 190.166792 109.559219 \n\" clip-path=\"url(#pdb0404b8b9)\" style=\"fill: #c71951\"/>\n    <path d=\"M 200.748125 109.559219 \nL 211.329458 109.559219 \nL 211.329458 119.415219 \nL 200.748125 119.415219 \nL 200.748125 109.559219 \n\" clip-path=\"url(#pdb0404b8b9)\" style=\"fill: #160e27\"/>\n    <path d=\"M 211.329458 109.559219 \nL 221.910792 109.559219 \nL 221.910792 119.415219 \nL 211.329458 119.415219 \nL 211.329458 109.559219 \n\" clip-path=\"url(#pdb0404b8b9)\" style=\"fill: #a3195b\"/>\n    <path d=\"M 221.910792 109.559219 \nL 232.492125 109.559219 \nL 232.492125 119.415219 \nL 221.910792 119.415219 \nL 221.910792 109.559219 \n\" clip-path=\"url(#pdb0404b8b9)\" style=\"fill: #781f59\"/>\n    <path d=\"M 232.492125 109.559219 \nL 243.073458 109.559219 \nL 243.073458 119.415219 \nL 232.492125 119.415219 \nL 232.492125 109.559219 \n\" clip-path=\"url(#pdb0404b8b9)\" style=\"fill: #e73d3f\"/>\n    <path d=\"M 243.073458 109.559219 \nL 253.654792 109.559219 \nL 253.654792 119.415219 \nL 243.073458 119.415219 \nL 243.073458 109.559219 \n\" clip-path=\"url(#pdb0404b8b9)\" style=\"fill: #ea443e\"/>\n    <path d=\"M 253.654792 109.559219 \nL 264.236125 109.559219 \nL 264.236125 119.415219 \nL 253.654792 119.415219 \nL 253.654792 109.559219 \n\" clip-path=\"url(#pdb0404b8b9)\" style=\"fill: #e43841\"/>\n    <path d=\"M 264.236125 109.559219 \nL 274.817458 109.559219 \nL 274.817458 119.415219 \nL 264.236125 119.415219 \nL 264.236125 109.559219 \n\" clip-path=\"url(#pdb0404b8b9)\" style=\"fill: #401b44\"/>\n    <path d=\"M 274.817458 109.559219 \nL 285.398792 109.559219 \nL 285.398792 119.415219 \nL 274.817458 119.415219 \nL 274.817458 109.559219 \n\" clip-path=\"url(#pdb0404b8b9)\" style=\"fill: #ba1656\"/>\n    <path d=\"M 285.398792 109.559219 \nL 295.980125 109.559219 \nL 295.980125 119.415219 \nL 285.398792 119.415219 \nL 285.398792 109.559219 \n\" clip-path=\"url(#pdb0404b8b9)\" style=\"fill: #ed503e\"/>\n    <path d=\"M 295.980125 109.559219 \nL 306.561458 109.559219 \nL 306.561458 119.415219 \nL 295.980125 119.415219 \nL 295.980125 109.559219 \n\" clip-path=\"url(#pdb0404b8b9)\" style=\"fill: #631f53\"/>\n    <path d=\"M 306.561458 109.559219 \nL 317.142792 109.559219 \nL 317.142792 119.415219 \nL 306.561458 119.415219 \nL 306.561458 109.559219 \n\" clip-path=\"url(#pdb0404b8b9)\" style=\"fill: #751f58\"/>\n    <path d=\"M 317.142792 109.559219 \nL 327.724125 109.559219 \nL 327.724125 119.415219 \nL 317.142792 119.415219 \nL 317.142792 109.559219 \n\" clip-path=\"url(#pdb0404b8b9)\" style=\"fill: #9a1b5b\"/>\n    <path d=\"M 42.028125 119.415219 \nL 52.609458 119.415219 \nL 52.609458 129.271219 \nL 42.028125 129.271219 \nL 42.028125 119.415219 \n\" clip-path=\"url(#pdb0404b8b9)\" style=\"fill: #5c1e51\"/>\n    <path d=\"M 52.609458 119.415219 \nL 63.190792 119.415219 \nL 63.190792 129.271219 \nL 52.609458 129.271219 \nL 52.609458 119.415219 \n\" clip-path=\"url(#pdb0404b8b9)\" style=\"fill: #9c1b5b\"/>\n    <path d=\"M 63.190792 119.415219 \nL 73.772125 119.415219 \nL 73.772125 129.271219 \nL 63.190792 129.271219 \nL 63.190792 119.415219 \n\" clip-path=\"url(#pdb0404b8b9)\" style=\"fill: #951c5b\"/>\n    <path d=\"M 73.772125 119.415219 \nL 84.353458 119.415219 \nL 84.353458 129.271219 \nL 73.772125 129.271219 \nL 73.772125 119.415219 \n\" clip-path=\"url(#pdb0404b8b9)\" style=\"fill: #871e5b\"/>\n    <path d=\"M 84.353458 119.415219 \nL 94.934792 119.415219 \nL 94.934792 129.271219 \nL 84.353458 129.271219 \nL 84.353458 119.415219 \n\" clip-path=\"url(#pdb0404b8b9)\" style=\"fill: #a6195a\"/>\n    <path d=\"M 94.934792 119.415219 \nL 105.516125 119.415219 \nL 105.516125 129.271219 \nL 94.934792 129.271219 \nL 94.934792 119.415219 \n\" clip-path=\"url(#pdb0404b8b9)\" style=\"fill: #9c1b5b\"/>\n    <path d=\"M 105.516125 119.415219 \nL 116.097458 119.415219 \nL 116.097458 129.271219 \nL 105.516125 129.271219 \nL 105.516125 119.415219 \n\" clip-path=\"url(#pdb0404b8b9)\" style=\"fill: #901d5b\"/>\n    <path d=\"M 116.097458 119.415219 \nL 126.678792 119.415219 \nL 126.678792 129.271219 \nL 116.097458 129.271219 \nL 116.097458 119.415219 \n\" clip-path=\"url(#pdb0404b8b9)\" style=\"fill: #a11a5b\"/>\n    <path d=\"M 126.678792 119.415219 \nL 137.260125 119.415219 \nL 137.260125 129.271219 \nL 126.678792 129.271219 \nL 126.678792 119.415219 \n\" clip-path=\"url(#pdb0404b8b9)\" style=\"fill: #691f55\"/>\n    <path d=\"M 137.260125 119.415219 \nL 147.841458 119.415219 \nL 147.841458 129.271219 \nL 137.260125 129.271219 \nL 137.260125 119.415219 \n\" clip-path=\"url(#pdb0404b8b9)\" style=\"fill: #e8403e\"/>\n    <path d=\"M 147.841458 119.415219 \nL 158.422792 119.415219 \nL 158.422792 129.271219 \nL 147.841458 129.271219 \nL 147.841458 119.415219 \n\" clip-path=\"url(#pdb0404b8b9)\" style=\"fill: #db2946\"/>\n    <path d=\"M 158.422792 119.415219 \nL 169.004125 119.415219 \nL 169.004125 129.271219 \nL 158.422792 129.271219 \nL 158.422792 119.415219 \n\" clip-path=\"url(#pdb0404b8b9)\" style=\"fill: #faebdd\"/>\n    <path d=\"M 169.004125 119.415219 \nL 179.585458 119.415219 \nL 179.585458 129.271219 \nL 169.004125 129.271219 \nL 169.004125 119.415219 \n\" clip-path=\"url(#pdb0404b8b9)\" style=\"fill: #691f55\"/>\n    <path d=\"M 179.585458 119.415219 \nL 190.166792 119.415219 \nL 190.166792 129.271219 \nL 179.585458 129.271219 \nL 179.585458 119.415219 \n\" clip-path=\"url(#pdb0404b8b9)\" style=\"fill: #591e50\"/>\n    <path d=\"M 190.166792 119.415219 \nL 200.748125 119.415219 \nL 200.748125 129.271219 \nL 190.166792 129.271219 \nL 190.166792 119.415219 \n\" clip-path=\"url(#pdb0404b8b9)\" style=\"fill: #9e1a5b\"/>\n    <path d=\"M 200.748125 119.415219 \nL 211.329458 119.415219 \nL 211.329458 129.271219 \nL 200.748125 129.271219 \nL 200.748125 119.415219 \n\" clip-path=\"url(#pdb0404b8b9)\" style=\"fill: #03051a\"/>\n    <path d=\"M 211.329458 119.415219 \nL 221.910792 119.415219 \nL 221.910792 129.271219 \nL 211.329458 129.271219 \nL 211.329458 119.415219 \n\" clip-path=\"url(#pdb0404b8b9)\" style=\"fill: #501d4c\"/>\n    <path d=\"M 221.910792 119.415219 \nL 232.492125 119.415219 \nL 232.492125 129.271219 \nL 221.910792 129.271219 \nL 221.910792 119.415219 \n\" clip-path=\"url(#pdb0404b8b9)\" style=\"fill: #37193f\"/>\n    <path d=\"M 232.492125 119.415219 \nL 243.073458 119.415219 \nL 243.073458 129.271219 \nL 232.492125 129.271219 \nL 232.492125 119.415219 \n\" clip-path=\"url(#pdb0404b8b9)\" style=\"fill: #8c1d5b\"/>\n    <path d=\"M 243.073458 119.415219 \nL 253.654792 119.415219 \nL 253.654792 129.271219 \nL 243.073458 129.271219 \nL 243.073458 119.415219 \n\" clip-path=\"url(#pdb0404b8b9)\" style=\"fill: #781f59\"/>\n    <path d=\"M 253.654792 119.415219 \nL 264.236125 119.415219 \nL 264.236125 129.271219 \nL 253.654792 129.271219 \nL 253.654792 119.415219 \n\" clip-path=\"url(#pdb0404b8b9)\" style=\"fill: #7d1f5a\"/>\n    <path d=\"M 264.236125 119.415219 \nL 274.817458 119.415219 \nL 274.817458 129.271219 \nL 264.236125 129.271219 \nL 264.236125 119.415219 \n\" clip-path=\"url(#pdb0404b8b9)\" style=\"fill: #1d112c\"/>\n    <path d=\"M 274.817458 119.415219 \nL 285.398792 119.415219 \nL 285.398792 129.271219 \nL 274.817458 129.271219 \nL 274.817458 119.415219 \n\" clip-path=\"url(#pdb0404b8b9)\" style=\"fill: #681f55\"/>\n    <path d=\"M 285.398792 119.415219 \nL 295.980125 119.415219 \nL 295.980125 129.271219 \nL 285.398792 129.271219 \nL 285.398792 119.415219 \n\" clip-path=\"url(#pdb0404b8b9)\" style=\"fill: #7f1e5a\"/>\n    <path d=\"M 295.980125 119.415219 \nL 306.561458 119.415219 \nL 306.561458 129.271219 \nL 295.980125 129.271219 \nL 295.980125 119.415219 \n\" clip-path=\"url(#pdb0404b8b9)\" style=\"fill: #31183b\"/>\n    <path d=\"M 306.561458 119.415219 \nL 317.142792 119.415219 \nL 317.142792 129.271219 \nL 306.561458 129.271219 \nL 306.561458 119.415219 \n\" clip-path=\"url(#pdb0404b8b9)\" style=\"fill: #421b45\"/>\n    <path d=\"M 317.142792 119.415219 \nL 327.724125 119.415219 \nL 327.724125 129.271219 \nL 317.142792 129.271219 \nL 317.142792 119.415219 \n\" clip-path=\"url(#pdb0404b8b9)\" style=\"fill: #631f53\"/>\n    <path d=\"M 42.028125 129.271219 \nL 52.609458 129.271219 \nL 52.609458 139.127219 \nL 42.028125 139.127219 \nL 42.028125 129.271219 \n\" clip-path=\"url(#pdb0404b8b9)\" style=\"fill: #611f53\"/>\n    <path d=\"M 52.609458 129.271219 \nL 63.190792 129.271219 \nL 63.190792 139.127219 \nL 52.609458 139.127219 \nL 52.609458 129.271219 \n\" clip-path=\"url(#pdb0404b8b9)\" style=\"fill: #d92847\"/>\n    <path d=\"M 63.190792 129.271219 \nL 73.772125 129.271219 \nL 73.772125 139.127219 \nL 63.190792 139.127219 \nL 63.190792 129.271219 \n\" clip-path=\"url(#pdb0404b8b9)\" style=\"fill: #ca1a50\"/>\n    <path d=\"M 73.772125 129.271219 \nL 84.353458 129.271219 \nL 84.353458 139.127219 \nL 73.772125 139.127219 \nL 73.772125 129.271219 \n\" clip-path=\"url(#pdb0404b8b9)\" style=\"fill: #c41753\"/>\n    <path d=\"M 84.353458 129.271219 \nL 94.934792 129.271219 \nL 94.934792 139.127219 \nL 84.353458 139.127219 \nL 84.353458 129.271219 \n\" clip-path=\"url(#pdb0404b8b9)\" style=\"fill: #f58f66\"/>\n    <path d=\"M 94.934792 129.271219 \nL 105.516125 129.271219 \nL 105.516125 139.127219 \nL 94.934792 139.127219 \nL 94.934792 129.271219 \n\" clip-path=\"url(#pdb0404b8b9)\" style=\"fill: #f7cdb1\"/>\n    <path d=\"M 105.516125 129.271219 \nL 116.097458 129.271219 \nL 116.097458 139.127219 \nL 105.516125 139.127219 \nL 105.516125 129.271219 \n\" clip-path=\"url(#pdb0404b8b9)\" style=\"fill: #f6bf9d\"/>\n    <path d=\"M 116.097458 129.271219 \nL 126.678792 129.271219 \nL 126.678792 139.127219 \nL 116.097458 139.127219 \nL 116.097458 129.271219 \n\" clip-path=\"url(#pdb0404b8b9)\" style=\"fill: #f6b995\"/>\n    <path d=\"M 126.678792 129.271219 \nL 137.260125 129.271219 \nL 137.260125 139.127219 \nL 126.678792 139.127219 \nL 126.678792 129.271219 \n\" clip-path=\"url(#pdb0404b8b9)\" style=\"fill: #901d5b\"/>\n    <path d=\"M 137.260125 129.271219 \nL 147.841458 129.271219 \nL 147.841458 139.127219 \nL 137.260125 139.127219 \nL 137.260125 129.271219 \n\" clip-path=\"url(#pdb0404b8b9)\" style=\"fill: #e03143\"/>\n    <path d=\"M 147.841458 129.271219 \nL 158.422792 129.271219 \nL 158.422792 139.127219 \nL 147.841458 139.127219 \nL 147.841458 129.271219 \n\" clip-path=\"url(#pdb0404b8b9)\" style=\"fill: #e43841\"/>\n    <path d=\"M 158.422792 129.271219 \nL 169.004125 129.271219 \nL 169.004125 139.127219 \nL 158.422792 139.127219 \nL 158.422792 129.271219 \n\" clip-path=\"url(#pdb0404b8b9)\" style=\"fill: #691f55\"/>\n    <path d=\"M 169.004125 129.271219 \nL 179.585458 129.271219 \nL 179.585458 139.127219 \nL 169.004125 139.127219 \nL 169.004125 129.271219 \n\" clip-path=\"url(#pdb0404b8b9)\" style=\"fill: #faebdd\"/>\n    <path d=\"M 179.585458 129.271219 \nL 190.166792 129.271219 \nL 190.166792 139.127219 \nL 179.585458 139.127219 \nL 179.585458 129.271219 \n\" clip-path=\"url(#pdb0404b8b9)\" style=\"fill: #fae6d6\"/>\n    <path d=\"M 190.166792 129.271219 \nL 200.748125 129.271219 \nL 200.748125 139.127219 \nL 190.166792 139.127219 \nL 190.166792 129.271219 \n\" clip-path=\"url(#pdb0404b8b9)\" style=\"fill: #bf1654\"/>\n    <path d=\"M 200.748125 129.271219 \nL 211.329458 129.271219 \nL 211.329458 139.127219 \nL 200.748125 139.127219 \nL 200.748125 129.271219 \n\" clip-path=\"url(#pdb0404b8b9)\" style=\"fill: #cb1b4f\"/>\n    <path d=\"M 211.329458 129.271219 \nL 221.910792 129.271219 \nL 221.910792 139.127219 \nL 211.329458 139.127219 \nL 211.329458 129.271219 \n\" clip-path=\"url(#pdb0404b8b9)\" style=\"fill: #f4815a\"/>\n    <path d=\"M 221.910792 129.271219 \nL 232.492125 129.271219 \nL 232.492125 139.127219 \nL 221.910792 139.127219 \nL 221.910792 129.271219 \n\" clip-path=\"url(#pdb0404b8b9)\" style=\"fill: #f26f4c\"/>\n    <path d=\"M 232.492125 129.271219 \nL 243.073458 129.271219 \nL 243.073458 139.127219 \nL 232.492125 139.127219 \nL 232.492125 129.271219 \n\" clip-path=\"url(#pdb0404b8b9)\" style=\"fill: #f26d4b\"/>\n    <path d=\"M 243.073458 129.271219 \nL 253.654792 129.271219 \nL 253.654792 139.127219 \nL 243.073458 139.127219 \nL 243.073458 129.271219 \n\" clip-path=\"url(#pdb0404b8b9)\" style=\"fill: #f6b089\"/>\n    <path d=\"M 253.654792 129.271219 \nL 264.236125 129.271219 \nL 264.236125 139.127219 \nL 253.654792 139.127219 \nL 253.654792 129.271219 \n\" clip-path=\"url(#pdb0404b8b9)\" style=\"fill: #ec4c3e\"/>\n    <path d=\"M 264.236125 129.271219 \nL 274.817458 129.271219 \nL 274.817458 139.127219 \nL 264.236125 139.127219 \nL 264.236125 129.271219 \n\" clip-path=\"url(#pdb0404b8b9)\" style=\"fill: #cd1c4e\"/>\n    <path d=\"M 274.817458 129.271219 \nL 285.398792 129.271219 \nL 285.398792 139.127219 \nL 274.817458 139.127219 \nL 274.817458 129.271219 \n\" clip-path=\"url(#pdb0404b8b9)\" style=\"fill: #eb463e\"/>\n    <path d=\"M 285.398792 129.271219 \nL 295.980125 129.271219 \nL 295.980125 139.127219 \nL 285.398792 139.127219 \nL 285.398792 129.271219 \n\" clip-path=\"url(#pdb0404b8b9)\" style=\"fill: #f6c19f\"/>\n    <path d=\"M 295.980125 129.271219 \nL 306.561458 129.271219 \nL 306.561458 139.127219 \nL 295.980125 139.127219 \nL 295.980125 129.271219 \n\" clip-path=\"url(#pdb0404b8b9)\" style=\"fill: #f26948\"/>\n    <path d=\"M 306.561458 129.271219 \nL 317.142792 129.271219 \nL 317.142792 139.127219 \nL 306.561458 139.127219 \nL 306.561458 129.271219 \n\" clip-path=\"url(#pdb0404b8b9)\" style=\"fill: #a6195a\"/>\n    <path d=\"M 317.142792 129.271219 \nL 327.724125 129.271219 \nL 327.724125 139.127219 \nL 317.142792 139.127219 \nL 317.142792 129.271219 \n\" clip-path=\"url(#pdb0404b8b9)\" style=\"fill: #901d5b\"/>\n    <path d=\"M 42.028125 139.127219 \nL 52.609458 139.127219 \nL 52.609458 148.983219 \nL 42.028125 148.983219 \nL 42.028125 139.127219 \n\" clip-path=\"url(#pdb0404b8b9)\" style=\"fill: #5b1e51\"/>\n    <path d=\"M 52.609458 139.127219 \nL 63.190792 139.127219 \nL 63.190792 148.983219 \nL 52.609458 148.983219 \nL 52.609458 139.127219 \n\" clip-path=\"url(#pdb0404b8b9)\" style=\"fill: #d72549\"/>\n    <path d=\"M 63.190792 139.127219 \nL 73.772125 139.127219 \nL 73.772125 148.983219 \nL 63.190792 148.983219 \nL 63.190792 139.127219 \n\" clip-path=\"url(#pdb0404b8b9)\" style=\"fill: #c71951\"/>\n    <path d=\"M 73.772125 139.127219 \nL 84.353458 139.127219 \nL 84.353458 148.983219 \nL 73.772125 148.983219 \nL 73.772125 139.127219 \n\" clip-path=\"url(#pdb0404b8b9)\" style=\"fill: #c41753\"/>\n    <path d=\"M 84.353458 139.127219 \nL 94.934792 139.127219 \nL 94.934792 148.983219 \nL 84.353458 148.983219 \nL 84.353458 139.127219 \n\" clip-path=\"url(#pdb0404b8b9)\" style=\"fill: #f58d64\"/>\n    <path d=\"M 94.934792 139.127219 \nL 105.516125 139.127219 \nL 105.516125 148.983219 \nL 94.934792 148.983219 \nL 94.934792 139.127219 \n\" clip-path=\"url(#pdb0404b8b9)\" style=\"fill: #f7c9aa\"/>\n    <path d=\"M 105.516125 139.127219 \nL 116.097458 139.127219 \nL 116.097458 148.983219 \nL 105.516125 148.983219 \nL 105.516125 139.127219 \n\" clip-path=\"url(#pdb0404b8b9)\" style=\"fill: #f6c19f\"/>\n    <path d=\"M 116.097458 139.127219 \nL 126.678792 139.127219 \nL 126.678792 148.983219 \nL 116.097458 148.983219 \nL 116.097458 139.127219 \n\" clip-path=\"url(#pdb0404b8b9)\" style=\"fill: #f6b691\"/>\n    <path d=\"M 126.678792 139.127219 \nL 137.260125 139.127219 \nL 137.260125 148.983219 \nL 126.678792 148.983219 \nL 126.678792 139.127219 \n\" clip-path=\"url(#pdb0404b8b9)\" style=\"fill: #9f1a5b\"/>\n    <path d=\"M 137.260125 139.127219 \nL 147.841458 139.127219 \nL 147.841458 148.983219 \nL 137.260125 148.983219 \nL 137.260125 139.127219 \n\" clip-path=\"url(#pdb0404b8b9)\" style=\"fill: #d11f4c\"/>\n    <path d=\"M 147.841458 139.127219 \nL 158.422792 139.127219 \nL 158.422792 148.983219 \nL 147.841458 148.983219 \nL 147.841458 139.127219 \n\" clip-path=\"url(#pdb0404b8b9)\" style=\"fill: #d62449\"/>\n    <path d=\"M 158.422792 139.127219 \nL 169.004125 139.127219 \nL 169.004125 148.983219 \nL 158.422792 148.983219 \nL 158.422792 139.127219 \n\" clip-path=\"url(#pdb0404b8b9)\" style=\"fill: #591e50\"/>\n    <path d=\"M 169.004125 139.127219 \nL 179.585458 139.127219 \nL 179.585458 148.983219 \nL 169.004125 148.983219 \nL 169.004125 139.127219 \n\" clip-path=\"url(#pdb0404b8b9)\" style=\"fill: #fae6d6\"/>\n    <path d=\"M 179.585458 139.127219 \nL 190.166792 139.127219 \nL 190.166792 148.983219 \nL 179.585458 148.983219 \nL 179.585458 139.127219 \n\" clip-path=\"url(#pdb0404b8b9)\" style=\"fill: #faebdd\"/>\n    <path d=\"M 190.166792 139.127219 \nL 200.748125 139.127219 \nL 200.748125 148.983219 \nL 190.166792 148.983219 \nL 190.166792 139.127219 \n\" clip-path=\"url(#pdb0404b8b9)\" style=\"fill: #ab185a\"/>\n    <path d=\"M 200.748125 139.127219 \nL 211.329458 139.127219 \nL 211.329458 148.983219 \nL 200.748125 148.983219 \nL 200.748125 139.127219 \n\" clip-path=\"url(#pdb0404b8b9)\" style=\"fill: #df2f44\"/>\n    <path d=\"M 211.329458 139.127219 \nL 221.910792 139.127219 \nL 221.910792 148.983219 \nL 211.329458 148.983219 \nL 211.329458 139.127219 \n\" clip-path=\"url(#pdb0404b8b9)\" style=\"fill: #f58f66\"/>\n    <path d=\"M 221.910792 139.127219 \nL 232.492125 139.127219 \nL 232.492125 148.983219 \nL 221.910792 148.983219 \nL 221.910792 139.127219 \n\" clip-path=\"url(#pdb0404b8b9)\" style=\"fill: #f4835b\"/>\n    <path d=\"M 232.492125 139.127219 \nL 243.073458 139.127219 \nL 243.073458 148.983219 \nL 232.492125 148.983219 \nL 232.492125 139.127219 \n\" clip-path=\"url(#pdb0404b8b9)\" style=\"fill: #f26948\"/>\n    <path d=\"M 243.073458 139.127219 \nL 253.654792 139.127219 \nL 253.654792 148.983219 \nL 243.073458 148.983219 \nL 243.073458 139.127219 \n\" clip-path=\"url(#pdb0404b8b9)\" style=\"fill: #f6b18b\"/>\n    <path d=\"M 253.654792 139.127219 \nL 264.236125 139.127219 \nL 264.236125 148.983219 \nL 253.654792 148.983219 \nL 253.654792 139.127219 \n\" clip-path=\"url(#pdb0404b8b9)\" style=\"fill: #ed503e\"/>\n    <path d=\"M 264.236125 139.127219 \nL 274.817458 139.127219 \nL 274.817458 148.983219 \nL 264.236125 148.983219 \nL 264.236125 139.127219 \n\" clip-path=\"url(#pdb0404b8b9)\" style=\"fill: #d92847\"/>\n    <path d=\"M 274.817458 139.127219 \nL 285.398792 139.127219 \nL 285.398792 148.983219 \nL 274.817458 148.983219 \nL 274.817458 139.127219 \n\" clip-path=\"url(#pdb0404b8b9)\" style=\"fill: #ef5640\"/>\n    <path d=\"M 285.398792 139.127219 \nL 295.980125 139.127219 \nL 295.980125 148.983219 \nL 285.398792 148.983219 \nL 285.398792 139.127219 \n\" clip-path=\"url(#pdb0404b8b9)\" style=\"fill: #f7c4a4\"/>\n    <path d=\"M 295.980125 139.127219 \nL 306.561458 139.127219 \nL 306.561458 148.983219 \nL 295.980125 148.983219 \nL 295.980125 139.127219 \n\" clip-path=\"url(#pdb0404b8b9)\" style=\"fill: #f47d57\"/>\n    <path d=\"M 306.561458 139.127219 \nL 317.142792 139.127219 \nL 317.142792 148.983219 \nL 306.561458 148.983219 \nL 306.561458 139.127219 \n\" clip-path=\"url(#pdb0404b8b9)\" style=\"fill: #b21758\"/>\n    <path d=\"M 317.142792 139.127219 \nL 327.724125 139.127219 \nL 327.724125 148.983219 \nL 317.142792 148.983219 \nL 317.142792 139.127219 \n\" clip-path=\"url(#pdb0404b8b9)\" style=\"fill: #901d5b\"/>\n    <path d=\"M 42.028125 148.983219 \nL 52.609458 148.983219 \nL 52.609458 158.839219 \nL 42.028125 158.839219 \nL 42.028125 148.983219 \n\" clip-path=\"url(#pdb0404b8b9)\" style=\"fill: #811e5a\"/>\n    <path d=\"M 52.609458 148.983219 \nL 63.190792 148.983219 \nL 63.190792 158.839219 \nL 52.609458 158.839219 \nL 52.609458 148.983219 \n\" clip-path=\"url(#pdb0404b8b9)\" style=\"fill: #e13342\"/>\n    <path d=\"M 63.190792 148.983219 \nL 73.772125 148.983219 \nL 73.772125 158.839219 \nL 63.190792 158.839219 \nL 63.190792 148.983219 \n\" clip-path=\"url(#pdb0404b8b9)\" style=\"fill: #cd1c4e\"/>\n    <path d=\"M 73.772125 148.983219 \nL 84.353458 148.983219 \nL 84.353458 158.839219 \nL 73.772125 158.839219 \nL 73.772125 148.983219 \n\" clip-path=\"url(#pdb0404b8b9)\" style=\"fill: #d2204c\"/>\n    <path d=\"M 84.353458 148.983219 \nL 94.934792 148.983219 \nL 94.934792 158.839219 \nL 84.353458 158.839219 \nL 84.353458 148.983219 \n\" clip-path=\"url(#pdb0404b8b9)\" style=\"fill: #db2946\"/>\n    <path d=\"M 94.934792 148.983219 \nL 105.516125 148.983219 \nL 105.516125 158.839219 \nL 94.934792 158.839219 \nL 94.934792 148.983219 \n\" clip-path=\"url(#pdb0404b8b9)\" style=\"fill: #c81951\"/>\n    <path d=\"M 105.516125 148.983219 \nL 116.097458 148.983219 \nL 116.097458 158.839219 \nL 105.516125 158.839219 \nL 105.516125 148.983219 \n\" clip-path=\"url(#pdb0404b8b9)\" style=\"fill: #bf1654\"/>\n    <path d=\"M 116.097458 148.983219 \nL 126.678792 148.983219 \nL 126.678792 158.839219 \nL 116.097458 158.839219 \nL 116.097458 148.983219 \n\" clip-path=\"url(#pdb0404b8b9)\" style=\"fill: #c81951\"/>\n    <path d=\"M 126.678792 148.983219 \nL 137.260125 148.983219 \nL 137.260125 158.839219 \nL 126.678792 158.839219 \nL 126.678792 148.983219 \n\" clip-path=\"url(#pdb0404b8b9)\" style=\"fill: #841e5a\"/>\n    <path d=\"M 137.260125 148.983219 \nL 147.841458 148.983219 \nL 147.841458 158.839219 \nL 137.260125 158.839219 \nL 137.260125 148.983219 \n\" clip-path=\"url(#pdb0404b8b9)\" style=\"fill: #c51852\"/>\n    <path d=\"M 147.841458 148.983219 \nL 158.422792 148.983219 \nL 158.422792 158.839219 \nL 147.841458 158.839219 \nL 147.841458 148.983219 \n\" clip-path=\"url(#pdb0404b8b9)\" style=\"fill: #c71951\"/>\n    <path d=\"M 158.422792 148.983219 \nL 169.004125 148.983219 \nL 169.004125 158.839219 \nL 158.422792 158.839219 \nL 158.422792 148.983219 \n\" clip-path=\"url(#pdb0404b8b9)\" style=\"fill: #9e1a5b\"/>\n    <path d=\"M 169.004125 148.983219 \nL 179.585458 148.983219 \nL 179.585458 158.839219 \nL 169.004125 158.839219 \nL 169.004125 148.983219 \n\" clip-path=\"url(#pdb0404b8b9)\" style=\"fill: #bf1654\"/>\n    <path d=\"M 179.585458 148.983219 \nL 190.166792 148.983219 \nL 190.166792 158.839219 \nL 179.585458 158.839219 \nL 179.585458 148.983219 \n\" clip-path=\"url(#pdb0404b8b9)\" style=\"fill: #ab185a\"/>\n    <path d=\"M 190.166792 148.983219 \nL 200.748125 148.983219 \nL 200.748125 158.839219 \nL 190.166792 158.839219 \nL 190.166792 148.983219 \n\" clip-path=\"url(#pdb0404b8b9)\" style=\"fill: #faebdd\"/>\n    <path d=\"M 200.748125 148.983219 \nL 211.329458 148.983219 \nL 211.329458 158.839219 \nL 200.748125 158.839219 \nL 200.748125 148.983219 \n\" clip-path=\"url(#pdb0404b8b9)\" style=\"fill: #581e4f\"/>\n    <path d=\"M 211.329458 148.983219 \nL 221.910792 148.983219 \nL 221.910792 158.839219 \nL 211.329458 158.839219 \nL 211.329458 148.983219 \n\" clip-path=\"url(#pdb0404b8b9)\" style=\"fill: #9e1a5b\"/>\n    <path d=\"M 221.910792 148.983219 \nL 232.492125 148.983219 \nL 232.492125 158.839219 \nL 221.910792 158.839219 \nL 221.910792 148.983219 \n\" clip-path=\"url(#pdb0404b8b9)\" style=\"fill: #8c1d5b\"/>\n    <path d=\"M 232.492125 148.983219 \nL 243.073458 148.983219 \nL 243.073458 158.839219 \nL 232.492125 158.839219 \nL 232.492125 148.983219 \n\" clip-path=\"url(#pdb0404b8b9)\" style=\"fill: #a8185a\"/>\n    <path d=\"M 243.073458 148.983219 \nL 253.654792 148.983219 \nL 253.654792 158.839219 \nL 243.073458 158.839219 \nL 243.073458 148.983219 \n\" clip-path=\"url(#pdb0404b8b9)\" style=\"fill: #ab185a\"/>\n    <path d=\"M 253.654792 148.983219 \nL 264.236125 148.983219 \nL 264.236125 158.839219 \nL 253.654792 158.839219 \nL 253.654792 148.983219 \n\" clip-path=\"url(#pdb0404b8b9)\" style=\"fill: #9f1a5b\"/>\n    <path d=\"M 264.236125 148.983219 \nL 274.817458 148.983219 \nL 274.817458 158.839219 \nL 264.236125 158.839219 \nL 264.236125 148.983219 \n\" clip-path=\"url(#pdb0404b8b9)\" style=\"fill: #701f57\"/>\n    <path d=\"M 274.817458 148.983219 \nL 285.398792 148.983219 \nL 285.398792 158.839219 \nL 274.817458 158.839219 \nL 274.817458 148.983219 \n\" clip-path=\"url(#pdb0404b8b9)\" style=\"fill: #bf1654\"/>\n    <path d=\"M 285.398792 148.983219 \nL 295.980125 148.983219 \nL 295.980125 158.839219 \nL 285.398792 158.839219 \nL 285.398792 148.983219 \n\" clip-path=\"url(#pdb0404b8b9)\" style=\"fill: #c11754\"/>\n    <path d=\"M 295.980125 148.983219 \nL 306.561458 148.983219 \nL 306.561458 158.839219 \nL 295.980125 158.839219 \nL 295.980125 148.983219 \n\" clip-path=\"url(#pdb0404b8b9)\" style=\"fill: #601f52\"/>\n    <path d=\"M 306.561458 148.983219 \nL 317.142792 148.983219 \nL 317.142792 158.839219 \nL 306.561458 158.839219 \nL 306.561458 148.983219 \n\" clip-path=\"url(#pdb0404b8b9)\" style=\"fill: #481c48\"/>\n    <path d=\"M 317.142792 148.983219 \nL 327.724125 148.983219 \nL 327.724125 158.839219 \nL 317.142792 158.839219 \nL 317.142792 148.983219 \n\" clip-path=\"url(#pdb0404b8b9)\" style=\"fill: #531e4d\"/>\n    <path d=\"M 42.028125 158.839219 \nL 52.609458 158.839219 \nL 52.609458 168.695219 \nL 42.028125 168.695219 \nL 42.028125 158.839219 \n\" clip-path=\"url(#pdb0404b8b9)\" style=\"fill: #3c1a42\"/>\n    <path d=\"M 52.609458 158.839219 \nL 63.190792 158.839219 \nL 63.190792 168.695219 \nL 52.609458 168.695219 \nL 52.609458 158.839219 \n\" clip-path=\"url(#pdb0404b8b9)\" style=\"fill: #b51657\"/>\n    <path d=\"M 63.190792 158.839219 \nL 73.772125 158.839219 \nL 73.772125 168.695219 \nL 63.190792 168.695219 \nL 63.190792 158.839219 \n\" clip-path=\"url(#pdb0404b8b9)\" style=\"fill: #a3195b\"/>\n    <path d=\"M 73.772125 158.839219 \nL 84.353458 158.839219 \nL 84.353458 168.695219 \nL 73.772125 168.695219 \nL 73.772125 158.839219 \n\" clip-path=\"url(#pdb0404b8b9)\" style=\"fill: #a4195b\"/>\n    <path d=\"M 84.353458 158.839219 \nL 94.934792 158.839219 \nL 94.934792 168.695219 \nL 84.353458 168.695219 \nL 84.353458 158.839219 \n\" clip-path=\"url(#pdb0404b8b9)\" style=\"fill: #cf1e4d\"/>\n    <path d=\"M 94.934792 158.839219 \nL 105.516125 158.839219 \nL 105.516125 168.695219 \nL 94.934792 168.695219 \nL 94.934792 158.839219 \n\" clip-path=\"url(#pdb0404b8b9)\" style=\"fill: #cb1b4f\"/>\n    <path d=\"M 105.516125 158.839219 \nL 116.097458 158.839219 \nL 116.097458 168.695219 \nL 105.516125 168.695219 \nL 105.516125 158.839219 \n\" clip-path=\"url(#pdb0404b8b9)\" style=\"fill: #db2946\"/>\n    <path d=\"M 116.097458 158.839219 \nL 126.678792 158.839219 \nL 126.678792 168.695219 \nL 116.097458 168.695219 \nL 116.097458 158.839219 \n\" clip-path=\"url(#pdb0404b8b9)\" style=\"fill: #b41658\"/>\n    <path d=\"M 126.678792 158.839219 \nL 137.260125 158.839219 \nL 137.260125 168.695219 \nL 126.678792 168.695219 \nL 126.678792 158.839219 \n\" clip-path=\"url(#pdb0404b8b9)\" style=\"fill: #db2946\"/>\n    <path d=\"M 137.260125 158.839219 \nL 147.841458 158.839219 \nL 147.841458 168.695219 \nL 137.260125 168.695219 \nL 137.260125 158.839219 \n\" clip-path=\"url(#pdb0404b8b9)\" style=\"fill: #1a102a\"/>\n    <path d=\"M 147.841458 158.839219 \nL 158.422792 158.839219 \nL 158.422792 168.695219 \nL 147.841458 168.695219 \nL 147.841458 158.839219 \n\" clip-path=\"url(#pdb0404b8b9)\" style=\"fill: #160e27\"/>\n    <path d=\"M 158.422792 158.839219 \nL 169.004125 158.839219 \nL 169.004125 168.695219 \nL 158.422792 168.695219 \nL 158.422792 158.839219 \n\" clip-path=\"url(#pdb0404b8b9)\" style=\"fill: #03051a\"/>\n    <path d=\"M 169.004125 158.839219 \nL 179.585458 158.839219 \nL 179.585458 168.695219 \nL 169.004125 168.695219 \nL 169.004125 158.839219 \n\" clip-path=\"url(#pdb0404b8b9)\" style=\"fill: #cb1b4f\"/>\n    <path d=\"M 179.585458 158.839219 \nL 190.166792 158.839219 \nL 190.166792 168.695219 \nL 179.585458 168.695219 \nL 179.585458 158.839219 \n\" clip-path=\"url(#pdb0404b8b9)\" style=\"fill: #df2f44\"/>\n    <path d=\"M 190.166792 158.839219 \nL 200.748125 158.839219 \nL 200.748125 168.695219 \nL 190.166792 168.695219 \nL 190.166792 158.839219 \n\" clip-path=\"url(#pdb0404b8b9)\" style=\"fill: #581e4f\"/>\n    <path d=\"M 200.748125 158.839219 \nL 211.329458 158.839219 \nL 211.329458 168.695219 \nL 200.748125 168.695219 \nL 200.748125 158.839219 \n\" clip-path=\"url(#pdb0404b8b9)\" style=\"fill: #faebdd\"/>\n    <path d=\"M 211.329458 158.839219 \nL 221.910792 158.839219 \nL 221.910792 168.695219 \nL 211.329458 168.695219 \nL 211.329458 158.839219 \n\" clip-path=\"url(#pdb0404b8b9)\" style=\"fill: #f5946b\"/>\n    <path d=\"M 221.910792 158.839219 \nL 232.492125 158.839219 \nL 232.492125 168.695219 \nL 221.910792 168.695219 \nL 221.910792 158.839219 \n\" clip-path=\"url(#pdb0404b8b9)\" style=\"fill: #f6bf9d\"/>\n    <path d=\"M 232.492125 158.839219 \nL 243.073458 158.839219 \nL 243.073458 168.695219 \nL 232.492125 168.695219 \nL 232.492125 158.839219 \n\" clip-path=\"url(#pdb0404b8b9)\" style=\"fill: #631f53\"/>\n    <path d=\"M 243.073458 158.839219 \nL 253.654792 158.839219 \nL 253.654792 168.695219 \nL 243.073458 168.695219 \nL 243.073458 158.839219 \n\" clip-path=\"url(#pdb0404b8b9)\" style=\"fill: #b91657\"/>\n    <path d=\"M 253.654792 158.839219 \nL 264.236125 158.839219 \nL 264.236125 168.695219 \nL 253.654792 168.695219 \nL 253.654792 158.839219 \n\" clip-path=\"url(#pdb0404b8b9)\" style=\"fill: #a8185a\"/>\n    <path d=\"M 264.236125 158.839219 \nL 274.817458 158.839219 \nL 274.817458 168.695219 \nL 264.236125 168.695219 \nL 264.236125 158.839219 \n\" clip-path=\"url(#pdb0404b8b9)\" style=\"fill: #f47d57\"/>\n    <path d=\"M 274.817458 158.839219 \nL 285.398792 158.839219 \nL 285.398792 168.695219 \nL 274.817458 168.695219 \nL 274.817458 158.839219 \n\" clip-path=\"url(#pdb0404b8b9)\" style=\"fill: #ef5840\"/>\n    <path d=\"M 285.398792 158.839219 \nL 295.980125 158.839219 \nL 295.980125 168.695219 \nL 285.398792 168.695219 \nL 285.398792 158.839219 \n\" clip-path=\"url(#pdb0404b8b9)\" style=\"fill: #ed503e\"/>\n    <path d=\"M 295.980125 158.839219 \nL 306.561458 158.839219 \nL 306.561458 168.695219 \nL 295.980125 168.695219 \nL 295.980125 158.839219 \n\" clip-path=\"url(#pdb0404b8b9)\" style=\"fill: #f58a61\"/>\n    <path d=\"M 306.561458 158.839219 \nL 317.142792 158.839219 \nL 317.142792 168.695219 \nL 306.561458 168.695219 \nL 306.561458 158.839219 \n\" clip-path=\"url(#pdb0404b8b9)\" style=\"fill: #681f55\"/>\n    <path d=\"M 317.142792 158.839219 \nL 327.724125 158.839219 \nL 327.724125 168.695219 \nL 317.142792 168.695219 \nL 317.142792 158.839219 \n\" clip-path=\"url(#pdb0404b8b9)\" style=\"fill: #6e1f57\"/>\n    <path d=\"M 42.028125 168.695219 \nL 52.609458 168.695219 \nL 52.609458 178.551219 \nL 42.028125 178.551219 \nL 42.028125 168.695219 \n\" clip-path=\"url(#pdb0404b8b9)\" style=\"fill: #661f54\"/>\n    <path d=\"M 52.609458 168.695219 \nL 63.190792 168.695219 \nL 63.190792 178.551219 \nL 52.609458 178.551219 \nL 52.609458 168.695219 \n\" clip-path=\"url(#pdb0404b8b9)\" style=\"fill: #e63b40\"/>\n    <path d=\"M 63.190792 168.695219 \nL 73.772125 168.695219 \nL 73.772125 178.551219 \nL 63.190792 178.551219 \nL 63.190792 168.695219 \n\" clip-path=\"url(#pdb0404b8b9)\" style=\"fill: #d92847\"/>\n    <path d=\"M 73.772125 168.695219 \nL 84.353458 168.695219 \nL 84.353458 178.551219 \nL 73.772125 178.551219 \nL 73.772125 168.695219 \n\" clip-path=\"url(#pdb0404b8b9)\" style=\"fill: #cf1e4d\"/>\n    <path d=\"M 84.353458 168.695219 \nL 94.934792 168.695219 \nL 94.934792 178.551219 \nL 84.353458 178.551219 \nL 84.353458 168.695219 \n\" clip-path=\"url(#pdb0404b8b9)\" style=\"fill: #f59067\"/>\n    <path d=\"M 94.934792 168.695219 \nL 105.516125 168.695219 \nL 105.516125 178.551219 \nL 94.934792 178.551219 \nL 94.934792 168.695219 \n\" clip-path=\"url(#pdb0404b8b9)\" style=\"fill: #f58d64\"/>\n    <path d=\"M 105.516125 168.695219 \nL 116.097458 168.695219 \nL 116.097458 178.551219 \nL 105.516125 178.551219 \nL 105.516125 168.695219 \n\" clip-path=\"url(#pdb0404b8b9)\" style=\"fill: #f5966c\"/>\n    <path d=\"M 116.097458 168.695219 \nL 126.678792 168.695219 \nL 126.678792 178.551219 \nL 116.097458 178.551219 \nL 116.097458 168.695219 \n\" clip-path=\"url(#pdb0404b8b9)\" style=\"fill: #f47c55\"/>\n    <path d=\"M 126.678792 168.695219 \nL 137.260125 168.695219 \nL 137.260125 178.551219 \nL 126.678792 178.551219 \nL 126.678792 168.695219 \n\" clip-path=\"url(#pdb0404b8b9)\" style=\"fill: #c11754\"/>\n    <path d=\"M 137.260125 168.695219 \nL 147.841458 168.695219 \nL 147.841458 178.551219 \nL 137.260125 178.551219 \nL 137.260125 168.695219 \n\" clip-path=\"url(#pdb0404b8b9)\" style=\"fill: #a11a5b\"/>\n    <path d=\"M 147.841458 168.695219 \nL 158.422792 168.695219 \nL 158.422792 178.551219 \nL 147.841458 178.551219 \nL 147.841458 168.695219 \n\" clip-path=\"url(#pdb0404b8b9)\" style=\"fill: #a3195b\"/>\n    <path d=\"M 158.422792 168.695219 \nL 169.004125 168.695219 \nL 169.004125 178.551219 \nL 158.422792 178.551219 \nL 158.422792 168.695219 \n\" clip-path=\"url(#pdb0404b8b9)\" style=\"fill: #501d4c\"/>\n    <path d=\"M 169.004125 168.695219 \nL 179.585458 168.695219 \nL 179.585458 178.551219 \nL 169.004125 178.551219 \nL 169.004125 168.695219 \n\" clip-path=\"url(#pdb0404b8b9)\" style=\"fill: #f4815a\"/>\n    <path d=\"M 179.585458 168.695219 \nL 190.166792 168.695219 \nL 190.166792 178.551219 \nL 179.585458 178.551219 \nL 179.585458 168.695219 \n\" clip-path=\"url(#pdb0404b8b9)\" style=\"fill: #f58f66\"/>\n    <path d=\"M 190.166792 168.695219 \nL 200.748125 168.695219 \nL 200.748125 178.551219 \nL 190.166792 178.551219 \nL 190.166792 168.695219 \n\" clip-path=\"url(#pdb0404b8b9)\" style=\"fill: #9e1a5b\"/>\n    <path d=\"M 200.748125 168.695219 \nL 211.329458 168.695219 \nL 211.329458 178.551219 \nL 200.748125 178.551219 \nL 200.748125 168.695219 \n\" clip-path=\"url(#pdb0404b8b9)\" style=\"fill: #f5946b\"/>\n    <path d=\"M 211.329458 168.695219 \nL 221.910792 168.695219 \nL 221.910792 178.551219 \nL 211.329458 178.551219 \nL 211.329458 168.695219 \n\" clip-path=\"url(#pdb0404b8b9)\" style=\"fill: #faebdd\"/>\n    <path d=\"M 221.910792 168.695219 \nL 232.492125 168.695219 \nL 232.492125 178.551219 \nL 221.910792 178.551219 \nL 221.910792 168.695219 \n\" clip-path=\"url(#pdb0404b8b9)\" style=\"fill: #f9e5d4\"/>\n    <path d=\"M 232.492125 168.695219 \nL 243.073458 168.695219 \nL 243.073458 178.551219 \nL 232.492125 178.551219 \nL 232.492125 168.695219 \n\" clip-path=\"url(#pdb0404b8b9)\" style=\"fill: #d5224a\"/>\n    <path d=\"M 243.073458 168.695219 \nL 253.654792 168.695219 \nL 253.654792 178.551219 \nL 243.073458 178.551219 \nL 243.073458 168.695219 \n\" clip-path=\"url(#pdb0404b8b9)\" style=\"fill: #f47a54\"/>\n    <path d=\"M 253.654792 168.695219 \nL 264.236125 168.695219 \nL 264.236125 178.551219 \nL 253.654792 178.551219 \nL 253.654792 168.695219 \n\" clip-path=\"url(#pdb0404b8b9)\" style=\"fill: #ea443e\"/>\n    <path d=\"M 264.236125 168.695219 \nL 274.817458 168.695219 \nL 274.817458 178.551219 \nL 264.236125 178.551219 \nL 264.236125 168.695219 \n\" clip-path=\"url(#pdb0404b8b9)\" style=\"fill: #f47a54\"/>\n    <path d=\"M 274.817458 168.695219 \nL 285.398792 168.695219 \nL 285.398792 178.551219 \nL 274.817458 178.551219 \nL 274.817458 168.695219 \n\" clip-path=\"url(#pdb0404b8b9)\" style=\"fill: #f4865e\"/>\n    <path d=\"M 285.398792 168.695219 \nL 295.980125 168.695219 \nL 295.980125 178.551219 \nL 285.398792 178.551219 \nL 285.398792 168.695219 \n\" clip-path=\"url(#pdb0404b8b9)\" style=\"fill: #f6b995\"/>\n    <path d=\"M 295.980125 168.695219 \nL 306.561458 168.695219 \nL 306.561458 178.551219 \nL 295.980125 178.551219 \nL 295.980125 168.695219 \n\" clip-path=\"url(#pdb0404b8b9)\" style=\"fill: #f6a880\"/>\n    <path d=\"M 306.561458 168.695219 \nL 317.142792 168.695219 \nL 317.142792 178.551219 \nL 306.561458 178.551219 \nL 306.561458 168.695219 \n\" clip-path=\"url(#pdb0404b8b9)\" style=\"fill: #ab185a\"/>\n    <path d=\"M 317.142792 168.695219 \nL 327.724125 168.695219 \nL 327.724125 178.551219 \nL 317.142792 178.551219 \nL 317.142792 168.695219 \n\" clip-path=\"url(#pdb0404b8b9)\" style=\"fill: #8b1d5b\"/>\n    <path d=\"M 42.028125 178.551219 \nL 52.609458 178.551219 \nL 52.609458 188.407219 \nL 42.028125 188.407219 \nL 42.028125 178.551219 \n\" clip-path=\"url(#pdb0404b8b9)\" style=\"fill: #5b1e51\"/>\n    <path d=\"M 52.609458 178.551219 \nL 63.190792 178.551219 \nL 63.190792 188.407219 \nL 52.609458 188.407219 \nL 52.609458 178.551219 \n\" clip-path=\"url(#pdb0404b8b9)\" style=\"fill: #e13342\"/>\n    <path d=\"M 63.190792 178.551219 \nL 73.772125 178.551219 \nL 73.772125 188.407219 \nL 63.190792 188.407219 \nL 63.190792 178.551219 \n\" clip-path=\"url(#pdb0404b8b9)\" style=\"fill: #d2204c\"/>\n    <path d=\"M 73.772125 178.551219 \nL 84.353458 178.551219 \nL 84.353458 188.407219 \nL 73.772125 188.407219 \nL 73.772125 178.551219 \n\" clip-path=\"url(#pdb0404b8b9)\" style=\"fill: #cb1b4f\"/>\n    <path d=\"M 84.353458 178.551219 \nL 94.934792 178.551219 \nL 94.934792 188.407219 \nL 84.353458 188.407219 \nL 84.353458 178.551219 \n\" clip-path=\"url(#pdb0404b8b9)\" style=\"fill: #f47c55\"/>\n    <path d=\"M 94.934792 178.551219 \nL 105.516125 178.551219 \nL 105.516125 188.407219 \nL 94.934792 188.407219 \nL 94.934792 178.551219 \n\" clip-path=\"url(#pdb0404b8b9)\" style=\"fill: #f37852\"/>\n    <path d=\"M 105.516125 178.551219 \nL 116.097458 178.551219 \nL 116.097458 188.407219 \nL 105.516125 188.407219 \nL 105.516125 178.551219 \n\" clip-path=\"url(#pdb0404b8b9)\" style=\"fill: #f4845d\"/>\n    <path d=\"M 116.097458 178.551219 \nL 126.678792 178.551219 \nL 126.678792 188.407219 \nL 116.097458 188.407219 \nL 116.097458 178.551219 \n\" clip-path=\"url(#pdb0404b8b9)\" style=\"fill: #f16244\"/>\n    <path d=\"M 126.678792 178.551219 \nL 137.260125 178.551219 \nL 137.260125 188.407219 \nL 126.678792 188.407219 \nL 126.678792 178.551219 \n\" clip-path=\"url(#pdb0404b8b9)\" style=\"fill: #d11f4c\"/>\n    <path d=\"M 137.260125 178.551219 \nL 147.841458 178.551219 \nL 147.841458 188.407219 \nL 137.260125 188.407219 \nL 137.260125 178.551219 \n\" clip-path=\"url(#pdb0404b8b9)\" style=\"fill: #781f59\"/>\n    <path d=\"M 147.841458 178.551219 \nL 158.422792 178.551219 \nL 158.422792 188.407219 \nL 147.841458 188.407219 \nL 147.841458 178.551219 \n\" clip-path=\"url(#pdb0404b8b9)\" style=\"fill: #781f59\"/>\n    <path d=\"M 158.422792 178.551219 \nL 169.004125 178.551219 \nL 169.004125 188.407219 \nL 158.422792 188.407219 \nL 158.422792 178.551219 \n\" clip-path=\"url(#pdb0404b8b9)\" style=\"fill: #37193f\"/>\n    <path d=\"M 169.004125 178.551219 \nL 179.585458 178.551219 \nL 179.585458 188.407219 \nL 169.004125 188.407219 \nL 169.004125 178.551219 \n\" clip-path=\"url(#pdb0404b8b9)\" style=\"fill: #f26f4c\"/>\n    <path d=\"M 179.585458 178.551219 \nL 190.166792 178.551219 \nL 190.166792 188.407219 \nL 179.585458 188.407219 \nL 179.585458 178.551219 \n\" clip-path=\"url(#pdb0404b8b9)\" style=\"fill: #f4835b\"/>\n    <path d=\"M 190.166792 178.551219 \nL 200.748125 178.551219 \nL 200.748125 188.407219 \nL 190.166792 188.407219 \nL 190.166792 178.551219 \n\" clip-path=\"url(#pdb0404b8b9)\" style=\"fill: #8c1d5b\"/>\n    <path d=\"M 200.748125 178.551219 \nL 211.329458 178.551219 \nL 211.329458 188.407219 \nL 200.748125 188.407219 \nL 200.748125 178.551219 \n\" clip-path=\"url(#pdb0404b8b9)\" style=\"fill: #f6bf9d\"/>\n    <path d=\"M 211.329458 178.551219 \nL 221.910792 178.551219 \nL 221.910792 188.407219 \nL 211.329458 188.407219 \nL 211.329458 178.551219 \n\" clip-path=\"url(#pdb0404b8b9)\" style=\"fill: #f9e5d4\"/>\n    <path d=\"M 221.910792 178.551219 \nL 232.492125 178.551219 \nL 232.492125 188.407219 \nL 221.910792 188.407219 \nL 221.910792 178.551219 \n\" clip-path=\"url(#pdb0404b8b9)\" style=\"fill: #faebdd\"/>\n    <path d=\"M 232.492125 178.551219 \nL 243.073458 178.551219 \nL 243.073458 188.407219 \nL 232.492125 188.407219 \nL 232.492125 178.551219 \n\" clip-path=\"url(#pdb0404b8b9)\" style=\"fill: #bd1655\"/>\n    <path d=\"M 243.073458 178.551219 \nL 253.654792 178.551219 \nL 253.654792 188.407219 \nL 243.073458 188.407219 \nL 243.073458 178.551219 \n\" clip-path=\"url(#pdb0404b8b9)\" style=\"fill: #f16244\"/>\n    <path d=\"M 253.654792 178.551219 \nL 264.236125 178.551219 \nL 264.236125 188.407219 \nL 253.654792 188.407219 \nL 253.654792 178.551219 \n\" clip-path=\"url(#pdb0404b8b9)\" style=\"fill: #e23442\"/>\n    <path d=\"M 264.236125 178.551219 \nL 274.817458 178.551219 \nL 274.817458 188.407219 \nL 264.236125 188.407219 \nL 264.236125 178.551219 \n\" clip-path=\"url(#pdb0404b8b9)\" style=\"fill: #f58a61\"/>\n    <path d=\"M 274.817458 178.551219 \nL 285.398792 178.551219 \nL 285.398792 188.407219 \nL 274.817458 188.407219 \nL 274.817458 178.551219 \n\" clip-path=\"url(#pdb0404b8b9)\" style=\"fill: #f4865e\"/>\n    <path d=\"M 285.398792 178.551219 \nL 295.980125 178.551219 \nL 295.980125 188.407219 \nL 285.398792 188.407219 \nL 285.398792 178.551219 \n\" clip-path=\"url(#pdb0404b8b9)\" style=\"fill: #f6ad85\"/>\n    <path d=\"M 295.980125 178.551219 \nL 306.561458 178.551219 \nL 306.561458 188.407219 \nL 295.980125 188.407219 \nL 295.980125 178.551219 \n\" clip-path=\"url(#pdb0404b8b9)\" style=\"fill: #f6b089\"/>\n    <path d=\"M 306.561458 178.551219 \nL 317.142792 178.551219 \nL 317.142792 188.407219 \nL 306.561458 188.407219 \nL 306.561458 178.551219 \n\" clip-path=\"url(#pdb0404b8b9)\" style=\"fill: #9e1a5b\"/>\n    <path d=\"M 317.142792 178.551219 \nL 327.724125 178.551219 \nL 327.724125 188.407219 \nL 317.142792 188.407219 \nL 317.142792 178.551219 \n\" clip-path=\"url(#pdb0404b8b9)\" style=\"fill: #871e5b\"/>\n    <path d=\"M 42.028125 188.407219 \nL 52.609458 188.407219 \nL 52.609458 198.263219 \nL 42.028125 198.263219 \nL 42.028125 188.407219 \n\" clip-path=\"url(#pdb0404b8b9)\" style=\"fill: #7a1f59\"/>\n    <path d=\"M 52.609458 188.407219 \nL 63.190792 188.407219 \nL 63.190792 198.263219 \nL 52.609458 198.263219 \nL 52.609458 188.407219 \n\" clip-path=\"url(#pdb0404b8b9)\" style=\"fill: #d3214b\"/>\n    <path d=\"M 63.190792 188.407219 \nL 73.772125 188.407219 \nL 73.772125 198.263219 \nL 63.190792 198.263219 \nL 63.190792 188.407219 \n\" clip-path=\"url(#pdb0404b8b9)\" style=\"fill: #c81951\"/>\n    <path d=\"M 73.772125 188.407219 \nL 84.353458 188.407219 \nL 84.353458 198.263219 \nL 73.772125 198.263219 \nL 73.772125 188.407219 \n\" clip-path=\"url(#pdb0404b8b9)\" style=\"fill: #b71657\"/>\n    <path d=\"M 84.353458 188.407219 \nL 94.934792 188.407219 \nL 94.934792 198.263219 \nL 84.353458 198.263219 \nL 84.353458 188.407219 \n\" clip-path=\"url(#pdb0404b8b9)\" style=\"fill: #f4865e\"/>\n    <path d=\"M 94.934792 188.407219 \nL 105.516125 188.407219 \nL 105.516125 198.263219 \nL 94.934792 198.263219 \nL 94.934792 188.407219 \n\" clip-path=\"url(#pdb0404b8b9)\" style=\"fill: #f4865e\"/>\n    <path d=\"M 105.516125 188.407219 \nL 116.097458 188.407219 \nL 116.097458 198.263219 \nL 105.516125 198.263219 \nL 105.516125 188.407219 \n\" clip-path=\"url(#pdb0404b8b9)\" style=\"fill: #f4835b\"/>\n    <path d=\"M 116.097458 188.407219 \nL 126.678792 188.407219 \nL 126.678792 198.263219 \nL 116.097458 198.263219 \nL 116.097458 188.407219 \n\" clip-path=\"url(#pdb0404b8b9)\" style=\"fill: #f59067\"/>\n    <path d=\"M 126.678792 188.407219 \nL 137.260125 188.407219 \nL 137.260125 198.263219 \nL 126.678792 198.263219 \nL 126.678792 188.407219 \n\" clip-path=\"url(#pdb0404b8b9)\" style=\"fill: #611f53\"/>\n    <path d=\"M 137.260125 188.407219 \nL 147.841458 188.407219 \nL 147.841458 198.263219 \nL 137.260125 198.263219 \nL 137.260125 188.407219 \n\" clip-path=\"url(#pdb0404b8b9)\" style=\"fill: #e13342\"/>\n    <path d=\"M 147.841458 188.407219 \nL 158.422792 188.407219 \nL 158.422792 198.263219 \nL 147.841458 198.263219 \nL 147.841458 188.407219 \n\" clip-path=\"url(#pdb0404b8b9)\" style=\"fill: #e73d3f\"/>\n    <path d=\"M 158.422792 188.407219 \nL 169.004125 188.407219 \nL 169.004125 198.263219 \nL 158.422792 198.263219 \nL 158.422792 188.407219 \n\" clip-path=\"url(#pdb0404b8b9)\" style=\"fill: #8c1d5b\"/>\n    <path d=\"M 169.004125 188.407219 \nL 179.585458 188.407219 \nL 179.585458 198.263219 \nL 169.004125 198.263219 \nL 169.004125 188.407219 \n\" clip-path=\"url(#pdb0404b8b9)\" style=\"fill: #f26d4b\"/>\n    <path d=\"M 179.585458 188.407219 \nL 190.166792 188.407219 \nL 190.166792 198.263219 \nL 179.585458 198.263219 \nL 179.585458 188.407219 \n\" clip-path=\"url(#pdb0404b8b9)\" style=\"fill: #f26948\"/>\n    <path d=\"M 190.166792 188.407219 \nL 200.748125 188.407219 \nL 200.748125 198.263219 \nL 190.166792 198.263219 \nL 190.166792 188.407219 \n\" clip-path=\"url(#pdb0404b8b9)\" style=\"fill: #a8185a\"/>\n    <path d=\"M 200.748125 188.407219 \nL 211.329458 188.407219 \nL 211.329458 198.263219 \nL 200.748125 198.263219 \nL 200.748125 188.407219 \n\" clip-path=\"url(#pdb0404b8b9)\" style=\"fill: #631f53\"/>\n    <path d=\"M 211.329458 188.407219 \nL 221.910792 188.407219 \nL 221.910792 198.263219 \nL 211.329458 198.263219 \nL 211.329458 188.407219 \n\" clip-path=\"url(#pdb0404b8b9)\" style=\"fill: #d5224a\"/>\n    <path d=\"M 221.910792 188.407219 \nL 232.492125 188.407219 \nL 232.492125 198.263219 \nL 221.910792 198.263219 \nL 221.910792 188.407219 \n\" clip-path=\"url(#pdb0404b8b9)\" style=\"fill: #bd1655\"/>\n    <path d=\"M 232.492125 188.407219 \nL 243.073458 188.407219 \nL 243.073458 198.263219 \nL 232.492125 198.263219 \nL 232.492125 188.407219 \n\" clip-path=\"url(#pdb0404b8b9)\" style=\"fill: #faebdd\"/>\n    <path d=\"M 243.073458 188.407219 \nL 253.654792 188.407219 \nL 253.654792 198.263219 \nL 243.073458 198.263219 \nL 243.073458 188.407219 \n\" clip-path=\"url(#pdb0404b8b9)\" style=\"fill: #f6bb97\"/>\n    <path d=\"M 253.654792 188.407219 \nL 264.236125 188.407219 \nL 264.236125 198.263219 \nL 253.654792 198.263219 \nL 253.654792 188.407219 \n\" clip-path=\"url(#pdb0404b8b9)\" style=\"fill: #f47f58\"/>\n    <path d=\"M 264.236125 188.407219 \nL 274.817458 188.407219 \nL 274.817458 198.263219 \nL 264.236125 198.263219 \nL 264.236125 188.407219 \n\" clip-path=\"url(#pdb0404b8b9)\" style=\"fill: #6e1f57\"/>\n    <path d=\"M 274.817458 188.407219 \nL 285.398792 188.407219 \nL 285.398792 198.263219 \nL 274.817458 198.263219 \nL 274.817458 188.407219 \n\" clip-path=\"url(#pdb0404b8b9)\" style=\"fill: #d2204c\"/>\n    <path d=\"M 285.398792 188.407219 \nL 295.980125 188.407219 \nL 295.980125 198.263219 \nL 285.398792 198.263219 \nL 285.398792 188.407219 \n\" clip-path=\"url(#pdb0404b8b9)\" style=\"fill: #f59970\"/>\n    <path d=\"M 295.980125 188.407219 \nL 306.561458 188.407219 \nL 306.561458 198.263219 \nL 295.980125 198.263219 \nL 295.980125 188.407219 \n\" clip-path=\"url(#pdb0404b8b9)\" style=\"fill: #d5224a\"/>\n    <path d=\"M 306.561458 188.407219 \nL 317.142792 188.407219 \nL 317.142792 198.263219 \nL 306.561458 198.263219 \nL 306.561458 188.407219 \n\" clip-path=\"url(#pdb0404b8b9)\" style=\"fill: #d5224a\"/>\n    <path d=\"M 317.142792 188.407219 \nL 327.724125 188.407219 \nL 327.724125 198.263219 \nL 317.142792 198.263219 \nL 317.142792 188.407219 \n\" clip-path=\"url(#pdb0404b8b9)\" style=\"fill: #921c5b\"/>\n    <path d=\"M 42.028125 198.263219 \nL 52.609458 198.263219 \nL 52.609458 208.119219 \nL 42.028125 208.119219 \nL 42.028125 198.263219 \n\" clip-path=\"url(#pdb0404b8b9)\" style=\"fill: #601f52\"/>\n    <path d=\"M 52.609458 198.263219 \nL 63.190792 198.263219 \nL 63.190792 208.119219 \nL 52.609458 208.119219 \nL 52.609458 198.263219 \n\" clip-path=\"url(#pdb0404b8b9)\" style=\"fill: #e63b40\"/>\n    <path d=\"M 63.190792 198.263219 \nL 73.772125 198.263219 \nL 73.772125 208.119219 \nL 63.190792 208.119219 \nL 63.190792 198.263219 \n\" clip-path=\"url(#pdb0404b8b9)\" style=\"fill: #d11f4c\"/>\n    <path d=\"M 73.772125 198.263219 \nL 84.353458 198.263219 \nL 84.353458 208.119219 \nL 73.772125 208.119219 \nL 73.772125 198.263219 \n\" clip-path=\"url(#pdb0404b8b9)\" style=\"fill: #d92847\"/>\n    <path d=\"M 84.353458 198.263219 \nL 94.934792 198.263219 \nL 94.934792 208.119219 \nL 84.353458 208.119219 \nL 84.353458 198.263219 \n\" clip-path=\"url(#pdb0404b8b9)\" style=\"fill: #f6a67e\"/>\n    <path d=\"M 94.934792 198.263219 \nL 105.516125 198.263219 \nL 105.516125 208.119219 \nL 94.934792 208.119219 \nL 94.934792 198.263219 \n\" clip-path=\"url(#pdb0404b8b9)\" style=\"fill: #f6bc99\"/>\n    <path d=\"M 105.516125 198.263219 \nL 116.097458 198.263219 \nL 116.097458 208.119219 \nL 105.516125 208.119219 \nL 105.516125 198.263219 \n\" clip-path=\"url(#pdb0404b8b9)\" style=\"fill: #f6bb97\"/>\n    <path d=\"M 116.097458 198.263219 \nL 126.678792 198.263219 \nL 126.678792 208.119219 \nL 116.097458 208.119219 \nL 116.097458 198.263219 \n\" clip-path=\"url(#pdb0404b8b9)\" style=\"fill: #f6bc99\"/>\n    <path d=\"M 126.678792 198.263219 \nL 137.260125 198.263219 \nL 137.260125 208.119219 \nL 126.678792 208.119219 \nL 126.678792 198.263219 \n\" clip-path=\"url(#pdb0404b8b9)\" style=\"fill: #841e5a\"/>\n    <path d=\"M 137.260125 198.263219 \nL 147.841458 198.263219 \nL 147.841458 208.119219 \nL 137.260125 208.119219 \nL 137.260125 198.263219 \n\" clip-path=\"url(#pdb0404b8b9)\" style=\"fill: #e53940\"/>\n    <path d=\"M 147.841458 198.263219 \nL 158.422792 198.263219 \nL 158.422792 208.119219 \nL 147.841458 208.119219 \nL 147.841458 198.263219 \n\" clip-path=\"url(#pdb0404b8b9)\" style=\"fill: #ea443e\"/>\n    <path d=\"M 158.422792 198.263219 \nL 169.004125 198.263219 \nL 169.004125 208.119219 \nL 158.422792 208.119219 \nL 158.422792 198.263219 \n\" clip-path=\"url(#pdb0404b8b9)\" style=\"fill: #781f59\"/>\n    <path d=\"M 169.004125 198.263219 \nL 179.585458 198.263219 \nL 179.585458 208.119219 \nL 169.004125 208.119219 \nL 169.004125 198.263219 \n\" clip-path=\"url(#pdb0404b8b9)\" style=\"fill: #f6b089\"/>\n    <path d=\"M 179.585458 198.263219 \nL 190.166792 198.263219 \nL 190.166792 208.119219 \nL 179.585458 208.119219 \nL 179.585458 198.263219 \n\" clip-path=\"url(#pdb0404b8b9)\" style=\"fill: #f6b18b\"/>\n    <path d=\"M 190.166792 198.263219 \nL 200.748125 198.263219 \nL 200.748125 208.119219 \nL 190.166792 208.119219 \nL 190.166792 198.263219 \n\" clip-path=\"url(#pdb0404b8b9)\" style=\"fill: #ab185a\"/>\n    <path d=\"M 200.748125 198.263219 \nL 211.329458 198.263219 \nL 211.329458 208.119219 \nL 200.748125 208.119219 \nL 200.748125 198.263219 \n\" clip-path=\"url(#pdb0404b8b9)\" style=\"fill: #b91657\"/>\n    <path d=\"M 211.329458 198.263219 \nL 221.910792 198.263219 \nL 221.910792 208.119219 \nL 211.329458 208.119219 \nL 211.329458 198.263219 \n\" clip-path=\"url(#pdb0404b8b9)\" style=\"fill: #f47a54\"/>\n    <path d=\"M 221.910792 198.263219 \nL 232.492125 198.263219 \nL 232.492125 208.119219 \nL 221.910792 208.119219 \nL 221.910792 198.263219 \n\" clip-path=\"url(#pdb0404b8b9)\" style=\"fill: #f16244\"/>\n    <path d=\"M 232.492125 198.263219 \nL 243.073458 198.263219 \nL 243.073458 208.119219 \nL 232.492125 208.119219 \nL 232.492125 198.263219 \n\" clip-path=\"url(#pdb0404b8b9)\" style=\"fill: #f6bb97\"/>\n    <path d=\"M 243.073458 198.263219 \nL 253.654792 198.263219 \nL 253.654792 208.119219 \nL 243.073458 208.119219 \nL 243.073458 198.263219 \n\" clip-path=\"url(#pdb0404b8b9)\" style=\"fill: #faebdd\"/>\n    <path d=\"M 253.654792 198.263219 \nL 264.236125 198.263219 \nL 264.236125 208.119219 \nL 253.654792 208.119219 \nL 253.654792 198.263219 \n\" clip-path=\"url(#pdb0404b8b9)\" style=\"fill: #f47d57\"/>\n    <path d=\"M 264.236125 198.263219 \nL 274.817458 198.263219 \nL 274.817458 208.119219 \nL 264.236125 208.119219 \nL 264.236125 198.263219 \n\" clip-path=\"url(#pdb0404b8b9)\" style=\"fill: #b71657\"/>\n    <path d=\"M 274.817458 198.263219 \nL 285.398792 198.263219 \nL 285.398792 208.119219 \nL 274.817458 208.119219 \nL 274.817458 198.263219 \n\" clip-path=\"url(#pdb0404b8b9)\" style=\"fill: #f26747\"/>\n    <path d=\"M 285.398792 198.263219 \nL 295.980125 198.263219 \nL 295.980125 208.119219 \nL 285.398792 208.119219 \nL 285.398792 198.263219 \n\" clip-path=\"url(#pdb0404b8b9)\" style=\"fill: #f7c4a4\"/>\n    <path d=\"M 295.980125 198.263219 \nL 306.561458 198.263219 \nL 306.561458 208.119219 \nL 295.980125 208.119219 \nL 295.980125 198.263219 \n\" clip-path=\"url(#pdb0404b8b9)\" style=\"fill: #f16445\"/>\n    <path d=\"M 306.561458 198.263219 \nL 317.142792 198.263219 \nL 317.142792 208.119219 \nL 306.561458 208.119219 \nL 306.561458 198.263219 \n\" clip-path=\"url(#pdb0404b8b9)\" style=\"fill: #ce1d4e\"/>\n    <path d=\"M 317.142792 198.263219 \nL 327.724125 198.263219 \nL 327.724125 208.119219 \nL 317.142792 208.119219 \nL 317.142792 198.263219 \n\" clip-path=\"url(#pdb0404b8b9)\" style=\"fill: #701f57\"/>\n    <path d=\"M 42.028125 208.119219 \nL 52.609458 208.119219 \nL 52.609458 217.975219 \nL 42.028125 217.975219 \nL 42.028125 208.119219 \n\" clip-path=\"url(#pdb0404b8b9)\" style=\"fill: #601f52\"/>\n    <path d=\"M 52.609458 208.119219 \nL 63.190792 208.119219 \nL 63.190792 217.975219 \nL 52.609458 217.975219 \nL 52.609458 208.119219 \n\" clip-path=\"url(#pdb0404b8b9)\" style=\"fill: #df2f44\"/>\n    <path d=\"M 63.190792 208.119219 \nL 73.772125 208.119219 \nL 73.772125 217.975219 \nL 63.190792 217.975219 \nL 63.190792 208.119219 \n\" clip-path=\"url(#pdb0404b8b9)\" style=\"fill: #ce1d4e\"/>\n    <path d=\"M 73.772125 208.119219 \nL 84.353458 208.119219 \nL 84.353458 217.975219 \nL 73.772125 217.975219 \nL 73.772125 208.119219 \n\" clip-path=\"url(#pdb0404b8b9)\" style=\"fill: #ce1d4e\"/>\n    <path d=\"M 84.353458 208.119219 \nL 94.934792 208.119219 \nL 94.934792 217.975219 \nL 84.353458 217.975219 \nL 84.353458 208.119219 \n\" clip-path=\"url(#pdb0404b8b9)\" style=\"fill: #f69b71\"/>\n    <path d=\"M 94.934792 208.119219 \nL 105.516125 208.119219 \nL 105.516125 217.975219 \nL 94.934792 217.975219 \nL 94.934792 208.119219 \n\" clip-path=\"url(#pdb0404b8b9)\" style=\"fill: #f47a54\"/>\n    <path d=\"M 105.516125 208.119219 \nL 116.097458 208.119219 \nL 116.097458 217.975219 \nL 105.516125 217.975219 \nL 105.516125 208.119219 \n\" clip-path=\"url(#pdb0404b8b9)\" style=\"fill: #f47a54\"/>\n    <path d=\"M 116.097458 208.119219 \nL 126.678792 208.119219 \nL 126.678792 217.975219 \nL 116.097458 217.975219 \nL 116.097458 208.119219 \n\" clip-path=\"url(#pdb0404b8b9)\" style=\"fill: #f4835b\"/>\n    <path d=\"M 126.678792 208.119219 \nL 137.260125 208.119219 \nL 137.260125 217.975219 \nL 126.678792 217.975219 \nL 126.678792 208.119219 \n\" clip-path=\"url(#pdb0404b8b9)\" style=\"fill: #731f58\"/>\n    <path d=\"M 137.260125 208.119219 \nL 147.841458 208.119219 \nL 147.841458 217.975219 \nL 137.260125 217.975219 \nL 137.260125 208.119219 \n\" clip-path=\"url(#pdb0404b8b9)\" style=\"fill: #e03143\"/>\n    <path d=\"M 147.841458 208.119219 \nL 158.422792 208.119219 \nL 158.422792 217.975219 \nL 147.841458 217.975219 \nL 147.841458 208.119219 \n\" clip-path=\"url(#pdb0404b8b9)\" style=\"fill: #e43841\"/>\n    <path d=\"M 158.422792 208.119219 \nL 169.004125 208.119219 \nL 169.004125 217.975219 \nL 158.422792 217.975219 \nL 158.422792 208.119219 \n\" clip-path=\"url(#pdb0404b8b9)\" style=\"fill: #7d1f5a\"/>\n    <path d=\"M 169.004125 208.119219 \nL 179.585458 208.119219 \nL 179.585458 217.975219 \nL 169.004125 217.975219 \nL 169.004125 208.119219 \n\" clip-path=\"url(#pdb0404b8b9)\" style=\"fill: #ec4c3e\"/>\n    <path d=\"M 179.585458 208.119219 \nL 190.166792 208.119219 \nL 190.166792 217.975219 \nL 179.585458 217.975219 \nL 179.585458 208.119219 \n\" clip-path=\"url(#pdb0404b8b9)\" style=\"fill: #ed503e\"/>\n    <path d=\"M 190.166792 208.119219 \nL 200.748125 208.119219 \nL 200.748125 217.975219 \nL 190.166792 217.975219 \nL 190.166792 208.119219 \n\" clip-path=\"url(#pdb0404b8b9)\" style=\"fill: #9f1a5b\"/>\n    <path d=\"M 200.748125 208.119219 \nL 211.329458 208.119219 \nL 211.329458 217.975219 \nL 200.748125 217.975219 \nL 200.748125 208.119219 \n\" clip-path=\"url(#pdb0404b8b9)\" style=\"fill: #a8185a\"/>\n    <path d=\"M 211.329458 208.119219 \nL 221.910792 208.119219 \nL 221.910792 217.975219 \nL 211.329458 217.975219 \nL 211.329458 208.119219 \n\" clip-path=\"url(#pdb0404b8b9)\" style=\"fill: #ea443e\"/>\n    <path d=\"M 221.910792 208.119219 \nL 232.492125 208.119219 \nL 232.492125 217.975219 \nL 221.910792 217.975219 \nL 221.910792 208.119219 \n\" clip-path=\"url(#pdb0404b8b9)\" style=\"fill: #e23442\"/>\n    <path d=\"M 232.492125 208.119219 \nL 243.073458 208.119219 \nL 243.073458 217.975219 \nL 232.492125 217.975219 \nL 232.492125 208.119219 \n\" clip-path=\"url(#pdb0404b8b9)\" style=\"fill: #f47f58\"/>\n    <path d=\"M 243.073458 208.119219 \nL 253.654792 208.119219 \nL 253.654792 217.975219 \nL 243.073458 217.975219 \nL 243.073458 208.119219 \n\" clip-path=\"url(#pdb0404b8b9)\" style=\"fill: #f47d57\"/>\n    <path d=\"M 253.654792 208.119219 \nL 264.236125 208.119219 \nL 264.236125 217.975219 \nL 253.654792 217.975219 \nL 253.654792 208.119219 \n\" clip-path=\"url(#pdb0404b8b9)\" style=\"fill: #faebdd\"/>\n    <path d=\"M 264.236125 208.119219 \nL 274.817458 208.119219 \nL 274.817458 217.975219 \nL 264.236125 217.975219 \nL 264.236125 208.119219 \n\" clip-path=\"url(#pdb0404b8b9)\" style=\"fill: #b41658\"/>\n    <path d=\"M 274.817458 208.119219 \nL 285.398792 208.119219 \nL 285.398792 217.975219 \nL 274.817458 217.975219 \nL 274.817458 208.119219 \n\" clip-path=\"url(#pdb0404b8b9)\" style=\"fill: #ee543f\"/>\n    <path d=\"M 285.398792 208.119219 \nL 295.980125 208.119219 \nL 295.980125 217.975219 \nL 285.398792 217.975219 \nL 285.398792 208.119219 \n\" clip-path=\"url(#pdb0404b8b9)\" style=\"fill: #f69b71\"/>\n    <path d=\"M 295.980125 208.119219 \nL 306.561458 208.119219 \nL 306.561458 217.975219 \nL 295.980125 217.975219 \nL 295.980125 208.119219 \n\" clip-path=\"url(#pdb0404b8b9)\" style=\"fill: #cb1b4f\"/>\n    <path d=\"M 306.561458 208.119219 \nL 317.142792 208.119219 \nL 317.142792 217.975219 \nL 306.561458 217.975219 \nL 306.561458 208.119219 \n\" clip-path=\"url(#pdb0404b8b9)\" style=\"fill: #9f1a5b\"/>\n    <path d=\"M 317.142792 208.119219 \nL 327.724125 208.119219 \nL 327.724125 217.975219 \nL 317.142792 217.975219 \nL 317.142792 208.119219 \n\" clip-path=\"url(#pdb0404b8b9)\" style=\"fill: #931c5b\"/>\n    <path d=\"M 42.028125 217.975219 \nL 52.609458 217.975219 \nL 52.609458 227.831219 \nL 42.028125 227.831219 \nL 42.028125 217.975219 \n\" clip-path=\"url(#pdb0404b8b9)\" style=\"fill: #461c48\"/>\n    <path d=\"M 52.609458 217.975219 \nL 63.190792 217.975219 \nL 63.190792 227.831219 \nL 52.609458 227.831219 \nL 52.609458 217.975219 \n\" clip-path=\"url(#pdb0404b8b9)\" style=\"fill: #bd1655\"/>\n    <path d=\"M 63.190792 217.975219 \nL 73.772125 217.975219 \nL 73.772125 227.831219 \nL 63.190792 227.831219 \nL 63.190792 217.975219 \n\" clip-path=\"url(#pdb0404b8b9)\" style=\"fill: #b71657\"/>\n    <path d=\"M 73.772125 217.975219 \nL 84.353458 217.975219 \nL 84.353458 227.831219 \nL 73.772125 227.831219 \nL 73.772125 217.975219 \n\" clip-path=\"url(#pdb0404b8b9)\" style=\"fill: #9f1a5b\"/>\n    <path d=\"M 84.353458 217.975219 \nL 94.934792 217.975219 \nL 94.934792 227.831219 \nL 84.353458 227.831219 \nL 84.353458 217.975219 \n\" clip-path=\"url(#pdb0404b8b9)\" style=\"fill: #d5224a\"/>\n    <path d=\"M 94.934792 217.975219 \nL 105.516125 217.975219 \nL 105.516125 227.831219 \nL 94.934792 227.831219 \nL 94.934792 217.975219 \n\" clip-path=\"url(#pdb0404b8b9)\" style=\"fill: #ce1d4e\"/>\n    <path d=\"M 105.516125 217.975219 \nL 116.097458 217.975219 \nL 116.097458 227.831219 \nL 105.516125 227.831219 \nL 105.516125 217.975219 \n\" clip-path=\"url(#pdb0404b8b9)\" style=\"fill: #d82748\"/>\n    <path d=\"M 116.097458 217.975219 \nL 126.678792 217.975219 \nL 126.678792 227.831219 \nL 116.097458 227.831219 \nL 116.097458 217.975219 \n\" clip-path=\"url(#pdb0404b8b9)\" style=\"fill: #b91657\"/>\n    <path d=\"M 126.678792 217.975219 \nL 137.260125 217.975219 \nL 137.260125 227.831219 \nL 126.678792 227.831219 \nL 126.678792 217.975219 \n\" clip-path=\"url(#pdb0404b8b9)\" style=\"fill: #ce1d4e\"/>\n    <path d=\"M 137.260125 217.975219 \nL 147.841458 217.975219 \nL 147.841458 227.831219 \nL 137.260125 227.831219 \nL 137.260125 217.975219 \n\" clip-path=\"url(#pdb0404b8b9)\" style=\"fill: #421b45\"/>\n    <path d=\"M 147.841458 217.975219 \nL 158.422792 217.975219 \nL 158.422792 227.831219 \nL 147.841458 227.831219 \nL 147.841458 217.975219 \n\" clip-path=\"url(#pdb0404b8b9)\" style=\"fill: #401b44\"/>\n    <path d=\"M 158.422792 217.975219 \nL 169.004125 217.975219 \nL 169.004125 227.831219 \nL 158.422792 227.831219 \nL 158.422792 217.975219 \n\" clip-path=\"url(#pdb0404b8b9)\" style=\"fill: #1d112c\"/>\n    <path d=\"M 169.004125 217.975219 \nL 179.585458 217.975219 \nL 179.585458 227.831219 \nL 169.004125 227.831219 \nL 169.004125 217.975219 \n\" clip-path=\"url(#pdb0404b8b9)\" style=\"fill: #cd1c4e\"/>\n    <path d=\"M 179.585458 217.975219 \nL 190.166792 217.975219 \nL 190.166792 227.831219 \nL 179.585458 227.831219 \nL 179.585458 217.975219 \n\" clip-path=\"url(#pdb0404b8b9)\" style=\"fill: #d92847\"/>\n    <path d=\"M 190.166792 217.975219 \nL 200.748125 217.975219 \nL 200.748125 227.831219 \nL 190.166792 227.831219 \nL 190.166792 217.975219 \n\" clip-path=\"url(#pdb0404b8b9)\" style=\"fill: #701f57\"/>\n    <path d=\"M 200.748125 217.975219 \nL 211.329458 217.975219 \nL 211.329458 227.831219 \nL 200.748125 227.831219 \nL 200.748125 217.975219 \n\" clip-path=\"url(#pdb0404b8b9)\" style=\"fill: #f47d57\"/>\n    <path d=\"M 211.329458 217.975219 \nL 221.910792 217.975219 \nL 221.910792 227.831219 \nL 211.329458 227.831219 \nL 211.329458 217.975219 \n\" clip-path=\"url(#pdb0404b8b9)\" style=\"fill: #f47a54\"/>\n    <path d=\"M 221.910792 217.975219 \nL 232.492125 217.975219 \nL 232.492125 227.831219 \nL 221.910792 227.831219 \nL 221.910792 217.975219 \n\" clip-path=\"url(#pdb0404b8b9)\" style=\"fill: #f58a61\"/>\n    <path d=\"M 232.492125 217.975219 \nL 243.073458 217.975219 \nL 243.073458 227.831219 \nL 232.492125 227.831219 \nL 232.492125 217.975219 \n\" clip-path=\"url(#pdb0404b8b9)\" style=\"fill: #6e1f57\"/>\n    <path d=\"M 243.073458 217.975219 \nL 253.654792 217.975219 \nL 253.654792 227.831219 \nL 243.073458 227.831219 \nL 243.073458 217.975219 \n\" clip-path=\"url(#pdb0404b8b9)\" style=\"fill: #b71657\"/>\n    <path d=\"M 253.654792 217.975219 \nL 264.236125 217.975219 \nL 264.236125 227.831219 \nL 253.654792 227.831219 \nL 253.654792 217.975219 \n\" clip-path=\"url(#pdb0404b8b9)\" style=\"fill: #b41658\"/>\n    <path d=\"M 264.236125 217.975219 \nL 274.817458 217.975219 \nL 274.817458 227.831219 \nL 264.236125 227.831219 \nL 264.236125 217.975219 \n\" clip-path=\"url(#pdb0404b8b9)\" style=\"fill: #faebdd\"/>\n    <path d=\"M 274.817458 217.975219 \nL 285.398792 217.975219 \nL 285.398792 227.831219 \nL 274.817458 227.831219 \nL 274.817458 217.975219 \n\" clip-path=\"url(#pdb0404b8b9)\" style=\"fill: #ef5840\"/>\n    <path d=\"M 285.398792 217.975219 \nL 295.980125 217.975219 \nL 295.980125 227.831219 \nL 285.398792 227.831219 \nL 285.398792 217.975219 \n\" clip-path=\"url(#pdb0404b8b9)\" style=\"fill: #ee523f\"/>\n    <path d=\"M 295.980125 217.975219 \nL 306.561458 217.975219 \nL 306.561458 227.831219 \nL 295.980125 227.831219 \nL 295.980125 217.975219 \n\" clip-path=\"url(#pdb0404b8b9)\" style=\"fill: #ee523f\"/>\n    <path d=\"M 306.561458 217.975219 \nL 317.142792 217.975219 \nL 317.142792 227.831219 \nL 306.561458 227.831219 \nL 306.561458 217.975219 \n\" clip-path=\"url(#pdb0404b8b9)\" style=\"fill: #5b1e51\"/>\n    <path d=\"M 317.142792 217.975219 \nL 327.724125 217.975219 \nL 327.724125 227.831219 \nL 317.142792 227.831219 \nL 317.142792 217.975219 \n\" clip-path=\"url(#pdb0404b8b9)\" style=\"fill: #7b1f59\"/>\n    <path d=\"M 42.028125 227.831219 \nL 52.609458 227.831219 \nL 52.609458 237.687219 \nL 42.028125 237.687219 \nL 42.028125 227.831219 \n\" clip-path=\"url(#pdb0404b8b9)\" style=\"fill: #641f54\"/>\n    <path d=\"M 52.609458 227.831219 \nL 63.190792 227.831219 \nL 63.190792 237.687219 \nL 52.609458 237.687219 \nL 52.609458 227.831219 \n\" clip-path=\"url(#pdb0404b8b9)\" style=\"fill: #ee543f\"/>\n    <path d=\"M 63.190792 227.831219 \nL 73.772125 227.831219 \nL 73.772125 237.687219 \nL 63.190792 237.687219 \nL 63.190792 227.831219 \n\" clip-path=\"url(#pdb0404b8b9)\" style=\"fill: #db2946\"/>\n    <path d=\"M 73.772125 227.831219 \nL 84.353458 227.831219 \nL 84.353458 237.687219 \nL 73.772125 237.687219 \nL 73.772125 227.831219 \n\" clip-path=\"url(#pdb0404b8b9)\" style=\"fill: #e83f3f\"/>\n    <path d=\"M 84.353458 227.831219 \nL 94.934792 227.831219 \nL 94.934792 237.687219 \nL 84.353458 237.687219 \nL 84.353458 227.831219 \n\" clip-path=\"url(#pdb0404b8b9)\" style=\"fill: #f69b71\"/>\n    <path d=\"M 94.934792 227.831219 \nL 105.516125 227.831219 \nL 105.516125 237.687219 \nL 94.934792 237.687219 \nL 94.934792 227.831219 \n\" clip-path=\"url(#pdb0404b8b9)\" style=\"fill: #f26b49\"/>\n    <path d=\"M 105.516125 227.831219 \nL 116.097458 227.831219 \nL 116.097458 237.687219 \nL 105.516125 237.687219 \nL 105.516125 227.831219 \n\" clip-path=\"url(#pdb0404b8b9)\" style=\"fill: #f3714d\"/>\n    <path d=\"M 116.097458 227.831219 \nL 126.678792 227.831219 \nL 126.678792 237.687219 \nL 116.097458 237.687219 \nL 116.097458 227.831219 \n\" clip-path=\"url(#pdb0404b8b9)\" style=\"fill: #f16244\"/>\n    <path d=\"M 126.678792 227.831219 \nL 137.260125 227.831219 \nL 137.260125 237.687219 \nL 126.678792 237.687219 \nL 126.678792 227.831219 \n\" clip-path=\"url(#pdb0404b8b9)\" style=\"fill: #c51852\"/>\n    <path d=\"M 137.260125 227.831219 \nL 147.841458 227.831219 \nL 147.841458 237.687219 \nL 137.260125 237.687219 \nL 137.260125 227.831219 \n\" clip-path=\"url(#pdb0404b8b9)\" style=\"fill: #ba1656\"/>\n    <path d=\"M 147.841458 227.831219 \nL 158.422792 227.831219 \nL 158.422792 237.687219 \nL 147.841458 237.687219 \nL 147.841458 227.831219 \n\" clip-path=\"url(#pdb0404b8b9)\" style=\"fill: #ba1656\"/>\n    <path d=\"M 158.422792 227.831219 \nL 169.004125 227.831219 \nL 169.004125 237.687219 \nL 158.422792 237.687219 \nL 158.422792 227.831219 \n\" clip-path=\"url(#pdb0404b8b9)\" style=\"fill: #681f55\"/>\n    <path d=\"M 169.004125 227.831219 \nL 179.585458 227.831219 \nL 179.585458 237.687219 \nL 169.004125 237.687219 \nL 169.004125 227.831219 \n\" clip-path=\"url(#pdb0404b8b9)\" style=\"fill: #eb463e\"/>\n    <path d=\"M 179.585458 227.831219 \nL 190.166792 227.831219 \nL 190.166792 237.687219 \nL 179.585458 237.687219 \nL 179.585458 227.831219 \n\" clip-path=\"url(#pdb0404b8b9)\" style=\"fill: #ef5640\"/>\n    <path d=\"M 190.166792 227.831219 \nL 200.748125 227.831219 \nL 200.748125 237.687219 \nL 190.166792 237.687219 \nL 190.166792 227.831219 \n\" clip-path=\"url(#pdb0404b8b9)\" style=\"fill: #bf1654\"/>\n    <path d=\"M 200.748125 227.831219 \nL 211.329458 227.831219 \nL 211.329458 237.687219 \nL 200.748125 237.687219 \nL 200.748125 227.831219 \n\" clip-path=\"url(#pdb0404b8b9)\" style=\"fill: #ef5840\"/>\n    <path d=\"M 211.329458 227.831219 \nL 221.910792 227.831219 \nL 221.910792 237.687219 \nL 211.329458 237.687219 \nL 211.329458 227.831219 \n\" clip-path=\"url(#pdb0404b8b9)\" style=\"fill: #f4865e\"/>\n    <path d=\"M 221.910792 227.831219 \nL 232.492125 227.831219 \nL 232.492125 237.687219 \nL 221.910792 237.687219 \nL 221.910792 227.831219 \n\" clip-path=\"url(#pdb0404b8b9)\" style=\"fill: #f4865e\"/>\n    <path d=\"M 232.492125 227.831219 \nL 243.073458 227.831219 \nL 243.073458 237.687219 \nL 232.492125 237.687219 \nL 232.492125 227.831219 \n\" clip-path=\"url(#pdb0404b8b9)\" style=\"fill: #d2204c\"/>\n    <path d=\"M 243.073458 227.831219 \nL 253.654792 227.831219 \nL 253.654792 237.687219 \nL 243.073458 237.687219 \nL 243.073458 227.831219 \n\" clip-path=\"url(#pdb0404b8b9)\" style=\"fill: #f26747\"/>\n    <path d=\"M 253.654792 227.831219 \nL 264.236125 227.831219 \nL 264.236125 237.687219 \nL 253.654792 237.687219 \nL 253.654792 227.831219 \n\" clip-path=\"url(#pdb0404b8b9)\" style=\"fill: #ee543f\"/>\n    <path d=\"M 264.236125 227.831219 \nL 274.817458 227.831219 \nL 274.817458 237.687219 \nL 264.236125 237.687219 \nL 264.236125 227.831219 \n\" clip-path=\"url(#pdb0404b8b9)\" style=\"fill: #ef5840\"/>\n    <path d=\"M 274.817458 227.831219 \nL 285.398792 227.831219 \nL 285.398792 237.687219 \nL 274.817458 237.687219 \nL 274.817458 227.831219 \n\" clip-path=\"url(#pdb0404b8b9)\" style=\"fill: #faebdd\"/>\n    <path d=\"M 285.398792 227.831219 \nL 295.980125 227.831219 \nL 295.980125 237.687219 \nL 285.398792 237.687219 \nL 285.398792 227.831219 \n\" clip-path=\"url(#pdb0404b8b9)\" style=\"fill: #f58d64\"/>\n    <path d=\"M 295.980125 227.831219 \nL 306.561458 227.831219 \nL 306.561458 237.687219 \nL 295.980125 237.687219 \nL 295.980125 227.831219 \n\" clip-path=\"url(#pdb0404b8b9)\" style=\"fill: #dc2b46\"/>\n    <path d=\"M 306.561458 227.831219 \nL 317.142792 227.831219 \nL 317.142792 237.687219 \nL 306.561458 237.687219 \nL 306.561458 227.831219 \n\" clip-path=\"url(#pdb0404b8b9)\" style=\"fill: #781f59\"/>\n    <path d=\"M 317.142792 227.831219 \nL 327.724125 227.831219 \nL 327.724125 237.687219 \nL 317.142792 237.687219 \nL 317.142792 227.831219 \n\" clip-path=\"url(#pdb0404b8b9)\" style=\"fill: #761f58\"/>\n    <path d=\"M 42.028125 237.687219 \nL 52.609458 237.687219 \nL 52.609458 247.543219 \nL 42.028125 247.543219 \nL 42.028125 237.687219 \n\" clip-path=\"url(#pdb0404b8b9)\" style=\"fill: #6d1f56\"/>\n    <path d=\"M 52.609458 237.687219 \nL 63.190792 237.687219 \nL 63.190792 247.543219 \nL 52.609458 247.543219 \nL 52.609458 237.687219 \n\" clip-path=\"url(#pdb0404b8b9)\" style=\"fill: #f16445\"/>\n    <path d=\"M 63.190792 237.687219 \nL 73.772125 237.687219 \nL 73.772125 247.543219 \nL 63.190792 247.543219 \nL 63.190792 237.687219 \n\" clip-path=\"url(#pdb0404b8b9)\" style=\"fill: #eb483e\"/>\n    <path d=\"M 73.772125 237.687219 \nL 84.353458 237.687219 \nL 84.353458 247.543219 \nL 73.772125 247.543219 \nL 73.772125 237.687219 \n\" clip-path=\"url(#pdb0404b8b9)\" style=\"fill: #e43841\"/>\n    <path d=\"M 84.353458 237.687219 \nL 94.934792 237.687219 \nL 94.934792 247.543219 \nL 84.353458 247.543219 \nL 84.353458 237.687219 \n\" clip-path=\"url(#pdb0404b8b9)\" style=\"fill: #f7cdb1\"/>\n    <path d=\"M 94.934792 237.687219 \nL 105.516125 237.687219 \nL 105.516125 247.543219 \nL 94.934792 247.543219 \nL 94.934792 237.687219 \n\" clip-path=\"url(#pdb0404b8b9)\" style=\"fill: #f8dcc7\"/>\n    <path d=\"M 105.516125 237.687219 \nL 116.097458 237.687219 \nL 116.097458 247.543219 \nL 105.516125 247.543219 \nL 105.516125 237.687219 \n\" clip-path=\"url(#pdb0404b8b9)\" style=\"fill: #f9ddc9\"/>\n    <path d=\"M 116.097458 237.687219 \nL 126.678792 237.687219 \nL 126.678792 247.543219 \nL 116.097458 247.543219 \nL 116.097458 237.687219 \n\" clip-path=\"url(#pdb0404b8b9)\" style=\"fill: #f8d4bc\"/>\n    <path d=\"M 126.678792 237.687219 \nL 137.260125 237.687219 \nL 137.260125 247.543219 \nL 126.678792 247.543219 \nL 126.678792 237.687219 \n\" clip-path=\"url(#pdb0404b8b9)\" style=\"fill: #b71657\"/>\n    <path d=\"M 137.260125 237.687219 \nL 147.841458 237.687219 \nL 147.841458 247.543219 \nL 137.260125 247.543219 \nL 137.260125 237.687219 \n\" clip-path=\"url(#pdb0404b8b9)\" style=\"fill: #ec4c3e\"/>\n    <path d=\"M 147.841458 237.687219 \nL 158.422792 237.687219 \nL 158.422792 247.543219 \nL 147.841458 247.543219 \nL 147.841458 237.687219 \n\" clip-path=\"url(#pdb0404b8b9)\" style=\"fill: #ed503e\"/>\n    <path d=\"M 158.422792 237.687219 \nL 169.004125 237.687219 \nL 169.004125 247.543219 \nL 158.422792 247.543219 \nL 158.422792 237.687219 \n\" clip-path=\"url(#pdb0404b8b9)\" style=\"fill: #7f1e5a\"/>\n    <path d=\"M 169.004125 237.687219 \nL 179.585458 237.687219 \nL 179.585458 247.543219 \nL 169.004125 247.543219 \nL 169.004125 237.687219 \n\" clip-path=\"url(#pdb0404b8b9)\" style=\"fill: #f6c19f\"/>\n    <path d=\"M 179.585458 237.687219 \nL 190.166792 237.687219 \nL 190.166792 247.543219 \nL 179.585458 247.543219 \nL 179.585458 237.687219 \n\" clip-path=\"url(#pdb0404b8b9)\" style=\"fill: #f7c4a4\"/>\n    <path d=\"M 190.166792 237.687219 \nL 200.748125 237.687219 \nL 200.748125 247.543219 \nL 190.166792 247.543219 \nL 190.166792 237.687219 \n\" clip-path=\"url(#pdb0404b8b9)\" style=\"fill: #c11754\"/>\n    <path d=\"M 200.748125 237.687219 \nL 211.329458 237.687219 \nL 211.329458 247.543219 \nL 200.748125 247.543219 \nL 200.748125 237.687219 \n\" clip-path=\"url(#pdb0404b8b9)\" style=\"fill: #ed503e\"/>\n    <path d=\"M 211.329458 237.687219 \nL 221.910792 237.687219 \nL 221.910792 247.543219 \nL 211.329458 247.543219 \nL 211.329458 237.687219 \n\" clip-path=\"url(#pdb0404b8b9)\" style=\"fill: #f6b995\"/>\n    <path d=\"M 221.910792 237.687219 \nL 232.492125 237.687219 \nL 232.492125 247.543219 \nL 221.910792 247.543219 \nL 221.910792 237.687219 \n\" clip-path=\"url(#pdb0404b8b9)\" style=\"fill: #f6ad85\"/>\n    <path d=\"M 232.492125 237.687219 \nL 243.073458 237.687219 \nL 243.073458 247.543219 \nL 232.492125 247.543219 \nL 232.492125 237.687219 \n\" clip-path=\"url(#pdb0404b8b9)\" style=\"fill: #f59970\"/>\n    <path d=\"M 243.073458 237.687219 \nL 253.654792 237.687219 \nL 253.654792 247.543219 \nL 243.073458 247.543219 \nL 243.073458 237.687219 \n\" clip-path=\"url(#pdb0404b8b9)\" style=\"fill: #f7c4a4\"/>\n    <path d=\"M 253.654792 237.687219 \nL 264.236125 237.687219 \nL 264.236125 247.543219 \nL 253.654792 247.543219 \nL 253.654792 237.687219 \n\" clip-path=\"url(#pdb0404b8b9)\" style=\"fill: #f69b71\"/>\n    <path d=\"M 264.236125 237.687219 \nL 274.817458 237.687219 \nL 274.817458 247.543219 \nL 264.236125 247.543219 \nL 264.236125 237.687219 \n\" clip-path=\"url(#pdb0404b8b9)\" style=\"fill: #ee523f\"/>\n    <path d=\"M 274.817458 237.687219 \nL 285.398792 237.687219 \nL 285.398792 247.543219 \nL 274.817458 247.543219 \nL 274.817458 237.687219 \n\" clip-path=\"url(#pdb0404b8b9)\" style=\"fill: #f58d64\"/>\n    <path d=\"M 285.398792 237.687219 \nL 295.980125 237.687219 \nL 295.980125 247.543219 \nL 285.398792 247.543219 \nL 285.398792 237.687219 \n\" clip-path=\"url(#pdb0404b8b9)\" style=\"fill: #faebdd\"/>\n    <path d=\"M 295.980125 237.687219 \nL 306.561458 237.687219 \nL 306.561458 247.543219 \nL 295.980125 247.543219 \nL 295.980125 237.687219 \n\" clip-path=\"url(#pdb0404b8b9)\" style=\"fill: #f58b63\"/>\n    <path d=\"M 306.561458 237.687219 \nL 317.142792 237.687219 \nL 317.142792 247.543219 \nL 306.561458 247.543219 \nL 306.561458 237.687219 \n\" clip-path=\"url(#pdb0404b8b9)\" style=\"fill: #b51657\"/>\n    <path d=\"M 317.142792 237.687219 \nL 327.724125 237.687219 \nL 327.724125 247.543219 \nL 317.142792 247.543219 \nL 317.142792 237.687219 \n\" clip-path=\"url(#pdb0404b8b9)\" style=\"fill: #ab185a\"/>\n    <path d=\"M 42.028125 247.543219 \nL 52.609458 247.543219 \nL 52.609458 257.399219 \nL 42.028125 257.399219 \nL 42.028125 247.543219 \n\" clip-path=\"url(#pdb0404b8b9)\" style=\"fill: #431c46\"/>\n    <path d=\"M 52.609458 247.543219 \nL 63.190792 247.543219 \nL 63.190792 257.399219 \nL 52.609458 257.399219 \nL 52.609458 247.543219 \n\" clip-path=\"url(#pdb0404b8b9)\" style=\"fill: #b91657\"/>\n    <path d=\"M 63.190792 247.543219 \nL 73.772125 247.543219 \nL 73.772125 257.399219 \nL 63.190792 257.399219 \nL 63.190792 247.543219 \n\" clip-path=\"url(#pdb0404b8b9)\" style=\"fill: #b41658\"/>\n    <path d=\"M 73.772125 247.543219 \nL 84.353458 247.543219 \nL 84.353458 257.399219 \nL 73.772125 257.399219 \nL 73.772125 247.543219 \n\" clip-path=\"url(#pdb0404b8b9)\" style=\"fill: #9a1b5b\"/>\n    <path d=\"M 84.353458 247.543219 \nL 94.934792 247.543219 \nL 94.934792 257.399219 \nL 84.353458 257.399219 \nL 84.353458 247.543219 \n\" clip-path=\"url(#pdb0404b8b9)\" style=\"fill: #e23442\"/>\n    <path d=\"M 94.934792 247.543219 \nL 105.516125 247.543219 \nL 105.516125 257.399219 \nL 94.934792 257.399219 \nL 94.934792 247.543219 \n\" clip-path=\"url(#pdb0404b8b9)\" style=\"fill: #f05e42\"/>\n    <path d=\"M 105.516125 247.543219 \nL 116.097458 247.543219 \nL 116.097458 257.399219 \nL 105.516125 257.399219 \nL 105.516125 247.543219 \n\" clip-path=\"url(#pdb0404b8b9)\" style=\"fill: #f26747\"/>\n    <path d=\"M 116.097458 247.543219 \nL 126.678792 247.543219 \nL 126.678792 257.399219 \nL 116.097458 257.399219 \nL 116.097458 247.543219 \n\" clip-path=\"url(#pdb0404b8b9)\" style=\"fill: #ea443e\"/>\n    <path d=\"M 126.678792 247.543219 \nL 137.260125 247.543219 \nL 137.260125 257.399219 \nL 126.678792 257.399219 \nL 126.678792 247.543219 \n\" clip-path=\"url(#pdb0404b8b9)\" style=\"fill: #a3195b\"/>\n    <path d=\"M 137.260125 247.543219 \nL 147.841458 247.543219 \nL 147.841458 257.399219 \nL 137.260125 257.399219 \nL 137.260125 247.543219 \n\" clip-path=\"url(#pdb0404b8b9)\" style=\"fill: #5e1f52\"/>\n    <path d=\"M 147.841458 247.543219 \nL 158.422792 247.543219 \nL 158.422792 257.399219 \nL 147.841458 257.399219 \nL 147.841458 247.543219 \n\" clip-path=\"url(#pdb0404b8b9)\" style=\"fill: #631f53\"/>\n    <path d=\"M 158.422792 247.543219 \nL 169.004125 247.543219 \nL 169.004125 257.399219 \nL 158.422792 257.399219 \nL 158.422792 247.543219 \n\" clip-path=\"url(#pdb0404b8b9)\" style=\"fill: #31183b\"/>\n    <path d=\"M 169.004125 247.543219 \nL 179.585458 247.543219 \nL 179.585458 257.399219 \nL 169.004125 257.399219 \nL 169.004125 247.543219 \n\" clip-path=\"url(#pdb0404b8b9)\" style=\"fill: #f26948\"/>\n    <path d=\"M 179.585458 247.543219 \nL 190.166792 247.543219 \nL 190.166792 257.399219 \nL 179.585458 257.399219 \nL 179.585458 247.543219 \n\" clip-path=\"url(#pdb0404b8b9)\" style=\"fill: #f47d57\"/>\n    <path d=\"M 190.166792 247.543219 \nL 200.748125 247.543219 \nL 200.748125 257.399219 \nL 190.166792 257.399219 \nL 190.166792 247.543219 \n\" clip-path=\"url(#pdb0404b8b9)\" style=\"fill: #601f52\"/>\n    <path d=\"M 200.748125 247.543219 \nL 211.329458 247.543219 \nL 211.329458 257.399219 \nL 200.748125 257.399219 \nL 200.748125 247.543219 \n\" clip-path=\"url(#pdb0404b8b9)\" style=\"fill: #f58a61\"/>\n    <path d=\"M 211.329458 247.543219 \nL 221.910792 247.543219 \nL 221.910792 257.399219 \nL 211.329458 257.399219 \nL 211.329458 247.543219 \n\" clip-path=\"url(#pdb0404b8b9)\" style=\"fill: #f6a880\"/>\n    <path d=\"M 221.910792 247.543219 \nL 232.492125 247.543219 \nL 232.492125 257.399219 \nL 221.910792 257.399219 \nL 221.910792 247.543219 \n\" clip-path=\"url(#pdb0404b8b9)\" style=\"fill: #f6b089\"/>\n    <path d=\"M 232.492125 247.543219 \nL 243.073458 247.543219 \nL 243.073458 257.399219 \nL 232.492125 257.399219 \nL 232.492125 247.543219 \n\" clip-path=\"url(#pdb0404b8b9)\" style=\"fill: #d5224a\"/>\n    <path d=\"M 243.073458 247.543219 \nL 253.654792 247.543219 \nL 253.654792 257.399219 \nL 243.073458 257.399219 \nL 243.073458 247.543219 \n\" clip-path=\"url(#pdb0404b8b9)\" style=\"fill: #f16445\"/>\n    <path d=\"M 253.654792 247.543219 \nL 264.236125 247.543219 \nL 264.236125 257.399219 \nL 253.654792 257.399219 \nL 253.654792 247.543219 \n\" clip-path=\"url(#pdb0404b8b9)\" style=\"fill: #cb1b4f\"/>\n    <path d=\"M 264.236125 247.543219 \nL 274.817458 247.543219 \nL 274.817458 257.399219 \nL 264.236125 257.399219 \nL 264.236125 247.543219 \n\" clip-path=\"url(#pdb0404b8b9)\" style=\"fill: #ee523f\"/>\n    <path d=\"M 274.817458 247.543219 \nL 285.398792 247.543219 \nL 285.398792 257.399219 \nL 274.817458 257.399219 \nL 274.817458 247.543219 \n\" clip-path=\"url(#pdb0404b8b9)\" style=\"fill: #dc2b46\"/>\n    <path d=\"M 285.398792 247.543219 \nL 295.980125 247.543219 \nL 295.980125 257.399219 \nL 285.398792 257.399219 \nL 285.398792 247.543219 \n\" clip-path=\"url(#pdb0404b8b9)\" style=\"fill: #f58b63\"/>\n    <path d=\"M 295.980125 247.543219 \nL 306.561458 247.543219 \nL 306.561458 257.399219 \nL 295.980125 257.399219 \nL 295.980125 247.543219 \n\" clip-path=\"url(#pdb0404b8b9)\" style=\"fill: #faebdd\"/>\n    <path d=\"M 306.561458 247.543219 \nL 317.142792 247.543219 \nL 317.142792 257.399219 \nL 306.561458 257.399219 \nL 306.561458 247.543219 \n\" clip-path=\"url(#pdb0404b8b9)\" style=\"fill: #d62449\"/>\n    <path d=\"M 317.142792 247.543219 \nL 327.724125 247.543219 \nL 327.724125 257.399219 \nL 317.142792 257.399219 \nL 317.142792 247.543219 \n\" clip-path=\"url(#pdb0404b8b9)\" style=\"fill: #8e1d5b\"/>\n    <path d=\"M 42.028125 257.399219 \nL 52.609458 257.399219 \nL 52.609458 267.255219 \nL 42.028125 267.255219 \nL 42.028125 257.399219 \n\" clip-path=\"url(#pdb0404b8b9)\" style=\"fill: #4e1d4b\"/>\n    <path d=\"M 52.609458 257.399219 \nL 63.190792 257.399219 \nL 63.190792 267.255219 \nL 52.609458 267.255219 \nL 52.609458 257.399219 \n\" clip-path=\"url(#pdb0404b8b9)\" style=\"fill: #681f55\"/>\n    <path d=\"M 63.190792 257.399219 \nL 73.772125 257.399219 \nL 73.772125 267.255219 \nL 63.190792 267.255219 \nL 63.190792 257.399219 \n\" clip-path=\"url(#pdb0404b8b9)\" style=\"fill: #711f57\"/>\n    <path d=\"M 73.772125 257.399219 \nL 84.353458 257.399219 \nL 84.353458 267.255219 \nL 73.772125 267.255219 \nL 73.772125 257.399219 \n\" clip-path=\"url(#pdb0404b8b9)\" style=\"fill: #511e4d\"/>\n    <path d=\"M 84.353458 257.399219 \nL 94.934792 257.399219 \nL 94.934792 267.255219 \nL 84.353458 267.255219 \nL 84.353458 257.399219 \n\" clip-path=\"url(#pdb0404b8b9)\" style=\"fill: #871e5b\"/>\n    <path d=\"M 94.934792 257.399219 \nL 105.516125 257.399219 \nL 105.516125 267.255219 \nL 94.934792 267.255219 \nL 94.934792 257.399219 \n\" clip-path=\"url(#pdb0404b8b9)\" style=\"fill: #a11a5b\"/>\n    <path d=\"M 105.516125 257.399219 \nL 116.097458 257.399219 \nL 116.097458 267.255219 \nL 105.516125 267.255219 \nL 105.516125 257.399219 \n\" clip-path=\"url(#pdb0404b8b9)\" style=\"fill: #a11a5b\"/>\n    <path d=\"M 116.097458 257.399219 \nL 126.678792 257.399219 \nL 126.678792 267.255219 \nL 116.097458 267.255219 \nL 116.097458 257.399219 \n\" clip-path=\"url(#pdb0404b8b9)\" style=\"fill: #a3195b\"/>\n    <path d=\"M 126.678792 257.399219 \nL 137.260125 257.399219 \nL 137.260125 267.255219 \nL 126.678792 267.255219 \nL 126.678792 257.399219 \n\" clip-path=\"url(#pdb0404b8b9)\" style=\"fill: #4e1d4b\"/>\n    <path d=\"M 137.260125 257.399219 \nL 147.841458 257.399219 \nL 147.841458 267.255219 \nL 137.260125 267.255219 \nL 137.260125 257.399219 \n\" clip-path=\"url(#pdb0404b8b9)\" style=\"fill: #681f55\"/>\n    <path d=\"M 147.841458 257.399219 \nL 158.422792 257.399219 \nL 158.422792 267.255219 \nL 147.841458 267.255219 \nL 147.841458 257.399219 \n\" clip-path=\"url(#pdb0404b8b9)\" style=\"fill: #751f58\"/>\n    <path d=\"M 158.422792 257.399219 \nL 169.004125 257.399219 \nL 169.004125 267.255219 \nL 158.422792 267.255219 \nL 158.422792 257.399219 \n\" clip-path=\"url(#pdb0404b8b9)\" style=\"fill: #421b45\"/>\n    <path d=\"M 169.004125 257.399219 \nL 179.585458 257.399219 \nL 179.585458 267.255219 \nL 169.004125 267.255219 \nL 169.004125 257.399219 \n\" clip-path=\"url(#pdb0404b8b9)\" style=\"fill: #a6195a\"/>\n    <path d=\"M 179.585458 257.399219 \nL 190.166792 257.399219 \nL 190.166792 267.255219 \nL 179.585458 267.255219 \nL 179.585458 257.399219 \n\" clip-path=\"url(#pdb0404b8b9)\" style=\"fill: #b21758\"/>\n    <path d=\"M 190.166792 257.399219 \nL 200.748125 257.399219 \nL 200.748125 267.255219 \nL 190.166792 267.255219 \nL 190.166792 257.399219 \n\" clip-path=\"url(#pdb0404b8b9)\" style=\"fill: #481c48\"/>\n    <path d=\"M 200.748125 257.399219 \nL 211.329458 257.399219 \nL 211.329458 267.255219 \nL 200.748125 267.255219 \nL 200.748125 257.399219 \n\" clip-path=\"url(#pdb0404b8b9)\" style=\"fill: #681f55\"/>\n    <path d=\"M 211.329458 257.399219 \nL 221.910792 257.399219 \nL 221.910792 267.255219 \nL 211.329458 267.255219 \nL 211.329458 257.399219 \n\" clip-path=\"url(#pdb0404b8b9)\" style=\"fill: #ab185a\"/>\n    <path d=\"M 221.910792 257.399219 \nL 232.492125 257.399219 \nL 232.492125 267.255219 \nL 221.910792 267.255219 \nL 221.910792 257.399219 \n\" clip-path=\"url(#pdb0404b8b9)\" style=\"fill: #9e1a5b\"/>\n    <path d=\"M 232.492125 257.399219 \nL 243.073458 257.399219 \nL 243.073458 267.255219 \nL 232.492125 267.255219 \nL 232.492125 257.399219 \n\" clip-path=\"url(#pdb0404b8b9)\" style=\"fill: #d5224a\"/>\n    <path d=\"M 243.073458 257.399219 \nL 253.654792 257.399219 \nL 253.654792 267.255219 \nL 243.073458 267.255219 \nL 243.073458 257.399219 \n\" clip-path=\"url(#pdb0404b8b9)\" style=\"fill: #ce1d4e\"/>\n    <path d=\"M 253.654792 257.399219 \nL 264.236125 257.399219 \nL 264.236125 267.255219 \nL 253.654792 267.255219 \nL 253.654792 257.399219 \n\" clip-path=\"url(#pdb0404b8b9)\" style=\"fill: #9f1a5b\"/>\n    <path d=\"M 264.236125 257.399219 \nL 274.817458 257.399219 \nL 274.817458 267.255219 \nL 264.236125 267.255219 \nL 264.236125 257.399219 \n\" clip-path=\"url(#pdb0404b8b9)\" style=\"fill: #5b1e51\"/>\n    <path d=\"M 274.817458 257.399219 \nL 285.398792 257.399219 \nL 285.398792 267.255219 \nL 274.817458 267.255219 \nL 274.817458 257.399219 \n\" clip-path=\"url(#pdb0404b8b9)\" style=\"fill: #781f59\"/>\n    <path d=\"M 285.398792 257.399219 \nL 295.980125 257.399219 \nL 295.980125 267.255219 \nL 285.398792 267.255219 \nL 285.398792 257.399219 \n\" clip-path=\"url(#pdb0404b8b9)\" style=\"fill: #b51657\"/>\n    <path d=\"M 295.980125 257.399219 \nL 306.561458 257.399219 \nL 306.561458 267.255219 \nL 295.980125 267.255219 \nL 295.980125 257.399219 \n\" clip-path=\"url(#pdb0404b8b9)\" style=\"fill: #d62449\"/>\n    <path d=\"M 306.561458 257.399219 \nL 317.142792 257.399219 \nL 317.142792 267.255219 \nL 306.561458 267.255219 \nL 306.561458 257.399219 \n\" clip-path=\"url(#pdb0404b8b9)\" style=\"fill: #faebdd\"/>\n    <path d=\"M 317.142792 257.399219 \nL 327.724125 257.399219 \nL 327.724125 267.255219 \nL 317.142792 267.255219 \nL 317.142792 257.399219 \n\" clip-path=\"url(#pdb0404b8b9)\" style=\"fill: #6d1f56\"/>\n    <path d=\"M 42.028125 267.255219 \nL 52.609458 267.255219 \nL 52.609458 277.111219 \nL 42.028125 277.111219 \nL 42.028125 267.255219 \n\" clip-path=\"url(#pdb0404b8b9)\" style=\"fill: #701f57\"/>\n    <path d=\"M 52.609458 267.255219 \nL 63.190792 267.255219 \nL 63.190792 277.111219 \nL 52.609458 277.111219 \nL 52.609458 267.255219 \n\" clip-path=\"url(#pdb0404b8b9)\" style=\"fill: #7a1f59\"/>\n    <path d=\"M 63.190792 267.255219 \nL 73.772125 267.255219 \nL 73.772125 277.111219 \nL 63.190792 277.111219 \nL 63.190792 267.255219 \n\" clip-path=\"url(#pdb0404b8b9)\" style=\"fill: #db2946\"/>\n    <path d=\"M 73.772125 267.255219 \nL 84.353458 267.255219 \nL 84.353458 277.111219 \nL 73.772125 277.111219 \nL 73.772125 267.255219 \n\" clip-path=\"url(#pdb0404b8b9)\" style=\"fill: #06071c\"/>\n    <path d=\"M 84.353458 267.255219 \nL 94.934792 267.255219 \nL 94.934792 277.111219 \nL 84.353458 277.111219 \nL 84.353458 267.255219 \n\" clip-path=\"url(#pdb0404b8b9)\" style=\"fill: #8e1d5b\"/>\n    <path d=\"M 94.934792 267.255219 \nL 105.516125 267.255219 \nL 105.516125 277.111219 \nL 94.934792 277.111219 \nL 94.934792 267.255219 \n\" clip-path=\"url(#pdb0404b8b9)\" style=\"fill: #a6195a\"/>\n    <path d=\"M 105.516125 267.255219 \nL 116.097458 267.255219 \nL 116.097458 277.111219 \nL 105.516125 277.111219 \nL 105.516125 267.255219 \n\" clip-path=\"url(#pdb0404b8b9)\" style=\"fill: #a3195b\"/>\n    <path d=\"M 116.097458 267.255219 \nL 126.678792 267.255219 \nL 126.678792 277.111219 \nL 116.097458 277.111219 \nL 116.097458 267.255219 \n\" clip-path=\"url(#pdb0404b8b9)\" style=\"fill: #951c5b\"/>\n    <path d=\"M 126.678792 267.255219 \nL 137.260125 267.255219 \nL 137.260125 277.111219 \nL 126.678792 277.111219 \nL 126.678792 267.255219 \n\" clip-path=\"url(#pdb0404b8b9)\" style=\"fill: #701f57\"/>\n    <path d=\"M 137.260125 267.255219 \nL 147.841458 267.255219 \nL 147.841458 277.111219 \nL 137.260125 277.111219 \nL 137.260125 267.255219 \n\" clip-path=\"url(#pdb0404b8b9)\" style=\"fill: #a6195a\"/>\n    <path d=\"M 147.841458 267.255219 \nL 158.422792 267.255219 \nL 158.422792 277.111219 \nL 147.841458 277.111219 \nL 147.841458 267.255219 \n\" clip-path=\"url(#pdb0404b8b9)\" style=\"fill: #9a1b5b\"/>\n    <path d=\"M 158.422792 267.255219 \nL 169.004125 267.255219 \nL 169.004125 277.111219 \nL 158.422792 277.111219 \nL 158.422792 267.255219 \n\" clip-path=\"url(#pdb0404b8b9)\" style=\"fill: #631f53\"/>\n    <path d=\"M 169.004125 267.255219 \nL 179.585458 267.255219 \nL 179.585458 277.111219 \nL 169.004125 277.111219 \nL 169.004125 267.255219 \n\" clip-path=\"url(#pdb0404b8b9)\" style=\"fill: #901d5b\"/>\n    <path d=\"M 179.585458 267.255219 \nL 190.166792 267.255219 \nL 190.166792 277.111219 \nL 179.585458 277.111219 \nL 179.585458 267.255219 \n\" clip-path=\"url(#pdb0404b8b9)\" style=\"fill: #901d5b\"/>\n    <path d=\"M 190.166792 267.255219 \nL 200.748125 267.255219 \nL 200.748125 277.111219 \nL 190.166792 277.111219 \nL 190.166792 267.255219 \n\" clip-path=\"url(#pdb0404b8b9)\" style=\"fill: #531e4d\"/>\n    <path d=\"M 200.748125 267.255219 \nL 211.329458 267.255219 \nL 211.329458 277.111219 \nL 200.748125 277.111219 \nL 200.748125 267.255219 \n\" clip-path=\"url(#pdb0404b8b9)\" style=\"fill: #6e1f57\"/>\n    <path d=\"M 211.329458 267.255219 \nL 221.910792 267.255219 \nL 221.910792 277.111219 \nL 211.329458 277.111219 \nL 211.329458 267.255219 \n\" clip-path=\"url(#pdb0404b8b9)\" style=\"fill: #8b1d5b\"/>\n    <path d=\"M 221.910792 267.255219 \nL 232.492125 267.255219 \nL 232.492125 277.111219 \nL 221.910792 277.111219 \nL 221.910792 267.255219 \n\" clip-path=\"url(#pdb0404b8b9)\" style=\"fill: #871e5b\"/>\n    <path d=\"M 232.492125 267.255219 \nL 243.073458 267.255219 \nL 243.073458 277.111219 \nL 232.492125 277.111219 \nL 232.492125 267.255219 \n\" clip-path=\"url(#pdb0404b8b9)\" style=\"fill: #921c5b\"/>\n    <path d=\"M 243.073458 267.255219 \nL 253.654792 267.255219 \nL 253.654792 277.111219 \nL 243.073458 277.111219 \nL 243.073458 267.255219 \n\" clip-path=\"url(#pdb0404b8b9)\" style=\"fill: #701f57\"/>\n    <path d=\"M 253.654792 267.255219 \nL 264.236125 267.255219 \nL 264.236125 277.111219 \nL 253.654792 277.111219 \nL 253.654792 267.255219 \n\" clip-path=\"url(#pdb0404b8b9)\" style=\"fill: #931c5b\"/>\n    <path d=\"M 264.236125 267.255219 \nL 274.817458 267.255219 \nL 274.817458 277.111219 \nL 264.236125 277.111219 \nL 264.236125 267.255219 \n\" clip-path=\"url(#pdb0404b8b9)\" style=\"fill: #7b1f59\"/>\n    <path d=\"M 274.817458 267.255219 \nL 285.398792 267.255219 \nL 285.398792 277.111219 \nL 274.817458 277.111219 \nL 274.817458 267.255219 \n\" clip-path=\"url(#pdb0404b8b9)\" style=\"fill: #761f58\"/>\n    <path d=\"M 285.398792 267.255219 \nL 295.980125 267.255219 \nL 295.980125 277.111219 \nL 285.398792 277.111219 \nL 285.398792 267.255219 \n\" clip-path=\"url(#pdb0404b8b9)\" style=\"fill: #ab185a\"/>\n    <path d=\"M 295.980125 267.255219 \nL 306.561458 267.255219 \nL 306.561458 277.111219 \nL 295.980125 277.111219 \nL 295.980125 267.255219 \n\" clip-path=\"url(#pdb0404b8b9)\" style=\"fill: #8e1d5b\"/>\n    <path d=\"M 306.561458 267.255219 \nL 317.142792 267.255219 \nL 317.142792 277.111219 \nL 306.561458 277.111219 \nL 306.561458 267.255219 \n\" clip-path=\"url(#pdb0404b8b9)\" style=\"fill: #6d1f56\"/>\n    <path d=\"M 317.142792 267.255219 \nL 327.724125 267.255219 \nL 327.724125 277.111219 \nL 317.142792 277.111219 \nL 317.142792 267.255219 \n\" clip-path=\"url(#pdb0404b8b9)\" style=\"fill: #faebdd\"/>\n   </g>\n   <g id=\"matplotlib.axis_1\">\n    <g id=\"xtick_1\">\n     <g id=\"line2d_1\">\n      <defs>\n       <path id=\"mb422266e8a\" d=\"M 0 0 \nL 0 3.5 \n\" style=\"stroke: #000000; stroke-width: 0.8\"/>\n      </defs>\n      <g>\n       <use xlink:href=\"#mb422266e8a\" x=\"47.318792\" y=\"277.111219\" style=\"stroke: #000000; stroke-width: 0.8\"/>\n      </g>\n     </g>\n     <g id=\"text_1\">\n      <!-- AGE -->\n      <g transform=\"translate(50.078167 304.844031)rotate(-90)scale(0.1 -0.1)\">\n       <defs>\n        <path id=\"DejaVuSans-41\" d=\"M 2188 4044 \nL 1331 1722 \nL 3047 1722 \nL 2188 4044 \nz\nM 1831 4666 \nL 2547 4666 \nL 4325 0 \nL 3669 0 \nL 3244 1197 \nL 1141 1197 \nL 716 0 \nL 50 0 \nL 1831 4666 \nz\n\" transform=\"scale(0.015625)\"/>\n        <path id=\"DejaVuSans-47\" d=\"M 3809 666 \nL 3809 1919 \nL 2778 1919 \nL 2778 2438 \nL 4434 2438 \nL 4434 434 \nQ 4069 175 3628 42 \nQ 3188 -91 2688 -91 \nQ 1594 -91 976 548 \nQ 359 1188 359 2328 \nQ 359 3472 976 4111 \nQ 1594 4750 2688 4750 \nQ 3144 4750 3555 4637 \nQ 3966 4525 4313 4306 \nL 4313 3634 \nQ 3963 3931 3569 4081 \nQ 3175 4231 2741 4231 \nQ 1884 4231 1454 3753 \nQ 1025 3275 1025 2328 \nQ 1025 1384 1454 906 \nQ 1884 428 2741 428 \nQ 3075 428 3337 486 \nQ 3600 544 3809 666 \nz\n\" transform=\"scale(0.015625)\"/>\n        <path id=\"DejaVuSans-45\" d=\"M 628 4666 \nL 3578 4666 \nL 3578 4134 \nL 1259 4134 \nL 1259 2753 \nL 3481 2753 \nL 3481 2222 \nL 1259 2222 \nL 1259 531 \nL 3634 531 \nL 3634 0 \nL 628 0 \nL 628 4666 \nz\n\" transform=\"scale(0.015625)\"/>\n       </defs>\n       <use xlink:href=\"#DejaVuSans-41\"/>\n       <use xlink:href=\"#DejaVuSans-47\" x=\"66.658203\"/>\n       <use xlink:href=\"#DejaVuSans-45\" x=\"144.148438\"/>\n      </g>\n     </g>\n    </g>\n    <g id=\"xtick_2\">\n     <g id=\"line2d_2\">\n      <g>\n       <use xlink:href=\"#mb422266e8a\" x=\"57.900125\" y=\"277.111219\" style=\"stroke: #000000; stroke-width: 0.8\"/>\n      </g>\n     </g>\n     <g id=\"text_2\">\n      <!-- GP -->\n      <g transform=\"translate(60.6595 297.889344)rotate(-90)scale(0.1 -0.1)\">\n       <defs>\n        <path id=\"DejaVuSans-50\" d=\"M 1259 4147 \nL 1259 2394 \nL 2053 2394 \nQ 2494 2394 2734 2622 \nQ 2975 2850 2975 3272 \nQ 2975 3691 2734 3919 \nQ 2494 4147 2053 4147 \nL 1259 4147 \nz\nM 628 4666 \nL 2053 4666 \nQ 2838 4666 3239 4311 \nQ 3641 3956 3641 3272 \nQ 3641 2581 3239 2228 \nQ 2838 1875 2053 1875 \nL 1259 1875 \nL 1259 0 \nL 628 0 \nL 628 4666 \nz\n\" transform=\"scale(0.015625)\"/>\n       </defs>\n       <use xlink:href=\"#DejaVuSans-47\"/>\n       <use xlink:href=\"#DejaVuSans-50\" x=\"77.490234\"/>\n      </g>\n     </g>\n    </g>\n    <g id=\"xtick_3\">\n     <g id=\"line2d_3\">\n      <g>\n       <use xlink:href=\"#mb422266e8a\" x=\"68.481458\" y=\"277.111219\" style=\"stroke: #000000; stroke-width: 0.8\"/>\n      </g>\n     </g>\n     <g id=\"text_3\">\n      <!-- W -->\n      <g transform=\"translate(71.240833 293.998719)rotate(-90)scale(0.1 -0.1)\">\n       <defs>\n        <path id=\"DejaVuSans-57\" d=\"M 213 4666 \nL 850 4666 \nL 1831 722 \nL 2809 4666 \nL 3519 4666 \nL 4500 722 \nL 5478 4666 \nL 6119 4666 \nL 4947 0 \nL 4153 0 \nL 3169 4050 \nL 2175 0 \nL 1381 0 \nL 213 4666 \nz\n\" transform=\"scale(0.015625)\"/>\n       </defs>\n       <use xlink:href=\"#DejaVuSans-57\"/>\n      </g>\n     </g>\n    </g>\n    <g id=\"xtick_4\">\n     <g id=\"line2d_4\">\n      <g>\n       <use xlink:href=\"#mb422266e8a\" x=\"79.062792\" y=\"277.111219\" style=\"stroke: #000000; stroke-width: 0.8\"/>\n      </g>\n     </g>\n     <g id=\"text_4\">\n      <!-- L -->\n      <g transform=\"translate(81.822167 289.683094)rotate(-90)scale(0.1 -0.1)\">\n       <defs>\n        <path id=\"DejaVuSans-4c\" d=\"M 628 4666 \nL 1259 4666 \nL 1259 531 \nL 3531 531 \nL 3531 0 \nL 628 0 \nL 628 4666 \nz\n\" transform=\"scale(0.015625)\"/>\n       </defs>\n       <use xlink:href=\"#DejaVuSans-4c\"/>\n      </g>\n     </g>\n    </g>\n    <g id=\"xtick_5\">\n     <g id=\"line2d_5\">\n      <g>\n       <use xlink:href=\"#mb422266e8a\" x=\"89.644125\" y=\"277.111219\" style=\"stroke: #000000; stroke-width: 0.8\"/>\n      </g>\n     </g>\n     <g id=\"text_5\">\n      <!-- MIN -->\n      <g transform=\"translate(92.4035 303.170594)rotate(-90)scale(0.1 -0.1)\">\n       <defs>\n        <path id=\"DejaVuSans-4d\" d=\"M 628 4666 \nL 1569 4666 \nL 2759 1491 \nL 3956 4666 \nL 4897 4666 \nL 4897 0 \nL 4281 0 \nL 4281 4097 \nL 3078 897 \nL 2444 897 \nL 1241 4097 \nL 1241 0 \nL 628 0 \nL 628 4666 \nz\n\" transform=\"scale(0.015625)\"/>\n        <path id=\"DejaVuSans-49\" d=\"M 628 4666 \nL 1259 4666 \nL 1259 0 \nL 628 0 \nL 628 4666 \nz\n\" transform=\"scale(0.015625)\"/>\n        <path id=\"DejaVuSans-4e\" d=\"M 628 4666 \nL 1478 4666 \nL 3547 763 \nL 3547 4666 \nL 4159 4666 \nL 4159 0 \nL 3309 0 \nL 1241 3903 \nL 1241 0 \nL 628 0 \nL 628 4666 \nz\n\" transform=\"scale(0.015625)\"/>\n       </defs>\n       <use xlink:href=\"#DejaVuSans-4d\"/>\n       <use xlink:href=\"#DejaVuSans-49\" x=\"86.279297\"/>\n       <use xlink:href=\"#DejaVuSans-4e\" x=\"115.771484\"/>\n      </g>\n     </g>\n    </g>\n    <g id=\"xtick_6\">\n     <g id=\"line2d_6\">\n      <g>\n       <use xlink:href=\"#mb422266e8a\" x=\"100.225458\" y=\"277.111219\" style=\"stroke: #000000; stroke-width: 0.8\"/>\n      </g>\n     </g>\n     <g id=\"text_6\">\n      <!-- PTS -->\n      <g transform=\"translate(102.984833 302.597156)rotate(-90)scale(0.1 -0.1)\">\n       <defs>\n        <path id=\"DejaVuSans-54\" d=\"M -19 4666 \nL 3928 4666 \nL 3928 4134 \nL 2272 4134 \nL 2272 0 \nL 1638 0 \nL 1638 4134 \nL -19 4134 \nL -19 4666 \nz\n\" transform=\"scale(0.015625)\"/>\n        <path id=\"DejaVuSans-53\" d=\"M 3425 4513 \nL 3425 3897 \nQ 3066 4069 2747 4153 \nQ 2428 4238 2131 4238 \nQ 1616 4238 1336 4038 \nQ 1056 3838 1056 3469 \nQ 1056 3159 1242 3001 \nQ 1428 2844 1947 2747 \nL 2328 2669 \nQ 3034 2534 3370 2195 \nQ 3706 1856 3706 1288 \nQ 3706 609 3251 259 \nQ 2797 -91 1919 -91 \nQ 1588 -91 1214 -16 \nQ 841 59 441 206 \nL 441 856 \nQ 825 641 1194 531 \nQ 1563 422 1919 422 \nQ 2459 422 2753 634 \nQ 3047 847 3047 1241 \nQ 3047 1584 2836 1778 \nQ 2625 1972 2144 2069 \nL 1759 2144 \nQ 1053 2284 737 2584 \nQ 422 2884 422 3419 \nQ 422 4038 858 4394 \nQ 1294 4750 2059 4750 \nQ 2388 4750 2728 4690 \nQ 3069 4631 3425 4513 \nz\n\" transform=\"scale(0.015625)\"/>\n       </defs>\n       <use xlink:href=\"#DejaVuSans-50\"/>\n       <use xlink:href=\"#DejaVuSans-54\" x=\"60.302734\"/>\n       <use xlink:href=\"#DejaVuSans-53\" x=\"121.386719\"/>\n      </g>\n     </g>\n    </g>\n    <g id=\"xtick_7\">\n     <g id=\"line2d_7\">\n      <g>\n       <use xlink:href=\"#mb422266e8a\" x=\"110.806792\" y=\"277.111219\" style=\"stroke: #000000; stroke-width: 0.8\"/>\n      </g>\n     </g>\n     <g id=\"text_7\">\n      <!-- FGM -->\n      <g transform=\"translate(113.566167 306.239344)rotate(-90)scale(0.1 -0.1)\">\n       <defs>\n        <path id=\"DejaVuSans-46\" d=\"M 628 4666 \nL 3309 4666 \nL 3309 4134 \nL 1259 4134 \nL 1259 2759 \nL 3109 2759 \nL 3109 2228 \nL 1259 2228 \nL 1259 0 \nL 628 0 \nL 628 4666 \nz\n\" transform=\"scale(0.015625)\"/>\n       </defs>\n       <use xlink:href=\"#DejaVuSans-46\"/>\n       <use xlink:href=\"#DejaVuSans-47\" x=\"57.519531\"/>\n       <use xlink:href=\"#DejaVuSans-4d\" x=\"135.009766\"/>\n      </g>\n     </g>\n    </g>\n    <g id=\"xtick_8\">\n     <g id=\"line2d_8\">\n      <g>\n       <use xlink:href=\"#mb422266e8a\" x=\"121.388125\" y=\"277.111219\" style=\"stroke: #000000; stroke-width: 0.8\"/>\n      </g>\n     </g>\n     <g id=\"text_8\">\n      <!-- FGA -->\n      <g transform=\"translate(124.1475 304.451844)rotate(-90)scale(0.1 -0.1)\">\n       <use xlink:href=\"#DejaVuSans-46\"/>\n       <use xlink:href=\"#DejaVuSans-47\" x=\"57.519531\"/>\n       <use xlink:href=\"#DejaVuSans-41\" x=\"135.009766\"/>\n      </g>\n     </g>\n    </g>\n    <g id=\"xtick_9\">\n     <g id=\"line2d_9\">\n      <g>\n       <use xlink:href=\"#mb422266e8a\" x=\"131.969458\" y=\"277.111219\" style=\"stroke: #000000; stroke-width: 0.8\"/>\n      </g>\n     </g>\n     <g id=\"text_9\">\n      <!-- FG. -->\n      <g transform=\"translate(134.728833 300.789344)rotate(-90)scale(0.1 -0.1)\">\n       <defs>\n        <path id=\"DejaVuSans-2e\" d=\"M 684 794 \nL 1344 794 \nL 1344 0 \nL 684 0 \nL 684 794 \nz\n\" transform=\"scale(0.015625)\"/>\n       </defs>\n       <use xlink:href=\"#DejaVuSans-46\"/>\n       <use xlink:href=\"#DejaVuSans-47\" x=\"57.519531\"/>\n       <use xlink:href=\"#DejaVuSans-2e\" x=\"135.009766\"/>\n      </g>\n     </g>\n    </g>\n    <g id=\"xtick_10\">\n     <g id=\"line2d_10\">\n      <g>\n       <use xlink:href=\"#mb422266e8a\" x=\"142.550792\" y=\"277.111219\" style=\"stroke: #000000; stroke-width: 0.8\"/>\n      </g>\n     </g>\n     <g id=\"text_10\">\n      <!-- X3PM -->\n      <g transform=\"translate(145.310167 311.981531)rotate(-90)scale(0.1 -0.1)\">\n       <defs>\n        <path id=\"DejaVuSans-58\" d=\"M 403 4666 \nL 1081 4666 \nL 2241 2931 \nL 3406 4666 \nL 4084 4666 \nL 2584 2425 \nL 4184 0 \nL 3506 0 \nL 2194 1984 \nL 872 0 \nL 191 0 \nL 1856 2491 \nL 403 4666 \nz\n\" transform=\"scale(0.015625)\"/>\n        <path id=\"DejaVuSans-33\" d=\"M 2597 2516 \nQ 3050 2419 3304 2112 \nQ 3559 1806 3559 1356 \nQ 3559 666 3084 287 \nQ 2609 -91 1734 -91 \nQ 1441 -91 1130 -33 \nQ 819 25 488 141 \nL 488 750 \nQ 750 597 1062 519 \nQ 1375 441 1716 441 \nQ 2309 441 2620 675 \nQ 2931 909 2931 1356 \nQ 2931 1769 2642 2001 \nQ 2353 2234 1838 2234 \nL 1294 2234 \nL 1294 2753 \nL 1863 2753 \nQ 2328 2753 2575 2939 \nQ 2822 3125 2822 3475 \nQ 2822 3834 2567 4026 \nQ 2313 4219 1838 4219 \nQ 1578 4219 1281 4162 \nQ 984 4106 628 3988 \nL 628 4550 \nQ 988 4650 1302 4700 \nQ 1616 4750 1894 4750 \nQ 2613 4750 3031 4423 \nQ 3450 4097 3450 3541 \nQ 3450 3153 3228 2886 \nQ 3006 2619 2597 2516 \nz\n\" transform=\"scale(0.015625)\"/>\n       </defs>\n       <use xlink:href=\"#DejaVuSans-58\"/>\n       <use xlink:href=\"#DejaVuSans-33\" x=\"68.505859\"/>\n       <use xlink:href=\"#DejaVuSans-50\" x=\"132.128906\"/>\n       <use xlink:href=\"#DejaVuSans-4d\" x=\"192.431641\"/>\n      </g>\n     </g>\n    </g>\n    <g id=\"xtick_11\">\n     <g id=\"line2d_11\">\n      <g>\n       <use xlink:href=\"#mb422266e8a\" x=\"153.132125\" y=\"277.111219\" style=\"stroke: #000000; stroke-width: 0.8\"/>\n      </g>\n     </g>\n     <g id=\"text_11\">\n      <!-- X3PA -->\n      <g transform=\"translate(155.8915 309.556531)rotate(-90)scale(0.1 -0.1)\">\n       <use xlink:href=\"#DejaVuSans-58\"/>\n       <use xlink:href=\"#DejaVuSans-33\" x=\"68.505859\"/>\n       <use xlink:href=\"#DejaVuSans-50\" x=\"132.128906\"/>\n       <use xlink:href=\"#DejaVuSans-41\" x=\"186.056641\"/>\n      </g>\n     </g>\n    </g>\n    <g id=\"xtick_12\">\n     <g id=\"line2d_12\">\n      <g>\n       <use xlink:href=\"#mb422266e8a\" x=\"163.713458\" y=\"277.111219\" style=\"stroke: #000000; stroke-width: 0.8\"/>\n      </g>\n     </g>\n     <g id=\"text_12\">\n      <!-- X3P. -->\n      <g transform=\"translate(166.472833 304.969031)rotate(-90)scale(0.1 -0.1)\">\n       <use xlink:href=\"#DejaVuSans-58\"/>\n       <use xlink:href=\"#DejaVuSans-33\" x=\"68.505859\"/>\n       <use xlink:href=\"#DejaVuSans-50\" x=\"132.128906\"/>\n       <use xlink:href=\"#DejaVuSans-2e\" x=\"176.806641\"/>\n      </g>\n     </g>\n    </g>\n    <g id=\"xtick_13\">\n     <g id=\"line2d_13\">\n      <g>\n       <use xlink:href=\"#mb422266e8a\" x=\"174.294792\" y=\"277.111219\" style=\"stroke: #000000; stroke-width: 0.8\"/>\n      </g>\n     </g>\n     <g id=\"text_13\">\n      <!-- FTM -->\n      <g transform=\"translate(177.054167 304.423719)rotate(-90)scale(0.1 -0.1)\">\n       <use xlink:href=\"#DejaVuSans-46\"/>\n       <use xlink:href=\"#DejaVuSans-54\" x=\"55.769531\"/>\n       <use xlink:href=\"#DejaVuSans-4d\" x=\"116.853516\"/>\n      </g>\n     </g>\n    </g>\n    <g id=\"xtick_14\">\n     <g id=\"line2d_14\">\n      <g>\n       <use xlink:href=\"#mb422266e8a\" x=\"184.876125\" y=\"277.111219\" style=\"stroke: #000000; stroke-width: 0.8\"/>\n      </g>\n     </g>\n     <g id=\"text_14\">\n      <!-- FTA -->\n      <g transform=\"translate(187.6355 301.861219)rotate(-90)scale(0.1 -0.1)\">\n       <use xlink:href=\"#DejaVuSans-46\"/>\n       <use xlink:href=\"#DejaVuSans-54\" x=\"55.769531\"/>\n       <use xlink:href=\"#DejaVuSans-41\" x=\"109.103516\"/>\n      </g>\n     </g>\n    </g>\n    <g id=\"xtick_15\">\n     <g id=\"line2d_15\">\n      <g>\n       <use xlink:href=\"#mb422266e8a\" x=\"195.457458\" y=\"277.111219\" style=\"stroke: #000000; stroke-width: 0.8\"/>\n      </g>\n     </g>\n     <g id=\"text_15\">\n      <!-- FT. -->\n      <g transform=\"translate(198.216833 297.786219)rotate(-90)scale(0.1 -0.1)\">\n       <use xlink:href=\"#DejaVuSans-46\"/>\n       <use xlink:href=\"#DejaVuSans-54\" x=\"55.769531\"/>\n       <use xlink:href=\"#DejaVuSans-2e\" x=\"104.978516\"/>\n      </g>\n     </g>\n    </g>\n    <g id=\"xtick_16\">\n     <g id=\"line2d_16\">\n      <g>\n       <use xlink:href=\"#mb422266e8a\" x=\"206.038792\" y=\"277.111219\" style=\"stroke: #000000; stroke-width: 0.8\"/>\n      </g>\n     </g>\n     <g id=\"text_16\">\n      <!-- OREB -->\n      <g transform=\"translate(208.798167 312.111219)rotate(-90)scale(0.1 -0.1)\">\n       <defs>\n        <path id=\"DejaVuSans-4f\" d=\"M 2522 4238 \nQ 1834 4238 1429 3725 \nQ 1025 3213 1025 2328 \nQ 1025 1447 1429 934 \nQ 1834 422 2522 422 \nQ 3209 422 3611 934 \nQ 4013 1447 4013 2328 \nQ 4013 3213 3611 3725 \nQ 3209 4238 2522 4238 \nz\nM 2522 4750 \nQ 3503 4750 4090 4092 \nQ 4678 3434 4678 2328 \nQ 4678 1225 4090 567 \nQ 3503 -91 2522 -91 \nQ 1538 -91 948 565 \nQ 359 1222 359 2328 \nQ 359 3434 948 4092 \nQ 1538 4750 2522 4750 \nz\n\" transform=\"scale(0.015625)\"/>\n        <path id=\"DejaVuSans-52\" d=\"M 2841 2188 \nQ 3044 2119 3236 1894 \nQ 3428 1669 3622 1275 \nL 4263 0 \nL 3584 0 \nL 2988 1197 \nQ 2756 1666 2539 1819 \nQ 2322 1972 1947 1972 \nL 1259 1972 \nL 1259 0 \nL 628 0 \nL 628 4666 \nL 2053 4666 \nQ 2853 4666 3247 4331 \nQ 3641 3997 3641 3322 \nQ 3641 2881 3436 2590 \nQ 3231 2300 2841 2188 \nz\nM 1259 4147 \nL 1259 2491 \nL 2053 2491 \nQ 2509 2491 2742 2702 \nQ 2975 2913 2975 3322 \nQ 2975 3731 2742 3939 \nQ 2509 4147 2053 4147 \nL 1259 4147 \nz\n\" transform=\"scale(0.015625)\"/>\n        <path id=\"DejaVuSans-42\" d=\"M 1259 2228 \nL 1259 519 \nL 2272 519 \nQ 2781 519 3026 730 \nQ 3272 941 3272 1375 \nQ 3272 1813 3026 2020 \nQ 2781 2228 2272 2228 \nL 1259 2228 \nz\nM 1259 4147 \nL 1259 2741 \nL 2194 2741 \nQ 2656 2741 2882 2914 \nQ 3109 3088 3109 3444 \nQ 3109 3797 2882 3972 \nQ 2656 4147 2194 4147 \nL 1259 4147 \nz\nM 628 4666 \nL 2241 4666 \nQ 2963 4666 3353 4366 \nQ 3744 4066 3744 3513 \nQ 3744 3084 3544 2831 \nQ 3344 2578 2956 2516 \nQ 3422 2416 3680 2098 \nQ 3938 1781 3938 1306 \nQ 3938 681 3513 340 \nQ 3088 0 2303 0 \nL 628 0 \nL 628 4666 \nz\n\" transform=\"scale(0.015625)\"/>\n       </defs>\n       <use xlink:href=\"#DejaVuSans-4f\"/>\n       <use xlink:href=\"#DejaVuSans-52\" x=\"78.710938\"/>\n       <use xlink:href=\"#DejaVuSans-45\" x=\"148.193359\"/>\n       <use xlink:href=\"#DejaVuSans-42\" x=\"211.376953\"/>\n      </g>\n     </g>\n    </g>\n    <g id=\"xtick_17\">\n     <g id=\"line2d_17\">\n      <g>\n       <use xlink:href=\"#mb422266e8a\" x=\"216.620125\" y=\"277.111219\" style=\"stroke: #000000; stroke-width: 0.8\"/>\n      </g>\n     </g>\n     <g id=\"text_17\">\n      <!-- DREB -->\n      <g transform=\"translate(219.3795 311.939344)rotate(-90)scale(0.1 -0.1)\">\n       <defs>\n        <path id=\"DejaVuSans-44\" d=\"M 1259 4147 \nL 1259 519 \nL 2022 519 \nQ 2988 519 3436 956 \nQ 3884 1394 3884 2338 \nQ 3884 3275 3436 3711 \nQ 2988 4147 2022 4147 \nL 1259 4147 \nz\nM 628 4666 \nL 1925 4666 \nQ 3281 4666 3915 4102 \nQ 4550 3538 4550 2338 \nQ 4550 1131 3912 565 \nQ 3275 0 1925 0 \nL 628 0 \nL 628 4666 \nz\n\" transform=\"scale(0.015625)\"/>\n       </defs>\n       <use xlink:href=\"#DejaVuSans-44\"/>\n       <use xlink:href=\"#DejaVuSans-52\" x=\"77.001953\"/>\n       <use xlink:href=\"#DejaVuSans-45\" x=\"146.484375\"/>\n       <use xlink:href=\"#DejaVuSans-42\" x=\"209.667969\"/>\n      </g>\n     </g>\n    </g>\n    <g id=\"xtick_18\">\n     <g id=\"line2d_18\">\n      <g>\n       <use xlink:href=\"#mb422266e8a\" x=\"227.201458\" y=\"277.111219\" style=\"stroke: #000000; stroke-width: 0.8\"/>\n      </g>\n     </g>\n     <g id=\"text_18\">\n      <!-- REB -->\n      <g transform=\"translate(229.960833 304.239344)rotate(-90)scale(0.1 -0.1)\">\n       <use xlink:href=\"#DejaVuSans-52\"/>\n       <use xlink:href=\"#DejaVuSans-45\" x=\"69.482422\"/>\n       <use xlink:href=\"#DejaVuSans-42\" x=\"132.666016\"/>\n      </g>\n     </g>\n    </g>\n    <g id=\"xtick_19\">\n     <g id=\"line2d_19\">\n      <g>\n       <use xlink:href=\"#mb422266e8a\" x=\"237.782792\" y=\"277.111219\" style=\"stroke: #000000; stroke-width: 0.8\"/>\n      </g>\n     </g>\n     <g id=\"text_19\">\n      <!-- AST -->\n      <g transform=\"translate(240.542167 303.408094)rotate(-90)scale(0.1 -0.1)\">\n       <use xlink:href=\"#DejaVuSans-41\"/>\n       <use xlink:href=\"#DejaVuSans-53\" x=\"68.408203\"/>\n       <use xlink:href=\"#DejaVuSans-54\" x=\"131.884766\"/>\n      </g>\n     </g>\n    </g>\n    <g id=\"xtick_20\">\n     <g id=\"line2d_20\">\n      <g>\n       <use xlink:href=\"#mb422266e8a\" x=\"248.364125\" y=\"277.111219\" style=\"stroke: #000000; stroke-width: 0.8\"/>\n      </g>\n     </g>\n     <g id=\"text_20\">\n      <!-- TOV -->\n      <g transform=\"translate(251.1235 304.756531)rotate(-90)scale(0.1 -0.1)\">\n       <defs>\n        <path id=\"DejaVuSans-56\" d=\"M 1831 0 \nL 50 4666 \nL 709 4666 \nL 2188 738 \nL 3669 4666 \nL 4325 4666 \nL 2547 0 \nL 1831 0 \nz\n\" transform=\"scale(0.015625)\"/>\n       </defs>\n       <use xlink:href=\"#DejaVuSans-54\"/>\n       <use xlink:href=\"#DejaVuSans-4f\" x=\"61.083984\"/>\n       <use xlink:href=\"#DejaVuSans-56\" x=\"138.044922\"/>\n      </g>\n     </g>\n    </g>\n    <g id=\"xtick_21\">\n     <g id=\"line2d_21\">\n      <g>\n       <use xlink:href=\"#mb422266e8a\" x=\"258.945458\" y=\"277.111219\" style=\"stroke: #000000; stroke-width: 0.8\"/>\n      </g>\n     </g>\n     <g id=\"text_21\">\n      <!-- STL -->\n      <g transform=\"translate(261.704833 302.139344)rotate(-90)scale(0.1 -0.1)\">\n       <use xlink:href=\"#DejaVuSans-53\"/>\n       <use xlink:href=\"#DejaVuSans-54\" x=\"63.476562\"/>\n       <use xlink:href=\"#DejaVuSans-4c\" x=\"124.560547\"/>\n      </g>\n     </g>\n    </g>\n    <g id=\"xtick_22\">\n     <g id=\"line2d_22\">\n      <g>\n       <use xlink:href=\"#mb422266e8a\" x=\"269.526792\" y=\"277.111219\" style=\"stroke: #000000; stroke-width: 0.8\"/>\n      </g>\n     </g>\n     <g id=\"text_22\">\n      <!-- BLK -->\n      <g transform=\"translate(272.286167 303.101844)rotate(-90)scale(0.1 -0.1)\">\n       <defs>\n        <path id=\"DejaVuSans-4b\" d=\"M 628 4666 \nL 1259 4666 \nL 1259 2694 \nL 3353 4666 \nL 4166 4666 \nL 1850 2491 \nL 4331 0 \nL 3500 0 \nL 1259 2247 \nL 1259 0 \nL 628 0 \nL 628 4666 \nz\n\" transform=\"scale(0.015625)\"/>\n       </defs>\n       <use xlink:href=\"#DejaVuSans-42\"/>\n       <use xlink:href=\"#DejaVuSans-4c\" x=\"68.603516\"/>\n       <use xlink:href=\"#DejaVuSans-4b\" x=\"124.316406\"/>\n      </g>\n     </g>\n    </g>\n    <g id=\"xtick_23\">\n     <g id=\"line2d_23\">\n      <g>\n       <use xlink:href=\"#mb422266e8a\" x=\"280.108125\" y=\"277.111219\" style=\"stroke: #000000; stroke-width: 0.8\"/>\n      </g>\n     </g>\n     <g id=\"text_23\">\n      <!-- PF -->\n      <g transform=\"translate(282.8675 295.892469)rotate(-90)scale(0.1 -0.1)\">\n       <use xlink:href=\"#DejaVuSans-50\"/>\n       <use xlink:href=\"#DejaVuSans-46\" x=\"60.302734\"/>\n      </g>\n     </g>\n    </g>\n    <g id=\"xtick_24\">\n     <g id=\"line2d_24\">\n      <g>\n       <use xlink:href=\"#mb422266e8a\" x=\"290.689458\" y=\"277.111219\" style=\"stroke: #000000; stroke-width: 0.8\"/>\n      </g>\n     </g>\n     <g id=\"text_24\">\n      <!-- FP -->\n      <g transform=\"translate(293.448833 295.892469)rotate(-90)scale(0.1 -0.1)\">\n       <use xlink:href=\"#DejaVuSans-46\"/>\n       <use xlink:href=\"#DejaVuSans-50\" x=\"57.519531\"/>\n      </g>\n     </g>\n    </g>\n    <g id=\"xtick_25\">\n     <g id=\"line2d_25\">\n      <g>\n       <use xlink:href=\"#mb422266e8a\" x=\"301.270792\" y=\"277.111219\" style=\"stroke: #000000; stroke-width: 0.8\"/>\n      </g>\n     </g>\n     <g id=\"text_25\">\n      <!-- DD2 -->\n      <g transform=\"translate(304.030167 305.873719)rotate(-90)scale(0.1 -0.1)\">\n       <defs>\n        <path id=\"DejaVuSans-32\" d=\"M 1228 531 \nL 3431 531 \nL 3431 0 \nL 469 0 \nL 469 531 \nQ 828 903 1448 1529 \nQ 2069 2156 2228 2338 \nQ 2531 2678 2651 2914 \nQ 2772 3150 2772 3378 \nQ 2772 3750 2511 3984 \nQ 2250 4219 1831 4219 \nQ 1534 4219 1204 4116 \nQ 875 4013 500 3803 \nL 500 4441 \nQ 881 4594 1212 4672 \nQ 1544 4750 1819 4750 \nQ 2544 4750 2975 4387 \nQ 3406 4025 3406 3419 \nQ 3406 3131 3298 2873 \nQ 3191 2616 2906 2266 \nQ 2828 2175 2409 1742 \nQ 1991 1309 1228 531 \nz\n\" transform=\"scale(0.015625)\"/>\n       </defs>\n       <use xlink:href=\"#DejaVuSans-44\"/>\n       <use xlink:href=\"#DejaVuSans-44\" x=\"77.001953\"/>\n       <use xlink:href=\"#DejaVuSans-32\" x=\"154.003906\"/>\n      </g>\n     </g>\n    </g>\n    <g id=\"xtick_26\">\n     <g id=\"line2d_26\">\n      <g>\n       <use xlink:href=\"#mb422266e8a\" x=\"311.852125\" y=\"277.111219\" style=\"stroke: #000000; stroke-width: 0.8\"/>\n      </g>\n     </g>\n     <g id=\"text_26\">\n      <!-- TD3 -->\n      <g transform=\"translate(314.6115 304.281531)rotate(-90)scale(0.1 -0.1)\">\n       <use xlink:href=\"#DejaVuSans-54\"/>\n       <use xlink:href=\"#DejaVuSans-44\" x=\"61.083984\"/>\n       <use xlink:href=\"#DejaVuSans-33\" x=\"138.085938\"/>\n      </g>\n     </g>\n    </g>\n    <g id=\"xtick_27\">\n     <g id=\"line2d_27\">\n      <g>\n       <use xlink:href=\"#mb422266e8a\" x=\"322.433458\" y=\"277.111219\" style=\"stroke: #000000; stroke-width: 0.8\"/>\n      </g>\n     </g>\n     <g id=\"text_27\">\n      <!-- X... -->\n      <g transform=\"translate(325.192833 300.495594)rotate(-90)scale(0.1 -0.1)\">\n       <use xlink:href=\"#DejaVuSans-58\"/>\n       <use xlink:href=\"#DejaVuSans-2e\" x=\"68.505859\"/>\n       <use xlink:href=\"#DejaVuSans-2e\" x=\"100.292969\"/>\n       <use xlink:href=\"#DejaVuSans-2e\" x=\"132.080078\"/>\n      </g>\n     </g>\n    </g>\n   </g>\n   <g id=\"matplotlib.axis_2\">\n    <g id=\"ytick_1\">\n     <g id=\"line2d_28\">\n      <defs>\n       <path id=\"m77d1f96a9c\" d=\"M 0 0 \nL -3.5 0 \n\" style=\"stroke: #000000; stroke-width: 0.8\"/>\n      </defs>\n      <g>\n       <use xlink:href=\"#m77d1f96a9c\" x=\"42.028125\" y=\"15.927219\" style=\"stroke: #000000; stroke-width: 0.8\"/>\n      </g>\n     </g>\n     <g id=\"text_28\">\n      <!-- AGE -->\n      <g transform=\"translate(14.295313 18.686594)scale(0.1 -0.1)\">\n       <use xlink:href=\"#DejaVuSans-41\"/>\n       <use xlink:href=\"#DejaVuSans-47\" x=\"66.658203\"/>\n       <use xlink:href=\"#DejaVuSans-45\" x=\"144.148438\"/>\n      </g>\n     </g>\n    </g>\n    <g id=\"ytick_2\">\n     <g id=\"line2d_29\">\n      <g>\n       <use xlink:href=\"#m77d1f96a9c\" x=\"42.028125\" y=\"35.639219\" style=\"stroke: #000000; stroke-width: 0.8\"/>\n      </g>\n     </g>\n     <g id=\"text_29\">\n      <!-- W -->\n      <g transform=\"translate(25.140625 38.398594)scale(0.1 -0.1)\">\n       <use xlink:href=\"#DejaVuSans-57\"/>\n      </g>\n     </g>\n    </g>\n    <g id=\"ytick_3\">\n     <g id=\"line2d_30\">\n      <g>\n       <use xlink:href=\"#m77d1f96a9c\" x=\"42.028125\" y=\"55.351219\" style=\"stroke: #000000; stroke-width: 0.8\"/>\n      </g>\n     </g>\n     <g id=\"text_30\">\n      <!-- MIN -->\n      <g transform=\"translate(15.96875 58.110594)scale(0.1 -0.1)\">\n       <use xlink:href=\"#DejaVuSans-4d\"/>\n       <use xlink:href=\"#DejaVuSans-49\" x=\"86.279297\"/>\n       <use xlink:href=\"#DejaVuSans-4e\" x=\"115.771484\"/>\n      </g>\n     </g>\n    </g>\n    <g id=\"ytick_4\">\n     <g id=\"line2d_31\">\n      <g>\n       <use xlink:href=\"#m77d1f96a9c\" x=\"42.028125\" y=\"75.063219\" style=\"stroke: #000000; stroke-width: 0.8\"/>\n      </g>\n     </g>\n     <g id=\"text_31\">\n      <!-- FGM -->\n      <g transform=\"translate(12.9 77.822594)scale(0.1 -0.1)\">\n       <use xlink:href=\"#DejaVuSans-46\"/>\n       <use xlink:href=\"#DejaVuSans-47\" x=\"57.519531\"/>\n       <use xlink:href=\"#DejaVuSans-4d\" x=\"135.009766\"/>\n      </g>\n     </g>\n    </g>\n    <g id=\"ytick_5\">\n     <g id=\"line2d_32\">\n      <g>\n       <use xlink:href=\"#m77d1f96a9c\" x=\"42.028125\" y=\"94.775219\" style=\"stroke: #000000; stroke-width: 0.8\"/>\n      </g>\n     </g>\n     <g id=\"text_32\">\n      <!-- FG. -->\n      <g transform=\"translate(18.35 97.534594)scale(0.1 -0.1)\">\n       <use xlink:href=\"#DejaVuSans-46\"/>\n       <use xlink:href=\"#DejaVuSans-47\" x=\"57.519531\"/>\n       <use xlink:href=\"#DejaVuSans-2e\" x=\"135.009766\"/>\n      </g>\n     </g>\n    </g>\n    <g id=\"ytick_6\">\n     <g id=\"line2d_33\">\n      <g>\n       <use xlink:href=\"#m77d1f96a9c\" x=\"42.028125\" y=\"114.487219\" style=\"stroke: #000000; stroke-width: 0.8\"/>\n      </g>\n     </g>\n     <g id=\"text_33\">\n      <!-- X3PA -->\n      <g transform=\"translate(9.582813 117.246594)scale(0.1 -0.1)\">\n       <use xlink:href=\"#DejaVuSans-58\"/>\n       <use xlink:href=\"#DejaVuSans-33\" x=\"68.505859\"/>\n       <use xlink:href=\"#DejaVuSans-50\" x=\"132.128906\"/>\n       <use xlink:href=\"#DejaVuSans-41\" x=\"186.056641\"/>\n      </g>\n     </g>\n    </g>\n    <g id=\"ytick_7\">\n     <g id=\"line2d_34\">\n      <g>\n       <use xlink:href=\"#m77d1f96a9c\" x=\"42.028125\" y=\"134.199219\" style=\"stroke: #000000; stroke-width: 0.8\"/>\n      </g>\n     </g>\n     <g id=\"text_34\">\n      <!-- FTM -->\n      <g transform=\"translate(14.715625 136.958594)scale(0.1 -0.1)\">\n       <use xlink:href=\"#DejaVuSans-46\"/>\n       <use xlink:href=\"#DejaVuSans-54\" x=\"55.769531\"/>\n       <use xlink:href=\"#DejaVuSans-4d\" x=\"116.853516\"/>\n      </g>\n     </g>\n    </g>\n    <g id=\"ytick_8\">\n     <g id=\"line2d_35\">\n      <g>\n       <use xlink:href=\"#m77d1f96a9c\" x=\"42.028125\" y=\"153.911219\" style=\"stroke: #000000; stroke-width: 0.8\"/>\n      </g>\n     </g>\n     <g id=\"text_35\">\n      <!-- FT. -->\n      <g transform=\"translate(21.353125 156.670594)scale(0.1 -0.1)\">\n       <use xlink:href=\"#DejaVuSans-46\"/>\n       <use xlink:href=\"#DejaVuSans-54\" x=\"55.769531\"/>\n       <use xlink:href=\"#DejaVuSans-2e\" x=\"104.978516\"/>\n      </g>\n     </g>\n    </g>\n    <g id=\"ytick_9\">\n     <g id=\"line2d_36\">\n      <g>\n       <use xlink:href=\"#m77d1f96a9c\" x=\"42.028125\" y=\"173.623219\" style=\"stroke: #000000; stroke-width: 0.8\"/>\n      </g>\n     </g>\n     <g id=\"text_36\">\n      <!-- DREB -->\n      <g transform=\"translate(7.2 176.382594)scale(0.1 -0.1)\">\n       <use xlink:href=\"#DejaVuSans-44\"/>\n       <use xlink:href=\"#DejaVuSans-52\" x=\"77.001953\"/>\n       <use xlink:href=\"#DejaVuSans-45\" x=\"146.484375\"/>\n       <use xlink:href=\"#DejaVuSans-42\" x=\"209.667969\"/>\n      </g>\n     </g>\n    </g>\n    <g id=\"ytick_10\">\n     <g id=\"line2d_37\">\n      <g>\n       <use xlink:href=\"#m77d1f96a9c\" x=\"42.028125\" y=\"193.335219\" style=\"stroke: #000000; stroke-width: 0.8\"/>\n      </g>\n     </g>\n     <g id=\"text_37\">\n      <!-- AST -->\n      <g transform=\"translate(15.73125 196.094594)scale(0.1 -0.1)\">\n       <use xlink:href=\"#DejaVuSans-41\"/>\n       <use xlink:href=\"#DejaVuSans-53\" x=\"68.408203\"/>\n       <use xlink:href=\"#DejaVuSans-54\" x=\"131.884766\"/>\n      </g>\n     </g>\n    </g>\n    <g id=\"ytick_11\">\n     <g id=\"line2d_38\">\n      <g>\n       <use xlink:href=\"#m77d1f96a9c\" x=\"42.028125\" y=\"213.047219\" style=\"stroke: #000000; stroke-width: 0.8\"/>\n      </g>\n     </g>\n     <g id=\"text_38\">\n      <!-- STL -->\n      <g transform=\"translate(17 215.806594)scale(0.1 -0.1)\">\n       <use xlink:href=\"#DejaVuSans-53\"/>\n       <use xlink:href=\"#DejaVuSans-54\" x=\"63.476562\"/>\n       <use xlink:href=\"#DejaVuSans-4c\" x=\"124.560547\"/>\n      </g>\n     </g>\n    </g>\n    <g id=\"ytick_12\">\n     <g id=\"line2d_39\">\n      <g>\n       <use xlink:href=\"#m77d1f96a9c\" x=\"42.028125\" y=\"232.759219\" style=\"stroke: #000000; stroke-width: 0.8\"/>\n      </g>\n     </g>\n     <g id=\"text_39\">\n      <!-- PF -->\n      <g transform=\"translate(23.246875 235.518594)scale(0.1 -0.1)\">\n       <use xlink:href=\"#DejaVuSans-50\"/>\n       <use xlink:href=\"#DejaVuSans-46\" x=\"60.302734\"/>\n      </g>\n     </g>\n    </g>\n    <g id=\"ytick_13\">\n     <g id=\"line2d_40\">\n      <g>\n       <use xlink:href=\"#m77d1f96a9c\" x=\"42.028125\" y=\"252.471219\" style=\"stroke: #000000; stroke-width: 0.8\"/>\n      </g>\n     </g>\n     <g id=\"text_40\">\n      <!-- DD2 -->\n      <g transform=\"translate(13.265625 255.230594)scale(0.1 -0.1)\">\n       <use xlink:href=\"#DejaVuSans-44\"/>\n       <use xlink:href=\"#DejaVuSans-44\" x=\"77.001953\"/>\n       <use xlink:href=\"#DejaVuSans-32\" x=\"154.003906\"/>\n      </g>\n     </g>\n    </g>\n    <g id=\"ytick_14\">\n     <g id=\"line2d_41\">\n      <g>\n       <use xlink:href=\"#m77d1f96a9c\" x=\"42.028125\" y=\"272.183219\" style=\"stroke: #000000; stroke-width: 0.8\"/>\n      </g>\n     </g>\n     <g id=\"text_41\">\n      <!-- X... -->\n      <g transform=\"translate(18.64375 274.942594)scale(0.1 -0.1)\">\n       <use xlink:href=\"#DejaVuSans-58\"/>\n       <use xlink:href=\"#DejaVuSans-2e\" x=\"68.505859\"/>\n       <use xlink:href=\"#DejaVuSans-2e\" x=\"100.292969\"/>\n       <use xlink:href=\"#DejaVuSans-2e\" x=\"132.080078\"/>\n      </g>\n     </g>\n    </g>\n   </g>\n  </g>\n  <g id=\"axes_2\">\n   <g id=\"patch_3\">\n    <path d=\"M 345.580125 277.111219 \nL 358.885725 277.111219 \nL 358.885725 10.999219 \nL 345.580125 10.999219 \nz\n\" style=\"fill: #ffffff\"/>\n   </g>\n   <g id=\"patch_4\">\n    <path clip-path=\"url(#p9078c7a4c9)\" style=\"fill: #ffffff; stroke: #ffffff; stroke-width: 0.01; stroke-linejoin: miter\"/>\n   </g>\n   <image xlink:href=\"data:image/png;base64,\niVBORw0KGgoAAAANSUhEUgAAABIAAAFxCAYAAAB+2fgXAAAB70lEQVR4nO2cwQ3DMAwD7dRdovvvmY4gP+5xIKgBiFAkJQFJuz/f37uAOptAWWudvRmoB0FZ4BOdvWKpPT7VoGYbqWGqUT3yhZZSzUgtV7WGdgYKlh+kxjxUnT1XqV0AcetId0MmU+uoHYF81LjQ5vYIo0YBkfJDQMnryKea7zzW9YhCSp5HwapFh5YppfyyHnUdzZV8ROiylu1spoTziIqIkJpPNZ0hK/9cxnWk27Q15AUQ8o1GurOZEspvdDYFBDk72JBGZ1PzKNnZEBDo7NwtoptH0c5OntkMN+Go9YWWU+1lmhTdo1xnbx81GxBpSFnWlPJTPYLiHyw/+TITU81mSPBtFtQjqtnkZ4wYNQSnzr4orNnRhoQuLaOzOWrB8iM4xnlEyW+cR5iz26OpyHlEAenmEUctV7UVPLM5+RkgjhoFVWoXQNQTkc6GXtOX2liks6mPKyAgYWije4Q520YN+1GFjxqomu33/bqsGeWHrggjNU7+WGdT8hupQaoZnZ0bWiprQmrBqnFZ4w4t32DLlZ9ztk017vQTblqZalj6jT2q/FOR86hbZATKndmldgHko2ZzdjA1o/y51Pb+MEA+ajpnB1M762F81NDOxVGj0h/s7GBqDe1c5KaNpVZDXgBR6ff9V71usJHUGEP+AbSdLqFu9NNTAAAAAElFTkSuQmCC\" id=\"image4dfbc87449\" transform=\"scale(1 -1)translate(0 -265.68)\" x=\"345.6\" y=\"-10.8\" width=\"12.96\" height=\"265.68\"/>\n   <g id=\"matplotlib.axis_3\">\n    <g id=\"ytick_15\">\n     <g id=\"line2d_42\">\n      <defs>\n       <path id=\"mf24689a9e4\" d=\"M 0 0 \nL 3.5 0 \n\" style=\"stroke: #000000; stroke-width: 0.8\"/>\n      </defs>\n      <g>\n       <use xlink:href=\"#mf24689a9e4\" x=\"358.885725\" y=\"274.390466\" style=\"stroke: #000000; stroke-width: 0.8\"/>\n      </g>\n     </g>\n     <g id=\"text_42\">\n      <!-- −0.2 -->\n      <g transform=\"translate(365.885725 278.189684)scale(0.1 -0.1)\">\n       <defs>\n        <path id=\"DejaVuSans-2212\" d=\"M 678 2272 \nL 4684 2272 \nL 4684 1741 \nL 678 1741 \nL 678 2272 \nz\n\" transform=\"scale(0.015625)\"/>\n        <path id=\"DejaVuSans-30\" d=\"M 2034 4250 \nQ 1547 4250 1301 3770 \nQ 1056 3291 1056 2328 \nQ 1056 1369 1301 889 \nQ 1547 409 2034 409 \nQ 2525 409 2770 889 \nQ 3016 1369 3016 2328 \nQ 3016 3291 2770 3770 \nQ 2525 4250 2034 4250 \nz\nM 2034 4750 \nQ 2819 4750 3233 4129 \nQ 3647 3509 3647 2328 \nQ 3647 1150 3233 529 \nQ 2819 -91 2034 -91 \nQ 1250 -91 836 529 \nQ 422 1150 422 2328 \nQ 422 3509 836 4129 \nQ 1250 4750 2034 4750 \nz\n\" transform=\"scale(0.015625)\"/>\n       </defs>\n       <use xlink:href=\"#DejaVuSans-2212\"/>\n       <use xlink:href=\"#DejaVuSans-30\" x=\"83.789062\"/>\n       <use xlink:href=\"#DejaVuSans-2e\" x=\"147.412109\"/>\n       <use xlink:href=\"#DejaVuSans-32\" x=\"179.199219\"/>\n      </g>\n     </g>\n    </g>\n    <g id=\"ytick_16\">\n     <g id=\"line2d_43\">\n      <g>\n       <use xlink:href=\"#mf24689a9e4\" x=\"358.885725\" y=\"230.491924\" style=\"stroke: #000000; stroke-width: 0.8\"/>\n      </g>\n     </g>\n     <g id=\"text_43\">\n      <!-- 0.0 -->\n      <g transform=\"translate(365.885725 234.291143)scale(0.1 -0.1)\">\n       <use xlink:href=\"#DejaVuSans-30\"/>\n       <use xlink:href=\"#DejaVuSans-2e\" x=\"63.623047\"/>\n       <use xlink:href=\"#DejaVuSans-30\" x=\"95.410156\"/>\n      </g>\n     </g>\n    </g>\n    <g id=\"ytick_17\">\n     <g id=\"line2d_44\">\n      <g>\n       <use xlink:href=\"#mf24689a9e4\" x=\"358.885725\" y=\"186.593383\" style=\"stroke: #000000; stroke-width: 0.8\"/>\n      </g>\n     </g>\n     <g id=\"text_44\">\n      <!-- 0.2 -->\n      <g transform=\"translate(365.885725 190.392602)scale(0.1 -0.1)\">\n       <use xlink:href=\"#DejaVuSans-30\"/>\n       <use xlink:href=\"#DejaVuSans-2e\" x=\"63.623047\"/>\n       <use xlink:href=\"#DejaVuSans-32\" x=\"95.410156\"/>\n      </g>\n     </g>\n    </g>\n    <g id=\"ytick_18\">\n     <g id=\"line2d_45\">\n      <g>\n       <use xlink:href=\"#mf24689a9e4\" x=\"358.885725\" y=\"142.694842\" style=\"stroke: #000000; stroke-width: 0.8\"/>\n      </g>\n     </g>\n     <g id=\"text_45\">\n      <!-- 0.4 -->\n      <g transform=\"translate(365.885725 146.494061)scale(0.1 -0.1)\">\n       <defs>\n        <path id=\"DejaVuSans-34\" d=\"M 2419 4116 \nL 825 1625 \nL 2419 1625 \nL 2419 4116 \nz\nM 2253 4666 \nL 3047 4666 \nL 3047 1625 \nL 3713 1625 \nL 3713 1100 \nL 3047 1100 \nL 3047 0 \nL 2419 0 \nL 2419 1100 \nL 313 1100 \nL 313 1709 \nL 2253 4666 \nz\n\" transform=\"scale(0.015625)\"/>\n       </defs>\n       <use xlink:href=\"#DejaVuSans-30\"/>\n       <use xlink:href=\"#DejaVuSans-2e\" x=\"63.623047\"/>\n       <use xlink:href=\"#DejaVuSans-34\" x=\"95.410156\"/>\n      </g>\n     </g>\n    </g>\n    <g id=\"ytick_19\">\n     <g id=\"line2d_46\">\n      <g>\n       <use xlink:href=\"#mf24689a9e4\" x=\"358.885725\" y=\"98.796301\" style=\"stroke: #000000; stroke-width: 0.8\"/>\n      </g>\n     </g>\n     <g id=\"text_46\">\n      <!-- 0.6 -->\n      <g transform=\"translate(365.885725 102.59552)scale(0.1 -0.1)\">\n       <defs>\n        <path id=\"DejaVuSans-36\" d=\"M 2113 2584 \nQ 1688 2584 1439 2293 \nQ 1191 2003 1191 1497 \nQ 1191 994 1439 701 \nQ 1688 409 2113 409 \nQ 2538 409 2786 701 \nQ 3034 994 3034 1497 \nQ 3034 2003 2786 2293 \nQ 2538 2584 2113 2584 \nz\nM 3366 4563 \nL 3366 3988 \nQ 3128 4100 2886 4159 \nQ 2644 4219 2406 4219 \nQ 1781 4219 1451 3797 \nQ 1122 3375 1075 2522 \nQ 1259 2794 1537 2939 \nQ 1816 3084 2150 3084 \nQ 2853 3084 3261 2657 \nQ 3669 2231 3669 1497 \nQ 3669 778 3244 343 \nQ 2819 -91 2113 -91 \nQ 1303 -91 875 529 \nQ 447 1150 447 2328 \nQ 447 3434 972 4092 \nQ 1497 4750 2381 4750 \nQ 2619 4750 2861 4703 \nQ 3103 4656 3366 4563 \nz\n\" transform=\"scale(0.015625)\"/>\n       </defs>\n       <use xlink:href=\"#DejaVuSans-30\"/>\n       <use xlink:href=\"#DejaVuSans-2e\" x=\"63.623047\"/>\n       <use xlink:href=\"#DejaVuSans-36\" x=\"95.410156\"/>\n      </g>\n     </g>\n    </g>\n    <g id=\"ytick_20\">\n     <g id=\"line2d_47\">\n      <g>\n       <use xlink:href=\"#mf24689a9e4\" x=\"358.885725\" y=\"54.89776\" style=\"stroke: #000000; stroke-width: 0.8\"/>\n      </g>\n     </g>\n     <g id=\"text_47\">\n      <!-- 0.8 -->\n      <g transform=\"translate(365.885725 58.696979)scale(0.1 -0.1)\">\n       <defs>\n        <path id=\"DejaVuSans-38\" d=\"M 2034 2216 \nQ 1584 2216 1326 1975 \nQ 1069 1734 1069 1313 \nQ 1069 891 1326 650 \nQ 1584 409 2034 409 \nQ 2484 409 2743 651 \nQ 3003 894 3003 1313 \nQ 3003 1734 2745 1975 \nQ 2488 2216 2034 2216 \nz\nM 1403 2484 \nQ 997 2584 770 2862 \nQ 544 3141 544 3541 \nQ 544 4100 942 4425 \nQ 1341 4750 2034 4750 \nQ 2731 4750 3128 4425 \nQ 3525 4100 3525 3541 \nQ 3525 3141 3298 2862 \nQ 3072 2584 2669 2484 \nQ 3125 2378 3379 2068 \nQ 3634 1759 3634 1313 \nQ 3634 634 3220 271 \nQ 2806 -91 2034 -91 \nQ 1263 -91 848 271 \nQ 434 634 434 1313 \nQ 434 1759 690 2068 \nQ 947 2378 1403 2484 \nz\nM 1172 3481 \nQ 1172 3119 1398 2916 \nQ 1625 2713 2034 2713 \nQ 2441 2713 2670 2916 \nQ 2900 3119 2900 3481 \nQ 2900 3844 2670 4047 \nQ 2441 4250 2034 4250 \nQ 1625 4250 1398 4047 \nQ 1172 3844 1172 3481 \nz\n\" transform=\"scale(0.015625)\"/>\n       </defs>\n       <use xlink:href=\"#DejaVuSans-30\"/>\n       <use xlink:href=\"#DejaVuSans-2e\" x=\"63.623047\"/>\n       <use xlink:href=\"#DejaVuSans-38\" x=\"95.410156\"/>\n      </g>\n     </g>\n    </g>\n    <g id=\"ytick_21\">\n     <g id=\"line2d_48\">\n      <g>\n       <use xlink:href=\"#mf24689a9e4\" x=\"358.885725\" y=\"10.999219\" style=\"stroke: #000000; stroke-width: 0.8\"/>\n      </g>\n     </g>\n     <g id=\"text_48\">\n      <!-- 1.0 -->\n      <g transform=\"translate(365.885725 14.798437)scale(0.1 -0.1)\">\n       <defs>\n        <path id=\"DejaVuSans-31\" d=\"M 794 531 \nL 1825 531 \nL 1825 4091 \nL 703 3866 \nL 703 4441 \nL 1819 4666 \nL 2450 4666 \nL 2450 531 \nL 3481 531 \nL 3481 0 \nL 794 0 \nL 794 531 \nz\n\" transform=\"scale(0.015625)\"/>\n       </defs>\n       <use xlink:href=\"#DejaVuSans-31\"/>\n       <use xlink:href=\"#DejaVuSans-2e\" x=\"63.623047\"/>\n       <use xlink:href=\"#DejaVuSans-30\" x=\"95.410156\"/>\n      </g>\n     </g>\n    </g>\n   </g>\n   <g id=\"LineCollection_1\"/>\n   <g id=\"patch_5\">\n    <path d=\"M 345.580125 277.111219 \nL 352.232925 277.111219 \nL 358.885725 277.111219 \nL 358.885725 10.999219 \nL 352.232925 10.999219 \nL 345.580125 10.999219 \nL 345.580125 277.111219 \nz\n\" style=\"fill: none\"/>\n   </g>\n  </g>\n </g>\n <defs>\n  <clipPath id=\"pdb0404b8b9\">\n   <rect x=\"42.028125\" y=\"10.999219\" width=\"285.696\" height=\"266.112\"/>\n  </clipPath>\n  <clipPath id=\"p9078c7a4c9\">\n   <rect x=\"345.580125\" y=\"10.999219\" width=\"13.3056\" height=\"266.112\"/>\n  </clipPath>\n </defs>\n</svg>\n",
      "text/plain": [
       "<Figure size 640x480 with 2 Axes>"
      ]
     },
     "metadata": {},
     "output_type": "display_data"
    }
   ],
   "source": [
    "# Correlation between the variables\n",
    "corr = nba.corr()\n",
    "sns.heatmap(corr)\n",
    "plt.show()"
   ]
  },
  {
   "cell_type": "code",
   "execution_count": 9,
   "metadata": {},
   "outputs": [
    {
     "data": {
      "text/html": [
       "<div>\n",
       "<style scoped>\n",
       "    .dataframe tbody tr th:only-of-type {\n",
       "        vertical-align: middle;\n",
       "    }\n",
       "\n",
       "    .dataframe tbody tr th {\n",
       "        vertical-align: top;\n",
       "    }\n",
       "\n",
       "    .dataframe thead th {\n",
       "        text-align: right;\n",
       "    }\n",
       "</style>\n",
       "<table border=\"1\" class=\"dataframe\">\n",
       "  <thead>\n",
       "    <tr style=\"text-align: right;\">\n",
       "      <th></th>\n",
       "      <th>AGE</th>\n",
       "      <th>GP</th>\n",
       "      <th>W</th>\n",
       "      <th>L</th>\n",
       "      <th>MIN</th>\n",
       "      <th>PTS</th>\n",
       "      <th>FGM</th>\n",
       "      <th>FGA</th>\n",
       "      <th>FG.</th>\n",
       "      <th>X3PM</th>\n",
       "      <th>...</th>\n",
       "      <th>REB</th>\n",
       "      <th>AST</th>\n",
       "      <th>TOV</th>\n",
       "      <th>STL</th>\n",
       "      <th>BLK</th>\n",
       "      <th>PF</th>\n",
       "      <th>FP</th>\n",
       "      <th>DD2</th>\n",
       "      <th>TD3</th>\n",
       "      <th>X...</th>\n",
       "    </tr>\n",
       "  </thead>\n",
       "  <tbody>\n",
       "    <tr>\n",
       "      <th>AGE</th>\n",
       "      <td>-</td>\n",
       "      <td>**</td>\n",
       "      <td>***</td>\n",
       "      <td></td>\n",
       "      <td>***</td>\n",
       "      <td>*</td>\n",
       "      <td>*</td>\n",
       "      <td>*</td>\n",
       "      <td></td>\n",
       "      <td>***</td>\n",
       "      <td>...</td>\n",
       "      <td></td>\n",
       "      <td>***</td>\n",
       "      <td>*</td>\n",
       "      <td>*</td>\n",
       "      <td></td>\n",
       "      <td>*</td>\n",
       "      <td>**</td>\n",
       "      <td></td>\n",
       "      <td></td>\n",
       "      <td>**</td>\n",
       "    </tr>\n",
       "    <tr>\n",
       "      <th>GP</th>\n",
       "      <td>0.138</td>\n",
       "      <td>-</td>\n",
       "      <td>***</td>\n",
       "      <td>***</td>\n",
       "      <td>***</td>\n",
       "      <td>***</td>\n",
       "      <td>***</td>\n",
       "      <td>***</td>\n",
       "      <td>***</td>\n",
       "      <td>***</td>\n",
       "      <td>...</td>\n",
       "      <td>***</td>\n",
       "      <td>***</td>\n",
       "      <td>***</td>\n",
       "      <td>***</td>\n",
       "      <td>***</td>\n",
       "      <td>***</td>\n",
       "      <td>***</td>\n",
       "      <td>***</td>\n",
       "      <td>*</td>\n",
       "      <td>***</td>\n",
       "    </tr>\n",
       "    <tr>\n",
       "      <th>W</th>\n",
       "      <td>0.185</td>\n",
       "      <td>0.867</td>\n",
       "      <td>-</td>\n",
       "      <td>***</td>\n",
       "      <td>***</td>\n",
       "      <td>***</td>\n",
       "      <td>***</td>\n",
       "      <td>***</td>\n",
       "      <td>***</td>\n",
       "      <td>***</td>\n",
       "      <td>...</td>\n",
       "      <td>***</td>\n",
       "      <td>***</td>\n",
       "      <td>***</td>\n",
       "      <td>***</td>\n",
       "      <td>***</td>\n",
       "      <td>***</td>\n",
       "      <td>***</td>\n",
       "      <td>***</td>\n",
       "      <td>**</td>\n",
       "      <td>***</td>\n",
       "    </tr>\n",
       "    <tr>\n",
       "      <th>L</th>\n",
       "      <td>0.044</td>\n",
       "      <td>0.84</td>\n",
       "      <td>0.457</td>\n",
       "      <td>-</td>\n",
       "      <td>***</td>\n",
       "      <td>***</td>\n",
       "      <td>***</td>\n",
       "      <td>***</td>\n",
       "      <td>***</td>\n",
       "      <td>***</td>\n",
       "      <td>...</td>\n",
       "      <td>***</td>\n",
       "      <td>***</td>\n",
       "      <td>***</td>\n",
       "      <td>***</td>\n",
       "      <td>***</td>\n",
       "      <td>***</td>\n",
       "      <td>***</td>\n",
       "      <td>***</td>\n",
       "      <td></td>\n",
       "      <td>***</td>\n",
       "    </tr>\n",
       "    <tr>\n",
       "      <th>MIN</th>\n",
       "      <td>0.152</td>\n",
       "      <td>0.71</td>\n",
       "      <td>0.589</td>\n",
       "      <td>0.626</td>\n",
       "      <td>-</td>\n",
       "      <td>***</td>\n",
       "      <td>***</td>\n",
       "      <td>***</td>\n",
       "      <td>***</td>\n",
       "      <td>***</td>\n",
       "      <td>...</td>\n",
       "      <td>***</td>\n",
       "      <td>***</td>\n",
       "      <td>***</td>\n",
       "      <td>***</td>\n",
       "      <td>***</td>\n",
       "      <td>***</td>\n",
       "      <td>***</td>\n",
       "      <td>***</td>\n",
       "      <td>***</td>\n",
       "      <td>***</td>\n",
       "    </tr>\n",
       "    <tr>\n",
       "      <th>PTS</th>\n",
       "      <td>0.11</td>\n",
       "      <td>0.579</td>\n",
       "      <td>0.507</td>\n",
       "      <td>0.479</td>\n",
       "      <td>0.881</td>\n",
       "      <td>-</td>\n",
       "      <td>***</td>\n",
       "      <td>***</td>\n",
       "      <td>***</td>\n",
       "      <td>***</td>\n",
       "      <td>...</td>\n",
       "      <td>***</td>\n",
       "      <td>***</td>\n",
       "      <td>***</td>\n",
       "      <td>***</td>\n",
       "      <td>***</td>\n",
       "      <td>***</td>\n",
       "      <td>***</td>\n",
       "      <td>***</td>\n",
       "      <td>***</td>\n",
       "      <td>***</td>\n",
       "    </tr>\n",
       "    <tr>\n",
       "      <th>FGM</th>\n",
       "      <td>0.091</td>\n",
       "      <td>0.584</td>\n",
       "      <td>0.509</td>\n",
       "      <td>0.487</td>\n",
       "      <td>0.882</td>\n",
       "      <td>0.99</td>\n",
       "      <td>-</td>\n",
       "      <td>***</td>\n",
       "      <td>***</td>\n",
       "      <td>***</td>\n",
       "      <td>...</td>\n",
       "      <td>***</td>\n",
       "      <td>***</td>\n",
       "      <td>***</td>\n",
       "      <td>***</td>\n",
       "      <td>***</td>\n",
       "      <td>***</td>\n",
       "      <td>***</td>\n",
       "      <td>***</td>\n",
       "      <td>***</td>\n",
       "      <td>***</td>\n",
       "    </tr>\n",
       "    <tr>\n",
       "      <th>FGA</th>\n",
       "      <td>0.103</td>\n",
       "      <td>0.568</td>\n",
       "      <td>0.48</td>\n",
       "      <td>0.489</td>\n",
       "      <td>0.893</td>\n",
       "      <td>0.982</td>\n",
       "      <td>0.977</td>\n",
       "      <td>-</td>\n",
       "      <td>***</td>\n",
       "      <td>***</td>\n",
       "      <td>...</td>\n",
       "      <td>***</td>\n",
       "      <td>***</td>\n",
       "      <td>***</td>\n",
       "      <td>***</td>\n",
       "      <td>***</td>\n",
       "      <td>***</td>\n",
       "      <td>***</td>\n",
       "      <td>***</td>\n",
       "      <td>***</td>\n",
       "      <td>***</td>\n",
       "    </tr>\n",
       "    <tr>\n",
       "      <th>FG.</th>\n",
       "      <td>0.046</td>\n",
       "      <td>0.312</td>\n",
       "      <td>0.291</td>\n",
       "      <td>0.239</td>\n",
       "      <td>0.259</td>\n",
       "      <td>0.282</td>\n",
       "      <td>0.327</td>\n",
       "      <td>0.193</td>\n",
       "      <td>-</td>\n",
       "      <td></td>\n",
       "      <td>...</td>\n",
       "      <td>***</td>\n",
       "      <td>*</td>\n",
       "      <td>***</td>\n",
       "      <td>***</td>\n",
       "      <td>***</td>\n",
       "      <td>***</td>\n",
       "      <td>***</td>\n",
       "      <td>***</td>\n",
       "      <td></td>\n",
       "      <td>**</td>\n",
       "    </tr>\n",
       "    <tr>\n",
       "      <th>X3PM</th>\n",
       "      <td>0.187</td>\n",
       "      <td>0.457</td>\n",
       "      <td>0.419</td>\n",
       "      <td>0.359</td>\n",
       "      <td>0.67</td>\n",
       "      <td>0.68</td>\n",
       "      <td>0.617</td>\n",
       "      <td>0.715</td>\n",
       "      <td>-0.031</td>\n",
       "      <td>-</td>\n",
       "      <td>...</td>\n",
       "      <td>***</td>\n",
       "      <td>***</td>\n",
       "      <td>***</td>\n",
       "      <td>***</td>\n",
       "      <td></td>\n",
       "      <td>***</td>\n",
       "      <td>***</td>\n",
       "      <td></td>\n",
       "      <td>**</td>\n",
       "      <td>***</td>\n",
       "    </tr>\n",
       "    <tr>\n",
       "      <th>X3PA</th>\n",
       "      <td>0.179</td>\n",
       "      <td>0.439</td>\n",
       "      <td>0.392</td>\n",
       "      <td>0.357</td>\n",
       "      <td>0.679</td>\n",
       "      <td>0.685</td>\n",
       "      <td>0.62</td>\n",
       "      <td>0.733</td>\n",
       "      <td>-0.095</td>\n",
       "      <td>0.982</td>\n",
       "      <td>...</td>\n",
       "      <td>***</td>\n",
       "      <td>***</td>\n",
       "      <td>***</td>\n",
       "      <td>***</td>\n",
       "      <td></td>\n",
       "      <td>***</td>\n",
       "      <td>***</td>\n",
       "      <td>*</td>\n",
       "      <td>***</td>\n",
       "      <td>***</td>\n",
       "    </tr>\n",
       "    <tr>\n",
       "      <th>X3P.</th>\n",
       "      <td>0.077</td>\n",
       "      <td>0.261</td>\n",
       "      <td>0.242</td>\n",
       "      <td>0.202</td>\n",
       "      <td>0.287</td>\n",
       "      <td>0.257</td>\n",
       "      <td>0.227</td>\n",
       "      <td>0.272</td>\n",
       "      <td>0.118</td>\n",
       "      <td>0.517</td>\n",
       "      <td>...</td>\n",
       "      <td></td>\n",
       "      <td>***</td>\n",
       "      <td>***</td>\n",
       "      <td>***</td>\n",
       "      <td>**</td>\n",
       "      <td>**</td>\n",
       "      <td>***</td>\n",
       "      <td></td>\n",
       "      <td></td>\n",
       "      <td>*</td>\n",
       "    </tr>\n",
       "    <tr>\n",
       "      <th>FTM</th>\n",
       "      <td>0.092</td>\n",
       "      <td>0.448</td>\n",
       "      <td>0.392</td>\n",
       "      <td>0.372</td>\n",
       "      <td>0.716</td>\n",
       "      <td>0.901</td>\n",
       "      <td>0.861</td>\n",
       "      <td>0.843</td>\n",
       "      <td>0.228</td>\n",
       "      <td>0.476</td>\n",
       "      <td>...</td>\n",
       "      <td>***</td>\n",
       "      <td>***</td>\n",
       "      <td>***</td>\n",
       "      <td>***</td>\n",
       "      <td>***</td>\n",
       "      <td>***</td>\n",
       "      <td>***</td>\n",
       "      <td>***</td>\n",
       "      <td>***</td>\n",
       "      <td>***</td>\n",
       "    </tr>\n",
       "    <tr>\n",
       "      <th>FTA</th>\n",
       "      <td>0.073</td>\n",
       "      <td>0.44</td>\n",
       "      <td>0.381</td>\n",
       "      <td>0.37</td>\n",
       "      <td>0.716</td>\n",
       "      <td>0.891</td>\n",
       "      <td>0.863</td>\n",
       "      <td>0.83</td>\n",
       "      <td>0.27</td>\n",
       "      <td>0.413</td>\n",
       "      <td>...</td>\n",
       "      <td>***</td>\n",
       "      <td>***</td>\n",
       "      <td>***</td>\n",
       "      <td>***</td>\n",
       "      <td>***</td>\n",
       "      <td>***</td>\n",
       "      <td>***</td>\n",
       "      <td>***</td>\n",
       "      <td>***</td>\n",
       "      <td>***</td>\n",
       "    </tr>\n",
       "    <tr>\n",
       "      <th>FT.</th>\n",
       "      <td>0.182</td>\n",
       "      <td>0.48</td>\n",
       "      <td>0.4</td>\n",
       "      <td>0.42</td>\n",
       "      <td>0.451</td>\n",
       "      <td>0.388</td>\n",
       "      <td>0.361</td>\n",
       "      <td>0.385</td>\n",
       "      <td>0.192</td>\n",
       "      <td>0.379</td>\n",
       "      <td>...</td>\n",
       "      <td>***</td>\n",
       "      <td>***</td>\n",
       "      <td>***</td>\n",
       "      <td>***</td>\n",
       "      <td>**</td>\n",
       "      <td>***</td>\n",
       "      <td>***</td>\n",
       "      <td>*</td>\n",
       "      <td></td>\n",
       "      <td></td>\n",
       "    </tr>\n",
       "    <tr>\n",
       "      <th>OREB</th>\n",
       "      <td>-0.021</td>\n",
       "      <td>0.33</td>\n",
       "      <td>0.28</td>\n",
       "      <td>0.284</td>\n",
       "      <td>0.41</td>\n",
       "      <td>0.398</td>\n",
       "      <td>0.454</td>\n",
       "      <td>0.326</td>\n",
       "      <td>0.454</td>\n",
       "      <td>-0.131</td>\n",
       "      <td>...</td>\n",
       "      <td>***</td>\n",
       "      <td>*</td>\n",
       "      <td>***</td>\n",
       "      <td>***</td>\n",
       "      <td>***</td>\n",
       "      <td>***</td>\n",
       "      <td>***</td>\n",
       "      <td>***</td>\n",
       "      <td>**</td>\n",
       "      <td>**</td>\n",
       "    </tr>\n",
       "    <tr>\n",
       "      <th>DREB</th>\n",
       "      <td>0.109</td>\n",
       "      <td>0.504</td>\n",
       "      <td>0.447</td>\n",
       "      <td>0.413</td>\n",
       "      <td>0.721</td>\n",
       "      <td>0.714</td>\n",
       "      <td>0.735</td>\n",
       "      <td>0.665</td>\n",
       "      <td>0.363</td>\n",
       "      <td>0.272</td>\n",
       "      <td>...</td>\n",
       "      <td>***</td>\n",
       "      <td>***</td>\n",
       "      <td>***</td>\n",
       "      <td>***</td>\n",
       "      <td>***</td>\n",
       "      <td>***</td>\n",
       "      <td>***</td>\n",
       "      <td>***</td>\n",
       "      <td>***</td>\n",
       "      <td>***</td>\n",
       "    </tr>\n",
       "    <tr>\n",
       "      <th>REB</th>\n",
       "      <td>0.075</td>\n",
       "      <td>0.48</td>\n",
       "      <td>0.421</td>\n",
       "      <td>0.397</td>\n",
       "      <td>0.667</td>\n",
       "      <td>0.658</td>\n",
       "      <td>0.692</td>\n",
       "      <td>0.599</td>\n",
       "      <td>0.414</td>\n",
       "      <td>0.161</td>\n",
       "      <td>...</td>\n",
       "      <td>-</td>\n",
       "      <td>***</td>\n",
       "      <td>***</td>\n",
       "      <td>***</td>\n",
       "      <td>***</td>\n",
       "      <td>***</td>\n",
       "      <td>***</td>\n",
       "      <td>***</td>\n",
       "      <td>***</td>\n",
       "      <td>***</td>\n",
       "    </tr>\n",
       "    <tr>\n",
       "      <th>AST</th>\n",
       "      <td>0.163</td>\n",
       "      <td>0.426</td>\n",
       "      <td>0.389</td>\n",
       "      <td>0.336</td>\n",
       "      <td>0.693</td>\n",
       "      <td>0.695</td>\n",
       "      <td>0.685</td>\n",
       "      <td>0.723</td>\n",
       "      <td>0.094</td>\n",
       "      <td>0.481</td>\n",
       "      <td>...</td>\n",
       "      <td>0.353</td>\n",
       "      <td>-</td>\n",
       "      <td>***</td>\n",
       "      <td>***</td>\n",
       "      <td>**</td>\n",
       "      <td>***</td>\n",
       "      <td>***</td>\n",
       "      <td>***</td>\n",
       "      <td>***</td>\n",
       "      <td>***</td>\n",
       "    </tr>\n",
       "    <tr>\n",
       "      <th>TOV</th>\n",
       "      <td>0.088</td>\n",
       "      <td>0.506</td>\n",
       "      <td>0.416</td>\n",
       "      <td>0.449</td>\n",
       "      <td>0.785</td>\n",
       "      <td>0.852</td>\n",
       "      <td>0.846</td>\n",
       "      <td>0.853</td>\n",
       "      <td>0.191</td>\n",
       "      <td>0.498</td>\n",
       "      <td>...</td>\n",
       "      <td>0.6</td>\n",
       "      <td>0.846</td>\n",
       "      <td>-</td>\n",
       "      <td>***</td>\n",
       "      <td>***</td>\n",
       "      <td>***</td>\n",
       "      <td>***</td>\n",
       "      <td>***</td>\n",
       "      <td>***</td>\n",
       "      <td>**</td>\n",
       "    </tr>\n",
       "    <tr>\n",
       "      <th>STL</th>\n",
       "      <td>0.087</td>\n",
       "      <td>0.474</td>\n",
       "      <td>0.405</td>\n",
       "      <td>0.405</td>\n",
       "      <td>0.753</td>\n",
       "      <td>0.66</td>\n",
       "      <td>0.662</td>\n",
       "      <td>0.683</td>\n",
       "      <td>0.146</td>\n",
       "      <td>0.477</td>\n",
       "      <td>...</td>\n",
       "      <td>0.485</td>\n",
       "      <td>0.677</td>\n",
       "      <td>0.67</td>\n",
       "      <td>-</td>\n",
       "      <td>***</td>\n",
       "      <td>***</td>\n",
       "      <td>***</td>\n",
       "      <td>***</td>\n",
       "      <td>***</td>\n",
       "      <td>***</td>\n",
       "    </tr>\n",
       "    <tr>\n",
       "      <th>BLK</th>\n",
       "      <td>0.011</td>\n",
       "      <td>0.354</td>\n",
       "      <td>0.335</td>\n",
       "      <td>0.268</td>\n",
       "      <td>0.429</td>\n",
       "      <td>0.407</td>\n",
       "      <td>0.443</td>\n",
       "      <td>0.34</td>\n",
       "      <td>0.407</td>\n",
       "      <td>-0.003</td>\n",
       "      <td>...</td>\n",
       "      <td>0.702</td>\n",
       "      <td>0.129</td>\n",
       "      <td>0.336</td>\n",
       "      <td>0.325</td>\n",
       "      <td>-</td>\n",
       "      <td>***</td>\n",
       "      <td>***</td>\n",
       "      <td>***</td>\n",
       "      <td></td>\n",
       "      <td>***</td>\n",
       "    </tr>\n",
       "    <tr>\n",
       "      <th>PF</th>\n",
       "      <td>0.103</td>\n",
       "      <td>0.565</td>\n",
       "      <td>0.453</td>\n",
       "      <td>0.514</td>\n",
       "      <td>0.752</td>\n",
       "      <td>0.623</td>\n",
       "      <td>0.638</td>\n",
       "      <td>0.6</td>\n",
       "      <td>0.377</td>\n",
       "      <td>0.346</td>\n",
       "      <td>...</td>\n",
       "      <td>0.697</td>\n",
       "      <td>0.421</td>\n",
       "      <td>0.615</td>\n",
       "      <td>0.565</td>\n",
       "      <td>0.574</td>\n",
       "      <td>-</td>\n",
       "      <td>***</td>\n",
       "      <td>***</td>\n",
       "      <td>***</td>\n",
       "      <td>***</td>\n",
       "    </tr>\n",
       "    <tr>\n",
       "      <th>FP</th>\n",
       "      <td>0.124</td>\n",
       "      <td>0.605</td>\n",
       "      <td>0.538</td>\n",
       "      <td>0.493</td>\n",
       "      <td>0.904</td>\n",
       "      <td>0.95</td>\n",
       "      <td>0.956</td>\n",
       "      <td>0.926</td>\n",
       "      <td>0.336</td>\n",
       "      <td>0.549</td>\n",
       "      <td>...</td>\n",
       "      <td>0.804</td>\n",
       "      <td>0.745</td>\n",
       "      <td>0.872</td>\n",
       "      <td>0.754</td>\n",
       "      <td>0.564</td>\n",
       "      <td>0.713</td>\n",
       "      <td>-</td>\n",
       "      <td>***</td>\n",
       "      <td>***</td>\n",
       "      <td>***</td>\n",
       "    </tr>\n",
       "    <tr>\n",
       "      <th>DD2</th>\n",
       "      <td>0.004</td>\n",
       "      <td>0.342</td>\n",
       "      <td>0.325</td>\n",
       "      <td>0.255</td>\n",
       "      <td>0.484</td>\n",
       "      <td>0.59</td>\n",
       "      <td>0.616</td>\n",
       "      <td>0.527</td>\n",
       "      <td>0.278</td>\n",
       "      <td>0.085</td>\n",
       "      <td>...</td>\n",
       "      <td>0.811</td>\n",
       "      <td>0.431</td>\n",
       "      <td>0.604</td>\n",
       "      <td>0.394</td>\n",
       "      <td>0.562</td>\n",
       "      <td>0.456</td>\n",
       "      <td>0.709</td>\n",
       "      <td>-</td>\n",
       "      <td>***</td>\n",
       "      <td>***</td>\n",
       "    </tr>\n",
       "    <tr>\n",
       "      <th>TD3</th>\n",
       "      <td>0.037</td>\n",
       "      <td>0.111</td>\n",
       "      <td>0.142</td>\n",
       "      <td>0.045</td>\n",
       "      <td>0.204</td>\n",
       "      <td>0.274</td>\n",
       "      <td>0.272</td>\n",
       "      <td>0.278</td>\n",
       "      <td>0.034</td>\n",
       "      <td>0.112</td>\n",
       "      <td>...</td>\n",
       "      <td>0.262</td>\n",
       "      <td>0.428</td>\n",
       "      <td>0.407</td>\n",
       "      <td>0.267</td>\n",
       "      <td>0.074</td>\n",
       "      <td>0.157</td>\n",
       "      <td>0.332</td>\n",
       "      <td>0.434</td>\n",
       "      <td>-</td>\n",
       "      <td>**</td>\n",
       "    </tr>\n",
       "    <tr>\n",
       "      <th>X...</th>\n",
       "      <td>0.133</td>\n",
       "      <td>0.166</td>\n",
       "      <td>0.452</td>\n",
       "      <td>-0.196</td>\n",
       "      <td>0.223</td>\n",
       "      <td>0.286</td>\n",
       "      <td>0.276</td>\n",
       "      <td>0.242</td>\n",
       "      <td>0.137</td>\n",
       "      <td>0.287</td>\n",
       "      <td>...</td>\n",
       "      <td>0.201</td>\n",
       "      <td>0.232</td>\n",
       "      <td>0.135</td>\n",
       "      <td>0.237</td>\n",
       "      <td>0.168</td>\n",
       "      <td>0.155</td>\n",
       "      <td>0.302</td>\n",
       "      <td>0.222</td>\n",
       "      <td>0.126</td>\n",
       "      <td>-</td>\n",
       "    </tr>\n",
       "  </tbody>\n",
       "</table>\n",
       "<p>27 rows × 27 columns</p>\n",
       "</div>"
      ],
      "text/plain": [
       "         AGE     GP      W       L    MIN    PTS    FGM    FGA     FG.  \\\n",
       "AGE        -     **    ***            ***      *      *      *           \n",
       "GP     0.138      -    ***     ***    ***    ***    ***    ***     ***   \n",
       "W      0.185  0.867      -     ***    ***    ***    ***    ***     ***   \n",
       "L      0.044   0.84  0.457       -    ***    ***    ***    ***     ***   \n",
       "MIN    0.152   0.71  0.589   0.626      -    ***    ***    ***     ***   \n",
       "PTS     0.11  0.579  0.507   0.479  0.881      -    ***    ***     ***   \n",
       "FGM    0.091  0.584  0.509   0.487  0.882   0.99      -    ***     ***   \n",
       "FGA    0.103  0.568   0.48   0.489  0.893  0.982  0.977      -     ***   \n",
       "FG.    0.046  0.312  0.291   0.239  0.259  0.282  0.327  0.193       -   \n",
       "X3PM   0.187  0.457  0.419   0.359   0.67   0.68  0.617  0.715  -0.031   \n",
       "X3PA   0.179  0.439  0.392   0.357  0.679  0.685   0.62  0.733  -0.095   \n",
       "X3P.   0.077  0.261  0.242   0.202  0.287  0.257  0.227  0.272   0.118   \n",
       "FTM    0.092  0.448  0.392   0.372  0.716  0.901  0.861  0.843   0.228   \n",
       "FTA    0.073   0.44  0.381    0.37  0.716  0.891  0.863   0.83    0.27   \n",
       "FT.    0.182   0.48    0.4    0.42  0.451  0.388  0.361  0.385   0.192   \n",
       "OREB  -0.021   0.33   0.28   0.284   0.41  0.398  0.454  0.326   0.454   \n",
       "DREB   0.109  0.504  0.447   0.413  0.721  0.714  0.735  0.665   0.363   \n",
       "REB    0.075   0.48  0.421   0.397  0.667  0.658  0.692  0.599   0.414   \n",
       "AST    0.163  0.426  0.389   0.336  0.693  0.695  0.685  0.723   0.094   \n",
       "TOV    0.088  0.506  0.416   0.449  0.785  0.852  0.846  0.853   0.191   \n",
       "STL    0.087  0.474  0.405   0.405  0.753   0.66  0.662  0.683   0.146   \n",
       "BLK    0.011  0.354  0.335   0.268  0.429  0.407  0.443   0.34   0.407   \n",
       "PF     0.103  0.565  0.453   0.514  0.752  0.623  0.638    0.6   0.377   \n",
       "FP     0.124  0.605  0.538   0.493  0.904   0.95  0.956  0.926   0.336   \n",
       "DD2    0.004  0.342  0.325   0.255  0.484   0.59  0.616  0.527   0.278   \n",
       "TD3    0.037  0.111  0.142   0.045  0.204  0.274  0.272  0.278   0.034   \n",
       "X...   0.133  0.166  0.452  -0.196  0.223  0.286  0.276  0.242   0.137   \n",
       "\n",
       "        X3PM  ...    REB    AST    TOV    STL    BLK     PF     FP    DD2  \\\n",
       "AGE      ***  ...           ***      *      *             *     **          \n",
       "GP       ***  ...    ***    ***    ***    ***    ***    ***    ***    ***   \n",
       "W        ***  ...    ***    ***    ***    ***    ***    ***    ***    ***   \n",
       "L        ***  ...    ***    ***    ***    ***    ***    ***    ***    ***   \n",
       "MIN      ***  ...    ***    ***    ***    ***    ***    ***    ***    ***   \n",
       "PTS      ***  ...    ***    ***    ***    ***    ***    ***    ***    ***   \n",
       "FGM      ***  ...    ***    ***    ***    ***    ***    ***    ***    ***   \n",
       "FGA      ***  ...    ***    ***    ***    ***    ***    ***    ***    ***   \n",
       "FG.           ...    ***      *    ***    ***    ***    ***    ***    ***   \n",
       "X3PM       -  ...    ***    ***    ***    ***           ***    ***          \n",
       "X3PA   0.982  ...    ***    ***    ***    ***           ***    ***      *   \n",
       "X3P.   0.517  ...           ***    ***    ***     **     **    ***          \n",
       "FTM    0.476  ...    ***    ***    ***    ***    ***    ***    ***    ***   \n",
       "FTA    0.413  ...    ***    ***    ***    ***    ***    ***    ***    ***   \n",
       "FT.    0.379  ...    ***    ***    ***    ***     **    ***    ***      *   \n",
       "OREB  -0.131  ...    ***      *    ***    ***    ***    ***    ***    ***   \n",
       "DREB   0.272  ...    ***    ***    ***    ***    ***    ***    ***    ***   \n",
       "REB    0.161  ...      -    ***    ***    ***    ***    ***    ***    ***   \n",
       "AST    0.481  ...  0.353      -    ***    ***     **    ***    ***    ***   \n",
       "TOV    0.498  ...    0.6  0.846      -    ***    ***    ***    ***    ***   \n",
       "STL    0.477  ...  0.485  0.677   0.67      -    ***    ***    ***    ***   \n",
       "BLK   -0.003  ...  0.702  0.129  0.336  0.325      -    ***    ***    ***   \n",
       "PF     0.346  ...  0.697  0.421  0.615  0.565  0.574      -    ***    ***   \n",
       "FP     0.549  ...  0.804  0.745  0.872  0.754  0.564  0.713      -    ***   \n",
       "DD2    0.085  ...  0.811  0.431  0.604  0.394  0.562  0.456  0.709      -   \n",
       "TD3    0.112  ...  0.262  0.428  0.407  0.267  0.074  0.157  0.332  0.434   \n",
       "X...   0.287  ...  0.201  0.232  0.135  0.237  0.168  0.155  0.302  0.222   \n",
       "\n",
       "        TD3 X...  \n",
       "AGE           **  \n",
       "GP        *  ***  \n",
       "W        **  ***  \n",
       "L            ***  \n",
       "MIN     ***  ***  \n",
       "PTS     ***  ***  \n",
       "FGM     ***  ***  \n",
       "FGA     ***  ***  \n",
       "FG.           **  \n",
       "X3PM     **  ***  \n",
       "X3PA    ***  ***  \n",
       "X3P.           *  \n",
       "FTM     ***  ***  \n",
       "FTA     ***  ***  \n",
       "FT.               \n",
       "OREB     **   **  \n",
       "DREB    ***  ***  \n",
       "REB     ***  ***  \n",
       "AST     ***  ***  \n",
       "TOV     ***   **  \n",
       "STL     ***  ***  \n",
       "BLK          ***  \n",
       "PF      ***  ***  \n",
       "FP      ***  ***  \n",
       "DD2     ***  ***  \n",
       "TD3       -   **  \n",
       "X...  0.126    -  \n",
       "\n",
       "[27 rows x 27 columns]"
      ]
     },
     "execution_count": 9,
     "metadata": {},
     "output_type": "execute_result"
    }
   ],
   "source": [
    "corr = nba.rcorr()\n",
    "corr"
   ]
  },
  {
   "cell_type": "code",
   "execution_count": 8,
   "metadata": {},
   "outputs": [
    {
     "data": {
      "text/html": [
       "<div>\n",
       "<style scoped>\n",
       "    .dataframe tbody tr th:only-of-type {\n",
       "        vertical-align: middle;\n",
       "    }\n",
       "\n",
       "    .dataframe tbody tr th {\n",
       "        vertical-align: top;\n",
       "    }\n",
       "\n",
       "    .dataframe thead th {\n",
       "        text-align: right;\n",
       "    }\n",
       "</style>\n",
       "<table border=\"1\" class=\"dataframe\">\n",
       "  <thead>\n",
       "    <tr style=\"text-align: right;\">\n",
       "      <th></th>\n",
       "      <th>AGE</th>\n",
       "      <th>GP</th>\n",
       "      <th>W</th>\n",
       "      <th>L</th>\n",
       "      <th>MIN</th>\n",
       "      <th>PTS</th>\n",
       "      <th>FGM</th>\n",
       "      <th>FGA</th>\n",
       "      <th>FG.</th>\n",
       "      <th>X3PM</th>\n",
       "      <th>...</th>\n",
       "      <th>REB</th>\n",
       "      <th>AST</th>\n",
       "      <th>TOV</th>\n",
       "      <th>STL</th>\n",
       "      <th>BLK</th>\n",
       "      <th>PF</th>\n",
       "      <th>FP</th>\n",
       "      <th>DD2</th>\n",
       "      <th>TD3</th>\n",
       "      <th>X...</th>\n",
       "    </tr>\n",
       "  </thead>\n",
       "  <tbody>\n",
       "    <tr>\n",
       "      <th>AGE</th>\n",
       "      <td>-</td>\n",
       "      <td></td>\n",
       "      <td>**</td>\n",
       "      <td></td>\n",
       "      <td></td>\n",
       "      <td></td>\n",
       "      <td></td>\n",
       "      <td></td>\n",
       "      <td></td>\n",
       "      <td>**</td>\n",
       "      <td>...</td>\n",
       "      <td></td>\n",
       "      <td></td>\n",
       "      <td></td>\n",
       "      <td></td>\n",
       "      <td></td>\n",
       "      <td></td>\n",
       "      <td></td>\n",
       "      <td></td>\n",
       "      <td></td>\n",
       "      <td></td>\n",
       "    </tr>\n",
       "    <tr>\n",
       "      <th>GP</th>\n",
       "      <td>0.138</td>\n",
       "      <td>-</td>\n",
       "      <td>***</td>\n",
       "      <td>***</td>\n",
       "      <td>***</td>\n",
       "      <td>***</td>\n",
       "      <td>***</td>\n",
       "      <td>***</td>\n",
       "      <td>***</td>\n",
       "      <td>***</td>\n",
       "      <td>...</td>\n",
       "      <td>***</td>\n",
       "      <td>***</td>\n",
       "      <td>***</td>\n",
       "      <td>***</td>\n",
       "      <td>***</td>\n",
       "      <td>***</td>\n",
       "      <td>***</td>\n",
       "      <td>***</td>\n",
       "      <td></td>\n",
       "      <td>*</td>\n",
       "    </tr>\n",
       "    <tr>\n",
       "      <th>W</th>\n",
       "      <td>0.185</td>\n",
       "      <td>0.867</td>\n",
       "      <td>-</td>\n",
       "      <td>***</td>\n",
       "      <td>***</td>\n",
       "      <td>***</td>\n",
       "      <td>***</td>\n",
       "      <td>***</td>\n",
       "      <td>***</td>\n",
       "      <td>***</td>\n",
       "      <td>...</td>\n",
       "      <td>***</td>\n",
       "      <td>***</td>\n",
       "      <td>***</td>\n",
       "      <td>***</td>\n",
       "      <td>***</td>\n",
       "      <td>***</td>\n",
       "      <td>***</td>\n",
       "      <td>***</td>\n",
       "      <td></td>\n",
       "      <td>***</td>\n",
       "    </tr>\n",
       "    <tr>\n",
       "      <th>L</th>\n",
       "      <td>0.044</td>\n",
       "      <td>0.84</td>\n",
       "      <td>0.457</td>\n",
       "      <td>-</td>\n",
       "      <td>***</td>\n",
       "      <td>***</td>\n",
       "      <td>***</td>\n",
       "      <td>***</td>\n",
       "      <td>***</td>\n",
       "      <td>***</td>\n",
       "      <td>...</td>\n",
       "      <td>***</td>\n",
       "      <td>***</td>\n",
       "      <td>***</td>\n",
       "      <td>***</td>\n",
       "      <td>***</td>\n",
       "      <td>***</td>\n",
       "      <td>***</td>\n",
       "      <td>***</td>\n",
       "      <td></td>\n",
       "      <td>**</td>\n",
       "    </tr>\n",
       "    <tr>\n",
       "      <th>MIN</th>\n",
       "      <td>0.152</td>\n",
       "      <td>0.71</td>\n",
       "      <td>0.589</td>\n",
       "      <td>0.626</td>\n",
       "      <td>-</td>\n",
       "      <td>***</td>\n",
       "      <td>***</td>\n",
       "      <td>***</td>\n",
       "      <td>***</td>\n",
       "      <td>***</td>\n",
       "      <td>...</td>\n",
       "      <td>***</td>\n",
       "      <td>***</td>\n",
       "      <td>***</td>\n",
       "      <td>***</td>\n",
       "      <td>***</td>\n",
       "      <td>***</td>\n",
       "      <td>***</td>\n",
       "      <td>***</td>\n",
       "      <td>***</td>\n",
       "      <td>***</td>\n",
       "    </tr>\n",
       "    <tr>\n",
       "      <th>PTS</th>\n",
       "      <td>0.11</td>\n",
       "      <td>0.579</td>\n",
       "      <td>0.507</td>\n",
       "      <td>0.479</td>\n",
       "      <td>0.881</td>\n",
       "      <td>-</td>\n",
       "      <td>***</td>\n",
       "      <td>***</td>\n",
       "      <td>***</td>\n",
       "      <td>***</td>\n",
       "      <td>...</td>\n",
       "      <td>***</td>\n",
       "      <td>***</td>\n",
       "      <td>***</td>\n",
       "      <td>***</td>\n",
       "      <td>***</td>\n",
       "      <td>***</td>\n",
       "      <td>***</td>\n",
       "      <td>***</td>\n",
       "      <td>***</td>\n",
       "      <td>***</td>\n",
       "    </tr>\n",
       "    <tr>\n",
       "      <th>FGM</th>\n",
       "      <td>0.091</td>\n",
       "      <td>0.584</td>\n",
       "      <td>0.509</td>\n",
       "      <td>0.487</td>\n",
       "      <td>0.882</td>\n",
       "      <td>0.99</td>\n",
       "      <td>-</td>\n",
       "      <td>***</td>\n",
       "      <td>***</td>\n",
       "      <td>***</td>\n",
       "      <td>...</td>\n",
       "      <td>***</td>\n",
       "      <td>***</td>\n",
       "      <td>***</td>\n",
       "      <td>***</td>\n",
       "      <td>***</td>\n",
       "      <td>***</td>\n",
       "      <td>***</td>\n",
       "      <td>***</td>\n",
       "      <td>***</td>\n",
       "      <td>***</td>\n",
       "    </tr>\n",
       "    <tr>\n",
       "      <th>FGA</th>\n",
       "      <td>0.103</td>\n",
       "      <td>0.568</td>\n",
       "      <td>0.48</td>\n",
       "      <td>0.489</td>\n",
       "      <td>0.893</td>\n",
       "      <td>0.982</td>\n",
       "      <td>0.977</td>\n",
       "      <td>-</td>\n",
       "      <td>**</td>\n",
       "      <td>***</td>\n",
       "      <td>...</td>\n",
       "      <td>***</td>\n",
       "      <td>***</td>\n",
       "      <td>***</td>\n",
       "      <td>***</td>\n",
       "      <td>***</td>\n",
       "      <td>***</td>\n",
       "      <td>***</td>\n",
       "      <td>***</td>\n",
       "      <td>***</td>\n",
       "      <td>***</td>\n",
       "    </tr>\n",
       "    <tr>\n",
       "      <th>FG.</th>\n",
       "      <td>0.046</td>\n",
       "      <td>0.312</td>\n",
       "      <td>0.291</td>\n",
       "      <td>0.239</td>\n",
       "      <td>0.259</td>\n",
       "      <td>0.282</td>\n",
       "      <td>0.327</td>\n",
       "      <td>0.193</td>\n",
       "      <td>-</td>\n",
       "      <td></td>\n",
       "      <td>...</td>\n",
       "      <td>***</td>\n",
       "      <td></td>\n",
       "      <td>**</td>\n",
       "      <td></td>\n",
       "      <td>***</td>\n",
       "      <td>***</td>\n",
       "      <td>***</td>\n",
       "      <td>***</td>\n",
       "      <td></td>\n",
       "      <td></td>\n",
       "    </tr>\n",
       "    <tr>\n",
       "      <th>X3PM</th>\n",
       "      <td>0.187</td>\n",
       "      <td>0.457</td>\n",
       "      <td>0.419</td>\n",
       "      <td>0.359</td>\n",
       "      <td>0.67</td>\n",
       "      <td>0.68</td>\n",
       "      <td>0.617</td>\n",
       "      <td>0.715</td>\n",
       "      <td>-0.031</td>\n",
       "      <td>-</td>\n",
       "      <td>...</td>\n",
       "      <td></td>\n",
       "      <td>***</td>\n",
       "      <td>***</td>\n",
       "      <td>***</td>\n",
       "      <td></td>\n",
       "      <td>***</td>\n",
       "      <td>***</td>\n",
       "      <td></td>\n",
       "      <td></td>\n",
       "      <td>***</td>\n",
       "    </tr>\n",
       "    <tr>\n",
       "      <th>X3PA</th>\n",
       "      <td>0.179</td>\n",
       "      <td>0.439</td>\n",
       "      <td>0.392</td>\n",
       "      <td>0.357</td>\n",
       "      <td>0.679</td>\n",
       "      <td>0.685</td>\n",
       "      <td>0.62</td>\n",
       "      <td>0.733</td>\n",
       "      <td>-0.095</td>\n",
       "      <td>0.982</td>\n",
       "      <td>...</td>\n",
       "      <td></td>\n",
       "      <td>***</td>\n",
       "      <td>***</td>\n",
       "      <td>***</td>\n",
       "      <td></td>\n",
       "      <td>***</td>\n",
       "      <td>***</td>\n",
       "      <td></td>\n",
       "      <td></td>\n",
       "      <td>***</td>\n",
       "    </tr>\n",
       "    <tr>\n",
       "      <th>X3P.</th>\n",
       "      <td>0.077</td>\n",
       "      <td>0.261</td>\n",
       "      <td>0.242</td>\n",
       "      <td>0.202</td>\n",
       "      <td>0.287</td>\n",
       "      <td>0.257</td>\n",
       "      <td>0.227</td>\n",
       "      <td>0.272</td>\n",
       "      <td>0.118</td>\n",
       "      <td>0.517</td>\n",
       "      <td>...</td>\n",
       "      <td></td>\n",
       "      <td>***</td>\n",
       "      <td></td>\n",
       "      <td>*</td>\n",
       "      <td></td>\n",
       "      <td></td>\n",
       "      <td>*</td>\n",
       "      <td></td>\n",
       "      <td></td>\n",
       "      <td></td>\n",
       "    </tr>\n",
       "    <tr>\n",
       "      <th>FTM</th>\n",
       "      <td>0.092</td>\n",
       "      <td>0.448</td>\n",
       "      <td>0.392</td>\n",
       "      <td>0.372</td>\n",
       "      <td>0.716</td>\n",
       "      <td>0.901</td>\n",
       "      <td>0.861</td>\n",
       "      <td>0.843</td>\n",
       "      <td>0.228</td>\n",
       "      <td>0.476</td>\n",
       "      <td>...</td>\n",
       "      <td>***</td>\n",
       "      <td>***</td>\n",
       "      <td>***</td>\n",
       "      <td>***</td>\n",
       "      <td>***</td>\n",
       "      <td>***</td>\n",
       "      <td>***</td>\n",
       "      <td>***</td>\n",
       "      <td>***</td>\n",
       "      <td>***</td>\n",
       "    </tr>\n",
       "    <tr>\n",
       "      <th>FTA</th>\n",
       "      <td>0.073</td>\n",
       "      <td>0.44</td>\n",
       "      <td>0.381</td>\n",
       "      <td>0.37</td>\n",
       "      <td>0.716</td>\n",
       "      <td>0.891</td>\n",
       "      <td>0.863</td>\n",
       "      <td>0.83</td>\n",
       "      <td>0.27</td>\n",
       "      <td>0.413</td>\n",
       "      <td>...</td>\n",
       "      <td>***</td>\n",
       "      <td>***</td>\n",
       "      <td>***</td>\n",
       "      <td>***</td>\n",
       "      <td>***</td>\n",
       "      <td>***</td>\n",
       "      <td>***</td>\n",
       "      <td>***</td>\n",
       "      <td>***</td>\n",
       "      <td>***</td>\n",
       "    </tr>\n",
       "    <tr>\n",
       "      <th>FT.</th>\n",
       "      <td>0.182</td>\n",
       "      <td>0.48</td>\n",
       "      <td>0.4</td>\n",
       "      <td>0.42</td>\n",
       "      <td>0.451</td>\n",
       "      <td>0.388</td>\n",
       "      <td>0.361</td>\n",
       "      <td>0.385</td>\n",
       "      <td>0.192</td>\n",
       "      <td>0.379</td>\n",
       "      <td>...</td>\n",
       "      <td>***</td>\n",
       "      <td>***</td>\n",
       "      <td>***</td>\n",
       "      <td>***</td>\n",
       "      <td></td>\n",
       "      <td>***</td>\n",
       "      <td>***</td>\n",
       "      <td></td>\n",
       "      <td></td>\n",
       "      <td></td>\n",
       "    </tr>\n",
       "    <tr>\n",
       "      <th>OREB</th>\n",
       "      <td>-0.021</td>\n",
       "      <td>0.33</td>\n",
       "      <td>0.28</td>\n",
       "      <td>0.284</td>\n",
       "      <td>0.41</td>\n",
       "      <td>0.398</td>\n",
       "      <td>0.454</td>\n",
       "      <td>0.326</td>\n",
       "      <td>0.454</td>\n",
       "      <td>-0.131</td>\n",
       "      <td>...</td>\n",
       "      <td>***</td>\n",
       "      <td></td>\n",
       "      <td>***</td>\n",
       "      <td>***</td>\n",
       "      <td>***</td>\n",
       "      <td>***</td>\n",
       "      <td>***</td>\n",
       "      <td>***</td>\n",
       "      <td></td>\n",
       "      <td></td>\n",
       "    </tr>\n",
       "    <tr>\n",
       "      <th>DREB</th>\n",
       "      <td>0.109</td>\n",
       "      <td>0.504</td>\n",
       "      <td>0.447</td>\n",
       "      <td>0.413</td>\n",
       "      <td>0.721</td>\n",
       "      <td>0.714</td>\n",
       "      <td>0.735</td>\n",
       "      <td>0.665</td>\n",
       "      <td>0.363</td>\n",
       "      <td>0.272</td>\n",
       "      <td>...</td>\n",
       "      <td>***</td>\n",
       "      <td>***</td>\n",
       "      <td>***</td>\n",
       "      <td>***</td>\n",
       "      <td>***</td>\n",
       "      <td>***</td>\n",
       "      <td>***</td>\n",
       "      <td>***</td>\n",
       "      <td>***</td>\n",
       "      <td>***</td>\n",
       "    </tr>\n",
       "    <tr>\n",
       "      <th>REB</th>\n",
       "      <td>0.075</td>\n",
       "      <td>0.48</td>\n",
       "      <td>0.421</td>\n",
       "      <td>0.397</td>\n",
       "      <td>0.667</td>\n",
       "      <td>0.658</td>\n",
       "      <td>0.692</td>\n",
       "      <td>0.599</td>\n",
       "      <td>0.414</td>\n",
       "      <td>0.161</td>\n",
       "      <td>...</td>\n",
       "      <td>-</td>\n",
       "      <td>***</td>\n",
       "      <td>***</td>\n",
       "      <td>***</td>\n",
       "      <td>***</td>\n",
       "      <td>***</td>\n",
       "      <td>***</td>\n",
       "      <td>***</td>\n",
       "      <td>***</td>\n",
       "      <td>**</td>\n",
       "    </tr>\n",
       "    <tr>\n",
       "      <th>AST</th>\n",
       "      <td>0.163</td>\n",
       "      <td>0.426</td>\n",
       "      <td>0.389</td>\n",
       "      <td>0.336</td>\n",
       "      <td>0.693</td>\n",
       "      <td>0.695</td>\n",
       "      <td>0.685</td>\n",
       "      <td>0.723</td>\n",
       "      <td>0.094</td>\n",
       "      <td>0.481</td>\n",
       "      <td>...</td>\n",
       "      <td>0.353</td>\n",
       "      <td>-</td>\n",
       "      <td>***</td>\n",
       "      <td>***</td>\n",
       "      <td></td>\n",
       "      <td>***</td>\n",
       "      <td>***</td>\n",
       "      <td>***</td>\n",
       "      <td>***</td>\n",
       "      <td>***</td>\n",
       "    </tr>\n",
       "    <tr>\n",
       "      <th>TOV</th>\n",
       "      <td>0.088</td>\n",
       "      <td>0.506</td>\n",
       "      <td>0.416</td>\n",
       "      <td>0.449</td>\n",
       "      <td>0.785</td>\n",
       "      <td>0.852</td>\n",
       "      <td>0.846</td>\n",
       "      <td>0.853</td>\n",
       "      <td>0.191</td>\n",
       "      <td>0.498</td>\n",
       "      <td>...</td>\n",
       "      <td>0.6</td>\n",
       "      <td>0.846</td>\n",
       "      <td>-</td>\n",
       "      <td>***</td>\n",
       "      <td>***</td>\n",
       "      <td>***</td>\n",
       "      <td>***</td>\n",
       "      <td>***</td>\n",
       "      <td>***</td>\n",
       "      <td></td>\n",
       "    </tr>\n",
       "    <tr>\n",
       "      <th>STL</th>\n",
       "      <td>0.087</td>\n",
       "      <td>0.474</td>\n",
       "      <td>0.405</td>\n",
       "      <td>0.405</td>\n",
       "      <td>0.753</td>\n",
       "      <td>0.66</td>\n",
       "      <td>0.662</td>\n",
       "      <td>0.683</td>\n",
       "      <td>0.146</td>\n",
       "      <td>0.477</td>\n",
       "      <td>...</td>\n",
       "      <td>0.485</td>\n",
       "      <td>0.677</td>\n",
       "      <td>0.67</td>\n",
       "      <td>-</td>\n",
       "      <td>***</td>\n",
       "      <td>***</td>\n",
       "      <td>***</td>\n",
       "      <td>***</td>\n",
       "      <td>***</td>\n",
       "      <td>***</td>\n",
       "    </tr>\n",
       "    <tr>\n",
       "      <th>BLK</th>\n",
       "      <td>0.011</td>\n",
       "      <td>0.354</td>\n",
       "      <td>0.335</td>\n",
       "      <td>0.268</td>\n",
       "      <td>0.429</td>\n",
       "      <td>0.407</td>\n",
       "      <td>0.443</td>\n",
       "      <td>0.34</td>\n",
       "      <td>0.407</td>\n",
       "      <td>-0.003</td>\n",
       "      <td>...</td>\n",
       "      <td>0.702</td>\n",
       "      <td>0.129</td>\n",
       "      <td>0.336</td>\n",
       "      <td>0.325</td>\n",
       "      <td>-</td>\n",
       "      <td>***</td>\n",
       "      <td>***</td>\n",
       "      <td>***</td>\n",
       "      <td></td>\n",
       "      <td>*</td>\n",
       "    </tr>\n",
       "    <tr>\n",
       "      <th>PF</th>\n",
       "      <td>0.103</td>\n",
       "      <td>0.565</td>\n",
       "      <td>0.453</td>\n",
       "      <td>0.514</td>\n",
       "      <td>0.752</td>\n",
       "      <td>0.623</td>\n",
       "      <td>0.638</td>\n",
       "      <td>0.6</td>\n",
       "      <td>0.377</td>\n",
       "      <td>0.346</td>\n",
       "      <td>...</td>\n",
       "      <td>0.697</td>\n",
       "      <td>0.421</td>\n",
       "      <td>0.615</td>\n",
       "      <td>0.565</td>\n",
       "      <td>0.574</td>\n",
       "      <td>-</td>\n",
       "      <td>***</td>\n",
       "      <td>***</td>\n",
       "      <td></td>\n",
       "      <td></td>\n",
       "    </tr>\n",
       "    <tr>\n",
       "      <th>FP</th>\n",
       "      <td>0.124</td>\n",
       "      <td>0.605</td>\n",
       "      <td>0.538</td>\n",
       "      <td>0.493</td>\n",
       "      <td>0.904</td>\n",
       "      <td>0.95</td>\n",
       "      <td>0.956</td>\n",
       "      <td>0.926</td>\n",
       "      <td>0.336</td>\n",
       "      <td>0.549</td>\n",
       "      <td>...</td>\n",
       "      <td>0.804</td>\n",
       "      <td>0.745</td>\n",
       "      <td>0.872</td>\n",
       "      <td>0.754</td>\n",
       "      <td>0.564</td>\n",
       "      <td>0.713</td>\n",
       "      <td>-</td>\n",
       "      <td>***</td>\n",
       "      <td>***</td>\n",
       "      <td>***</td>\n",
       "    </tr>\n",
       "    <tr>\n",
       "      <th>DD2</th>\n",
       "      <td>0.004</td>\n",
       "      <td>0.342</td>\n",
       "      <td>0.325</td>\n",
       "      <td>0.255</td>\n",
       "      <td>0.484</td>\n",
       "      <td>0.59</td>\n",
       "      <td>0.616</td>\n",
       "      <td>0.527</td>\n",
       "      <td>0.278</td>\n",
       "      <td>0.085</td>\n",
       "      <td>...</td>\n",
       "      <td>0.811</td>\n",
       "      <td>0.431</td>\n",
       "      <td>0.604</td>\n",
       "      <td>0.394</td>\n",
       "      <td>0.562</td>\n",
       "      <td>0.456</td>\n",
       "      <td>0.709</td>\n",
       "      <td>-</td>\n",
       "      <td>***</td>\n",
       "      <td>***</td>\n",
       "    </tr>\n",
       "    <tr>\n",
       "      <th>TD3</th>\n",
       "      <td>0.037</td>\n",
       "      <td>0.111</td>\n",
       "      <td>0.142</td>\n",
       "      <td>0.045</td>\n",
       "      <td>0.204</td>\n",
       "      <td>0.274</td>\n",
       "      <td>0.272</td>\n",
       "      <td>0.278</td>\n",
       "      <td>0.034</td>\n",
       "      <td>0.112</td>\n",
       "      <td>...</td>\n",
       "      <td>0.262</td>\n",
       "      <td>0.428</td>\n",
       "      <td>0.407</td>\n",
       "      <td>0.267</td>\n",
       "      <td>0.074</td>\n",
       "      <td>0.157</td>\n",
       "      <td>0.332</td>\n",
       "      <td>0.434</td>\n",
       "      <td>-</td>\n",
       "      <td></td>\n",
       "    </tr>\n",
       "    <tr>\n",
       "      <th>X...</th>\n",
       "      <td>0.133</td>\n",
       "      <td>0.166</td>\n",
       "      <td>0.452</td>\n",
       "      <td>-0.196</td>\n",
       "      <td>0.223</td>\n",
       "      <td>0.286</td>\n",
       "      <td>0.276</td>\n",
       "      <td>0.242</td>\n",
       "      <td>0.137</td>\n",
       "      <td>0.287</td>\n",
       "      <td>...</td>\n",
       "      <td>0.201</td>\n",
       "      <td>0.232</td>\n",
       "      <td>0.135</td>\n",
       "      <td>0.237</td>\n",
       "      <td>0.168</td>\n",
       "      <td>0.155</td>\n",
       "      <td>0.302</td>\n",
       "      <td>0.222</td>\n",
       "      <td>0.126</td>\n",
       "      <td>-</td>\n",
       "    </tr>\n",
       "  </tbody>\n",
       "</table>\n",
       "<p>27 rows × 27 columns</p>\n",
       "</div>"
      ],
      "text/plain": [
       "         AGE     GP      W       L    MIN    PTS    FGM    FGA     FG.  \\\n",
       "AGE        -            **                                               \n",
       "GP     0.138      -    ***     ***    ***    ***    ***    ***     ***   \n",
       "W      0.185  0.867      -     ***    ***    ***    ***    ***     ***   \n",
       "L      0.044   0.84  0.457       -    ***    ***    ***    ***     ***   \n",
       "MIN    0.152   0.71  0.589   0.626      -    ***    ***    ***     ***   \n",
       "PTS     0.11  0.579  0.507   0.479  0.881      -    ***    ***     ***   \n",
       "FGM    0.091  0.584  0.509   0.487  0.882   0.99      -    ***     ***   \n",
       "FGA    0.103  0.568   0.48   0.489  0.893  0.982  0.977      -      **   \n",
       "FG.    0.046  0.312  0.291   0.239  0.259  0.282  0.327  0.193       -   \n",
       "X3PM   0.187  0.457  0.419   0.359   0.67   0.68  0.617  0.715  -0.031   \n",
       "X3PA   0.179  0.439  0.392   0.357  0.679  0.685   0.62  0.733  -0.095   \n",
       "X3P.   0.077  0.261  0.242   0.202  0.287  0.257  0.227  0.272   0.118   \n",
       "FTM    0.092  0.448  0.392   0.372  0.716  0.901  0.861  0.843   0.228   \n",
       "FTA    0.073   0.44  0.381    0.37  0.716  0.891  0.863   0.83    0.27   \n",
       "FT.    0.182   0.48    0.4    0.42  0.451  0.388  0.361  0.385   0.192   \n",
       "OREB  -0.021   0.33   0.28   0.284   0.41  0.398  0.454  0.326   0.454   \n",
       "DREB   0.109  0.504  0.447   0.413  0.721  0.714  0.735  0.665   0.363   \n",
       "REB    0.075   0.48  0.421   0.397  0.667  0.658  0.692  0.599   0.414   \n",
       "AST    0.163  0.426  0.389   0.336  0.693  0.695  0.685  0.723   0.094   \n",
       "TOV    0.088  0.506  0.416   0.449  0.785  0.852  0.846  0.853   0.191   \n",
       "STL    0.087  0.474  0.405   0.405  0.753   0.66  0.662  0.683   0.146   \n",
       "BLK    0.011  0.354  0.335   0.268  0.429  0.407  0.443   0.34   0.407   \n",
       "PF     0.103  0.565  0.453   0.514  0.752  0.623  0.638    0.6   0.377   \n",
       "FP     0.124  0.605  0.538   0.493  0.904   0.95  0.956  0.926   0.336   \n",
       "DD2    0.004  0.342  0.325   0.255  0.484   0.59  0.616  0.527   0.278   \n",
       "TD3    0.037  0.111  0.142   0.045  0.204  0.274  0.272  0.278   0.034   \n",
       "X...   0.133  0.166  0.452  -0.196  0.223  0.286  0.276  0.242   0.137   \n",
       "\n",
       "        X3PM  ...    REB    AST    TOV    STL    BLK     PF     FP    DD2  \\\n",
       "AGE       **  ...                                                           \n",
       "GP       ***  ...    ***    ***    ***    ***    ***    ***    ***    ***   \n",
       "W        ***  ...    ***    ***    ***    ***    ***    ***    ***    ***   \n",
       "L        ***  ...    ***    ***    ***    ***    ***    ***    ***    ***   \n",
       "MIN      ***  ...    ***    ***    ***    ***    ***    ***    ***    ***   \n",
       "PTS      ***  ...    ***    ***    ***    ***    ***    ***    ***    ***   \n",
       "FGM      ***  ...    ***    ***    ***    ***    ***    ***    ***    ***   \n",
       "FGA      ***  ...    ***    ***    ***    ***    ***    ***    ***    ***   \n",
       "FG.           ...    ***            **           ***    ***    ***    ***   \n",
       "X3PM       -  ...           ***    ***    ***           ***    ***          \n",
       "X3PA   0.982  ...           ***    ***    ***           ***    ***          \n",
       "X3P.   0.517  ...           ***             *                    *          \n",
       "FTM    0.476  ...    ***    ***    ***    ***    ***    ***    ***    ***   \n",
       "FTA    0.413  ...    ***    ***    ***    ***    ***    ***    ***    ***   \n",
       "FT.    0.379  ...    ***    ***    ***    ***           ***    ***          \n",
       "OREB  -0.131  ...    ***           ***    ***    ***    ***    ***    ***   \n",
       "DREB   0.272  ...    ***    ***    ***    ***    ***    ***    ***    ***   \n",
       "REB    0.161  ...      -    ***    ***    ***    ***    ***    ***    ***   \n",
       "AST    0.481  ...  0.353      -    ***    ***           ***    ***    ***   \n",
       "TOV    0.498  ...    0.6  0.846      -    ***    ***    ***    ***    ***   \n",
       "STL    0.477  ...  0.485  0.677   0.67      -    ***    ***    ***    ***   \n",
       "BLK   -0.003  ...  0.702  0.129  0.336  0.325      -    ***    ***    ***   \n",
       "PF     0.346  ...  0.697  0.421  0.615  0.565  0.574      -    ***    ***   \n",
       "FP     0.549  ...  0.804  0.745  0.872  0.754  0.564  0.713      -    ***   \n",
       "DD2    0.085  ...  0.811  0.431  0.604  0.394  0.562  0.456  0.709      -   \n",
       "TD3    0.112  ...  0.262  0.428  0.407  0.267  0.074  0.157  0.332  0.434   \n",
       "X...   0.287  ...  0.201  0.232  0.135  0.237  0.168  0.155  0.302  0.222   \n",
       "\n",
       "        TD3 X...  \n",
       "AGE               \n",
       "GP             *  \n",
       "W            ***  \n",
       "L             **  \n",
       "MIN     ***  ***  \n",
       "PTS     ***  ***  \n",
       "FGM     ***  ***  \n",
       "FGA     ***  ***  \n",
       "FG.               \n",
       "X3PM         ***  \n",
       "X3PA         ***  \n",
       "X3P.              \n",
       "FTM     ***  ***  \n",
       "FTA     ***  ***  \n",
       "FT.               \n",
       "OREB              \n",
       "DREB    ***  ***  \n",
       "REB     ***   **  \n",
       "AST     ***  ***  \n",
       "TOV     ***       \n",
       "STL     ***  ***  \n",
       "BLK            *  \n",
       "PF                \n",
       "FP      ***  ***  \n",
       "DD2     ***  ***  \n",
       "TD3       -       \n",
       "X...  0.126    -  \n",
       "\n",
       "[27 rows x 27 columns]"
      ]
     },
     "execution_count": 8,
     "metadata": {},
     "output_type": "execute_result"
    }
   ],
   "source": [
    "# Correlation between the variables with p-values (Pearson's correlation) with Bonferroni correction\n",
    "corr = nba.rcorr(method = \"pearson\", padjust = \"bonferroni\")\n",
    "corr"
   ]
  },
  {
   "cell_type": "code",
   "execution_count": 15,
   "metadata": {},
   "outputs": [
    {
     "data": {
      "text/html": [
       "<div>\n",
       "<style scoped>\n",
       "    .dataframe tbody tr th:only-of-type {\n",
       "        vertical-align: middle;\n",
       "    }\n",
       "\n",
       "    .dataframe tbody tr th {\n",
       "        vertical-align: top;\n",
       "    }\n",
       "\n",
       "    .dataframe thead th {\n",
       "        text-align: right;\n",
       "    }\n",
       "</style>\n",
       "<table border=\"1\" class=\"dataframe\">\n",
       "  <thead>\n",
       "    <tr style=\"text-align: right;\">\n",
       "      <th></th>\n",
       "      <th>AGE</th>\n",
       "      <th>GP</th>\n",
       "      <th>W</th>\n",
       "      <th>L</th>\n",
       "      <th>MIN</th>\n",
       "      <th>PTS</th>\n",
       "      <th>FGM</th>\n",
       "      <th>FGA</th>\n",
       "      <th>FG.</th>\n",
       "      <th>X3PM</th>\n",
       "      <th>...</th>\n",
       "      <th>REB</th>\n",
       "      <th>AST</th>\n",
       "      <th>TOV</th>\n",
       "      <th>STL</th>\n",
       "      <th>BLK</th>\n",
       "      <th>PF</th>\n",
       "      <th>FP</th>\n",
       "      <th>DD2</th>\n",
       "      <th>TD3</th>\n",
       "      <th>X...</th>\n",
       "    </tr>\n",
       "  </thead>\n",
       "  <tbody>\n",
       "    <tr>\n",
       "      <th>AGE</th>\n",
       "      <td>-</td>\n",
       "      <td>*</td>\n",
       "      <td>***</td>\n",
       "      <td></td>\n",
       "      <td>**</td>\n",
       "      <td>**</td>\n",
       "      <td>*</td>\n",
       "      <td>*</td>\n",
       "      <td></td>\n",
       "      <td>***</td>\n",
       "      <td>...</td>\n",
       "      <td></td>\n",
       "      <td>***</td>\n",
       "      <td>*</td>\n",
       "      <td></td>\n",
       "      <td></td>\n",
       "      <td></td>\n",
       "      <td>**</td>\n",
       "      <td></td>\n",
       "      <td></td>\n",
       "      <td>**</td>\n",
       "    </tr>\n",
       "    <tr>\n",
       "      <th>GP</th>\n",
       "      <td>0.143</td>\n",
       "      <td>-</td>\n",
       "      <td>***</td>\n",
       "      <td>***</td>\n",
       "      <td>***</td>\n",
       "      <td>***</td>\n",
       "      <td>***</td>\n",
       "      <td>***</td>\n",
       "      <td>***</td>\n",
       "      <td>***</td>\n",
       "      <td>...</td>\n",
       "      <td>***</td>\n",
       "      <td>***</td>\n",
       "      <td>***</td>\n",
       "      <td>***</td>\n",
       "      <td>***</td>\n",
       "      <td>***</td>\n",
       "      <td>***</td>\n",
       "      <td>***</td>\n",
       "      <td>***</td>\n",
       "      <td>***</td>\n",
       "    </tr>\n",
       "    <tr>\n",
       "      <th>W</th>\n",
       "      <td>0.213</td>\n",
       "      <td>0.871</td>\n",
       "      <td>-</td>\n",
       "      <td>***</td>\n",
       "      <td>***</td>\n",
       "      <td>***</td>\n",
       "      <td>***</td>\n",
       "      <td>***</td>\n",
       "      <td>***</td>\n",
       "      <td>***</td>\n",
       "      <td>...</td>\n",
       "      <td>***</td>\n",
       "      <td>***</td>\n",
       "      <td>***</td>\n",
       "      <td>***</td>\n",
       "      <td>***</td>\n",
       "      <td>***</td>\n",
       "      <td>***</td>\n",
       "      <td>***</td>\n",
       "      <td>***</td>\n",
       "      <td>***</td>\n",
       "    </tr>\n",
       "    <tr>\n",
       "      <th>L</th>\n",
       "      <td>0.046</td>\n",
       "      <td>0.809</td>\n",
       "      <td>0.492</td>\n",
       "      <td>-</td>\n",
       "      <td>***</td>\n",
       "      <td>***</td>\n",
       "      <td>***</td>\n",
       "      <td>***</td>\n",
       "      <td>***</td>\n",
       "      <td>***</td>\n",
       "      <td>...</td>\n",
       "      <td>***</td>\n",
       "      <td>***</td>\n",
       "      <td>***</td>\n",
       "      <td>***</td>\n",
       "      <td>***</td>\n",
       "      <td>***</td>\n",
       "      <td>***</td>\n",
       "      <td>***</td>\n",
       "      <td></td>\n",
       "      <td>*</td>\n",
       "    </tr>\n",
       "    <tr>\n",
       "      <th>MIN</th>\n",
       "      <td>0.184</td>\n",
       "      <td>0.705</td>\n",
       "      <td>0.592</td>\n",
       "      <td>0.627</td>\n",
       "      <td>-</td>\n",
       "      <td>***</td>\n",
       "      <td>***</td>\n",
       "      <td>***</td>\n",
       "      <td>***</td>\n",
       "      <td>***</td>\n",
       "      <td>...</td>\n",
       "      <td>***</td>\n",
       "      <td>***</td>\n",
       "      <td>***</td>\n",
       "      <td>***</td>\n",
       "      <td>***</td>\n",
       "      <td>***</td>\n",
       "      <td>***</td>\n",
       "      <td>***</td>\n",
       "      <td>***</td>\n",
       "      <td>***</td>\n",
       "    </tr>\n",
       "    <tr>\n",
       "      <th>PTS</th>\n",
       "      <td>0.169</td>\n",
       "      <td>0.673</td>\n",
       "      <td>0.568</td>\n",
       "      <td>0.603</td>\n",
       "      <td>0.938</td>\n",
       "      <td>-</td>\n",
       "      <td>***</td>\n",
       "      <td>***</td>\n",
       "      <td>***</td>\n",
       "      <td>***</td>\n",
       "      <td>...</td>\n",
       "      <td>***</td>\n",
       "      <td>***</td>\n",
       "      <td>***</td>\n",
       "      <td>***</td>\n",
       "      <td>***</td>\n",
       "      <td>***</td>\n",
       "      <td>***</td>\n",
       "      <td>***</td>\n",
       "      <td>***</td>\n",
       "      <td>***</td>\n",
       "    </tr>\n",
       "    <tr>\n",
       "      <th>FGM</th>\n",
       "      <td>0.147</td>\n",
       "      <td>0.668</td>\n",
       "      <td>0.563</td>\n",
       "      <td>0.596</td>\n",
       "      <td>0.929</td>\n",
       "      <td>0.993</td>\n",
       "      <td>-</td>\n",
       "      <td>***</td>\n",
       "      <td>***</td>\n",
       "      <td>***</td>\n",
       "      <td>...</td>\n",
       "      <td>***</td>\n",
       "      <td>***</td>\n",
       "      <td>***</td>\n",
       "      <td>***</td>\n",
       "      <td>***</td>\n",
       "      <td>***</td>\n",
       "      <td>***</td>\n",
       "      <td>***</td>\n",
       "      <td>***</td>\n",
       "      <td>***</td>\n",
       "    </tr>\n",
       "    <tr>\n",
       "      <th>FGA</th>\n",
       "      <td>0.153</td>\n",
       "      <td>0.642</td>\n",
       "      <td>0.533</td>\n",
       "      <td>0.589</td>\n",
       "      <td>0.939</td>\n",
       "      <td>0.981</td>\n",
       "      <td>0.975</td>\n",
       "      <td>-</td>\n",
       "      <td>***</td>\n",
       "      <td>***</td>\n",
       "      <td>...</td>\n",
       "      <td>***</td>\n",
       "      <td>***</td>\n",
       "      <td>***</td>\n",
       "      <td>***</td>\n",
       "      <td>***</td>\n",
       "      <td>***</td>\n",
       "      <td>***</td>\n",
       "      <td>***</td>\n",
       "      <td>***</td>\n",
       "      <td>***</td>\n",
       "    </tr>\n",
       "    <tr>\n",
       "      <th>FG.</th>\n",
       "      <td>0.064</td>\n",
       "      <td>0.287</td>\n",
       "      <td>0.303</td>\n",
       "      <td>0.188</td>\n",
       "      <td>0.23</td>\n",
       "      <td>0.334</td>\n",
       "      <td>0.385</td>\n",
       "      <td>0.197</td>\n",
       "      <td>-</td>\n",
       "      <td>**</td>\n",
       "      <td>...</td>\n",
       "      <td>***</td>\n",
       "      <td></td>\n",
       "      <td>***</td>\n",
       "      <td>**</td>\n",
       "      <td>***</td>\n",
       "      <td>***</td>\n",
       "      <td>***</td>\n",
       "      <td>***</td>\n",
       "      <td></td>\n",
       "      <td>***</td>\n",
       "    </tr>\n",
       "    <tr>\n",
       "      <th>X3PM</th>\n",
       "      <td>0.206</td>\n",
       "      <td>0.488</td>\n",
       "      <td>0.432</td>\n",
       "      <td>0.416</td>\n",
       "      <td>0.676</td>\n",
       "      <td>0.656</td>\n",
       "      <td>0.602</td>\n",
       "      <td>0.696</td>\n",
       "      <td>-0.166</td>\n",
       "      <td>-</td>\n",
       "      <td>...</td>\n",
       "      <td>***</td>\n",
       "      <td>***</td>\n",
       "      <td>***</td>\n",
       "      <td>***</td>\n",
       "      <td></td>\n",
       "      <td>***</td>\n",
       "      <td>***</td>\n",
       "      <td>***</td>\n",
       "      <td>**</td>\n",
       "      <td>**</td>\n",
       "    </tr>\n",
       "    <tr>\n",
       "      <th>X3PA</th>\n",
       "      <td>0.194</td>\n",
       "      <td>0.462</td>\n",
       "      <td>0.402</td>\n",
       "      <td>0.399</td>\n",
       "      <td>0.675</td>\n",
       "      <td>0.648</td>\n",
       "      <td>0.594</td>\n",
       "      <td>0.709</td>\n",
       "      <td>-0.252</td>\n",
       "      <td>0.973</td>\n",
       "      <td>...</td>\n",
       "      <td>***</td>\n",
       "      <td>***</td>\n",
       "      <td>***</td>\n",
       "      <td>***</td>\n",
       "      <td></td>\n",
       "      <td>***</td>\n",
       "      <td>***</td>\n",
       "      <td>***</td>\n",
       "      <td>***</td>\n",
       "      <td>**</td>\n",
       "    </tr>\n",
       "    <tr>\n",
       "      <th>X3P.</th>\n",
       "      <td>0.157</td>\n",
       "      <td>0.309</td>\n",
       "      <td>0.308</td>\n",
       "      <td>0.214</td>\n",
       "      <td>0.337</td>\n",
       "      <td>0.353</td>\n",
       "      <td>0.312</td>\n",
       "      <td>0.342</td>\n",
       "      <td>0.046</td>\n",
       "      <td>0.692</td>\n",
       "      <td>...</td>\n",
       "      <td></td>\n",
       "      <td>***</td>\n",
       "      <td>***</td>\n",
       "      <td>***</td>\n",
       "      <td></td>\n",
       "      <td>*</td>\n",
       "      <td>***</td>\n",
       "      <td></td>\n",
       "      <td></td>\n",
       "      <td>**</td>\n",
       "    </tr>\n",
       "    <tr>\n",
       "      <th>FTM</th>\n",
       "      <td>0.151</td>\n",
       "      <td>0.57</td>\n",
       "      <td>0.46</td>\n",
       "      <td>0.542</td>\n",
       "      <td>0.794</td>\n",
       "      <td>0.884</td>\n",
       "      <td>0.861</td>\n",
       "      <td>0.836</td>\n",
       "      <td>0.342</td>\n",
       "      <td>0.435</td>\n",
       "      <td>...</td>\n",
       "      <td>***</td>\n",
       "      <td>***</td>\n",
       "      <td>***</td>\n",
       "      <td>***</td>\n",
       "      <td>***</td>\n",
       "      <td>***</td>\n",
       "      <td>***</td>\n",
       "      <td>***</td>\n",
       "      <td>***</td>\n",
       "      <td>**</td>\n",
       "    </tr>\n",
       "    <tr>\n",
       "      <th>FTA</th>\n",
       "      <td>0.125</td>\n",
       "      <td>0.543</td>\n",
       "      <td>0.434</td>\n",
       "      <td>0.524</td>\n",
       "      <td>0.779</td>\n",
       "      <td>0.871</td>\n",
       "      <td>0.856</td>\n",
       "      <td>0.818</td>\n",
       "      <td>0.385</td>\n",
       "      <td>0.377</td>\n",
       "      <td>...</td>\n",
       "      <td>***</td>\n",
       "      <td>***</td>\n",
       "      <td>***</td>\n",
       "      <td>***</td>\n",
       "      <td>***</td>\n",
       "      <td>***</td>\n",
       "      <td>***</td>\n",
       "      <td>***</td>\n",
       "      <td>***</td>\n",
       "      <td>**</td>\n",
       "    </tr>\n",
       "    <tr>\n",
       "      <th>FT.</th>\n",
       "      <td>0.233</td>\n",
       "      <td>0.352</td>\n",
       "      <td>0.325</td>\n",
       "      <td>0.288</td>\n",
       "      <td>0.359</td>\n",
       "      <td>0.388</td>\n",
       "      <td>0.34</td>\n",
       "      <td>0.388</td>\n",
       "      <td>-0.037</td>\n",
       "      <td>0.499</td>\n",
       "      <td>...</td>\n",
       "      <td></td>\n",
       "      <td>***</td>\n",
       "      <td>***</td>\n",
       "      <td>***</td>\n",
       "      <td></td>\n",
       "      <td></td>\n",
       "      <td>***</td>\n",
       "      <td></td>\n",
       "      <td></td>\n",
       "      <td></td>\n",
       "    </tr>\n",
       "    <tr>\n",
       "      <th>OREB</th>\n",
       "      <td>0.014</td>\n",
       "      <td>0.385</td>\n",
       "      <td>0.341</td>\n",
       "      <td>0.346</td>\n",
       "      <td>0.483</td>\n",
       "      <td>0.489</td>\n",
       "      <td>0.519</td>\n",
       "      <td>0.419</td>\n",
       "      <td>0.564</td>\n",
       "      <td>-0.019</td>\n",
       "      <td>...</td>\n",
       "      <td>***</td>\n",
       "      <td>***</td>\n",
       "      <td>***</td>\n",
       "      <td>***</td>\n",
       "      <td>***</td>\n",
       "      <td>***</td>\n",
       "      <td>***</td>\n",
       "      <td>***</td>\n",
       "      <td>***</td>\n",
       "      <td>*</td>\n",
       "    </tr>\n",
       "    <tr>\n",
       "      <th>DREB</th>\n",
       "      <td>0.158</td>\n",
       "      <td>0.586</td>\n",
       "      <td>0.513</td>\n",
       "      <td>0.522</td>\n",
       "      <td>0.784</td>\n",
       "      <td>0.764</td>\n",
       "      <td>0.775</td>\n",
       "      <td>0.724</td>\n",
       "      <td>0.427</td>\n",
       "      <td>0.342</td>\n",
       "      <td>...</td>\n",
       "      <td>***</td>\n",
       "      <td>***</td>\n",
       "      <td>***</td>\n",
       "      <td>***</td>\n",
       "      <td>***</td>\n",
       "      <td>***</td>\n",
       "      <td>***</td>\n",
       "      <td>***</td>\n",
       "      <td>***</td>\n",
       "      <td>***</td>\n",
       "    </tr>\n",
       "    <tr>\n",
       "      <th>REB</th>\n",
       "      <td>0.127</td>\n",
       "      <td>0.555</td>\n",
       "      <td>0.487</td>\n",
       "      <td>0.493</td>\n",
       "      <td>0.733</td>\n",
       "      <td>0.721</td>\n",
       "      <td>0.741</td>\n",
       "      <td>0.669</td>\n",
       "      <td>0.497</td>\n",
       "      <td>0.246</td>\n",
       "      <td>...</td>\n",
       "      <td>-</td>\n",
       "      <td>***</td>\n",
       "      <td>***</td>\n",
       "      <td>***</td>\n",
       "      <td>***</td>\n",
       "      <td>***</td>\n",
       "      <td>***</td>\n",
       "      <td>***</td>\n",
       "      <td>***</td>\n",
       "      <td>***</td>\n",
       "    </tr>\n",
       "    <tr>\n",
       "      <th>AST</th>\n",
       "      <td>0.206</td>\n",
       "      <td>0.552</td>\n",
       "      <td>0.471</td>\n",
       "      <td>0.497</td>\n",
       "      <td>0.787</td>\n",
       "      <td>0.749</td>\n",
       "      <td>0.741</td>\n",
       "      <td>0.776</td>\n",
       "      <td>0.098</td>\n",
       "      <td>0.541</td>\n",
       "      <td>...</td>\n",
       "      <td>0.464</td>\n",
       "      <td>-</td>\n",
       "      <td>***</td>\n",
       "      <td>***</td>\n",
       "      <td>***</td>\n",
       "      <td>***</td>\n",
       "      <td>***</td>\n",
       "      <td>***</td>\n",
       "      <td>***</td>\n",
       "      <td>***</td>\n",
       "    </tr>\n",
       "    <tr>\n",
       "      <th>TOV</th>\n",
       "      <td>0.15</td>\n",
       "      <td>0.572</td>\n",
       "      <td>0.47</td>\n",
       "      <td>0.547</td>\n",
       "      <td>0.836</td>\n",
       "      <td>0.852</td>\n",
       "      <td>0.85</td>\n",
       "      <td>0.854</td>\n",
       "      <td>0.231</td>\n",
       "      <td>0.491</td>\n",
       "      <td>...</td>\n",
       "      <td>0.662</td>\n",
       "      <td>0.818</td>\n",
       "      <td>-</td>\n",
       "      <td>***</td>\n",
       "      <td>***</td>\n",
       "      <td>***</td>\n",
       "      <td>***</td>\n",
       "      <td>***</td>\n",
       "      <td>***</td>\n",
       "      <td></td>\n",
       "    </tr>\n",
       "    <tr>\n",
       "      <th>STL</th>\n",
       "      <td>0.12</td>\n",
       "      <td>0.536</td>\n",
       "      <td>0.434</td>\n",
       "      <td>0.481</td>\n",
       "      <td>0.788</td>\n",
       "      <td>0.714</td>\n",
       "      <td>0.715</td>\n",
       "      <td>0.73</td>\n",
       "      <td>0.161</td>\n",
       "      <td>0.486</td>\n",
       "      <td>...</td>\n",
       "      <td>0.564</td>\n",
       "      <td>0.7</td>\n",
       "      <td>0.698</td>\n",
       "      <td>-</td>\n",
       "      <td>***</td>\n",
       "      <td>***</td>\n",
       "      <td>***</td>\n",
       "      <td>***</td>\n",
       "      <td>***</td>\n",
       "      <td>***</td>\n",
       "    </tr>\n",
       "    <tr>\n",
       "      <th>BLK</th>\n",
       "      <td>0.075</td>\n",
       "      <td>0.423</td>\n",
       "      <td>0.41</td>\n",
       "      <td>0.364</td>\n",
       "      <td>0.523</td>\n",
       "      <td>0.507</td>\n",
       "      <td>0.528</td>\n",
       "      <td>0.449</td>\n",
       "      <td>0.479</td>\n",
       "      <td>0.093</td>\n",
       "      <td>...</td>\n",
       "      <td>0.747</td>\n",
       "      <td>0.271</td>\n",
       "      <td>0.458</td>\n",
       "      <td>0.431</td>\n",
       "      <td>-</td>\n",
       "      <td>***</td>\n",
       "      <td>***</td>\n",
       "      <td>***</td>\n",
       "      <td>**</td>\n",
       "      <td>**</td>\n",
       "    </tr>\n",
       "    <tr>\n",
       "      <th>PF</th>\n",
       "      <td>0.116</td>\n",
       "      <td>0.543</td>\n",
       "      <td>0.452</td>\n",
       "      <td>0.508</td>\n",
       "      <td>0.751</td>\n",
       "      <td>0.704</td>\n",
       "      <td>0.707</td>\n",
       "      <td>0.667</td>\n",
       "      <td>0.359</td>\n",
       "      <td>0.342</td>\n",
       "      <td>...</td>\n",
       "      <td>0.752</td>\n",
       "      <td>0.522</td>\n",
       "      <td>0.687</td>\n",
       "      <td>0.602</td>\n",
       "      <td>0.662</td>\n",
       "      <td>-</td>\n",
       "      <td>***</td>\n",
       "      <td>***</td>\n",
       "      <td>***</td>\n",
       "      <td>*</td>\n",
       "    </tr>\n",
       "    <tr>\n",
       "      <th>FP</th>\n",
       "      <td>0.174</td>\n",
       "      <td>0.677</td>\n",
       "      <td>0.579</td>\n",
       "      <td>0.598</td>\n",
       "      <td>0.946</td>\n",
       "      <td>0.956</td>\n",
       "      <td>0.96</td>\n",
       "      <td>0.932</td>\n",
       "      <td>0.386</td>\n",
       "      <td>0.543</td>\n",
       "      <td>...</td>\n",
       "      <td>0.839</td>\n",
       "      <td>0.78</td>\n",
       "      <td>0.867</td>\n",
       "      <td>0.785</td>\n",
       "      <td>0.633</td>\n",
       "      <td>0.77</td>\n",
       "      <td>-</td>\n",
       "      <td>***</td>\n",
       "      <td>***</td>\n",
       "      <td>***</td>\n",
       "    </tr>\n",
       "    <tr>\n",
       "      <th>DD2</th>\n",
       "      <td>0.078</td>\n",
       "      <td>0.539</td>\n",
       "      <td>0.455</td>\n",
       "      <td>0.479</td>\n",
       "      <td>0.652</td>\n",
       "      <td>0.673</td>\n",
       "      <td>0.686</td>\n",
       "      <td>0.628</td>\n",
       "      <td>0.404</td>\n",
       "      <td>0.217</td>\n",
       "      <td>...</td>\n",
       "      <td>0.796</td>\n",
       "      <td>0.491</td>\n",
       "      <td>0.657</td>\n",
       "      <td>0.503</td>\n",
       "      <td>0.581</td>\n",
       "      <td>0.594</td>\n",
       "      <td>0.764</td>\n",
       "      <td>-</td>\n",
       "      <td>***</td>\n",
       "      <td>***</td>\n",
       "    </tr>\n",
       "    <tr>\n",
       "      <th>TD3</th>\n",
       "      <td>0.084</td>\n",
       "      <td>0.204</td>\n",
       "      <td>0.222</td>\n",
       "      <td>0.113</td>\n",
       "      <td>0.346</td>\n",
       "      <td>0.337</td>\n",
       "      <td>0.342</td>\n",
       "      <td>0.343</td>\n",
       "      <td>0.097</td>\n",
       "      <td>0.184</td>\n",
       "      <td>...</td>\n",
       "      <td>0.287</td>\n",
       "      <td>0.397</td>\n",
       "      <td>0.392</td>\n",
       "      <td>0.333</td>\n",
       "      <td>0.18</td>\n",
       "      <td>0.224</td>\n",
       "      <td>0.372</td>\n",
       "      <td>0.385</td>\n",
       "      <td>-</td>\n",
       "      <td>**</td>\n",
       "    </tr>\n",
       "    <tr>\n",
       "      <th>X...</th>\n",
       "      <td>0.174</td>\n",
       "      <td>0.248</td>\n",
       "      <td>0.502</td>\n",
       "      <td>-0.156</td>\n",
       "      <td>0.234</td>\n",
       "      <td>0.235</td>\n",
       "      <td>0.232</td>\n",
       "      <td>0.199</td>\n",
       "      <td>0.202</td>\n",
       "      <td>0.185</td>\n",
       "      <td>...</td>\n",
       "      <td>0.195</td>\n",
       "      <td>0.203</td>\n",
       "      <td>0.108</td>\n",
       "      <td>0.205</td>\n",
       "      <td>0.168</td>\n",
       "      <td>0.151</td>\n",
       "      <td>0.253</td>\n",
       "      <td>0.205</td>\n",
       "      <td>0.172</td>\n",
       "      <td>-</td>\n",
       "    </tr>\n",
       "  </tbody>\n",
       "</table>\n",
       "<p>27 rows × 27 columns</p>\n",
       "</div>"
      ],
      "text/plain": [
       "        AGE     GP      W       L    MIN    PTS    FGM    FGA     FG.    X3PM  \\\n",
       "AGE       -      *    ***             **     **      *      *             ***   \n",
       "GP    0.143      -    ***     ***    ***    ***    ***    ***     ***     ***   \n",
       "W     0.213  0.871      -     ***    ***    ***    ***    ***     ***     ***   \n",
       "L     0.046  0.809  0.492       -    ***    ***    ***    ***     ***     ***   \n",
       "MIN   0.184  0.705  0.592   0.627      -    ***    ***    ***     ***     ***   \n",
       "PTS   0.169  0.673  0.568   0.603  0.938      -    ***    ***     ***     ***   \n",
       "FGM   0.147  0.668  0.563   0.596  0.929  0.993      -    ***     ***     ***   \n",
       "FGA   0.153  0.642  0.533   0.589  0.939  0.981  0.975      -     ***     ***   \n",
       "FG.   0.064  0.287  0.303   0.188   0.23  0.334  0.385  0.197       -      **   \n",
       "X3PM  0.206  0.488  0.432   0.416  0.676  0.656  0.602  0.696  -0.166       -   \n",
       "X3PA  0.194  0.462  0.402   0.399  0.675  0.648  0.594  0.709  -0.252   0.973   \n",
       "X3P.  0.157  0.309  0.308   0.214  0.337  0.353  0.312  0.342   0.046   0.692   \n",
       "FTM   0.151   0.57   0.46   0.542  0.794  0.884  0.861  0.836   0.342   0.435   \n",
       "FTA   0.125  0.543  0.434   0.524  0.779  0.871  0.856  0.818   0.385   0.377   \n",
       "FT.   0.233  0.352  0.325   0.288  0.359  0.388   0.34  0.388  -0.037   0.499   \n",
       "OREB  0.014  0.385  0.341   0.346  0.483  0.489  0.519  0.419   0.564  -0.019   \n",
       "DREB  0.158  0.586  0.513   0.522  0.784  0.764  0.775  0.724   0.427   0.342   \n",
       "REB   0.127  0.555  0.487   0.493  0.733  0.721  0.741  0.669   0.497   0.246   \n",
       "AST   0.206  0.552  0.471   0.497  0.787  0.749  0.741  0.776   0.098   0.541   \n",
       "TOV    0.15  0.572   0.47   0.547  0.836  0.852   0.85  0.854   0.231   0.491   \n",
       "STL    0.12  0.536  0.434   0.481  0.788  0.714  0.715   0.73   0.161   0.486   \n",
       "BLK   0.075  0.423   0.41   0.364  0.523  0.507  0.528  0.449   0.479   0.093   \n",
       "PF    0.116  0.543  0.452   0.508  0.751  0.704  0.707  0.667   0.359   0.342   \n",
       "FP    0.174  0.677  0.579   0.598  0.946  0.956   0.96  0.932   0.386   0.543   \n",
       "DD2   0.078  0.539  0.455   0.479  0.652  0.673  0.686  0.628   0.404   0.217   \n",
       "TD3   0.084  0.204  0.222   0.113  0.346  0.337  0.342  0.343   0.097   0.184   \n",
       "X...  0.174  0.248  0.502  -0.156  0.234  0.235  0.232  0.199   0.202   0.185   \n",
       "\n",
       "      ...    REB    AST    TOV    STL    BLK     PF     FP    DD2    TD3 X...  \n",
       "AGE   ...           ***      *                          **                 **  \n",
       "GP    ...    ***    ***    ***    ***    ***    ***    ***    ***    ***  ***  \n",
       "W     ...    ***    ***    ***    ***    ***    ***    ***    ***    ***  ***  \n",
       "L     ...    ***    ***    ***    ***    ***    ***    ***    ***           *  \n",
       "MIN   ...    ***    ***    ***    ***    ***    ***    ***    ***    ***  ***  \n",
       "PTS   ...    ***    ***    ***    ***    ***    ***    ***    ***    ***  ***  \n",
       "FGM   ...    ***    ***    ***    ***    ***    ***    ***    ***    ***  ***  \n",
       "FGA   ...    ***    ***    ***    ***    ***    ***    ***    ***    ***  ***  \n",
       "FG.   ...    ***           ***     **    ***    ***    ***    ***         ***  \n",
       "X3PM  ...    ***    ***    ***    ***           ***    ***    ***     **   **  \n",
       "X3PA  ...    ***    ***    ***    ***           ***    ***    ***    ***   **  \n",
       "X3P.  ...           ***    ***    ***             *    ***                 **  \n",
       "FTM   ...    ***    ***    ***    ***    ***    ***    ***    ***    ***   **  \n",
       "FTA   ...    ***    ***    ***    ***    ***    ***    ***    ***    ***   **  \n",
       "FT.   ...           ***    ***    ***                  ***                     \n",
       "OREB  ...    ***    ***    ***    ***    ***    ***    ***    ***    ***    *  \n",
       "DREB  ...    ***    ***    ***    ***    ***    ***    ***    ***    ***  ***  \n",
       "REB   ...      -    ***    ***    ***    ***    ***    ***    ***    ***  ***  \n",
       "AST   ...  0.464      -    ***    ***    ***    ***    ***    ***    ***  ***  \n",
       "TOV   ...  0.662  0.818      -    ***    ***    ***    ***    ***    ***       \n",
       "STL   ...  0.564    0.7  0.698      -    ***    ***    ***    ***    ***  ***  \n",
       "BLK   ...  0.747  0.271  0.458  0.431      -    ***    ***    ***     **   **  \n",
       "PF    ...  0.752  0.522  0.687  0.602  0.662      -    ***    ***    ***    *  \n",
       "FP    ...  0.839   0.78  0.867  0.785  0.633   0.77      -    ***    ***  ***  \n",
       "DD2   ...  0.796  0.491  0.657  0.503  0.581  0.594  0.764      -    ***  ***  \n",
       "TD3   ...  0.287  0.397  0.392  0.333   0.18  0.224  0.372  0.385      -   **  \n",
       "X...  ...  0.195  0.203  0.108  0.205  0.168  0.151  0.253  0.205  0.172    -  \n",
       "\n",
       "[27 rows x 27 columns]"
      ]
     },
     "execution_count": 15,
     "metadata": {},
     "output_type": "execute_result"
    }
   ],
   "source": [
    "# Correlation between the variables with p-values (Spearman's correlation) with Holm\n",
    "nba.rcorr(method = \"spearman\", padjust = \"holm\")"
   ]
  },
  {
   "attachments": {},
   "cell_type": "markdown",
   "metadata": {},
   "source": [
    "- *Explain how these techniques work and what the main differences are between Holm and Bonferonni.*\n",
    "\n",
    "Bonferonni correction works by dividing the significance level by the number of tests. Holm correction works by ordering the p-values from smallest to largest and then applying the Bonferonni correction to the first p-value. If the p-value is significant, then the corresponding hypothesis is rejected. If the p-value is not significant, then the corresponding hypothesis is not rejected and the next p-value is tested. This process is repeated until a significant p-value is found or all p-values have been tested.\n",
    "\n",
    "- *What other correction techniques could have been used ?*\n",
    "\n",
    "Some other correction techniques could have been used such as the Benjamini-Hochberg correction, the Sidak correction or the Skipped correction."
   ]
  },
  {
   "attachments": {},
   "cell_type": "markdown",
   "metadata": {},
   "source": [
    "## 4. Market Basket Analysis"
   ]
  },
  {
   "attachments": {},
   "cell_type": "markdown",
   "metadata": {},
   "source": [
    "1. In the introduction of the Jupyter Notebook, define precisely the following metrics : support, lift, confidence, leverage and conviction. Plagiarism will not be tolerated, use your own words\n",
    "\n",
    "- Support: The percentage of transactions in which a particular item or a set of items appear.\n",
    "- Lift: The ratio of the observed support of a itemset to the expected support if the items were independent.\n",
    "- Confidence: The probability that a customer who bought item A also bought item B. It is expressed as Confidence(A=>B) = (Support(A,B)) / Support(A).\n",
    "- Leverage: The difference between the observed support of a itemset and the expected support if the items were independent.\n",
    "- Conviction: The ratio of the expected probability that a item B is not bought if item A is not bought, to the actual probability that B is not bought if A is not bought. Conviction(A=>B) = 1 - (Support(B) / Support(A'=>B)).\n"
   ]
  },
  {
   "cell_type": "markdown",
   "metadata": {},
   "source": [
    "\n",
    "2. Explain the notion of pruning, and how the a priori algorithm works with a chart of your own creation (i.e., not found online). Identify frequent itemsets using the apriori method (both using theses tags and retail data)\n",
    "\n",
    "Pruning is the process of removing non-frequent itemsets from the search space. The a priori algorithm works by generating all possible itemsets of size k, then removing the non-frequent itemsets. This process is repeated until no more frequent itemsets are found."
   ]
  },
  {
   "cell_type": "code",
   "execution_count": 3,
   "metadata": {},
   "outputs": [
    {
     "data": {
      "text/html": [
       "<div>\n",
       "<style scoped>\n",
       "    .dataframe tbody tr th:only-of-type {\n",
       "        vertical-align: middle;\n",
       "    }\n",
       "\n",
       "    .dataframe tbody tr th {\n",
       "        vertical-align: top;\n",
       "    }\n",
       "\n",
       "    .dataframe thead th {\n",
       "        text-align: right;\n",
       "    }\n",
       "</style>\n",
       "<table border=\"1\" class=\"dataframe\">\n",
       "  <thead>\n",
       "    <tr style=\"text-align: right;\">\n",
       "      <th></th>\n",
       "      <th>Defence.date</th>\n",
       "      <th>Domains</th>\n",
       "      <th>Full.Text.Language</th>\n",
       "      <th>def.date</th>\n",
       "      <th>n.disc</th>\n",
       "      <th>these.id</th>\n",
       "      <th>disc1.lev1</th>\n",
       "      <th>disc1.lev2</th>\n",
       "      <th>disc1.lev3</th>\n",
       "      <th>disc2.lev1</th>\n",
       "      <th>...</th>\n",
       "      <th>n.tag</th>\n",
       "      <th>disc1.rec.lev1</th>\n",
       "      <th>disc1.rec.lev2</th>\n",
       "      <th>disc1.rec.lev3</th>\n",
       "      <th>disc2.rec.lev1</th>\n",
       "      <th>disc2.rec.lev2</th>\n",
       "      <th>disc2.rec.lev3</th>\n",
       "      <th>disc3.rec.lev1</th>\n",
       "      <th>disc3.rec.lev2</th>\n",
       "      <th>disc3.rec.lev3</th>\n",
       "    </tr>\n",
       "  </thead>\n",
       "  <tbody>\n",
       "    <tr>\n",
       "      <th>0</th>\n",
       "      <td>2010/09/23</td>\n",
       "      <td>Sciences du Vivant [q-bio] / Ecologie, Environ...</td>\n",
       "      <td>French</td>\n",
       "      <td>2010.0</td>\n",
       "      <td>1</td>\n",
       "      <td>tel-00662843v1</td>\n",
       "      <td>Sciences du Vivant [q-bio]</td>\n",
       "      <td>Ecologie, Environnement</td>\n",
       "      <td>Ecosystèmes</td>\n",
       "      <td>NaN</td>\n",
       "      <td>...</td>\n",
       "      <td>1</td>\n",
       "      <td>X</td>\n",
       "      <td>67 - Biologie des populations et écologie</td>\n",
       "      <td>Ecologie, Environnement</td>\n",
       "      <td>NaN</td>\n",
       "      <td>NaN</td>\n",
       "      <td>NaN</td>\n",
       "      <td>NaN</td>\n",
       "      <td>NaN</td>\n",
       "      <td>NaN</td>\n",
       "    </tr>\n",
       "    <tr>\n",
       "      <th>1</th>\n",
       "      <td>2009/11/02</td>\n",
       "      <td>Sciences de l'Homme et Société</td>\n",
       "      <td>French</td>\n",
       "      <td>2009.0</td>\n",
       "      <td>1</td>\n",
       "      <td>tel-00491490v1</td>\n",
       "      <td>Sciences de l'Homme et Société</td>\n",
       "      <td>NaN</td>\n",
       "      <td>NaN</td>\n",
       "      <td>NaN</td>\n",
       "      <td>...</td>\n",
       "      <td>1</td>\n",
       "      <td>IV</td>\n",
       "      <td>NaN</td>\n",
       "      <td>NaN</td>\n",
       "      <td>NaN</td>\n",
       "      <td>NaN</td>\n",
       "      <td>NaN</td>\n",
       "      <td>NaN</td>\n",
       "      <td>NaN</td>\n",
       "      <td>NaN</td>\n",
       "    </tr>\n",
       "    <tr>\n",
       "      <th>2</th>\n",
       "      <td>1996/05/30</td>\n",
       "      <td>Sciences du Vivant [q-bio] / Alimentation et N...</td>\n",
       "      <td>French</td>\n",
       "      <td>1996.0</td>\n",
       "      <td>1</td>\n",
       "      <td>tel-01776364v1</td>\n",
       "      <td>Sciences du Vivant [q-bio]</td>\n",
       "      <td>Alimentation et Nutrition</td>\n",
       "      <td>NaN</td>\n",
       "      <td>Sciences du Vivant [q-bio]</td>\n",
       "      <td>...</td>\n",
       "      <td>2</td>\n",
       "      <td>X</td>\n",
       "      <td>68 - Biologie des organismes</td>\n",
       "      <td>Alimentation et Nutrition</td>\n",
       "      <td>NaN</td>\n",
       "      <td>NaN</td>\n",
       "      <td>NaN</td>\n",
       "      <td>NaN</td>\n",
       "      <td>NaN</td>\n",
       "      <td>NaN</td>\n",
       "    </tr>\n",
       "    <tr>\n",
       "      <th>3</th>\n",
       "      <td>2018/02/02</td>\n",
       "      <td>Informatique [cs] / Autre [cs.OH]  \\r\\n\\r\\nInf...</td>\n",
       "      <td>French</td>\n",
       "      <td>2018.0</td>\n",
       "      <td>1</td>\n",
       "      <td>tel-02437294v1</td>\n",
       "      <td>Informatique [cs]</td>\n",
       "      <td>Autre [cs.OH]</td>\n",
       "      <td>NaN</td>\n",
       "      <td>Informatique [cs]</td>\n",
       "      <td>...</td>\n",
       "      <td>2</td>\n",
       "      <td>V</td>\n",
       "      <td>27 - Informatique</td>\n",
       "      <td>NaN</td>\n",
       "      <td>V</td>\n",
       "      <td>27 - Informatique</td>\n",
       "      <td>NaN</td>\n",
       "      <td>NaN</td>\n",
       "      <td>NaN</td>\n",
       "      <td>NaN</td>\n",
       "    </tr>\n",
       "    <tr>\n",
       "      <th>4</th>\n",
       "      <td>2015/07/08</td>\n",
       "      <td>Informatique [cs] / Automatique  \\r\\n\\r\\nInfor...</td>\n",
       "      <td>French</td>\n",
       "      <td>2015.0</td>\n",
       "      <td>1</td>\n",
       "      <td>tel-01245100v1</td>\n",
       "      <td>Informatique [cs]</td>\n",
       "      <td>Automatique</td>\n",
       "      <td>NaN</td>\n",
       "      <td>Informatique [cs]</td>\n",
       "      <td>...</td>\n",
       "      <td>2</td>\n",
       "      <td>V</td>\n",
       "      <td>27 - Informatique</td>\n",
       "      <td>NaN</td>\n",
       "      <td>V</td>\n",
       "      <td>27 - Informatique</td>\n",
       "      <td>NaN</td>\n",
       "      <td>NaN</td>\n",
       "      <td>NaN</td>\n",
       "      <td>NaN</td>\n",
       "    </tr>\n",
       "    <tr>\n",
       "      <th>...</th>\n",
       "      <td>...</td>\n",
       "      <td>...</td>\n",
       "      <td>...</td>\n",
       "      <td>...</td>\n",
       "      <td>...</td>\n",
       "      <td>...</td>\n",
       "      <td>...</td>\n",
       "      <td>...</td>\n",
       "      <td>...</td>\n",
       "      <td>...</td>\n",
       "      <td>...</td>\n",
       "      <td>...</td>\n",
       "      <td>...</td>\n",
       "      <td>...</td>\n",
       "      <td>...</td>\n",
       "      <td>...</td>\n",
       "      <td>...</td>\n",
       "      <td>...</td>\n",
       "      <td>...</td>\n",
       "      <td>...</td>\n",
       "      <td>...</td>\n",
       "    </tr>\n",
       "    <tr>\n",
       "      <th>100041</th>\n",
       "      <td>2016/06/14</td>\n",
       "      <td>Sciences de l'environnement / Milieux et Chang...</td>\n",
       "      <td>English</td>\n",
       "      <td>2016.0</td>\n",
       "      <td>1</td>\n",
       "      <td>tel-02795098v1</td>\n",
       "      <td>Sciences de l'environnement</td>\n",
       "      <td>Milieux et Changements globaux</td>\n",
       "      <td>NaN</td>\n",
       "      <td>NaN</td>\n",
       "      <td>...</td>\n",
       "      <td>1</td>\n",
       "      <td>VIII</td>\n",
       "      <td>37 - Météorologie, océanographie physique et p...</td>\n",
       "      <td>Milieux et Changements globaux</td>\n",
       "      <td>NaN</td>\n",
       "      <td>NaN</td>\n",
       "      <td>NaN</td>\n",
       "      <td>NaN</td>\n",
       "      <td>NaN</td>\n",
       "      <td>NaN</td>\n",
       "    </tr>\n",
       "    <tr>\n",
       "      <th>100042</th>\n",
       "      <td>2018/12/03</td>\n",
       "      <td>Sciences du Vivant [q-bio] / Neurosciences [q-...</td>\n",
       "      <td>French</td>\n",
       "      <td>2018.0</td>\n",
       "      <td>2</td>\n",
       "      <td>tel-02918021v1</td>\n",
       "      <td>Sciences du Vivant [q-bio]</td>\n",
       "      <td>Neurosciences [q-bio.NC]</td>\n",
       "      <td>NaN</td>\n",
       "      <td>Sciences de l'ingénieur [physics]</td>\n",
       "      <td>...</td>\n",
       "      <td>2</td>\n",
       "      <td>X</td>\n",
       "      <td>69 - Neurosciences</td>\n",
       "      <td>Neurosciences [q-bio.NC]</td>\n",
       "      <td>IX</td>\n",
       "      <td>63 - Génie électrique, électronique, photoniqu...</td>\n",
       "      <td>Electromagnétisme</td>\n",
       "      <td>NaN</td>\n",
       "      <td>NaN</td>\n",
       "      <td>NaN</td>\n",
       "    </tr>\n",
       "    <tr>\n",
       "      <th>100043</th>\n",
       "      <td>2017/05/24</td>\n",
       "      <td>Sciences du Vivant [q-bio] / Sciences pharmace...</td>\n",
       "      <td>French</td>\n",
       "      <td>2017.0</td>\n",
       "      <td>1</td>\n",
       "      <td>tel-02917945v1</td>\n",
       "      <td>Sciences du Vivant [q-bio]</td>\n",
       "      <td>Sciences pharmaceutiques</td>\n",
       "      <td>Pharmacologie</td>\n",
       "      <td>Sciences du Vivant [q-bio]</td>\n",
       "      <td>...</td>\n",
       "      <td>2</td>\n",
       "      <td>pharmacie</td>\n",
       "      <td>87 - Sciences biologiques pharmaceutiques</td>\n",
       "      <td>Sciences pharmaceutiques</td>\n",
       "      <td>X</td>\n",
       "      <td>NaN</td>\n",
       "      <td>Cancer</td>\n",
       "      <td>NaN</td>\n",
       "      <td>NaN</td>\n",
       "      <td>NaN</td>\n",
       "    </tr>\n",
       "    <tr>\n",
       "      <th>100044</th>\n",
       "      <td>2017/07/03</td>\n",
       "      <td>Sciences du Vivant [q-bio] / Sciences pharmace...</td>\n",
       "      <td>French</td>\n",
       "      <td>2017.0</td>\n",
       "      <td>1</td>\n",
       "      <td>tel-02918194v1</td>\n",
       "      <td>Sciences du Vivant [q-bio]</td>\n",
       "      <td>Sciences pharmaceutiques</td>\n",
       "      <td>NaN</td>\n",
       "      <td>NaN</td>\n",
       "      <td>...</td>\n",
       "      <td>1</td>\n",
       "      <td>pharmacie</td>\n",
       "      <td>87 - Sciences biologiques pharmaceutiques</td>\n",
       "      <td>Sciences pharmaceutiques</td>\n",
       "      <td>NaN</td>\n",
       "      <td>NaN</td>\n",
       "      <td>NaN</td>\n",
       "      <td>NaN</td>\n",
       "      <td>NaN</td>\n",
       "      <td>NaN</td>\n",
       "    </tr>\n",
       "    <tr>\n",
       "      <th>100045</th>\n",
       "      <td>NaN</td>\n",
       "      <td>NaN</td>\n",
       "      <td>Other</td>\n",
       "      <td>NaN</td>\n",
       "      <td>0</td>\n",
       "      <td>tel-00418569v1</td>\n",
       "      <td>NaN</td>\n",
       "      <td>NaN</td>\n",
       "      <td>NaN</td>\n",
       "      <td>NaN</td>\n",
       "      <td>...</td>\n",
       "      <td>1</td>\n",
       "      <td>NaN</td>\n",
       "      <td>NaN</td>\n",
       "      <td>NaN</td>\n",
       "      <td>NaN</td>\n",
       "      <td>NaN</td>\n",
       "      <td>NaN</td>\n",
       "      <td>NaN</td>\n",
       "      <td>NaN</td>\n",
       "      <td>NaN</td>\n",
       "    </tr>\n",
       "  </tbody>\n",
       "</table>\n",
       "<p>100046 rows × 25 columns</p>\n",
       "</div>"
      ],
      "text/plain": [
       "       Defence.date                                            Domains  \\\n",
       "0        2010/09/23  Sciences du Vivant [q-bio] / Ecologie, Environ...   \n",
       "1        2009/11/02                     Sciences de l'Homme et Société   \n",
       "2        1996/05/30  Sciences du Vivant [q-bio] / Alimentation et N...   \n",
       "3        2018/02/02  Informatique [cs] / Autre [cs.OH]  \\r\\n\\r\\nInf...   \n",
       "4        2015/07/08  Informatique [cs] / Automatique  \\r\\n\\r\\nInfor...   \n",
       "...             ...                                                ...   \n",
       "100041   2016/06/14  Sciences de l'environnement / Milieux et Chang...   \n",
       "100042   2018/12/03  Sciences du Vivant [q-bio] / Neurosciences [q-...   \n",
       "100043   2017/05/24  Sciences du Vivant [q-bio] / Sciences pharmace...   \n",
       "100044   2017/07/03  Sciences du Vivant [q-bio] / Sciences pharmace...   \n",
       "100045          NaN                                                NaN   \n",
       "\n",
       "       Full.Text.Language  def.date  n.disc        these.id  \\\n",
       "0                  French    2010.0       1  tel-00662843v1   \n",
       "1                  French    2009.0       1  tel-00491490v1   \n",
       "2                  French    1996.0       1  tel-01776364v1   \n",
       "3                  French    2018.0       1  tel-02437294v1   \n",
       "4                  French    2015.0       1  tel-01245100v1   \n",
       "...                   ...       ...     ...             ...   \n",
       "100041            English    2016.0       1  tel-02795098v1   \n",
       "100042             French    2018.0       2  tel-02918021v1   \n",
       "100043             French    2017.0       1  tel-02917945v1   \n",
       "100044             French    2017.0       1  tel-02918194v1   \n",
       "100045              Other       NaN       0  tel-00418569v1   \n",
       "\n",
       "                            disc1.lev1                      disc1.lev2  \\\n",
       "0           Sciences du Vivant [q-bio]         Ecologie, Environnement   \n",
       "1       Sciences de l'Homme et Société                             NaN   \n",
       "2           Sciences du Vivant [q-bio]       Alimentation et Nutrition   \n",
       "3                    Informatique [cs]                   Autre [cs.OH]   \n",
       "4                    Informatique [cs]                     Automatique   \n",
       "...                                ...                             ...   \n",
       "100041     Sciences de l'environnement  Milieux et Changements globaux   \n",
       "100042      Sciences du Vivant [q-bio]        Neurosciences [q-bio.NC]   \n",
       "100043      Sciences du Vivant [q-bio]        Sciences pharmaceutiques   \n",
       "100044      Sciences du Vivant [q-bio]        Sciences pharmaceutiques   \n",
       "100045                             NaN                             NaN   \n",
       "\n",
       "           disc1.lev3                         disc2.lev1  ... n.tag  \\\n",
       "0         Ecosystèmes                                NaN  ...     1   \n",
       "1                 NaN                                NaN  ...     1   \n",
       "2                 NaN         Sciences du Vivant [q-bio]  ...     2   \n",
       "3                 NaN                  Informatique [cs]  ...     2   \n",
       "4                 NaN                  Informatique [cs]  ...     2   \n",
       "...               ...                                ...  ...   ...   \n",
       "100041            NaN                                NaN  ...     1   \n",
       "100042            NaN  Sciences de l'ingénieur [physics]  ...     2   \n",
       "100043  Pharmacologie         Sciences du Vivant [q-bio]  ...     2   \n",
       "100044            NaN                                NaN  ...     1   \n",
       "100045            NaN                                NaN  ...     1   \n",
       "\n",
       "       disc1.rec.lev1                                     disc1.rec.lev2  \\\n",
       "0                   X          67 - Biologie des populations et écologie   \n",
       "1                  IV                                                NaN   \n",
       "2                   X                       68 - Biologie des organismes   \n",
       "3                   V                                  27 - Informatique   \n",
       "4                   V                                  27 - Informatique   \n",
       "...               ...                                                ...   \n",
       "100041           VIII  37 - Météorologie, océanographie physique et p...   \n",
       "100042              X                                 69 - Neurosciences   \n",
       "100043      pharmacie          87 - Sciences biologiques pharmaceutiques   \n",
       "100044      pharmacie          87 - Sciences biologiques pharmaceutiques   \n",
       "100045            NaN                                                NaN   \n",
       "\n",
       "                        disc1.rec.lev3 disc2.rec.lev1  \\\n",
       "0              Ecologie, Environnement            NaN   \n",
       "1                                  NaN            NaN   \n",
       "2            Alimentation et Nutrition            NaN   \n",
       "3                                  NaN              V   \n",
       "4                                  NaN              V   \n",
       "...                                ...            ...   \n",
       "100041  Milieux et Changements globaux            NaN   \n",
       "100042        Neurosciences [q-bio.NC]             IX   \n",
       "100043        Sciences pharmaceutiques              X   \n",
       "100044        Sciences pharmaceutiques            NaN   \n",
       "100045                             NaN            NaN   \n",
       "\n",
       "                                           disc2.rec.lev2     disc2.rec.lev3  \\\n",
       "0                                                     NaN                NaN   \n",
       "1                                                     NaN                NaN   \n",
       "2                                                     NaN                NaN   \n",
       "3                                       27 - Informatique                NaN   \n",
       "4                                       27 - Informatique                NaN   \n",
       "...                                                   ...                ...   \n",
       "100041                                                NaN                NaN   \n",
       "100042  63 - Génie électrique, électronique, photoniqu...  Electromagnétisme   \n",
       "100043                                                NaN             Cancer   \n",
       "100044                                                NaN                NaN   \n",
       "100045                                                NaN                NaN   \n",
       "\n",
       "       disc3.rec.lev1 disc3.rec.lev2 disc3.rec.lev3  \n",
       "0                 NaN            NaN            NaN  \n",
       "1                 NaN            NaN            NaN  \n",
       "2                 NaN            NaN            NaN  \n",
       "3                 NaN            NaN            NaN  \n",
       "4                 NaN            NaN            NaN  \n",
       "...               ...            ...            ...  \n",
       "100041            NaN            NaN            NaN  \n",
       "100042            NaN            NaN            NaN  \n",
       "100043            NaN            NaN            NaN  \n",
       "100044            NaN            NaN            NaN  \n",
       "100045            NaN            NaN            NaN  \n",
       "\n",
       "[100046 rows x 25 columns]"
      ]
     },
     "execution_count": 3,
     "metadata": {},
     "output_type": "execute_result"
    }
   ],
   "source": [
    "thesesfr = pd.read_csv(\"Datasets/Market Basket Analysis/tel_samp_rec.csv\", encoding=\"latin-1\")\n",
    "thesesfr"
   ]
  },
  {
   "cell_type": "code",
   "execution_count": 4,
   "metadata": {},
   "outputs": [
    {
     "data": {
      "text/plain": [
       "Index(['Defence.date', 'Domains', 'Full.Text.Language', 'def.date', 'n.disc',\n",
       "       'these.id', 'disc1.lev1', 'disc1.lev2', 'disc1.lev3', 'disc2.lev1',\n",
       "       'disc2.lev2', 'disc2.lev3', 'disc3.lev1', 'disc3.lev2', 'disc3.lev3',\n",
       "       'n.tag', 'disc1.rec.lev1', 'disc1.rec.lev2', 'disc1.rec.lev3',\n",
       "       'disc2.rec.lev1', 'disc2.rec.lev2', 'disc2.rec.lev3', 'disc3.rec.lev1',\n",
       "       'disc3.rec.lev2', 'disc3.rec.lev3'],\n",
       "      dtype='object')"
      ]
     },
     "execution_count": 4,
     "metadata": {},
     "output_type": "execute_result"
    }
   ],
   "source": [
    "thesesfr.columns"
   ]
  },
  {
   "cell_type": "code",
   "execution_count": 16,
   "metadata": {},
   "outputs": [
    {
     "data": {
      "text/html": [
       "<div>\n",
       "<style scoped>\n",
       "    .dataframe tbody tr th:only-of-type {\n",
       "        vertical-align: middle;\n",
       "    }\n",
       "\n",
       "    .dataframe tbody tr th {\n",
       "        vertical-align: top;\n",
       "    }\n",
       "\n",
       "    .dataframe thead th {\n",
       "        text-align: right;\n",
       "    }\n",
       "</style>\n",
       "<table border=\"1\" class=\"dataframe\">\n",
       "  <thead>\n",
       "    <tr style=\"text-align: right;\">\n",
       "      <th></th>\n",
       "      <th>disc1.rec.lev1</th>\n",
       "      <th>disc1.rec.lev2</th>\n",
       "      <th>disc2.rec.lev1</th>\n",
       "    </tr>\n",
       "  </thead>\n",
       "  <tbody>\n",
       "    <tr>\n",
       "      <th>0</th>\n",
       "      <td>X</td>\n",
       "      <td>67 - Biologie des populations et écologie</td>\n",
       "      <td>NaN</td>\n",
       "    </tr>\n",
       "    <tr>\n",
       "      <th>1</th>\n",
       "      <td>IV</td>\n",
       "      <td>NaN</td>\n",
       "      <td>NaN</td>\n",
       "    </tr>\n",
       "    <tr>\n",
       "      <th>2</th>\n",
       "      <td>X</td>\n",
       "      <td>68 - Biologie des organismes</td>\n",
       "      <td>NaN</td>\n",
       "    </tr>\n",
       "    <tr>\n",
       "      <th>3</th>\n",
       "      <td>V</td>\n",
       "      <td>27 - Informatique</td>\n",
       "      <td>V</td>\n",
       "    </tr>\n",
       "    <tr>\n",
       "      <th>4</th>\n",
       "      <td>V</td>\n",
       "      <td>27 - Informatique</td>\n",
       "      <td>V</td>\n",
       "    </tr>\n",
       "    <tr>\n",
       "      <th>...</th>\n",
       "      <td>...</td>\n",
       "      <td>...</td>\n",
       "      <td>...</td>\n",
       "    </tr>\n",
       "    <tr>\n",
       "      <th>100041</th>\n",
       "      <td>VIII</td>\n",
       "      <td>37 - Météorologie, océanographie physique et p...</td>\n",
       "      <td>NaN</td>\n",
       "    </tr>\n",
       "    <tr>\n",
       "      <th>100042</th>\n",
       "      <td>X</td>\n",
       "      <td>69 - Neurosciences</td>\n",
       "      <td>IX</td>\n",
       "    </tr>\n",
       "    <tr>\n",
       "      <th>100043</th>\n",
       "      <td>pharmacie</td>\n",
       "      <td>87 - Sciences biologiques pharmaceutiques</td>\n",
       "      <td>X</td>\n",
       "    </tr>\n",
       "    <tr>\n",
       "      <th>100044</th>\n",
       "      <td>pharmacie</td>\n",
       "      <td>87 - Sciences biologiques pharmaceutiques</td>\n",
       "      <td>NaN</td>\n",
       "    </tr>\n",
       "    <tr>\n",
       "      <th>100045</th>\n",
       "      <td>NaN</td>\n",
       "      <td>NaN</td>\n",
       "      <td>NaN</td>\n",
       "    </tr>\n",
       "  </tbody>\n",
       "</table>\n",
       "<p>100046 rows × 3 columns</p>\n",
       "</div>"
      ],
      "text/plain": [
       "       disc1.rec.lev1                                     disc1.rec.lev2  \\\n",
       "0                   X          67 - Biologie des populations et écologie   \n",
       "1                  IV                                                NaN   \n",
       "2                   X                       68 - Biologie des organismes   \n",
       "3                   V                                  27 - Informatique   \n",
       "4                   V                                  27 - Informatique   \n",
       "...               ...                                                ...   \n",
       "100041           VIII  37 - Météorologie, océanographie physique et p...   \n",
       "100042              X                                 69 - Neurosciences   \n",
       "100043      pharmacie          87 - Sciences biologiques pharmaceutiques   \n",
       "100044      pharmacie          87 - Sciences biologiques pharmaceutiques   \n",
       "100045            NaN                                                NaN   \n",
       "\n",
       "       disc2.rec.lev1  \n",
       "0                 NaN  \n",
       "1                 NaN  \n",
       "2                 NaN  \n",
       "3                   V  \n",
       "4                   V  \n",
       "...               ...  \n",
       "100041            NaN  \n",
       "100042             IX  \n",
       "100043              X  \n",
       "100044            NaN  \n",
       "100045            NaN  \n",
       "\n",
       "[100046 rows x 3 columns]"
      ]
     },
     "execution_count": 16,
     "metadata": {},
     "output_type": "execute_result"
    }
   ],
   "source": [
    "thesesfr[[\"disc1.rec.lev1\", \"disc1.rec.lev2\", \"disc2.rec.lev1\"]]"
   ]
  },
  {
   "cell_type": "code",
   "execution_count": 69,
   "metadata": {},
   "outputs": [
    {
     "data": {
      "text/html": [
       "<div>\n",
       "<style scoped>\n",
       "    .dataframe tbody tr th:only-of-type {\n",
       "        vertical-align: middle;\n",
       "    }\n",
       "\n",
       "    .dataframe tbody tr th {\n",
       "        vertical-align: top;\n",
       "    }\n",
       "\n",
       "    .dataframe thead th {\n",
       "        text-align: right;\n",
       "    }\n",
       "</style>\n",
       "<table border=\"1\" class=\"dataframe\">\n",
       "  <thead>\n",
       "    <tr style=\"text-align: right;\">\n",
       "      <th></th>\n",
       "      <th>I</th>\n",
       "      <th>I - Droit</th>\n",
       "      <th>II</th>\n",
       "      <th>III</th>\n",
       "      <th>IV</th>\n",
       "      <th>IX</th>\n",
       "      <th>V</th>\n",
       "      <th>VI</th>\n",
       "      <th>VII</th>\n",
       "      <th>VIII</th>\n",
       "      <th>X</th>\n",
       "      <th>XII</th>\n",
       "      <th>pharmacie</th>\n",
       "    </tr>\n",
       "  </thead>\n",
       "  <tbody>\n",
       "    <tr>\n",
       "      <th>0</th>\n",
       "      <td>False</td>\n",
       "      <td>False</td>\n",
       "      <td>False</td>\n",
       "      <td>False</td>\n",
       "      <td>False</td>\n",
       "      <td>False</td>\n",
       "      <td>True</td>\n",
       "      <td>False</td>\n",
       "      <td>False</td>\n",
       "      <td>False</td>\n",
       "      <td>False</td>\n",
       "      <td>False</td>\n",
       "      <td>False</td>\n",
       "    </tr>\n",
       "    <tr>\n",
       "      <th>1</th>\n",
       "      <td>False</td>\n",
       "      <td>False</td>\n",
       "      <td>False</td>\n",
       "      <td>False</td>\n",
       "      <td>False</td>\n",
       "      <td>False</td>\n",
       "      <td>True</td>\n",
       "      <td>False</td>\n",
       "      <td>False</td>\n",
       "      <td>False</td>\n",
       "      <td>False</td>\n",
       "      <td>False</td>\n",
       "      <td>False</td>\n",
       "    </tr>\n",
       "    <tr>\n",
       "      <th>2</th>\n",
       "      <td>False</td>\n",
       "      <td>False</td>\n",
       "      <td>False</td>\n",
       "      <td>False</td>\n",
       "      <td>False</td>\n",
       "      <td>True</td>\n",
       "      <td>False</td>\n",
       "      <td>False</td>\n",
       "      <td>False</td>\n",
       "      <td>False</td>\n",
       "      <td>False</td>\n",
       "      <td>False</td>\n",
       "      <td>False</td>\n",
       "    </tr>\n",
       "    <tr>\n",
       "      <th>3</th>\n",
       "      <td>False</td>\n",
       "      <td>False</td>\n",
       "      <td>False</td>\n",
       "      <td>False</td>\n",
       "      <td>False</td>\n",
       "      <td>True</td>\n",
       "      <td>False</td>\n",
       "      <td>False</td>\n",
       "      <td>False</td>\n",
       "      <td>False</td>\n",
       "      <td>False</td>\n",
       "      <td>False</td>\n",
       "      <td>False</td>\n",
       "    </tr>\n",
       "    <tr>\n",
       "      <th>4</th>\n",
       "      <td>False</td>\n",
       "      <td>False</td>\n",
       "      <td>True</td>\n",
       "      <td>False</td>\n",
       "      <td>False</td>\n",
       "      <td>False</td>\n",
       "      <td>True</td>\n",
       "      <td>False</td>\n",
       "      <td>False</td>\n",
       "      <td>False</td>\n",
       "      <td>False</td>\n",
       "      <td>False</td>\n",
       "      <td>False</td>\n",
       "    </tr>\n",
       "    <tr>\n",
       "      <th>...</th>\n",
       "      <td>...</td>\n",
       "      <td>...</td>\n",
       "      <td>...</td>\n",
       "      <td>...</td>\n",
       "      <td>...</td>\n",
       "      <td>...</td>\n",
       "      <td>...</td>\n",
       "      <td>...</td>\n",
       "      <td>...</td>\n",
       "      <td>...</td>\n",
       "      <td>...</td>\n",
       "      <td>...</td>\n",
       "      <td>...</td>\n",
       "    </tr>\n",
       "    <tr>\n",
       "      <th>16676</th>\n",
       "      <td>False</td>\n",
       "      <td>False</td>\n",
       "      <td>False</td>\n",
       "      <td>False</td>\n",
       "      <td>False</td>\n",
       "      <td>False</td>\n",
       "      <td>False</td>\n",
       "      <td>False</td>\n",
       "      <td>True</td>\n",
       "      <td>True</td>\n",
       "      <td>False</td>\n",
       "      <td>False</td>\n",
       "      <td>False</td>\n",
       "    </tr>\n",
       "    <tr>\n",
       "      <th>16677</th>\n",
       "      <td>False</td>\n",
       "      <td>False</td>\n",
       "      <td>False</td>\n",
       "      <td>False</td>\n",
       "      <td>False</td>\n",
       "      <td>False</td>\n",
       "      <td>True</td>\n",
       "      <td>False</td>\n",
       "      <td>False</td>\n",
       "      <td>False</td>\n",
       "      <td>False</td>\n",
       "      <td>False</td>\n",
       "      <td>False</td>\n",
       "    </tr>\n",
       "    <tr>\n",
       "      <th>16678</th>\n",
       "      <td>False</td>\n",
       "      <td>False</td>\n",
       "      <td>True</td>\n",
       "      <td>False</td>\n",
       "      <td>True</td>\n",
       "      <td>False</td>\n",
       "      <td>False</td>\n",
       "      <td>False</td>\n",
       "      <td>False</td>\n",
       "      <td>False</td>\n",
       "      <td>False</td>\n",
       "      <td>False</td>\n",
       "      <td>False</td>\n",
       "    </tr>\n",
       "    <tr>\n",
       "      <th>16679</th>\n",
       "      <td>False</td>\n",
       "      <td>False</td>\n",
       "      <td>False</td>\n",
       "      <td>False</td>\n",
       "      <td>False</td>\n",
       "      <td>True</td>\n",
       "      <td>False</td>\n",
       "      <td>False</td>\n",
       "      <td>False</td>\n",
       "      <td>False</td>\n",
       "      <td>True</td>\n",
       "      <td>False</td>\n",
       "      <td>False</td>\n",
       "    </tr>\n",
       "    <tr>\n",
       "      <th>16680</th>\n",
       "      <td>False</td>\n",
       "      <td>False</td>\n",
       "      <td>False</td>\n",
       "      <td>False</td>\n",
       "      <td>False</td>\n",
       "      <td>False</td>\n",
       "      <td>False</td>\n",
       "      <td>False</td>\n",
       "      <td>False</td>\n",
       "      <td>False</td>\n",
       "      <td>True</td>\n",
       "      <td>False</td>\n",
       "      <td>True</td>\n",
       "    </tr>\n",
       "  </tbody>\n",
       "</table>\n",
       "<p>16681 rows × 13 columns</p>\n",
       "</div>"
      ],
      "text/plain": [
       "           I  I - Droit     II    III     IV     IX      V     VI    VII  \\\n",
       "0      False      False  False  False  False  False   True  False  False   \n",
       "1      False      False  False  False  False  False   True  False  False   \n",
       "2      False      False  False  False  False   True  False  False  False   \n",
       "3      False      False  False  False  False   True  False  False  False   \n",
       "4      False      False   True  False  False  False   True  False  False   \n",
       "...      ...        ...    ...    ...    ...    ...    ...    ...    ...   \n",
       "16676  False      False  False  False  False  False  False  False   True   \n",
       "16677  False      False  False  False  False  False   True  False  False   \n",
       "16678  False      False   True  False   True  False  False  False  False   \n",
       "16679  False      False  False  False  False   True  False  False  False   \n",
       "16680  False      False  False  False  False  False  False  False  False   \n",
       "\n",
       "        VIII      X    XII  pharmacie  \n",
       "0      False  False  False      False  \n",
       "1      False  False  False      False  \n",
       "2      False  False  False      False  \n",
       "3      False  False  False      False  \n",
       "4      False  False  False      False  \n",
       "...      ...    ...    ...        ...  \n",
       "16676   True  False  False      False  \n",
       "16677  False  False  False      False  \n",
       "16678  False  False  False      False  \n",
       "16679  False   True  False      False  \n",
       "16680  False   True  False       True  \n",
       "\n",
       "[16681 rows x 13 columns]"
      ]
     },
     "execution_count": 69,
     "metadata": {},
     "output_type": "execute_result"
    }
   ],
   "source": [
    "# Apply mba on disc1.lev1 and disc1.lev2\n",
    "\n",
    "from mlxtend.frequent_patterns import apriori\n",
    "from mlxtend.frequent_patterns import association_rules\n",
    "from mlxtend.preprocessing import TransactionEncoder\n",
    "\n",
    "# Prepare the dataset with itemsets as the columns and the thesis for each row\n",
    "itemsets = thesesfr[[\"disc1.rec.lev1\", \"disc2.rec.lev1\"]]\n",
    "itemsets[[\"disc1.rec.lev1\"]] = itemsets[[\"disc1.rec.lev1\"]].astype(str)\n",
    "itemsets[[\"disc2.rec.lev1\"]] = itemsets[[\"disc2.rec.lev1\"]].astype(str)\n",
    "\n",
    "# Drop if \"nan\" is in the itemset\n",
    "itemsets.drop(itemsets[itemsets[\"disc1.rec.lev1\"] == \"nan\"].index, inplace = True)\n",
    "itemsets.drop(itemsets[itemsets[\"disc2.rec.lev1\"] == \"nan\"].index, inplace = True)\n",
    "itemsets = itemsets.values.tolist()\n",
    "te = TransactionEncoder()\n",
    "te_ary = te.fit(itemsets).transform(itemsets)\n",
    "itemsets = pd.DataFrame(te_ary, columns=te.columns_)\n",
    "itemsets"
   ]
  },
  {
   "cell_type": "code",
   "execution_count": 70,
   "metadata": {},
   "outputs": [
    {
     "data": {
      "text/html": [
       "<div>\n",
       "<style scoped>\n",
       "    .dataframe tbody tr th:only-of-type {\n",
       "        vertical-align: middle;\n",
       "    }\n",
       "\n",
       "    .dataframe tbody tr th {\n",
       "        vertical-align: top;\n",
       "    }\n",
       "\n",
       "    .dataframe thead th {\n",
       "        text-align: right;\n",
       "    }\n",
       "</style>\n",
       "<table border=\"1\" class=\"dataframe\">\n",
       "  <thead>\n",
       "    <tr style=\"text-align: right;\">\n",
       "      <th></th>\n",
       "      <th>support</th>\n",
       "      <th>itemsets</th>\n",
       "      <th>length</th>\n",
       "    </tr>\n",
       "  </thead>\n",
       "  <tbody>\n",
       "    <tr>\n",
       "      <th>0</th>\n",
       "      <td>0.010311</td>\n",
       "      <td>(I)</td>\n",
       "      <td>1</td>\n",
       "    </tr>\n",
       "    <tr>\n",
       "      <th>1</th>\n",
       "      <td>0.004736</td>\n",
       "      <td>(I - Droit)</td>\n",
       "      <td>1</td>\n",
       "    </tr>\n",
       "    <tr>\n",
       "      <th>2</th>\n",
       "      <td>0.028296</td>\n",
       "      <td>(II)</td>\n",
       "      <td>1</td>\n",
       "    </tr>\n",
       "    <tr>\n",
       "      <th>3</th>\n",
       "      <td>0.031413</td>\n",
       "      <td>(III)</td>\n",
       "      <td>1</td>\n",
       "    </tr>\n",
       "    <tr>\n",
       "      <th>4</th>\n",
       "      <td>0.121456</td>\n",
       "      <td>(IV)</td>\n",
       "      <td>1</td>\n",
       "    </tr>\n",
       "    <tr>\n",
       "      <th>...</th>\n",
       "      <td>...</td>\n",
       "      <td>...</td>\n",
       "      <td>...</td>\n",
       "    </tr>\n",
       "    <tr>\n",
       "      <th>70</th>\n",
       "      <td>0.009172</td>\n",
       "      <td>(VIII, X)</td>\n",
       "      <td>2</td>\n",
       "    </tr>\n",
       "    <tr>\n",
       "      <th>71</th>\n",
       "      <td>0.000120</td>\n",
       "      <td>(VIII, XII)</td>\n",
       "      <td>2</td>\n",
       "    </tr>\n",
       "    <tr>\n",
       "      <th>72</th>\n",
       "      <td>0.000540</td>\n",
       "      <td>(pharmacie, VIII)</td>\n",
       "      <td>2</td>\n",
       "    </tr>\n",
       "    <tr>\n",
       "      <th>73</th>\n",
       "      <td>0.001679</td>\n",
       "      <td>(X, XII)</td>\n",
       "      <td>2</td>\n",
       "    </tr>\n",
       "    <tr>\n",
       "      <th>74</th>\n",
       "      <td>0.011390</td>\n",
       "      <td>(pharmacie, X)</td>\n",
       "      <td>2</td>\n",
       "    </tr>\n",
       "  </tbody>\n",
       "</table>\n",
       "<p>75 rows × 3 columns</p>\n",
       "</div>"
      ],
      "text/plain": [
       "     support           itemsets  length\n",
       "0   0.010311                (I)       1\n",
       "1   0.004736        (I - Droit)       1\n",
       "2   0.028296               (II)       1\n",
       "3   0.031413              (III)       1\n",
       "4   0.121456               (IV)       1\n",
       "..       ...                ...     ...\n",
       "70  0.009172          (VIII, X)       2\n",
       "71  0.000120        (VIII, XII)       2\n",
       "72  0.000540  (pharmacie, VIII)       2\n",
       "73  0.001679           (X, XII)       2\n",
       "74  0.011390     (pharmacie, X)       2\n",
       "\n",
       "[75 rows x 3 columns]"
      ]
     },
     "execution_count": 70,
     "metadata": {},
     "output_type": "execute_result"
    }
   ],
   "source": [
    "frequent_itemsets = apriori(itemsets, min_support=0.0000005, use_colnames=True)\n",
    "frequent_itemsets[\"length\"] = frequent_itemsets[\"itemsets\"].apply(lambda x: len(x))\n",
    "frequent_itemsets"
   ]
  },
  {
   "cell_type": "code",
   "execution_count": 95,
   "metadata": {},
   "outputs": [
    {
     "data": {
      "text/html": [
       "<div>\n",
       "<style scoped>\n",
       "    .dataframe tbody tr th:only-of-type {\n",
       "        vertical-align: middle;\n",
       "    }\n",
       "\n",
       "    .dataframe tbody tr th {\n",
       "        vertical-align: top;\n",
       "    }\n",
       "\n",
       "    .dataframe thead th {\n",
       "        text-align: right;\n",
       "    }\n",
       "</style>\n",
       "<table border=\"1\" class=\"dataframe\">\n",
       "  <thead>\n",
       "    <tr style=\"text-align: right;\">\n",
       "      <th></th>\n",
       "      <th>antecedents</th>\n",
       "      <th>consequents</th>\n",
       "      <th>antecedent support</th>\n",
       "      <th>consequent support</th>\n",
       "      <th>support</th>\n",
       "      <th>confidence</th>\n",
       "      <th>lift</th>\n",
       "      <th>leverage</th>\n",
       "      <th>conviction</th>\n",
       "    </tr>\n",
       "  </thead>\n",
       "  <tbody>\n",
       "    <tr>\n",
       "      <th>0</th>\n",
       "      <td>(I - Droit)</td>\n",
       "      <td>(I)</td>\n",
       "      <td>0.004736</td>\n",
       "      <td>0.010311</td>\n",
       "      <td>0.001139</td>\n",
       "      <td>0.240506</td>\n",
       "      <td>23.324919</td>\n",
       "      <td>0.001090</td>\n",
       "      <td>1.303090</td>\n",
       "    </tr>\n",
       "    <tr>\n",
       "      <th>1</th>\n",
       "      <td>(I)</td>\n",
       "      <td>(I - Droit)</td>\n",
       "      <td>0.010311</td>\n",
       "      <td>0.004736</td>\n",
       "      <td>0.001139</td>\n",
       "      <td>0.110465</td>\n",
       "      <td>23.324919</td>\n",
       "      <td>0.001090</td>\n",
       "      <td>1.118859</td>\n",
       "    </tr>\n",
       "    <tr>\n",
       "      <th>2</th>\n",
       "      <td>(IV)</td>\n",
       "      <td>(I)</td>\n",
       "      <td>0.121456</td>\n",
       "      <td>0.010311</td>\n",
       "      <td>0.007853</td>\n",
       "      <td>0.064659</td>\n",
       "      <td>6.270837</td>\n",
       "      <td>0.006601</td>\n",
       "      <td>1.058105</td>\n",
       "    </tr>\n",
       "    <tr>\n",
       "      <th>3</th>\n",
       "      <td>(I)</td>\n",
       "      <td>(IV)</td>\n",
       "      <td>0.010311</td>\n",
       "      <td>0.121456</td>\n",
       "      <td>0.007853</td>\n",
       "      <td>0.761628</td>\n",
       "      <td>6.270837</td>\n",
       "      <td>0.006601</td>\n",
       "      <td>3.685601</td>\n",
       "    </tr>\n",
       "    <tr>\n",
       "      <th>4</th>\n",
       "      <td>(I - Droit)</td>\n",
       "      <td>(II)</td>\n",
       "      <td>0.004736</td>\n",
       "      <td>0.028296</td>\n",
       "      <td>0.000659</td>\n",
       "      <td>0.139241</td>\n",
       "      <td>4.920913</td>\n",
       "      <td>0.000525</td>\n",
       "      <td>1.128892</td>\n",
       "    </tr>\n",
       "    <tr>\n",
       "      <th>5</th>\n",
       "      <td>(I - Droit)</td>\n",
       "      <td>(IV)</td>\n",
       "      <td>0.004736</td>\n",
       "      <td>0.121456</td>\n",
       "      <td>0.002218</td>\n",
       "      <td>0.468354</td>\n",
       "      <td>3.856180</td>\n",
       "      <td>0.001643</td>\n",
       "      <td>1.652500</td>\n",
       "    </tr>\n",
       "    <tr>\n",
       "      <th>6</th>\n",
       "      <td>(I - Droit)</td>\n",
       "      <td>(XII)</td>\n",
       "      <td>0.004736</td>\n",
       "      <td>0.039146</td>\n",
       "      <td>0.000240</td>\n",
       "      <td>0.050633</td>\n",
       "      <td>1.293427</td>\n",
       "      <td>0.000054</td>\n",
       "      <td>1.012099</td>\n",
       "    </tr>\n",
       "    <tr>\n",
       "      <th>7</th>\n",
       "      <td>(IV)</td>\n",
       "      <td>(II)</td>\n",
       "      <td>0.121456</td>\n",
       "      <td>0.028296</td>\n",
       "      <td>0.011930</td>\n",
       "      <td>0.098223</td>\n",
       "      <td>3.471313</td>\n",
       "      <td>0.008493</td>\n",
       "      <td>1.077544</td>\n",
       "    </tr>\n",
       "    <tr>\n",
       "      <th>8</th>\n",
       "      <td>(II)</td>\n",
       "      <td>(IV)</td>\n",
       "      <td>0.028296</td>\n",
       "      <td>0.121456</td>\n",
       "      <td>0.011930</td>\n",
       "      <td>0.421610</td>\n",
       "      <td>3.471313</td>\n",
       "      <td>0.008493</td>\n",
       "      <td>1.518949</td>\n",
       "    </tr>\n",
       "    <tr>\n",
       "      <th>9</th>\n",
       "      <td>(II)</td>\n",
       "      <td>(IX)</td>\n",
       "      <td>0.028296</td>\n",
       "      <td>0.333613</td>\n",
       "      <td>0.002758</td>\n",
       "      <td>0.097458</td>\n",
       "      <td>0.292128</td>\n",
       "      <td>-0.006682</td>\n",
       "      <td>0.738344</td>\n",
       "    </tr>\n",
       "    <tr>\n",
       "      <th>10</th>\n",
       "      <td>(II)</td>\n",
       "      <td>(V)</td>\n",
       "      <td>0.028296</td>\n",
       "      <td>0.268029</td>\n",
       "      <td>0.005995</td>\n",
       "      <td>0.211864</td>\n",
       "      <td>0.790452</td>\n",
       "      <td>-0.001589</td>\n",
       "      <td>0.928737</td>\n",
       "    </tr>\n",
       "    <tr>\n",
       "      <th>11</th>\n",
       "      <td>(II)</td>\n",
       "      <td>(XII)</td>\n",
       "      <td>0.028296</td>\n",
       "      <td>0.039146</td>\n",
       "      <td>0.002038</td>\n",
       "      <td>0.072034</td>\n",
       "      <td>1.840119</td>\n",
       "      <td>0.000931</td>\n",
       "      <td>1.035440</td>\n",
       "    </tr>\n",
       "    <tr>\n",
       "      <th>12</th>\n",
       "      <td>(XII)</td>\n",
       "      <td>(II)</td>\n",
       "      <td>0.039146</td>\n",
       "      <td>0.028296</td>\n",
       "      <td>0.002038</td>\n",
       "      <td>0.052067</td>\n",
       "      <td>1.840119</td>\n",
       "      <td>0.000931</td>\n",
       "      <td>1.025077</td>\n",
       "    </tr>\n",
       "    <tr>\n",
       "      <th>13</th>\n",
       "      <td>(III)</td>\n",
       "      <td>(IV)</td>\n",
       "      <td>0.031413</td>\n",
       "      <td>0.121456</td>\n",
       "      <td>0.010971</td>\n",
       "      <td>0.349237</td>\n",
       "      <td>2.875428</td>\n",
       "      <td>0.007155</td>\n",
       "      <td>1.350021</td>\n",
       "    </tr>\n",
       "    <tr>\n",
       "      <th>14</th>\n",
       "      <td>(IV)</td>\n",
       "      <td>(III)</td>\n",
       "      <td>0.121456</td>\n",
       "      <td>0.031413</td>\n",
       "      <td>0.010971</td>\n",
       "      <td>0.090326</td>\n",
       "      <td>2.875428</td>\n",
       "      <td>0.007155</td>\n",
       "      <td>1.064763</td>\n",
       "    </tr>\n",
       "    <tr>\n",
       "      <th>15</th>\n",
       "      <td>(III)</td>\n",
       "      <td>(V)</td>\n",
       "      <td>0.031413</td>\n",
       "      <td>0.268029</td>\n",
       "      <td>0.004496</td>\n",
       "      <td>0.143130</td>\n",
       "      <td>0.534008</td>\n",
       "      <td>-0.003923</td>\n",
       "      <td>0.854237</td>\n",
       "    </tr>\n",
       "    <tr>\n",
       "      <th>16</th>\n",
       "      <td>(III)</td>\n",
       "      <td>(XII)</td>\n",
       "      <td>0.031413</td>\n",
       "      <td>0.039146</td>\n",
       "      <td>0.006894</td>\n",
       "      <td>0.219466</td>\n",
       "      <td>5.606289</td>\n",
       "      <td>0.005664</td>\n",
       "      <td>1.231020</td>\n",
       "    </tr>\n",
       "    <tr>\n",
       "      <th>17</th>\n",
       "      <td>(XII)</td>\n",
       "      <td>(III)</td>\n",
       "      <td>0.039146</td>\n",
       "      <td>0.031413</td>\n",
       "      <td>0.006894</td>\n",
       "      <td>0.176110</td>\n",
       "      <td>5.606289</td>\n",
       "      <td>0.005664</td>\n",
       "      <td>1.175627</td>\n",
       "    </tr>\n",
       "    <tr>\n",
       "      <th>18</th>\n",
       "      <td>(IV)</td>\n",
       "      <td>(VIII)</td>\n",
       "      <td>0.121456</td>\n",
       "      <td>0.151070</td>\n",
       "      <td>0.006115</td>\n",
       "      <td>0.050346</td>\n",
       "      <td>0.333259</td>\n",
       "      <td>-0.012234</td>\n",
       "      <td>0.893936</td>\n",
       "    </tr>\n",
       "    <tr>\n",
       "      <th>19</th>\n",
       "      <td>(IV)</td>\n",
       "      <td>(X)</td>\n",
       "      <td>0.121456</td>\n",
       "      <td>0.221809</td>\n",
       "      <td>0.009112</td>\n",
       "      <td>0.075025</td>\n",
       "      <td>0.338240</td>\n",
       "      <td>-0.017828</td>\n",
       "      <td>0.841310</td>\n",
       "    </tr>\n",
       "    <tr>\n",
       "      <th>20</th>\n",
       "      <td>(IV)</td>\n",
       "      <td>(XII)</td>\n",
       "      <td>0.121456</td>\n",
       "      <td>0.039146</td>\n",
       "      <td>0.016905</td>\n",
       "      <td>0.139191</td>\n",
       "      <td>3.555646</td>\n",
       "      <td>0.012151</td>\n",
       "      <td>1.116221</td>\n",
       "    </tr>\n",
       "    <tr>\n",
       "      <th>21</th>\n",
       "      <td>(XII)</td>\n",
       "      <td>(IV)</td>\n",
       "      <td>0.039146</td>\n",
       "      <td>0.121456</td>\n",
       "      <td>0.016905</td>\n",
       "      <td>0.431853</td>\n",
       "      <td>3.555646</td>\n",
       "      <td>0.012151</td>\n",
       "      <td>1.546333</td>\n",
       "    </tr>\n",
       "    <tr>\n",
       "      <th>22</th>\n",
       "      <td>(V)</td>\n",
       "      <td>(IX)</td>\n",
       "      <td>0.268029</td>\n",
       "      <td>0.333613</td>\n",
       "      <td>0.055452</td>\n",
       "      <td>0.206889</td>\n",
       "      <td>0.620146</td>\n",
       "      <td>-0.033966</td>\n",
       "      <td>0.840219</td>\n",
       "    </tr>\n",
       "    <tr>\n",
       "      <th>23</th>\n",
       "      <td>(IX)</td>\n",
       "      <td>(V)</td>\n",
       "      <td>0.333613</td>\n",
       "      <td>0.268029</td>\n",
       "      <td>0.055452</td>\n",
       "      <td>0.166217</td>\n",
       "      <td>0.620146</td>\n",
       "      <td>-0.033966</td>\n",
       "      <td>0.877891</td>\n",
       "    </tr>\n",
       "    <tr>\n",
       "      <th>24</th>\n",
       "      <td>(VI)</td>\n",
       "      <td>(IX)</td>\n",
       "      <td>0.118938</td>\n",
       "      <td>0.333613</td>\n",
       "      <td>0.067622</td>\n",
       "      <td>0.568548</td>\n",
       "      <td>1.704215</td>\n",
       "      <td>0.027943</td>\n",
       "      <td>1.544523</td>\n",
       "    </tr>\n",
       "    <tr>\n",
       "      <th>25</th>\n",
       "      <td>(IX)</td>\n",
       "      <td>(VI)</td>\n",
       "      <td>0.333613</td>\n",
       "      <td>0.118938</td>\n",
       "      <td>0.067622</td>\n",
       "      <td>0.202695</td>\n",
       "      <td>1.704215</td>\n",
       "      <td>0.027943</td>\n",
       "      <td>1.105051</td>\n",
       "    </tr>\n",
       "    <tr>\n",
       "      <th>26</th>\n",
       "      <td>(IX)</td>\n",
       "      <td>(VII)</td>\n",
       "      <td>0.333613</td>\n",
       "      <td>0.054313</td>\n",
       "      <td>0.019184</td>\n",
       "      <td>0.057502</td>\n",
       "      <td>1.058714</td>\n",
       "      <td>0.001064</td>\n",
       "      <td>1.003384</td>\n",
       "    </tr>\n",
       "    <tr>\n",
       "      <th>27</th>\n",
       "      <td>(VII)</td>\n",
       "      <td>(IX)</td>\n",
       "      <td>0.054313</td>\n",
       "      <td>0.333613</td>\n",
       "      <td>0.019184</td>\n",
       "      <td>0.353201</td>\n",
       "      <td>1.058714</td>\n",
       "      <td>0.001064</td>\n",
       "      <td>1.030284</td>\n",
       "    </tr>\n",
       "    <tr>\n",
       "      <th>28</th>\n",
       "      <td>(IX)</td>\n",
       "      <td>(VIII)</td>\n",
       "      <td>0.333613</td>\n",
       "      <td>0.151070</td>\n",
       "      <td>0.034350</td>\n",
       "      <td>0.102965</td>\n",
       "      <td>0.681571</td>\n",
       "      <td>-0.016048</td>\n",
       "      <td>0.946373</td>\n",
       "    </tr>\n",
       "    <tr>\n",
       "      <th>29</th>\n",
       "      <td>(VIII)</td>\n",
       "      <td>(IX)</td>\n",
       "      <td>0.151070</td>\n",
       "      <td>0.333613</td>\n",
       "      <td>0.034350</td>\n",
       "      <td>0.227381</td>\n",
       "      <td>0.681571</td>\n",
       "      <td>-0.016048</td>\n",
       "      <td>0.862504</td>\n",
       "    </tr>\n",
       "    <tr>\n",
       "      <th>30</th>\n",
       "      <td>(IX)</td>\n",
       "      <td>(X)</td>\n",
       "      <td>0.333613</td>\n",
       "      <td>0.221809</td>\n",
       "      <td>0.025538</td>\n",
       "      <td>0.076550</td>\n",
       "      <td>0.345116</td>\n",
       "      <td>-0.048460</td>\n",
       "      <td>0.842699</td>\n",
       "    </tr>\n",
       "    <tr>\n",
       "      <th>31</th>\n",
       "      <td>(X)</td>\n",
       "      <td>(IX)</td>\n",
       "      <td>0.221809</td>\n",
       "      <td>0.333613</td>\n",
       "      <td>0.025538</td>\n",
       "      <td>0.115135</td>\n",
       "      <td>0.345116</td>\n",
       "      <td>-0.048460</td>\n",
       "      <td>0.753095</td>\n",
       "    </tr>\n",
       "    <tr>\n",
       "      <th>32</th>\n",
       "      <td>(VI)</td>\n",
       "      <td>(V)</td>\n",
       "      <td>0.118938</td>\n",
       "      <td>0.268029</td>\n",
       "      <td>0.007554</td>\n",
       "      <td>0.063508</td>\n",
       "      <td>0.236944</td>\n",
       "      <td>-0.024325</td>\n",
       "      <td>0.781609</td>\n",
       "    </tr>\n",
       "    <tr>\n",
       "      <th>33</th>\n",
       "      <td>(V)</td>\n",
       "      <td>(X)</td>\n",
       "      <td>0.268029</td>\n",
       "      <td>0.221809</td>\n",
       "      <td>0.018104</td>\n",
       "      <td>0.067546</td>\n",
       "      <td>0.304525</td>\n",
       "      <td>-0.041347</td>\n",
       "      <td>0.834562</td>\n",
       "    </tr>\n",
       "    <tr>\n",
       "      <th>34</th>\n",
       "      <td>(X)</td>\n",
       "      <td>(V)</td>\n",
       "      <td>0.221809</td>\n",
       "      <td>0.268029</td>\n",
       "      <td>0.018104</td>\n",
       "      <td>0.081622</td>\n",
       "      <td>0.304525</td>\n",
       "      <td>-0.041347</td>\n",
       "      <td>0.797025</td>\n",
       "    </tr>\n",
       "    <tr>\n",
       "      <th>35</th>\n",
       "      <td>(XII)</td>\n",
       "      <td>(V)</td>\n",
       "      <td>0.039146</td>\n",
       "      <td>0.268029</td>\n",
       "      <td>0.007793</td>\n",
       "      <td>0.199081</td>\n",
       "      <td>0.742758</td>\n",
       "      <td>-0.002699</td>\n",
       "      <td>0.913913</td>\n",
       "    </tr>\n",
       "    <tr>\n",
       "      <th>36</th>\n",
       "      <td>(VI)</td>\n",
       "      <td>(VII)</td>\n",
       "      <td>0.118938</td>\n",
       "      <td>0.054313</td>\n",
       "      <td>0.008333</td>\n",
       "      <td>0.070060</td>\n",
       "      <td>1.289933</td>\n",
       "      <td>0.001873</td>\n",
       "      <td>1.016934</td>\n",
       "    </tr>\n",
       "    <tr>\n",
       "      <th>37</th>\n",
       "      <td>(VII)</td>\n",
       "      <td>(VI)</td>\n",
       "      <td>0.054313</td>\n",
       "      <td>0.118938</td>\n",
       "      <td>0.008333</td>\n",
       "      <td>0.153422</td>\n",
       "      <td>1.289933</td>\n",
       "      <td>0.001873</td>\n",
       "      <td>1.040733</td>\n",
       "    </tr>\n",
       "    <tr>\n",
       "      <th>38</th>\n",
       "      <td>(VII)</td>\n",
       "      <td>(X)</td>\n",
       "      <td>0.054313</td>\n",
       "      <td>0.221809</td>\n",
       "      <td>0.005156</td>\n",
       "      <td>0.094923</td>\n",
       "      <td>0.427948</td>\n",
       "      <td>-0.006892</td>\n",
       "      <td>0.859806</td>\n",
       "    </tr>\n",
       "    <tr>\n",
       "      <th>39</th>\n",
       "      <td>(VIII)</td>\n",
       "      <td>(X)</td>\n",
       "      <td>0.151070</td>\n",
       "      <td>0.221809</td>\n",
       "      <td>0.009172</td>\n",
       "      <td>0.060714</td>\n",
       "      <td>0.273723</td>\n",
       "      <td>-0.024337</td>\n",
       "      <td>0.828492</td>\n",
       "    </tr>\n",
       "    <tr>\n",
       "      <th>40</th>\n",
       "      <td>(pharmacie)</td>\n",
       "      <td>(X)</td>\n",
       "      <td>0.014567</td>\n",
       "      <td>0.221809</td>\n",
       "      <td>0.011390</td>\n",
       "      <td>0.781893</td>\n",
       "      <td>3.525070</td>\n",
       "      <td>0.008159</td>\n",
       "      <td>3.567931</td>\n",
       "    </tr>\n",
       "    <tr>\n",
       "      <th>41</th>\n",
       "      <td>(X)</td>\n",
       "      <td>(pharmacie)</td>\n",
       "      <td>0.221809</td>\n",
       "      <td>0.014567</td>\n",
       "      <td>0.011390</td>\n",
       "      <td>0.051351</td>\n",
       "      <td>3.525070</td>\n",
       "      <td>0.008159</td>\n",
       "      <td>1.038775</td>\n",
       "    </tr>\n",
       "  </tbody>\n",
       "</table>\n",
       "</div>"
      ],
      "text/plain": [
       "    antecedents  consequents  antecedent support  consequent support  \\\n",
       "0   (I - Droit)          (I)            0.004736            0.010311   \n",
       "1           (I)  (I - Droit)            0.010311            0.004736   \n",
       "2          (IV)          (I)            0.121456            0.010311   \n",
       "3           (I)         (IV)            0.010311            0.121456   \n",
       "4   (I - Droit)         (II)            0.004736            0.028296   \n",
       "5   (I - Droit)         (IV)            0.004736            0.121456   \n",
       "6   (I - Droit)        (XII)            0.004736            0.039146   \n",
       "7          (IV)         (II)            0.121456            0.028296   \n",
       "8          (II)         (IV)            0.028296            0.121456   \n",
       "9          (II)         (IX)            0.028296            0.333613   \n",
       "10         (II)          (V)            0.028296            0.268029   \n",
       "11         (II)        (XII)            0.028296            0.039146   \n",
       "12        (XII)         (II)            0.039146            0.028296   \n",
       "13        (III)         (IV)            0.031413            0.121456   \n",
       "14         (IV)        (III)            0.121456            0.031413   \n",
       "15        (III)          (V)            0.031413            0.268029   \n",
       "16        (III)        (XII)            0.031413            0.039146   \n",
       "17        (XII)        (III)            0.039146            0.031413   \n",
       "18         (IV)       (VIII)            0.121456            0.151070   \n",
       "19         (IV)          (X)            0.121456            0.221809   \n",
       "20         (IV)        (XII)            0.121456            0.039146   \n",
       "21        (XII)         (IV)            0.039146            0.121456   \n",
       "22          (V)         (IX)            0.268029            0.333613   \n",
       "23         (IX)          (V)            0.333613            0.268029   \n",
       "24         (VI)         (IX)            0.118938            0.333613   \n",
       "25         (IX)         (VI)            0.333613            0.118938   \n",
       "26         (IX)        (VII)            0.333613            0.054313   \n",
       "27        (VII)         (IX)            0.054313            0.333613   \n",
       "28         (IX)       (VIII)            0.333613            0.151070   \n",
       "29       (VIII)         (IX)            0.151070            0.333613   \n",
       "30         (IX)          (X)            0.333613            0.221809   \n",
       "31          (X)         (IX)            0.221809            0.333613   \n",
       "32         (VI)          (V)            0.118938            0.268029   \n",
       "33          (V)          (X)            0.268029            0.221809   \n",
       "34          (X)          (V)            0.221809            0.268029   \n",
       "35        (XII)          (V)            0.039146            0.268029   \n",
       "36         (VI)        (VII)            0.118938            0.054313   \n",
       "37        (VII)         (VI)            0.054313            0.118938   \n",
       "38        (VII)          (X)            0.054313            0.221809   \n",
       "39       (VIII)          (X)            0.151070            0.221809   \n",
       "40  (pharmacie)          (X)            0.014567            0.221809   \n",
       "41          (X)  (pharmacie)            0.221809            0.014567   \n",
       "\n",
       "     support  confidence       lift  leverage  conviction  \n",
       "0   0.001139    0.240506  23.324919  0.001090    1.303090  \n",
       "1   0.001139    0.110465  23.324919  0.001090    1.118859  \n",
       "2   0.007853    0.064659   6.270837  0.006601    1.058105  \n",
       "3   0.007853    0.761628   6.270837  0.006601    3.685601  \n",
       "4   0.000659    0.139241   4.920913  0.000525    1.128892  \n",
       "5   0.002218    0.468354   3.856180  0.001643    1.652500  \n",
       "6   0.000240    0.050633   1.293427  0.000054    1.012099  \n",
       "7   0.011930    0.098223   3.471313  0.008493    1.077544  \n",
       "8   0.011930    0.421610   3.471313  0.008493    1.518949  \n",
       "9   0.002758    0.097458   0.292128 -0.006682    0.738344  \n",
       "10  0.005995    0.211864   0.790452 -0.001589    0.928737  \n",
       "11  0.002038    0.072034   1.840119  0.000931    1.035440  \n",
       "12  0.002038    0.052067   1.840119  0.000931    1.025077  \n",
       "13  0.010971    0.349237   2.875428  0.007155    1.350021  \n",
       "14  0.010971    0.090326   2.875428  0.007155    1.064763  \n",
       "15  0.004496    0.143130   0.534008 -0.003923    0.854237  \n",
       "16  0.006894    0.219466   5.606289  0.005664    1.231020  \n",
       "17  0.006894    0.176110   5.606289  0.005664    1.175627  \n",
       "18  0.006115    0.050346   0.333259 -0.012234    0.893936  \n",
       "19  0.009112    0.075025   0.338240 -0.017828    0.841310  \n",
       "20  0.016905    0.139191   3.555646  0.012151    1.116221  \n",
       "21  0.016905    0.431853   3.555646  0.012151    1.546333  \n",
       "22  0.055452    0.206889   0.620146 -0.033966    0.840219  \n",
       "23  0.055452    0.166217   0.620146 -0.033966    0.877891  \n",
       "24  0.067622    0.568548   1.704215  0.027943    1.544523  \n",
       "25  0.067622    0.202695   1.704215  0.027943    1.105051  \n",
       "26  0.019184    0.057502   1.058714  0.001064    1.003384  \n",
       "27  0.019184    0.353201   1.058714  0.001064    1.030284  \n",
       "28  0.034350    0.102965   0.681571 -0.016048    0.946373  \n",
       "29  0.034350    0.227381   0.681571 -0.016048    0.862504  \n",
       "30  0.025538    0.076550   0.345116 -0.048460    0.842699  \n",
       "31  0.025538    0.115135   0.345116 -0.048460    0.753095  \n",
       "32  0.007554    0.063508   0.236944 -0.024325    0.781609  \n",
       "33  0.018104    0.067546   0.304525 -0.041347    0.834562  \n",
       "34  0.018104    0.081622   0.304525 -0.041347    0.797025  \n",
       "35  0.007793    0.199081   0.742758 -0.002699    0.913913  \n",
       "36  0.008333    0.070060   1.289933  0.001873    1.016934  \n",
       "37  0.008333    0.153422   1.289933  0.001873    1.040733  \n",
       "38  0.005156    0.094923   0.427948 -0.006892    0.859806  \n",
       "39  0.009172    0.060714   0.273723 -0.024337    0.828492  \n",
       "40  0.011390    0.781893   3.525070  0.008159    3.567931  \n",
       "41  0.011390    0.051351   3.525070  0.008159    1.038775  "
      ]
     },
     "execution_count": 95,
     "metadata": {},
     "output_type": "execute_result"
    }
   ],
   "source": [
    "frequent_association_rules = association_rules(frequent_itemsets, metric=\"confidence\", min_threshold=0.05)\n",
    "frequent_association_rules"
   ]
  },
  {
   "attachments": {},
   "cell_type": "markdown",
   "metadata": {},
   "source": [
    "3. Create visualizations of association rules with plotly when possible. You can find interactive plotly graphs, in the MBA dataset folder, and R codes to produce interactive graphs at this address. You should produce, among other graphs, support / lift scatterplots, parallel plots, and heatmaps."
   ]
  },
  {
   "cell_type": "code",
   "execution_count": 96,
   "metadata": {},
   "outputs": [],
   "source": [
    "frequent_association_rules.antecedents = frequent_association_rules.antecedents.apply(lambda x: ', '.join(list(x))).astype(\"unicode\")\n",
    "frequent_association_rules.consequents = frequent_association_rules.consequents.apply(lambda x: ', '.join(list(x))).astype(\"unicode\")"
   ]
  },
  {
   "cell_type": "code",
   "execution_count": 97,
   "metadata": {},
   "outputs": [
    {
     "data": {
      "application/vnd.plotly.v1+json": {
       "config": {
        "plotlyServerURL": "https://plot.ly"
       },
       "data": [
        {
         "customdata": [
          [
           "I - Droit",
           "I"
          ],
          [
           "I",
           "I - Droit"
          ],
          [
           "IV",
           "I"
          ],
          [
           "I",
           "IV"
          ],
          [
           "I - Droit",
           "II"
          ],
          [
           "I - Droit",
           "IV"
          ],
          [
           "I - Droit",
           "XII"
          ],
          [
           "IV",
           "II"
          ],
          [
           "II",
           "IV"
          ],
          [
           "II",
           "IX"
          ],
          [
           "II",
           "V"
          ],
          [
           "II",
           "XII"
          ],
          [
           "XII",
           "II"
          ],
          [
           "III",
           "IV"
          ],
          [
           "IV",
           "III"
          ],
          [
           "III",
           "V"
          ],
          [
           "III",
           "XII"
          ],
          [
           "XII",
           "III"
          ],
          [
           "IV",
           "VIII"
          ],
          [
           "IV",
           "X"
          ],
          [
           "IV",
           "XII"
          ],
          [
           "XII",
           "IV"
          ],
          [
           "V",
           "IX"
          ],
          [
           "IX",
           "V"
          ],
          [
           "VI",
           "IX"
          ],
          [
           "IX",
           "VI"
          ],
          [
           "IX",
           "VII"
          ],
          [
           "VII",
           "IX"
          ],
          [
           "IX",
           "VIII"
          ],
          [
           "VIII",
           "IX"
          ],
          [
           "IX",
           "X"
          ],
          [
           "X",
           "IX"
          ],
          [
           "VI",
           "V"
          ],
          [
           "V",
           "X"
          ],
          [
           "X",
           "V"
          ],
          [
           "XII",
           "V"
          ],
          [
           "VI",
           "VII"
          ],
          [
           "VII",
           "VI"
          ],
          [
           "VII",
           "X"
          ],
          [
           "VIII",
           "X"
          ],
          [
           "pharmacie",
           "X"
          ],
          [
           "X",
           "pharmacie"
          ]
         ],
         "hovertemplate": "support=%{x}<br>confidence=%{y}<br>lift=%{marker.color}<br>antecedents=%{customdata[0]}<br>consequents=%{customdata[1]}<extra></extra>",
         "legendgroup": "",
         "marker": {
          "color": [
           23.324919046217246,
           23.32491904621725,
           6.270836681282858,
           6.270836681282858,
           4.920912894228706,
           3.856179789321104,
           1.2934266384941941,
           3.471312555423561,
           3.471312555423561,
           0.29212770493550794,
           0.7904518384011463,
           1.840118618111973,
           1.8401186181119729,
           2.875427646699773,
           2.875427646699773,
           0.5340075396832171,
           5.606288650152555,
           5.606288650152554,
           0.3332592958209938,
           0.3382396414183186,
           3.555646427982929,
           3.5556464279829294,
           0.6201460424904591,
           0.6201460424904591,
           1.7042148508825319,
           1.7042148508825319,
           1.0587140933261139,
           1.0587140933261139,
           0.6815708295896975,
           0.6815708295896975,
           0.3451157572667007,
           0.3451157572667007,
           0.23694431317234363,
           0.3045247752785217,
           0.3045247752785216,
           0.7427584196676008,
           1.2899325954212064,
           1.2899325954212064,
           0.42794761649066293,
           0.273722972972973,
           3.5250695139584027,
           3.525069513958403
          ],
          "coloraxis": "coloraxis",
          "size": [
           23.324919046217246,
           23.32491904621725,
           6.270836681282858,
           6.270836681282858,
           4.920912894228706,
           3.856179789321104,
           1.2934266384941941,
           3.471312555423561,
           3.471312555423561,
           0.29212770493550794,
           0.7904518384011463,
           1.840118618111973,
           1.8401186181119729,
           2.875427646699773,
           2.875427646699773,
           0.5340075396832171,
           5.606288650152555,
           5.606288650152554,
           0.3332592958209938,
           0.3382396414183186,
           3.555646427982929,
           3.5556464279829294,
           0.6201460424904591,
           0.6201460424904591,
           1.7042148508825319,
           1.7042148508825319,
           1.0587140933261139,
           1.0587140933261139,
           0.6815708295896975,
           0.6815708295896975,
           0.3451157572667007,
           0.3451157572667007,
           0.23694431317234363,
           0.3045247752785217,
           0.3045247752785216,
           0.7427584196676008,
           1.2899325954212064,
           1.2899325954212064,
           0.42794761649066293,
           0.273722972972973,
           3.5250695139584027,
           3.525069513958403
          ],
          "sizemode": "area",
          "sizeref": 0.05831229761554312,
          "symbol": "circle"
         },
         "mode": "markers",
         "name": "",
         "orientation": "v",
         "showlegend": false,
         "type": "scatter",
         "x": [
          0.0011390204424195191,
          0.0011390204424195191,
          0.007853246208260896,
          0.007853246208260896,
          0.0006594328877165637,
          0.002218092440501169,
          0.00023979377735147773,
          0.011929740423236017,
          0.011929740423236017,
          0.0027576284395419938,
          0.005994844433786943,
          0.0020382471074875605,
          0.0020382471074875605,
          0.010970565313830106,
          0.010970565313830106,
          0.004496133325340207,
          0.006894071098854985,
          0.006894071098854985,
          0.006114741322462682,
          0.009112163539356153,
          0.01690546130327918,
          0.01690546130327918,
          0.055452311012529225,
          0.055452311012529225,
          0.06762184521311672,
          0.06762184521311672,
          0.019183502188118217,
          0.019183502188118217,
          0.03435045860559918,
          0.03435045860559918,
          0.02553803728793238,
          0.02553803728793238,
          0.007553503986571549,
          0.018104430190036568,
          0.018104430190036568,
          0.007793297763923026,
          0.008332833762963851,
          0.008332833762963851,
          0.005155566213056771,
          0.009172111983694024,
          0.011390204424195192,
          0.011390204424195192
         ],
         "xaxis": "x",
         "y": [
          0.24050632911392403,
          0.11046511627906976,
          0.06465942744323791,
          0.7616279069767442,
          0.13924050632911392,
          0.46835443037974683,
          0.05063291139240506,
          0.09822309970384994,
          0.4216101694915254,
          0.09745762711864406,
          0.211864406779661,
          0.07203389830508473,
          0.05206738131699846,
          0.34923664122137404,
          0.09032576505429417,
          0.1431297709923664,
          0.21946564885496184,
          0.17611026033690658,
          0.050345508390918066,
          0.07502467917077986,
          0.1391905231984205,
          0.4318529862174579,
          0.20688883918586445,
          0.16621743036837378,
          0.5685483870967741,
          0.20269541778975741,
          0.05750224618149147,
          0.3532008830022075,
          0.10296495956873315,
          0.22738095238095238,
          0.07654986522911052,
          0.11513513513513514,
          0.06350806451612903,
          0.06754641019906062,
          0.08162162162162162,
          0.19908116385911176,
          0.07006048387096775,
          0.1534216335540839,
          0.09492273730684328,
          0.06071428571428572,
          0.7818930041152263,
          0.051351351351351354
         ],
         "yaxis": "y"
        }
       ],
       "layout": {
        "coloraxis": {
         "colorbar": {
          "title": {
           "text": "lift"
          }
         },
         "colorscale": [
          [
           0,
           "#0d0887"
          ],
          [
           0.1111111111111111,
           "#46039f"
          ],
          [
           0.2222222222222222,
           "#7201a8"
          ],
          [
           0.3333333333333333,
           "#9c179e"
          ],
          [
           0.4444444444444444,
           "#bd3786"
          ],
          [
           0.5555555555555556,
           "#d8576b"
          ],
          [
           0.6666666666666666,
           "#ed7953"
          ],
          [
           0.7777777777777778,
           "#fb9f3a"
          ],
          [
           0.8888888888888888,
           "#fdca26"
          ],
          [
           1,
           "#f0f921"
          ]
         ]
        },
        "legend": {
         "itemsizing": "constant",
         "tracegroupgap": 0
        },
        "margin": {
         "t": 60
        },
        "template": {
         "data": {
          "bar": [
           {
            "error_x": {
             "color": "#2a3f5f"
            },
            "error_y": {
             "color": "#2a3f5f"
            },
            "marker": {
             "line": {
              "color": "#E5ECF6",
              "width": 0.5
             },
             "pattern": {
              "fillmode": "overlay",
              "size": 10,
              "solidity": 0.2
             }
            },
            "type": "bar"
           }
          ],
          "barpolar": [
           {
            "marker": {
             "line": {
              "color": "#E5ECF6",
              "width": 0.5
             },
             "pattern": {
              "fillmode": "overlay",
              "size": 10,
              "solidity": 0.2
             }
            },
            "type": "barpolar"
           }
          ],
          "carpet": [
           {
            "aaxis": {
             "endlinecolor": "#2a3f5f",
             "gridcolor": "white",
             "linecolor": "white",
             "minorgridcolor": "white",
             "startlinecolor": "#2a3f5f"
            },
            "baxis": {
             "endlinecolor": "#2a3f5f",
             "gridcolor": "white",
             "linecolor": "white",
             "minorgridcolor": "white",
             "startlinecolor": "#2a3f5f"
            },
            "type": "carpet"
           }
          ],
          "choropleth": [
           {
            "colorbar": {
             "outlinewidth": 0,
             "ticks": ""
            },
            "type": "choropleth"
           }
          ],
          "contour": [
           {
            "colorbar": {
             "outlinewidth": 0,
             "ticks": ""
            },
            "colorscale": [
             [
              0,
              "#0d0887"
             ],
             [
              0.1111111111111111,
              "#46039f"
             ],
             [
              0.2222222222222222,
              "#7201a8"
             ],
             [
              0.3333333333333333,
              "#9c179e"
             ],
             [
              0.4444444444444444,
              "#bd3786"
             ],
             [
              0.5555555555555556,
              "#d8576b"
             ],
             [
              0.6666666666666666,
              "#ed7953"
             ],
             [
              0.7777777777777778,
              "#fb9f3a"
             ],
             [
              0.8888888888888888,
              "#fdca26"
             ],
             [
              1,
              "#f0f921"
             ]
            ],
            "type": "contour"
           }
          ],
          "contourcarpet": [
           {
            "colorbar": {
             "outlinewidth": 0,
             "ticks": ""
            },
            "type": "contourcarpet"
           }
          ],
          "heatmap": [
           {
            "colorbar": {
             "outlinewidth": 0,
             "ticks": ""
            },
            "colorscale": [
             [
              0,
              "#0d0887"
             ],
             [
              0.1111111111111111,
              "#46039f"
             ],
             [
              0.2222222222222222,
              "#7201a8"
             ],
             [
              0.3333333333333333,
              "#9c179e"
             ],
             [
              0.4444444444444444,
              "#bd3786"
             ],
             [
              0.5555555555555556,
              "#d8576b"
             ],
             [
              0.6666666666666666,
              "#ed7953"
             ],
             [
              0.7777777777777778,
              "#fb9f3a"
             ],
             [
              0.8888888888888888,
              "#fdca26"
             ],
             [
              1,
              "#f0f921"
             ]
            ],
            "type": "heatmap"
           }
          ],
          "heatmapgl": [
           {
            "colorbar": {
             "outlinewidth": 0,
             "ticks": ""
            },
            "colorscale": [
             [
              0,
              "#0d0887"
             ],
             [
              0.1111111111111111,
              "#46039f"
             ],
             [
              0.2222222222222222,
              "#7201a8"
             ],
             [
              0.3333333333333333,
              "#9c179e"
             ],
             [
              0.4444444444444444,
              "#bd3786"
             ],
             [
              0.5555555555555556,
              "#d8576b"
             ],
             [
              0.6666666666666666,
              "#ed7953"
             ],
             [
              0.7777777777777778,
              "#fb9f3a"
             ],
             [
              0.8888888888888888,
              "#fdca26"
             ],
             [
              1,
              "#f0f921"
             ]
            ],
            "type": "heatmapgl"
           }
          ],
          "histogram": [
           {
            "marker": {
             "pattern": {
              "fillmode": "overlay",
              "size": 10,
              "solidity": 0.2
             }
            },
            "type": "histogram"
           }
          ],
          "histogram2d": [
           {
            "colorbar": {
             "outlinewidth": 0,
             "ticks": ""
            },
            "colorscale": [
             [
              0,
              "#0d0887"
             ],
             [
              0.1111111111111111,
              "#46039f"
             ],
             [
              0.2222222222222222,
              "#7201a8"
             ],
             [
              0.3333333333333333,
              "#9c179e"
             ],
             [
              0.4444444444444444,
              "#bd3786"
             ],
             [
              0.5555555555555556,
              "#d8576b"
             ],
             [
              0.6666666666666666,
              "#ed7953"
             ],
             [
              0.7777777777777778,
              "#fb9f3a"
             ],
             [
              0.8888888888888888,
              "#fdca26"
             ],
             [
              1,
              "#f0f921"
             ]
            ],
            "type": "histogram2d"
           }
          ],
          "histogram2dcontour": [
           {
            "colorbar": {
             "outlinewidth": 0,
             "ticks": ""
            },
            "colorscale": [
             [
              0,
              "#0d0887"
             ],
             [
              0.1111111111111111,
              "#46039f"
             ],
             [
              0.2222222222222222,
              "#7201a8"
             ],
             [
              0.3333333333333333,
              "#9c179e"
             ],
             [
              0.4444444444444444,
              "#bd3786"
             ],
             [
              0.5555555555555556,
              "#d8576b"
             ],
             [
              0.6666666666666666,
              "#ed7953"
             ],
             [
              0.7777777777777778,
              "#fb9f3a"
             ],
             [
              0.8888888888888888,
              "#fdca26"
             ],
             [
              1,
              "#f0f921"
             ]
            ],
            "type": "histogram2dcontour"
           }
          ],
          "mesh3d": [
           {
            "colorbar": {
             "outlinewidth": 0,
             "ticks": ""
            },
            "type": "mesh3d"
           }
          ],
          "parcoords": [
           {
            "line": {
             "colorbar": {
              "outlinewidth": 0,
              "ticks": ""
             }
            },
            "type": "parcoords"
           }
          ],
          "pie": [
           {
            "automargin": true,
            "type": "pie"
           }
          ],
          "scatter": [
           {
            "fillpattern": {
             "fillmode": "overlay",
             "size": 10,
             "solidity": 0.2
            },
            "type": "scatter"
           }
          ],
          "scatter3d": [
           {
            "line": {
             "colorbar": {
              "outlinewidth": 0,
              "ticks": ""
             }
            },
            "marker": {
             "colorbar": {
              "outlinewidth": 0,
              "ticks": ""
             }
            },
            "type": "scatter3d"
           }
          ],
          "scattercarpet": [
           {
            "marker": {
             "colorbar": {
              "outlinewidth": 0,
              "ticks": ""
             }
            },
            "type": "scattercarpet"
           }
          ],
          "scattergeo": [
           {
            "marker": {
             "colorbar": {
              "outlinewidth": 0,
              "ticks": ""
             }
            },
            "type": "scattergeo"
           }
          ],
          "scattergl": [
           {
            "marker": {
             "colorbar": {
              "outlinewidth": 0,
              "ticks": ""
             }
            },
            "type": "scattergl"
           }
          ],
          "scattermapbox": [
           {
            "marker": {
             "colorbar": {
              "outlinewidth": 0,
              "ticks": ""
             }
            },
            "type": "scattermapbox"
           }
          ],
          "scatterpolar": [
           {
            "marker": {
             "colorbar": {
              "outlinewidth": 0,
              "ticks": ""
             }
            },
            "type": "scatterpolar"
           }
          ],
          "scatterpolargl": [
           {
            "marker": {
             "colorbar": {
              "outlinewidth": 0,
              "ticks": ""
             }
            },
            "type": "scatterpolargl"
           }
          ],
          "scatterternary": [
           {
            "marker": {
             "colorbar": {
              "outlinewidth": 0,
              "ticks": ""
             }
            },
            "type": "scatterternary"
           }
          ],
          "surface": [
           {
            "colorbar": {
             "outlinewidth": 0,
             "ticks": ""
            },
            "colorscale": [
             [
              0,
              "#0d0887"
             ],
             [
              0.1111111111111111,
              "#46039f"
             ],
             [
              0.2222222222222222,
              "#7201a8"
             ],
             [
              0.3333333333333333,
              "#9c179e"
             ],
             [
              0.4444444444444444,
              "#bd3786"
             ],
             [
              0.5555555555555556,
              "#d8576b"
             ],
             [
              0.6666666666666666,
              "#ed7953"
             ],
             [
              0.7777777777777778,
              "#fb9f3a"
             ],
             [
              0.8888888888888888,
              "#fdca26"
             ],
             [
              1,
              "#f0f921"
             ]
            ],
            "type": "surface"
           }
          ],
          "table": [
           {
            "cells": {
             "fill": {
              "color": "#EBF0F8"
             },
             "line": {
              "color": "white"
             }
            },
            "header": {
             "fill": {
              "color": "#C8D4E3"
             },
             "line": {
              "color": "white"
             }
            },
            "type": "table"
           }
          ]
         },
         "layout": {
          "annotationdefaults": {
           "arrowcolor": "#2a3f5f",
           "arrowhead": 0,
           "arrowwidth": 1
          },
          "autotypenumbers": "strict",
          "coloraxis": {
           "colorbar": {
            "outlinewidth": 0,
            "ticks": ""
           }
          },
          "colorscale": {
           "diverging": [
            [
             0,
             "#8e0152"
            ],
            [
             0.1,
             "#c51b7d"
            ],
            [
             0.2,
             "#de77ae"
            ],
            [
             0.3,
             "#f1b6da"
            ],
            [
             0.4,
             "#fde0ef"
            ],
            [
             0.5,
             "#f7f7f7"
            ],
            [
             0.6,
             "#e6f5d0"
            ],
            [
             0.7,
             "#b8e186"
            ],
            [
             0.8,
             "#7fbc41"
            ],
            [
             0.9,
             "#4d9221"
            ],
            [
             1,
             "#276419"
            ]
           ],
           "sequential": [
            [
             0,
             "#0d0887"
            ],
            [
             0.1111111111111111,
             "#46039f"
            ],
            [
             0.2222222222222222,
             "#7201a8"
            ],
            [
             0.3333333333333333,
             "#9c179e"
            ],
            [
             0.4444444444444444,
             "#bd3786"
            ],
            [
             0.5555555555555556,
             "#d8576b"
            ],
            [
             0.6666666666666666,
             "#ed7953"
            ],
            [
             0.7777777777777778,
             "#fb9f3a"
            ],
            [
             0.8888888888888888,
             "#fdca26"
            ],
            [
             1,
             "#f0f921"
            ]
           ],
           "sequentialminus": [
            [
             0,
             "#0d0887"
            ],
            [
             0.1111111111111111,
             "#46039f"
            ],
            [
             0.2222222222222222,
             "#7201a8"
            ],
            [
             0.3333333333333333,
             "#9c179e"
            ],
            [
             0.4444444444444444,
             "#bd3786"
            ],
            [
             0.5555555555555556,
             "#d8576b"
            ],
            [
             0.6666666666666666,
             "#ed7953"
            ],
            [
             0.7777777777777778,
             "#fb9f3a"
            ],
            [
             0.8888888888888888,
             "#fdca26"
            ],
            [
             1,
             "#f0f921"
            ]
           ]
          },
          "colorway": [
           "#636efa",
           "#EF553B",
           "#00cc96",
           "#ab63fa",
           "#FFA15A",
           "#19d3f3",
           "#FF6692",
           "#B6E880",
           "#FF97FF",
           "#FECB52"
          ],
          "font": {
           "color": "#2a3f5f"
          },
          "geo": {
           "bgcolor": "white",
           "lakecolor": "white",
           "landcolor": "#E5ECF6",
           "showlakes": true,
           "showland": true,
           "subunitcolor": "white"
          },
          "hoverlabel": {
           "align": "left"
          },
          "hovermode": "closest",
          "mapbox": {
           "style": "light"
          },
          "paper_bgcolor": "white",
          "plot_bgcolor": "#E5ECF6",
          "polar": {
           "angularaxis": {
            "gridcolor": "white",
            "linecolor": "white",
            "ticks": ""
           },
           "bgcolor": "#E5ECF6",
           "radialaxis": {
            "gridcolor": "white",
            "linecolor": "white",
            "ticks": ""
           }
          },
          "scene": {
           "xaxis": {
            "backgroundcolor": "#E5ECF6",
            "gridcolor": "white",
            "gridwidth": 2,
            "linecolor": "white",
            "showbackground": true,
            "ticks": "",
            "zerolinecolor": "white"
           },
           "yaxis": {
            "backgroundcolor": "#E5ECF6",
            "gridcolor": "white",
            "gridwidth": 2,
            "linecolor": "white",
            "showbackground": true,
            "ticks": "",
            "zerolinecolor": "white"
           },
           "zaxis": {
            "backgroundcolor": "#E5ECF6",
            "gridcolor": "white",
            "gridwidth": 2,
            "linecolor": "white",
            "showbackground": true,
            "ticks": "",
            "zerolinecolor": "white"
           }
          },
          "shapedefaults": {
           "line": {
            "color": "#2a3f5f"
           }
          },
          "ternary": {
           "aaxis": {
            "gridcolor": "white",
            "linecolor": "white",
            "ticks": ""
           },
           "baxis": {
            "gridcolor": "white",
            "linecolor": "white",
            "ticks": ""
           },
           "bgcolor": "#E5ECF6",
           "caxis": {
            "gridcolor": "white",
            "linecolor": "white",
            "ticks": ""
           }
          },
          "title": {
           "x": 0.05
          },
          "xaxis": {
           "automargin": true,
           "gridcolor": "white",
           "linecolor": "white",
           "ticks": "",
           "title": {
            "standoff": 15
           },
           "zerolinecolor": "white",
           "zerolinewidth": 2
          },
          "yaxis": {
           "automargin": true,
           "gridcolor": "white",
           "linecolor": "white",
           "ticks": "",
           "title": {
            "standoff": 15
           },
           "zerolinecolor": "white",
           "zerolinewidth": 2
          }
         }
        },
        "xaxis": {
         "anchor": "y",
         "domain": [
          0,
          1
         ],
         "title": {
          "text": "support"
         }
        },
        "yaxis": {
         "anchor": "x",
         "domain": [
          0,
          1
         ],
         "title": {
          "text": "confidence"
         }
        }
       }
      }
     },
     "metadata": {},
     "output_type": "display_data"
    }
   ],
   "source": [
    "px.scatter(frequent_association_rules, x=\"support\", y=\"confidence\", color=\"lift\", size=\"lift\", hover_data=[\"antecedents\", \"consequents\"])"
   ]
  },
  {
   "cell_type": "code",
   "execution_count": 103,
   "metadata": {},
   "outputs": [
    {
     "data": {
      "application/vnd.plotly.v1+json": {
       "config": {
        "plotlyServerURL": "https://plot.ly"
       },
       "data": [
        {
         "dimensions": [
          {
           "label": "antecedents",
           "values": [
            "I - Droit",
            "I",
            "IV",
            "I",
            "I - Droit",
            "I - Droit",
            "I - Droit",
            "IV",
            "II",
            "II",
            "II",
            "II",
            "XII",
            "III",
            "IV",
            "III",
            "III",
            "XII",
            "IV",
            "IV",
            "IV",
            "XII",
            "V",
            "IX",
            "VI",
            "IX",
            "IX",
            "VII",
            "IX",
            "VIII",
            "IX",
            "X",
            "VI",
            "V",
            "X",
            "XII",
            "VI",
            "VII",
            "VII",
            "VIII",
            "pharmacie",
            "X"
           ]
          },
          {
           "label": "consequents",
           "values": [
            "I",
            "I - Droit",
            "I",
            "IV",
            "II",
            "IV",
            "XII",
            "II",
            "IV",
            "IX",
            "V",
            "XII",
            "II",
            "IV",
            "III",
            "V",
            "XII",
            "III",
            "VIII",
            "X",
            "XII",
            "IV",
            "IX",
            "V",
            "IX",
            "VI",
            "VII",
            "IX",
            "VIII",
            "IX",
            "X",
            "IX",
            "V",
            "X",
            "V",
            "V",
            "VII",
            "VI",
            "X",
            "X",
            "X",
            "pharmacie"
           ]
          }
         ],
         "domain": {
          "x": [
           0,
           1
          ],
          "y": [
           0,
           1
          ]
         },
         "line": {
          "color": [
           0.0011390204424195191,
           0.0011390204424195191,
           0.007853246208260896,
           0.007853246208260896,
           0.0006594328877165637,
           0.002218092440501169,
           0.00023979377735147773,
           0.011929740423236017,
           0.011929740423236017,
           0.0027576284395419938,
           0.005994844433786943,
           0.0020382471074875605,
           0.0020382471074875605,
           0.010970565313830106,
           0.010970565313830106,
           0.004496133325340207,
           0.006894071098854985,
           0.006894071098854985,
           0.006114741322462682,
           0.009112163539356153,
           0.01690546130327918,
           0.01690546130327918,
           0.055452311012529225,
           0.055452311012529225,
           0.06762184521311672,
           0.06762184521311672,
           0.019183502188118217,
           0.019183502188118217,
           0.03435045860559918,
           0.03435045860559918,
           0.02553803728793238,
           0.02553803728793238,
           0.007553503986571549,
           0.018104430190036568,
           0.018104430190036568,
           0.007793297763923026,
           0.008332833762963851,
           0.008332833762963851,
           0.005155566213056771,
           0.009172111983694024,
           0.011390204424195192,
           0.011390204424195192
          ],
          "coloraxis": "coloraxis"
         },
         "name": "",
         "type": "parcats"
        }
       ],
       "layout": {
        "coloraxis": {
         "colorbar": {
          "title": {
           "text": "support"
          }
         },
         "colorscale": [
          [
           0,
           "#000004"
          ],
          [
           0.1111111111111111,
           "#1b0c41"
          ],
          [
           0.2222222222222222,
           "#4a0c6b"
          ],
          [
           0.3333333333333333,
           "#781c6d"
          ],
          [
           0.4444444444444444,
           "#a52c60"
          ],
          [
           0.5555555555555556,
           "#cf4446"
          ],
          [
           0.6666666666666666,
           "#ed6925"
          ],
          [
           0.7777777777777778,
           "#fb9b06"
          ],
          [
           0.8888888888888888,
           "#f7d13d"
          ],
          [
           1,
           "#fcffa4"
          ]
         ]
        },
        "legend": {
         "tracegroupgap": 0
        },
        "margin": {
         "t": 60
        },
        "template": {
         "data": {
          "bar": [
           {
            "error_x": {
             "color": "#2a3f5f"
            },
            "error_y": {
             "color": "#2a3f5f"
            },
            "marker": {
             "line": {
              "color": "#E5ECF6",
              "width": 0.5
             },
             "pattern": {
              "fillmode": "overlay",
              "size": 10,
              "solidity": 0.2
             }
            },
            "type": "bar"
           }
          ],
          "barpolar": [
           {
            "marker": {
             "line": {
              "color": "#E5ECF6",
              "width": 0.5
             },
             "pattern": {
              "fillmode": "overlay",
              "size": 10,
              "solidity": 0.2
             }
            },
            "type": "barpolar"
           }
          ],
          "carpet": [
           {
            "aaxis": {
             "endlinecolor": "#2a3f5f",
             "gridcolor": "white",
             "linecolor": "white",
             "minorgridcolor": "white",
             "startlinecolor": "#2a3f5f"
            },
            "baxis": {
             "endlinecolor": "#2a3f5f",
             "gridcolor": "white",
             "linecolor": "white",
             "minorgridcolor": "white",
             "startlinecolor": "#2a3f5f"
            },
            "type": "carpet"
           }
          ],
          "choropleth": [
           {
            "colorbar": {
             "outlinewidth": 0,
             "ticks": ""
            },
            "type": "choropleth"
           }
          ],
          "contour": [
           {
            "colorbar": {
             "outlinewidth": 0,
             "ticks": ""
            },
            "colorscale": [
             [
              0,
              "#0d0887"
             ],
             [
              0.1111111111111111,
              "#46039f"
             ],
             [
              0.2222222222222222,
              "#7201a8"
             ],
             [
              0.3333333333333333,
              "#9c179e"
             ],
             [
              0.4444444444444444,
              "#bd3786"
             ],
             [
              0.5555555555555556,
              "#d8576b"
             ],
             [
              0.6666666666666666,
              "#ed7953"
             ],
             [
              0.7777777777777778,
              "#fb9f3a"
             ],
             [
              0.8888888888888888,
              "#fdca26"
             ],
             [
              1,
              "#f0f921"
             ]
            ],
            "type": "contour"
           }
          ],
          "contourcarpet": [
           {
            "colorbar": {
             "outlinewidth": 0,
             "ticks": ""
            },
            "type": "contourcarpet"
           }
          ],
          "heatmap": [
           {
            "colorbar": {
             "outlinewidth": 0,
             "ticks": ""
            },
            "colorscale": [
             [
              0,
              "#0d0887"
             ],
             [
              0.1111111111111111,
              "#46039f"
             ],
             [
              0.2222222222222222,
              "#7201a8"
             ],
             [
              0.3333333333333333,
              "#9c179e"
             ],
             [
              0.4444444444444444,
              "#bd3786"
             ],
             [
              0.5555555555555556,
              "#d8576b"
             ],
             [
              0.6666666666666666,
              "#ed7953"
             ],
             [
              0.7777777777777778,
              "#fb9f3a"
             ],
             [
              0.8888888888888888,
              "#fdca26"
             ],
             [
              1,
              "#f0f921"
             ]
            ],
            "type": "heatmap"
           }
          ],
          "heatmapgl": [
           {
            "colorbar": {
             "outlinewidth": 0,
             "ticks": ""
            },
            "colorscale": [
             [
              0,
              "#0d0887"
             ],
             [
              0.1111111111111111,
              "#46039f"
             ],
             [
              0.2222222222222222,
              "#7201a8"
             ],
             [
              0.3333333333333333,
              "#9c179e"
             ],
             [
              0.4444444444444444,
              "#bd3786"
             ],
             [
              0.5555555555555556,
              "#d8576b"
             ],
             [
              0.6666666666666666,
              "#ed7953"
             ],
             [
              0.7777777777777778,
              "#fb9f3a"
             ],
             [
              0.8888888888888888,
              "#fdca26"
             ],
             [
              1,
              "#f0f921"
             ]
            ],
            "type": "heatmapgl"
           }
          ],
          "histogram": [
           {
            "marker": {
             "pattern": {
              "fillmode": "overlay",
              "size": 10,
              "solidity": 0.2
             }
            },
            "type": "histogram"
           }
          ],
          "histogram2d": [
           {
            "colorbar": {
             "outlinewidth": 0,
             "ticks": ""
            },
            "colorscale": [
             [
              0,
              "#0d0887"
             ],
             [
              0.1111111111111111,
              "#46039f"
             ],
             [
              0.2222222222222222,
              "#7201a8"
             ],
             [
              0.3333333333333333,
              "#9c179e"
             ],
             [
              0.4444444444444444,
              "#bd3786"
             ],
             [
              0.5555555555555556,
              "#d8576b"
             ],
             [
              0.6666666666666666,
              "#ed7953"
             ],
             [
              0.7777777777777778,
              "#fb9f3a"
             ],
             [
              0.8888888888888888,
              "#fdca26"
             ],
             [
              1,
              "#f0f921"
             ]
            ],
            "type": "histogram2d"
           }
          ],
          "histogram2dcontour": [
           {
            "colorbar": {
             "outlinewidth": 0,
             "ticks": ""
            },
            "colorscale": [
             [
              0,
              "#0d0887"
             ],
             [
              0.1111111111111111,
              "#46039f"
             ],
             [
              0.2222222222222222,
              "#7201a8"
             ],
             [
              0.3333333333333333,
              "#9c179e"
             ],
             [
              0.4444444444444444,
              "#bd3786"
             ],
             [
              0.5555555555555556,
              "#d8576b"
             ],
             [
              0.6666666666666666,
              "#ed7953"
             ],
             [
              0.7777777777777778,
              "#fb9f3a"
             ],
             [
              0.8888888888888888,
              "#fdca26"
             ],
             [
              1,
              "#f0f921"
             ]
            ],
            "type": "histogram2dcontour"
           }
          ],
          "mesh3d": [
           {
            "colorbar": {
             "outlinewidth": 0,
             "ticks": ""
            },
            "type": "mesh3d"
           }
          ],
          "parcoords": [
           {
            "line": {
             "colorbar": {
              "outlinewidth": 0,
              "ticks": ""
             }
            },
            "type": "parcoords"
           }
          ],
          "pie": [
           {
            "automargin": true,
            "type": "pie"
           }
          ],
          "scatter": [
           {
            "fillpattern": {
             "fillmode": "overlay",
             "size": 10,
             "solidity": 0.2
            },
            "type": "scatter"
           }
          ],
          "scatter3d": [
           {
            "line": {
             "colorbar": {
              "outlinewidth": 0,
              "ticks": ""
             }
            },
            "marker": {
             "colorbar": {
              "outlinewidth": 0,
              "ticks": ""
             }
            },
            "type": "scatter3d"
           }
          ],
          "scattercarpet": [
           {
            "marker": {
             "colorbar": {
              "outlinewidth": 0,
              "ticks": ""
             }
            },
            "type": "scattercarpet"
           }
          ],
          "scattergeo": [
           {
            "marker": {
             "colorbar": {
              "outlinewidth": 0,
              "ticks": ""
             }
            },
            "type": "scattergeo"
           }
          ],
          "scattergl": [
           {
            "marker": {
             "colorbar": {
              "outlinewidth": 0,
              "ticks": ""
             }
            },
            "type": "scattergl"
           }
          ],
          "scattermapbox": [
           {
            "marker": {
             "colorbar": {
              "outlinewidth": 0,
              "ticks": ""
             }
            },
            "type": "scattermapbox"
           }
          ],
          "scatterpolar": [
           {
            "marker": {
             "colorbar": {
              "outlinewidth": 0,
              "ticks": ""
             }
            },
            "type": "scatterpolar"
           }
          ],
          "scatterpolargl": [
           {
            "marker": {
             "colorbar": {
              "outlinewidth": 0,
              "ticks": ""
             }
            },
            "type": "scatterpolargl"
           }
          ],
          "scatterternary": [
           {
            "marker": {
             "colorbar": {
              "outlinewidth": 0,
              "ticks": ""
             }
            },
            "type": "scatterternary"
           }
          ],
          "surface": [
           {
            "colorbar": {
             "outlinewidth": 0,
             "ticks": ""
            },
            "colorscale": [
             [
              0,
              "#0d0887"
             ],
             [
              0.1111111111111111,
              "#46039f"
             ],
             [
              0.2222222222222222,
              "#7201a8"
             ],
             [
              0.3333333333333333,
              "#9c179e"
             ],
             [
              0.4444444444444444,
              "#bd3786"
             ],
             [
              0.5555555555555556,
              "#d8576b"
             ],
             [
              0.6666666666666666,
              "#ed7953"
             ],
             [
              0.7777777777777778,
              "#fb9f3a"
             ],
             [
              0.8888888888888888,
              "#fdca26"
             ],
             [
              1,
              "#f0f921"
             ]
            ],
            "type": "surface"
           }
          ],
          "table": [
           {
            "cells": {
             "fill": {
              "color": "#EBF0F8"
             },
             "line": {
              "color": "white"
             }
            },
            "header": {
             "fill": {
              "color": "#C8D4E3"
             },
             "line": {
              "color": "white"
             }
            },
            "type": "table"
           }
          ]
         },
         "layout": {
          "annotationdefaults": {
           "arrowcolor": "#2a3f5f",
           "arrowhead": 0,
           "arrowwidth": 1
          },
          "autotypenumbers": "strict",
          "coloraxis": {
           "colorbar": {
            "outlinewidth": 0,
            "ticks": ""
           }
          },
          "colorscale": {
           "diverging": [
            [
             0,
             "#8e0152"
            ],
            [
             0.1,
             "#c51b7d"
            ],
            [
             0.2,
             "#de77ae"
            ],
            [
             0.3,
             "#f1b6da"
            ],
            [
             0.4,
             "#fde0ef"
            ],
            [
             0.5,
             "#f7f7f7"
            ],
            [
             0.6,
             "#e6f5d0"
            ],
            [
             0.7,
             "#b8e186"
            ],
            [
             0.8,
             "#7fbc41"
            ],
            [
             0.9,
             "#4d9221"
            ],
            [
             1,
             "#276419"
            ]
           ],
           "sequential": [
            [
             0,
             "#0d0887"
            ],
            [
             0.1111111111111111,
             "#46039f"
            ],
            [
             0.2222222222222222,
             "#7201a8"
            ],
            [
             0.3333333333333333,
             "#9c179e"
            ],
            [
             0.4444444444444444,
             "#bd3786"
            ],
            [
             0.5555555555555556,
             "#d8576b"
            ],
            [
             0.6666666666666666,
             "#ed7953"
            ],
            [
             0.7777777777777778,
             "#fb9f3a"
            ],
            [
             0.8888888888888888,
             "#fdca26"
            ],
            [
             1,
             "#f0f921"
            ]
           ],
           "sequentialminus": [
            [
             0,
             "#0d0887"
            ],
            [
             0.1111111111111111,
             "#46039f"
            ],
            [
             0.2222222222222222,
             "#7201a8"
            ],
            [
             0.3333333333333333,
             "#9c179e"
            ],
            [
             0.4444444444444444,
             "#bd3786"
            ],
            [
             0.5555555555555556,
             "#d8576b"
            ],
            [
             0.6666666666666666,
             "#ed7953"
            ],
            [
             0.7777777777777778,
             "#fb9f3a"
            ],
            [
             0.8888888888888888,
             "#fdca26"
            ],
            [
             1,
             "#f0f921"
            ]
           ]
          },
          "colorway": [
           "#636efa",
           "#EF553B",
           "#00cc96",
           "#ab63fa",
           "#FFA15A",
           "#19d3f3",
           "#FF6692",
           "#B6E880",
           "#FF97FF",
           "#FECB52"
          ],
          "font": {
           "color": "#2a3f5f"
          },
          "geo": {
           "bgcolor": "white",
           "lakecolor": "white",
           "landcolor": "#E5ECF6",
           "showlakes": true,
           "showland": true,
           "subunitcolor": "white"
          },
          "hoverlabel": {
           "align": "left"
          },
          "hovermode": "closest",
          "mapbox": {
           "style": "light"
          },
          "paper_bgcolor": "white",
          "plot_bgcolor": "#E5ECF6",
          "polar": {
           "angularaxis": {
            "gridcolor": "white",
            "linecolor": "white",
            "ticks": ""
           },
           "bgcolor": "#E5ECF6",
           "radialaxis": {
            "gridcolor": "white",
            "linecolor": "white",
            "ticks": ""
           }
          },
          "scene": {
           "xaxis": {
            "backgroundcolor": "#E5ECF6",
            "gridcolor": "white",
            "gridwidth": 2,
            "linecolor": "white",
            "showbackground": true,
            "ticks": "",
            "zerolinecolor": "white"
           },
           "yaxis": {
            "backgroundcolor": "#E5ECF6",
            "gridcolor": "white",
            "gridwidth": 2,
            "linecolor": "white",
            "showbackground": true,
            "ticks": "",
            "zerolinecolor": "white"
           },
           "zaxis": {
            "backgroundcolor": "#E5ECF6",
            "gridcolor": "white",
            "gridwidth": 2,
            "linecolor": "white",
            "showbackground": true,
            "ticks": "",
            "zerolinecolor": "white"
           }
          },
          "shapedefaults": {
           "line": {
            "color": "#2a3f5f"
           }
          },
          "ternary": {
           "aaxis": {
            "gridcolor": "white",
            "linecolor": "white",
            "ticks": ""
           },
           "baxis": {
            "gridcolor": "white",
            "linecolor": "white",
            "ticks": ""
           },
           "bgcolor": "#E5ECF6",
           "caxis": {
            "gridcolor": "white",
            "linecolor": "white",
            "ticks": ""
           }
          },
          "title": {
           "x": 0.05
          },
          "xaxis": {
           "automargin": true,
           "gridcolor": "white",
           "linecolor": "white",
           "ticks": "",
           "title": {
            "standoff": 15
           },
           "zerolinecolor": "white",
           "zerolinewidth": 2
          },
          "yaxis": {
           "automargin": true,
           "gridcolor": "white",
           "linecolor": "white",
           "ticks": "",
           "title": {
            "standoff": 15
           },
           "zerolinecolor": "white",
           "zerolinewidth": 2
          }
         }
        }
       }
      }
     },
     "metadata": {},
     "output_type": "display_data"
    }
   ],
   "source": [
    "# Parallel plot of antecedents and consequents\n",
    "px.parallel_categories(frequent_association_rules, dimensions=[\"antecedents\", \"consequents\"], color=\"support\", color_continuous_scale=px.colors.sequential.Inferno)"
   ]
  },
  {
   "cell_type": "code",
   "execution_count": 101,
   "metadata": {},
   "outputs": [
    {
     "data": {
      "application/vnd.plotly.v1+json": {
       "config": {
        "plotlyServerURL": "https://plot.ly"
       },
       "data": [
        {
         "coloraxis": "coloraxis",
         "histfunc": "sum",
         "hovertemplate": "antecedents=%{x}<br>consequents=%{y}<br>sum of support=%{z}<extra></extra>",
         "name": "",
         "type": "histogram2d",
         "x": [
          "I - Droit",
          "I",
          "IV",
          "I",
          "I - Droit",
          "I - Droit",
          "I - Droit",
          "IV",
          "II",
          "II",
          "II",
          "II",
          "XII",
          "III",
          "IV",
          "III",
          "III",
          "XII",
          "IV",
          "IV",
          "IV",
          "XII",
          "V",
          "IX",
          "VI",
          "IX",
          "IX",
          "VII",
          "IX",
          "VIII",
          "IX",
          "X",
          "VI",
          "V",
          "X",
          "XII",
          "VI",
          "VII",
          "VII",
          "VIII",
          "pharmacie",
          "X"
         ],
         "xaxis": "x",
         "xbingroup": "x",
         "y": [
          "I",
          "I - Droit",
          "I",
          "IV",
          "II",
          "IV",
          "XII",
          "II",
          "IV",
          "IX",
          "V",
          "XII",
          "II",
          "IV",
          "III",
          "V",
          "XII",
          "III",
          "VIII",
          "X",
          "XII",
          "IV",
          "IX",
          "V",
          "IX",
          "VI",
          "VII",
          "IX",
          "VIII",
          "IX",
          "X",
          "IX",
          "V",
          "X",
          "V",
          "V",
          "VII",
          "VI",
          "X",
          "X",
          "X",
          "pharmacie"
         ],
         "yaxis": "y",
         "ybingroup": "y",
         "z": [
          0.0011390204424195191,
          0.0011390204424195191,
          0.007853246208260896,
          0.007853246208260896,
          0.0006594328877165637,
          0.002218092440501169,
          0.00023979377735147773,
          0.011929740423236017,
          0.011929740423236017,
          0.0027576284395419938,
          0.005994844433786943,
          0.0020382471074875605,
          0.0020382471074875605,
          0.010970565313830106,
          0.010970565313830106,
          0.004496133325340207,
          0.006894071098854985,
          0.006894071098854985,
          0.006114741322462682,
          0.009112163539356153,
          0.01690546130327918,
          0.01690546130327918,
          0.055452311012529225,
          0.055452311012529225,
          0.06762184521311672,
          0.06762184521311672,
          0.019183502188118217,
          0.019183502188118217,
          0.03435045860559918,
          0.03435045860559918,
          0.02553803728793238,
          0.02553803728793238,
          0.007553503986571549,
          0.018104430190036568,
          0.018104430190036568,
          0.007793297763923026,
          0.008332833762963851,
          0.008332833762963851,
          0.005155566213056771,
          0.009172111983694024,
          0.011390204424195192,
          0.011390204424195192
         ]
        }
       ],
       "layout": {
        "coloraxis": {
         "colorbar": {
          "title": {
           "text": "sum of support"
          }
         },
         "colorscale": [
          [
           0,
           "#0d0887"
          ],
          [
           0.1111111111111111,
           "#46039f"
          ],
          [
           0.2222222222222222,
           "#7201a8"
          ],
          [
           0.3333333333333333,
           "#9c179e"
          ],
          [
           0.4444444444444444,
           "#bd3786"
          ],
          [
           0.5555555555555556,
           "#d8576b"
          ],
          [
           0.6666666666666666,
           "#ed7953"
          ],
          [
           0.7777777777777778,
           "#fb9f3a"
          ],
          [
           0.8888888888888888,
           "#fdca26"
          ],
          [
           1,
           "#f0f921"
          ]
         ]
        },
        "legend": {
         "tracegroupgap": 0
        },
        "margin": {
         "t": 60
        },
        "template": {
         "data": {
          "bar": [
           {
            "error_x": {
             "color": "#2a3f5f"
            },
            "error_y": {
             "color": "#2a3f5f"
            },
            "marker": {
             "line": {
              "color": "#E5ECF6",
              "width": 0.5
             },
             "pattern": {
              "fillmode": "overlay",
              "size": 10,
              "solidity": 0.2
             }
            },
            "type": "bar"
           }
          ],
          "barpolar": [
           {
            "marker": {
             "line": {
              "color": "#E5ECF6",
              "width": 0.5
             },
             "pattern": {
              "fillmode": "overlay",
              "size": 10,
              "solidity": 0.2
             }
            },
            "type": "barpolar"
           }
          ],
          "carpet": [
           {
            "aaxis": {
             "endlinecolor": "#2a3f5f",
             "gridcolor": "white",
             "linecolor": "white",
             "minorgridcolor": "white",
             "startlinecolor": "#2a3f5f"
            },
            "baxis": {
             "endlinecolor": "#2a3f5f",
             "gridcolor": "white",
             "linecolor": "white",
             "minorgridcolor": "white",
             "startlinecolor": "#2a3f5f"
            },
            "type": "carpet"
           }
          ],
          "choropleth": [
           {
            "colorbar": {
             "outlinewidth": 0,
             "ticks": ""
            },
            "type": "choropleth"
           }
          ],
          "contour": [
           {
            "colorbar": {
             "outlinewidth": 0,
             "ticks": ""
            },
            "colorscale": [
             [
              0,
              "#0d0887"
             ],
             [
              0.1111111111111111,
              "#46039f"
             ],
             [
              0.2222222222222222,
              "#7201a8"
             ],
             [
              0.3333333333333333,
              "#9c179e"
             ],
             [
              0.4444444444444444,
              "#bd3786"
             ],
             [
              0.5555555555555556,
              "#d8576b"
             ],
             [
              0.6666666666666666,
              "#ed7953"
             ],
             [
              0.7777777777777778,
              "#fb9f3a"
             ],
             [
              0.8888888888888888,
              "#fdca26"
             ],
             [
              1,
              "#f0f921"
             ]
            ],
            "type": "contour"
           }
          ],
          "contourcarpet": [
           {
            "colorbar": {
             "outlinewidth": 0,
             "ticks": ""
            },
            "type": "contourcarpet"
           }
          ],
          "heatmap": [
           {
            "colorbar": {
             "outlinewidth": 0,
             "ticks": ""
            },
            "colorscale": [
             [
              0,
              "#0d0887"
             ],
             [
              0.1111111111111111,
              "#46039f"
             ],
             [
              0.2222222222222222,
              "#7201a8"
             ],
             [
              0.3333333333333333,
              "#9c179e"
             ],
             [
              0.4444444444444444,
              "#bd3786"
             ],
             [
              0.5555555555555556,
              "#d8576b"
             ],
             [
              0.6666666666666666,
              "#ed7953"
             ],
             [
              0.7777777777777778,
              "#fb9f3a"
             ],
             [
              0.8888888888888888,
              "#fdca26"
             ],
             [
              1,
              "#f0f921"
             ]
            ],
            "type": "heatmap"
           }
          ],
          "heatmapgl": [
           {
            "colorbar": {
             "outlinewidth": 0,
             "ticks": ""
            },
            "colorscale": [
             [
              0,
              "#0d0887"
             ],
             [
              0.1111111111111111,
              "#46039f"
             ],
             [
              0.2222222222222222,
              "#7201a8"
             ],
             [
              0.3333333333333333,
              "#9c179e"
             ],
             [
              0.4444444444444444,
              "#bd3786"
             ],
             [
              0.5555555555555556,
              "#d8576b"
             ],
             [
              0.6666666666666666,
              "#ed7953"
             ],
             [
              0.7777777777777778,
              "#fb9f3a"
             ],
             [
              0.8888888888888888,
              "#fdca26"
             ],
             [
              1,
              "#f0f921"
             ]
            ],
            "type": "heatmapgl"
           }
          ],
          "histogram": [
           {
            "marker": {
             "pattern": {
              "fillmode": "overlay",
              "size": 10,
              "solidity": 0.2
             }
            },
            "type": "histogram"
           }
          ],
          "histogram2d": [
           {
            "colorbar": {
             "outlinewidth": 0,
             "ticks": ""
            },
            "colorscale": [
             [
              0,
              "#0d0887"
             ],
             [
              0.1111111111111111,
              "#46039f"
             ],
             [
              0.2222222222222222,
              "#7201a8"
             ],
             [
              0.3333333333333333,
              "#9c179e"
             ],
             [
              0.4444444444444444,
              "#bd3786"
             ],
             [
              0.5555555555555556,
              "#d8576b"
             ],
             [
              0.6666666666666666,
              "#ed7953"
             ],
             [
              0.7777777777777778,
              "#fb9f3a"
             ],
             [
              0.8888888888888888,
              "#fdca26"
             ],
             [
              1,
              "#f0f921"
             ]
            ],
            "type": "histogram2d"
           }
          ],
          "histogram2dcontour": [
           {
            "colorbar": {
             "outlinewidth": 0,
             "ticks": ""
            },
            "colorscale": [
             [
              0,
              "#0d0887"
             ],
             [
              0.1111111111111111,
              "#46039f"
             ],
             [
              0.2222222222222222,
              "#7201a8"
             ],
             [
              0.3333333333333333,
              "#9c179e"
             ],
             [
              0.4444444444444444,
              "#bd3786"
             ],
             [
              0.5555555555555556,
              "#d8576b"
             ],
             [
              0.6666666666666666,
              "#ed7953"
             ],
             [
              0.7777777777777778,
              "#fb9f3a"
             ],
             [
              0.8888888888888888,
              "#fdca26"
             ],
             [
              1,
              "#f0f921"
             ]
            ],
            "type": "histogram2dcontour"
           }
          ],
          "mesh3d": [
           {
            "colorbar": {
             "outlinewidth": 0,
             "ticks": ""
            },
            "type": "mesh3d"
           }
          ],
          "parcoords": [
           {
            "line": {
             "colorbar": {
              "outlinewidth": 0,
              "ticks": ""
             }
            },
            "type": "parcoords"
           }
          ],
          "pie": [
           {
            "automargin": true,
            "type": "pie"
           }
          ],
          "scatter": [
           {
            "fillpattern": {
             "fillmode": "overlay",
             "size": 10,
             "solidity": 0.2
            },
            "type": "scatter"
           }
          ],
          "scatter3d": [
           {
            "line": {
             "colorbar": {
              "outlinewidth": 0,
              "ticks": ""
             }
            },
            "marker": {
             "colorbar": {
              "outlinewidth": 0,
              "ticks": ""
             }
            },
            "type": "scatter3d"
           }
          ],
          "scattercarpet": [
           {
            "marker": {
             "colorbar": {
              "outlinewidth": 0,
              "ticks": ""
             }
            },
            "type": "scattercarpet"
           }
          ],
          "scattergeo": [
           {
            "marker": {
             "colorbar": {
              "outlinewidth": 0,
              "ticks": ""
             }
            },
            "type": "scattergeo"
           }
          ],
          "scattergl": [
           {
            "marker": {
             "colorbar": {
              "outlinewidth": 0,
              "ticks": ""
             }
            },
            "type": "scattergl"
           }
          ],
          "scattermapbox": [
           {
            "marker": {
             "colorbar": {
              "outlinewidth": 0,
              "ticks": ""
             }
            },
            "type": "scattermapbox"
           }
          ],
          "scatterpolar": [
           {
            "marker": {
             "colorbar": {
              "outlinewidth": 0,
              "ticks": ""
             }
            },
            "type": "scatterpolar"
           }
          ],
          "scatterpolargl": [
           {
            "marker": {
             "colorbar": {
              "outlinewidth": 0,
              "ticks": ""
             }
            },
            "type": "scatterpolargl"
           }
          ],
          "scatterternary": [
           {
            "marker": {
             "colorbar": {
              "outlinewidth": 0,
              "ticks": ""
             }
            },
            "type": "scatterternary"
           }
          ],
          "surface": [
           {
            "colorbar": {
             "outlinewidth": 0,
             "ticks": ""
            },
            "colorscale": [
             [
              0,
              "#0d0887"
             ],
             [
              0.1111111111111111,
              "#46039f"
             ],
             [
              0.2222222222222222,
              "#7201a8"
             ],
             [
              0.3333333333333333,
              "#9c179e"
             ],
             [
              0.4444444444444444,
              "#bd3786"
             ],
             [
              0.5555555555555556,
              "#d8576b"
             ],
             [
              0.6666666666666666,
              "#ed7953"
             ],
             [
              0.7777777777777778,
              "#fb9f3a"
             ],
             [
              0.8888888888888888,
              "#fdca26"
             ],
             [
              1,
              "#f0f921"
             ]
            ],
            "type": "surface"
           }
          ],
          "table": [
           {
            "cells": {
             "fill": {
              "color": "#EBF0F8"
             },
             "line": {
              "color": "white"
             }
            },
            "header": {
             "fill": {
              "color": "#C8D4E3"
             },
             "line": {
              "color": "white"
             }
            },
            "type": "table"
           }
          ]
         },
         "layout": {
          "annotationdefaults": {
           "arrowcolor": "#2a3f5f",
           "arrowhead": 0,
           "arrowwidth": 1
          },
          "autotypenumbers": "strict",
          "coloraxis": {
           "colorbar": {
            "outlinewidth": 0,
            "ticks": ""
           }
          },
          "colorscale": {
           "diverging": [
            [
             0,
             "#8e0152"
            ],
            [
             0.1,
             "#c51b7d"
            ],
            [
             0.2,
             "#de77ae"
            ],
            [
             0.3,
             "#f1b6da"
            ],
            [
             0.4,
             "#fde0ef"
            ],
            [
             0.5,
             "#f7f7f7"
            ],
            [
             0.6,
             "#e6f5d0"
            ],
            [
             0.7,
             "#b8e186"
            ],
            [
             0.8,
             "#7fbc41"
            ],
            [
             0.9,
             "#4d9221"
            ],
            [
             1,
             "#276419"
            ]
           ],
           "sequential": [
            [
             0,
             "#0d0887"
            ],
            [
             0.1111111111111111,
             "#46039f"
            ],
            [
             0.2222222222222222,
             "#7201a8"
            ],
            [
             0.3333333333333333,
             "#9c179e"
            ],
            [
             0.4444444444444444,
             "#bd3786"
            ],
            [
             0.5555555555555556,
             "#d8576b"
            ],
            [
             0.6666666666666666,
             "#ed7953"
            ],
            [
             0.7777777777777778,
             "#fb9f3a"
            ],
            [
             0.8888888888888888,
             "#fdca26"
            ],
            [
             1,
             "#f0f921"
            ]
           ],
           "sequentialminus": [
            [
             0,
             "#0d0887"
            ],
            [
             0.1111111111111111,
             "#46039f"
            ],
            [
             0.2222222222222222,
             "#7201a8"
            ],
            [
             0.3333333333333333,
             "#9c179e"
            ],
            [
             0.4444444444444444,
             "#bd3786"
            ],
            [
             0.5555555555555556,
             "#d8576b"
            ],
            [
             0.6666666666666666,
             "#ed7953"
            ],
            [
             0.7777777777777778,
             "#fb9f3a"
            ],
            [
             0.8888888888888888,
             "#fdca26"
            ],
            [
             1,
             "#f0f921"
            ]
           ]
          },
          "colorway": [
           "#636efa",
           "#EF553B",
           "#00cc96",
           "#ab63fa",
           "#FFA15A",
           "#19d3f3",
           "#FF6692",
           "#B6E880",
           "#FF97FF",
           "#FECB52"
          ],
          "font": {
           "color": "#2a3f5f"
          },
          "geo": {
           "bgcolor": "white",
           "lakecolor": "white",
           "landcolor": "#E5ECF6",
           "showlakes": true,
           "showland": true,
           "subunitcolor": "white"
          },
          "hoverlabel": {
           "align": "left"
          },
          "hovermode": "closest",
          "mapbox": {
           "style": "light"
          },
          "paper_bgcolor": "white",
          "plot_bgcolor": "#E5ECF6",
          "polar": {
           "angularaxis": {
            "gridcolor": "white",
            "linecolor": "white",
            "ticks": ""
           },
           "bgcolor": "#E5ECF6",
           "radialaxis": {
            "gridcolor": "white",
            "linecolor": "white",
            "ticks": ""
           }
          },
          "scene": {
           "xaxis": {
            "backgroundcolor": "#E5ECF6",
            "gridcolor": "white",
            "gridwidth": 2,
            "linecolor": "white",
            "showbackground": true,
            "ticks": "",
            "zerolinecolor": "white"
           },
           "yaxis": {
            "backgroundcolor": "#E5ECF6",
            "gridcolor": "white",
            "gridwidth": 2,
            "linecolor": "white",
            "showbackground": true,
            "ticks": "",
            "zerolinecolor": "white"
           },
           "zaxis": {
            "backgroundcolor": "#E5ECF6",
            "gridcolor": "white",
            "gridwidth": 2,
            "linecolor": "white",
            "showbackground": true,
            "ticks": "",
            "zerolinecolor": "white"
           }
          },
          "shapedefaults": {
           "line": {
            "color": "#2a3f5f"
           }
          },
          "ternary": {
           "aaxis": {
            "gridcolor": "white",
            "linecolor": "white",
            "ticks": ""
           },
           "baxis": {
            "gridcolor": "white",
            "linecolor": "white",
            "ticks": ""
           },
           "bgcolor": "#E5ECF6",
           "caxis": {
            "gridcolor": "white",
            "linecolor": "white",
            "ticks": ""
           }
          },
          "title": {
           "x": 0.05
          },
          "xaxis": {
           "automargin": true,
           "gridcolor": "white",
           "linecolor": "white",
           "ticks": "",
           "title": {
            "standoff": 15
           },
           "zerolinecolor": "white",
           "zerolinewidth": 2
          },
          "yaxis": {
           "automargin": true,
           "gridcolor": "white",
           "linecolor": "white",
           "ticks": "",
           "title": {
            "standoff": 15
           },
           "zerolinecolor": "white",
           "zerolinewidth": 2
          }
         }
        },
        "xaxis": {
         "anchor": "y",
         "domain": [
          0,
          1
         ],
         "title": {
          "text": "antecedents"
         }
        },
        "yaxis": {
         "anchor": "x",
         "domain": [
          0,
          1
         ],
         "title": {
          "text": "consequents"
         }
        }
       }
      }
     },
     "metadata": {},
     "output_type": "display_data"
    }
   ],
   "source": [
    "# Make a heatmap of the results\n",
    "px.density_heatmap(frequent_association_rules, x=\"antecedents\", y=\"consequents\", z=\"support\")"
   ]
  },
  {
   "attachments": {},
   "cell_type": "markdown",
   "metadata": {},
   "source": [
    "What are the insights that you get from such visualizations ? Elaborate with a 5 to 10 lines long paragraph\n",
    "\n",
    "The insights that I get from such visualizations are that there are some correlations that seem more important than each other. The link between category V and IX seem very strong. Probably because those two categories are Mathematiques and Informatiques. Unfortunately, a lot of the results are quite obvious like this one. "
   ]
  },
  {
   "attachments": {},
   "cell_type": "markdown",
   "metadata": {},
   "source": [
    "## 5. Exploring sequential data"
   ]
  },
  {
   "attachments": {},
   "cell_type": "markdown",
   "metadata": {},
   "source": [
    "### 5.2 Simple motif extraction with the n-gram approach"
   ]
  },
  {
   "cell_type": "code",
   "execution_count": null,
   "metadata": {},
   "outputs": [],
   "source": []
  }
 ],
 "metadata": {
  "kernelspec": {
   "display_name": "Python 3",
   "language": "python",
   "name": "python3"
  },
  "language_info": {
   "codemirror_mode": {
    "name": "ipython",
    "version": 3
   },
   "file_extension": ".py",
   "mimetype": "text/x-python",
   "name": "python",
   "nbconvert_exporter": "python",
   "pygments_lexer": "ipython3",
   "version": "3.10.9"
  },
  "orig_nbformat": 4,
  "vscode": {
   "interpreter": {
    "hash": "aee8b7b246df8f9039afb4144a1f6fd8d2ca17a180786b69acc140d282b71a49"
   }
  }
 },
 "nbformat": 4,
 "nbformat_minor": 2
}
